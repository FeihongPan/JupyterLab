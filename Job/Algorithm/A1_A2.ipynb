{
 "cells": [
  {
   "cell_type": "markdown",
   "id": "a8562b47-9c24-46c1-8fdf-12671bdbf374",
   "metadata": {},
   "source": [
    "#### **A1.python进阶**\n",
    "##### **1.Python进阶**\n",
    "#### **A2.Python入门概念**\n",
    "##### **2.进阶之路(算法数据结构程序设计)**\n",
    "##### **3.面试转行算法数据结构未来发展**\n",
    "+ Python进阶\n",
    "+ OOP(面向对象编程),程序设计理念\n",
    "+ 算法与数据结构(理论与面试，Leetcode)\n",
    "+ 未来学习道路/工作/发展"
   ]
  },
  {
   "cell_type": "markdown",
   "id": "00732c62-1237-4639-8d47-5827d52bf23f",
   "metadata": {},
   "source": [
    "##### **4.[Python中高阶]说在前面的话**\n",
    "##### **5.[Python中高阶]Python与解释型语言**\n",
    "##### **6.[Python中高阶]调出解释器运行程序**\n",
    "##### **7.[Python中高阶]可交互解释器**"
   ]
  },
  {
   "cell_type": "code",
   "execution_count": null,
   "id": "ca9cc336-2d19-4023-bb51-3d407c1da34f",
   "metadata": {},
   "outputs": [],
   "source": []
  },
  {
   "cell_type": "code",
   "execution_count": null,
   "id": "692ae7e0-e36a-4e9f-ac63-e78820088898",
   "metadata": {},
   "outputs": [],
   "source": []
  },
  {
   "cell_type": "code",
   "execution_count": null,
   "id": "0b986272-425b-46f9-897d-1da522be4a0c",
   "metadata": {},
   "outputs": [],
   "source": []
  },
  {
   "cell_type": "code",
   "execution_count": null,
   "id": "bed8a097-9071-4784-93da-dfc612daa6cc",
   "metadata": {},
   "outputs": [],
   "source": []
  },
  {
   "cell_type": "code",
   "execution_count": null,
   "id": "9515ed3c-84b6-4e6b-a1c9-3d9711bf8b49",
   "metadata": {},
   "outputs": [],
   "source": []
  },
  {
   "cell_type": "code",
   "execution_count": null,
   "id": "716229fd-6294-4221-a204-d168a8c938f0",
   "metadata": {},
   "outputs": [],
   "source": []
  },
  {
   "cell_type": "code",
   "execution_count": null,
   "id": "43b68971-71bf-4b54-ac8a-6f7749718e20",
   "metadata": {},
   "outputs": [],
   "source": []
  },
  {
   "cell_type": "code",
   "execution_count": null,
   "id": "77f4a348-284c-4175-b842-5b39159c3454",
   "metadata": {},
   "outputs": [],
   "source": []
  },
  {
   "cell_type": "code",
   "execution_count": null,
   "id": "b54fd882-e599-40ba-8b84-4347ed3131d0",
   "metadata": {},
   "outputs": [],
   "source": []
  },
  {
   "cell_type": "code",
   "execution_count": null,
   "id": "63143521-a10c-446d-ab1f-df80eb58d82b",
   "metadata": {},
   "outputs": [],
   "source": []
  }
 ],
 "metadata": {
  "kernelspec": {
   "display_name": "Python 3 (ipykernel)",
   "language": "python",
   "name": "python3"
  },
  "language_info": {
   "codemirror_mode": {
    "name": "ipython",
    "version": 3
   },
   "file_extension": ".py",
   "mimetype": "text/x-python",
   "name": "python",
   "nbconvert_exporter": "python",
   "pygments_lexer": "ipython3",
   "version": "3.9.7"
  }
 },
 "nbformat": 4,
 "nbformat_minor": 5
}
