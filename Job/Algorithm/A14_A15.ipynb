{
 "cells": [
  {
   "cell_type": "markdown",
   "id": "6123774a-b6cf-405d-b6d5-cdce4c85e4cf",
   "metadata": {},
   "source": [
    "#### **A14.数据结构Data_Structure精讲**\n",
    "##### **203.数据结构Data_Structure精讲--学知识是为了人生连线**\n",
    "##### **204.数据结构Data_Structure精讲--快速回顾与下苦功夫**\n",
    "+ https://docs.python.org/zh-cn/3.9/tutorial/datastructures.html#the-del-statement"
   ]
  },
  {
   "cell_type": "markdown",
   "id": "6e19c2ca-b8dc-4192-b35e-0a7f109eb5f4",
   "metadata": {},
   "source": [
    "##### **205.数据结构Data_Structure精讲--什么是栈Stack--1**\n",
    "##### **206.数据结构Data_Structure精讲--什么是栈Stack--2**\n",
    "##### **207.数据结构Data_Structure精讲--LIFO准则与各行业应用--1**\n",
    "##### **208.数据结构Data_Structure精讲--LIFO准则与各行业应用--2**\n",
    "+ **Last in, First out(LIFO)** 最后进来的，第一个出去\n",
    "+ **push() Pop() --> Stack**"
   ]
  },
  {
   "cell_type": "markdown",
   "id": "69a3f243-ab3e-4851-a927-034fb0543132",
   "metadata": {},
   "source": [
    "#### **A15.笔试面试必备的算法强化串讲**\n",
    "##### **209.笔面试算法强化--说在前面的话**\n",
    "##### **210.笔面试算法强化--保护眼睛**\n",
    "##### **211.笔面试算法强化--算法就是解决问题的方法**\n",
    "1.what is Algorithm?\n",
    "+ precedure(过程或方法) for solving problem to do some computation(解决问题或者进行计算)"
   ]
  },
  {
   "cell_type": "markdown",
   "id": "59fabf96-19b8-4362-b29d-bd7148792a75",
   "metadata": {},
   "source": [
    "##### **212.笔面试算法强化--同一个问题的多种解法**\n",
    "+ Q: which Algorithm is better\n",
    "+ A: "
   ]
  },
  {
   "cell_type": "code",
   "execution_count": 1,
   "id": "7375986d-f34b-49c9-92b3-970f2a0414c0",
   "metadata": {},
   "outputs": [
    {
     "data": {
      "text/plain": [
       "15"
      ]
     },
     "execution_count": 1,
     "metadata": {},
     "output_type": "execute_result"
    }
   ],
   "source": [
    "def some_func_to_sum(n):\n",
    "    final_result = 0\n",
    "    for i in range(n+1):\n",
    "        final_result += i\n",
    "    return final_result\n",
    "some_func_to_sum(5)"
   ]
  },
  {
   "cell_type": "markdown",
   "id": "4dd2ab85-ecaf-478e-9bbe-d99f5c3acc7f",
   "metadata": {},
   "source": [
    "##### **213.笔面试算法强化--数学家高斯怎么做**\n",
    "##### **214.笔面试算法强化--借鉴数学家高斯方法的代码**"
   ]
  },
  {
   "cell_type": "code",
   "execution_count": 2,
   "id": "13355f90-3e15-45f0-92c2-eae4d3781a49",
   "metadata": {},
   "outputs": [
    {
     "data": {
      "text/plain": [
       "15.0"
      ]
     },
     "execution_count": 2,
     "metadata": {},
     "output_type": "execute_result"
    }
   ],
   "source": [
    "def another_func_to_sum(n):\n",
    "    return n*(1+n)/2\n",
    "another_func_to_sum(5)"
   ]
  },
  {
   "cell_type": "markdown",
   "id": "cccea087-7db4-4333-a0c7-428ebb3005fa",
   "metadata": {},
   "source": [
    "##### **215.笔面试算法强化--timeit魔术方法**"
   ]
  },
  {
   "cell_type": "code",
   "execution_count": 3,
   "id": "e97af01c-fde2-40fe-934c-2abddfeaa167",
   "metadata": {},
   "outputs": [
    {
     "name": "stdout",
     "output_type": "stream",
     "text": [
      "1.7 µs ± 29.6 ns per loop (mean ± std. dev. of 7 runs, 1000000 loops each)\n"
     ]
    }
   ],
   "source": [
    "%timeit some_func_to_sum(50)"
   ]
  },
  {
   "cell_type": "code",
   "execution_count": 4,
   "id": "2397311f-9690-4755-8f3f-69b3a9dacd5d",
   "metadata": {},
   "outputs": [
    {
     "name": "stdout",
     "output_type": "stream",
     "text": [
      "103 ns ± 1.22 ns per loop (mean ± std. dev. of 7 runs, 10000000 loops each)\n"
     ]
    }
   ],
   "source": [
    "%timeit another_func_to_sum(50)"
   ]
  },
  {
   "cell_type": "markdown",
   "id": "22bcf2c8-a44c-43fc-9593-7dbb7a1b4a64",
   "metadata": {},
   "source": [
    "##### **216.笔面试算法强化--看似客观方法的缺陷**\n",
    "##### **217.笔面试算法强化--关键操作assignment**\n",
    "+ 去除量纲影响(不同机器的因素影响)\n",
    "+ 回归算法本身\n",
    "+ 算法关键操作--assignment\n",
    "+ 绝对的时间占用和内存占用转化为我pass到算法中的n和这个算法进行的关键操作assignment次数的关系"
   ]
  },
  {
   "cell_type": "markdown",
   "id": "be3784d0-bc5c-437c-9136-5ba3871e47f6",
   "metadata": {},
   "source": [
    "##### **218.笔面试算法强化--BigO与AsymptoticAnalysis**\n",
    "+ 我们最终比较的是runtime增长的快慢，而不是绝对的runtime.\n",
    "+ **Big-O analysis -> Asymptotic analysis**:极限的变化率"
   ]
  },
  {
   "cell_type": "markdown",
   "id": "9893c679-e0f4-46b9-9208-db65002b974b",
   "metadata": {},
   "source": [
    "##### **219.笔面试算法强化--Order不同跨次元的差异**\n",
    "+ 常数项几乎没有占到比例"
   ]
  },
  {
   "cell_type": "code",
   "execution_count": 5,
   "id": "ac2a2029-b776-4f23-a2c5-ab8e5026701c",
   "metadata": {},
   "outputs": [
    {
     "data": {
      "text/plain": [
       "[287, 1200, 3367, 7316, 13575, 22672, 35135, 51492, 72271, 98000]"
      ]
     },
     "execution_count": 5,
     "metadata": {},
     "output_type": "execute_result"
    }
   ],
   "source": [
    "def BigO(n):\n",
    "    return 88 * n ** 3 + 99 * n ** 2 + 100\n",
    "stack = []\n",
    "for i in range(10):\n",
    "    stack.append(BigO(i+1))\n",
    "stack"
   ]
  },
  {
   "cell_type": "code",
   "execution_count": 6,
   "id": "24339150-a4df-4f3d-97a7-02573c1b88d1",
   "metadata": {},
   "outputs": [
    {
     "name": "stdout",
     "output_type": "stream",
     "text": [
      "2\n"
     ]
    }
   ],
   "source": [
    "for n in range(10):\n",
    "    while (88 * n **3) < (99 * n ** 2):\n",
    "        n += 1\n",
    "        print(n)"
   ]
  },
  {
   "cell_type": "markdown",
   "id": "02982864-acc2-4c4e-ad4e-4430cabd8bfd",
   "metadata": {},
   "source": [
    "##### **220.笔面试算法强化--BigO复杂程度表**\n",
    "+ Big-o:1 constant\n",
    "+ Big-o:log(n) logarithmic\n",
    "+ Big-o:n Linear\n",
    "+ Big-o:nlog(n)\n",
    "+ Big-o:n^2 Quadratic\n",
    "+ Big-o:n^3 Cubic\n",
    "+ Big-o:2^n exponential"
   ]
  },
  {
   "cell_type": "markdown",
   "id": "a246202d-c6a3-429e-8d47-d8d66259d4bc",
   "metadata": {},
   "source": [
    "##### **221.笔面试算法强化--手写7个常见算法对比**"
   ]
  },
  {
   "cell_type": "code",
   "execution_count": 7,
   "id": "db87d27e-5ded-4872-a3c8-21450ab46658",
   "metadata": {},
   "outputs": [],
   "source": [
    "from math import log\n",
    "import numpy as np\n",
    "import matplotlib.pyplot as plt\n",
    "%matplotlib inline\n",
    "plt.style.use('bmh')"
   ]
  },
  {
   "cell_type": "code",
   "execution_count": 8,
   "id": "d2840ea5-1a4f-4aa0-93a6-4fe18e2d8d80",
   "metadata": {},
   "outputs": [
    {
     "data": {
      "text/plain": [
       "Text(0.5, 0, 'n')"
      ]
     },
     "execution_count": 8,
     "metadata": {},
     "output_type": "execute_result"
    },
    {
     "data": {
      "image/png": "[encoded data removed]",
      "text/plain": [
       "<Figure size 720x576 with 1 Axes>"
      ]
     },
     "metadata": {
      "needs_background": "light"
     },
     "output_type": "display_data"
    }
   ],
   "source": [
    "n = np.linspace(1,10)\n",
    "labels = ['Constant','Logrithmic','Linear','Loglienar','Quadratic','Cubic','exponential']\n",
    "\n",
    "big_o = [np.ones(n.shape), np.log(n), n, n*np.log(n), n**2, n**3, 2**n]\n",
    "\n",
    "plt.figure(figsize=(10,8))\n",
    "plt.ylim(0,50)\n",
    "\n",
    "for i in range(len(big_o)):\n",
    "    plt.plot(n, big_o[i], label = labels[i])\n",
    "    \n",
    "plt.legend(loc = 0)\n",
    "plt.ylabel('(Relative) Runtime fpr Comparison')\n",
    "plt.xlabel('n')"
   ]
  },
  {
   "cell_type": "markdown",
   "id": "38230b96-b22e-44a1-9a96-0c5e51f36856",
   "metadata": {},
   "source": [
    "##### **222.笔面试算法强化--算法选择搜索算法gpu等**\n",
    "##### **223.笔面试算法强化--思路总结与下一步怎么办**"
   ]
  },
  {
   "cell_type": "code",
   "execution_count": 9,
   "id": "9b730c41-9f86-43c1-87bc-f1695919ddce",
   "metadata": {},
   "outputs": [
    {
     "name": "stdout",
     "output_type": "stream",
     "text": [
      "5\n",
      "8\n",
      "11\n"
     ]
    }
   ],
   "source": [
    "n = 2\n",
    "while 2**n < n**3:\n",
    "    n += 3\n",
    "    print(n)"
   ]
  },
  {
   "cell_type": "markdown",
   "id": "affabe4e-ad8f-43b6-8018-8ba66c045a3e",
   "metadata": {},
   "source": [
    "##### **224.笔面试算法强化--手写BigO例打怪升级--O(1)constant**\n",
    "+ pass进去的list无论多大都不会影响这个func，因为他只取第一个"
   ]
  },
  {
   "cell_type": "code",
   "execution_count": 10,
   "id": "6e1156c1-6464-4415-a54b-baf071ada68b",
   "metadata": {},
   "outputs": [
    {
     "name": "stdout",
     "output_type": "stream",
     "text": [
      "1\n"
     ]
    }
   ],
   "source": [
    "def func_constant(values):\n",
    "    print(values[0])\n",
    "func_constant([1,2,3,4,5])"
   ]
  },
  {
   "cell_type": "markdown",
   "id": "d8e92af0-33d3-4e3d-875d-5e09991bda57",
   "metadata": {},
   "source": [
    "##### **225.笔面试算法强化--手写BigO例打怪升级--O(n)Linear**\n",
    "+ 与pass进去的list有关，如果List长度不断增加，那么print出来的内容也会同步增加(for循环将list里面的所有元素依次print出来)"
   ]
  },
  {
   "cell_type": "code",
   "execution_count": 11,
   "id": "ed7456bf-c4ee-481b-99b8-03c3833c7bbc",
   "metadata": {},
   "outputs": [
    {
     "name": "stdout",
     "output_type": "stream",
     "text": [
      "1\n",
      "2\n",
      "3\n",
      "4\n",
      "5\n"
     ]
    }
   ],
   "source": [
    "def func_linear(some_list):\n",
    "    for ch in some_list:\n",
    "        print (ch)\n",
    "func_linear([1,2,3,4,5])"
   ]
  },
  {
   "cell_type": "markdown",
   "id": "159d82cf-64c1-4cf2-9919-0b3743d7eea6",
   "metadata": {},
   "source": [
    "##### **226.笔面试算法强化--手写BigO例打怪升级--O(n^2)Quadratic**\n",
    "+ 首先思考平常有没有写过nested loop(嵌套循环)"
   ]
  },
  {
   "cell_type": "code",
   "execution_count": 12,
   "id": "1a8bcd64-8493-44af-841c-4f0c36998d1b",
   "metadata": {},
   "outputs": [
    {
     "name": "stdout",
     "output_type": "stream",
     "text": [
      "1 1\n",
      "1 2\n",
      "1 3\n",
      "1 4\n",
      "1 5\n",
      "2 1\n",
      "2 2\n",
      "2 3\n",
      "2 4\n",
      "2 5\n",
      "3 1\n",
      "3 2\n",
      "3 3\n",
      "3 4\n",
      "3 5\n",
      "4 1\n",
      "4 2\n",
      "4 3\n",
      "4 4\n",
      "4 5\n",
      "5 1\n",
      "5 2\n",
      "5 3\n",
      "5 4\n",
      "5 5\n"
     ]
    }
   ],
   "source": [
    "some_list = [1,2,3,4,5]\n",
    "def func_nested_for_loop(some_list):\n",
    "    for i in some_list:\n",
    "        for j in some_list:\n",
    "            print(i,j)\n",
    "func_nested_for_loop(some_list)"
   ]
  },
  {
   "cell_type": "markdown",
   "id": "f7a3c4ea-fac2-4ce6-9c0f-f3f64afbe600",
   "metadata": {},
   "source": [
    "##### **227.笔面试算法强化--手写BigO例打怪升级--O(n^2)Quadratic**\n",
    "+ 因为每次假设list中有n个元素，相当与需要n*n此复制操作，这极大地提升了计算的操作次数"
   ]
  },
  {
   "cell_type": "markdown",
   "id": "b772d8d1-f3e2-4ec3-a0b8-1b501e8277f3",
   "metadata": {},
   "source": [
    "##### **228.笔面试算法强化--答疑--非重要项去除操作**\n",
    "##### **229.笔面试算法强化--答疑--非重要项去除操作_2**\n",
    "+ 我们做判断的时候，抓住最关键的terms，其他的东西(比如系数，低次元，常数)等等会逐步忽略"
   ]
  },
  {
   "cell_type": "code",
   "execution_count": 13,
   "id": "2cb36e88-2bd5-4416-ba2e-2520a9f8ece7",
   "metadata": {},
   "outputs": [
    {
     "name": "stdout",
     "output_type": "stream",
     "text": [
      "1\n",
      "2\n",
      "3\n",
      "4\n",
      "5\n"
     ]
    }
   ],
   "source": [
    "def once(some_list):\n",
    "    for elem in some_list:\n",
    "        print(elem)\n",
    "once(some_list)"
   ]
  },
  {
   "cell_type": "code",
   "execution_count": 15,
   "id": "c111a41f-d64b-4d23-aa2a-465ae8c5e72f",
   "metadata": {},
   "outputs": [
    {
     "name": "stdout",
     "output_type": "stream",
     "text": [
      "1\n",
      "2\n",
      "3\n",
      "4\n",
      "5\n",
      "1\n",
      "2\n",
      "3\n",
      "4\n",
      "5\n",
      "1\n",
      "2\n",
      "3\n",
      "4\n",
      "5\n"
     ]
    }
   ],
   "source": [
    "def many_times(some_list):\n",
    "    for elem in some_list:\n",
    "        print(elem)\n",
    "    for elem in some_list:\n",
    "        print(elem)\n",
    "    for elem in some_list:\n",
    "        print(elem)\n",
    "many_times(some_list)"
   ]
  },
  {
   "cell_type": "markdown",
   "id": "3fe9da60-334c-4a5e-a83b-624b8eb28781",
   "metadata": {},
   "source": [
    "##### **230.笔面试算法强化--综合算法判断练习_1**\n",
    "+ 以下算法的Big-O如何?"
   ]
  },
  {
   "cell_type": "markdown",
   "id": "751a18e9-c089-4de6-982b-848c00084f24",
   "metadata": {},
   "source": [
    "##### **231.笔面试算法强化--综合算法判断练习_2**\n",
    "+ **O(1+n/2+8) -----> O(n)**"
   ]
  },
  {
   "cell_type": "code",
   "execution_count": 19,
   "id": "175e3e3f-e6b1-4872-a63f-51d5c231acc8",
   "metadata": {},
   "outputs": [
    {
     "name": "stdout",
     "output_type": "stream",
     "text": [
      "9\n",
      "1\n",
      "2\n",
      "3\n",
      "4\n",
      "5\n",
      "6\n",
      "something\n",
      "something\n",
      "something\n",
      "something\n",
      "something\n",
      "something\n",
      "something\n",
      "something\n"
     ]
    }
   ],
   "source": [
    "some_list = [1,2,3,4,5,6,7,8,9,10,11,12]\n",
    "def func_combined(some_list):\n",
    "    # O(1):实现了把List中的某一个定点(constant)的东西打印出来\n",
    "    print(some_list[8])\n",
    "    \n",
    "    middle = len(some_list) // 2\n",
    "    # O(n/2):实现把list的长度分成两半，然后执行关键操作\n",
    "    for elem in some_list[:middle]:\n",
    "        print(elem)\n",
    "    # O(8):(与list本身无关)实现的是将关键操作执行8次\n",
    "    for x in range(8):\n",
    "        print('something')\n",
    "\n",
    "func_combined(some_list)"
   ]
  },
  {
   "cell_type": "markdown",
   "id": "17c09f8e-e15e-4a9b-bdad-be35e4eaafd7",
   "metadata": {},
   "source": [
    "##### **232.笔面试算法强化--综合算法判断练习_3**\n",
    "+ 有时候算法算法会根据实际情况变得不一样"
   ]
  },
  {
   "cell_type": "code",
   "execution_count": 22,
   "id": "6d445de5-9bf8-4888-b773-3c37378f4f02",
   "metadata": {},
   "outputs": [
    {
     "data": {
      "text/plain": [
       "False"
      ]
     },
     "execution_count": 22,
     "metadata": {},
     "output_type": "execute_result"
    }
   ],
   "source": [
    "some_list_O2 = np.arange(1,21) # [1,2,3,4,5,6,7,8,9,10,11,12,13,14,15,16,17,18,19,20]\n",
    "def find_the_match(search_list, match_elem):\n",
    "    for elem in search_list:\n",
    "        if elem == match_elem:\n",
    "            return True\n",
    "    return False\n",
    "find_the_match(some_list_O2, 22)"
   ]
  },
  {
   "cell_type": "markdown",
   "id": "1dfc7145-28c6-4b84-a9e4-055b9f871569",
   "metadata": {},
   "source": [
    "##### **233.笔面试算法强化--空间复杂度**\n",
    "+ Time Complexity\n",
    "+ Space Complexity"
   ]
  },
  {
   "cell_type": "code",
   "execution_count": 23,
   "id": "6a3989b7-d4a6-4360-b310-94a26f31350c",
   "metadata": {},
   "outputs": [
    {
     "name": "stdout",
     "output_type": "stream",
     "text": [
      "something that show only once\n",
      "something that show only once\n",
      "something that show only once\n",
      "something that show only once\n",
      "something that show only once\n",
      "something that show only once\n",
      "something that show only once\n",
      "something that show only once\n"
     ]
    }
   ],
   "source": [
    "def time_and_space_complexity(n):\n",
    "    for x in range(n):\n",
    "        print('something that show only once')\n",
    "time_and_space_complexity(8)"
   ]
  },
  {
   "cell_type": "markdown",
   "id": "e0539ac4-4fed-49a6-96e2-91edf8a5a260",
   "metadata": {},
   "source": [
    "+ 以上算法如果看time complexity的话是O(n)\n",
    "+ 如果看space complexity的话是O(1)"
   ]
  },
  {
   "cell_type": "markdown",
   "id": "42301f6d-e4df-4968-ba0f-b275eceb5514",
   "metadata": {},
   "source": [
    "##### **234.笔面试算法强化--数组序列(Array Sequences)--1**\n",
    "+ 在python中支持Index的一系列的数据类型 1 byte = 8 bits\n",
    "    + List [elem1, elem2, elem3...]\n",
    "    + Tuple (elem1, elem2, elem3...)\n",
    "    + String \"\"\n",
    "+ 类比成查字典"
   ]
  },
  {
   "cell_type": "markdown",
   "id": "ad501894-179c-4cda-afce-35d3e1683063",
   "metadata": {},
   "source": [
    "##### **235.笔面试算法强化--数组序列(Array Sequences)--2**\n",
    "+ **1 Unicode = 16 bits = 2 bytes(Python)**\n",
    "+ L-->X-->O-->D"
   ]
  },
  {
   "cell_type": "markdown",
   "id": "1079b3ad-14d0-478c-b418-db5285a8e232",
   "metadata": {},
   "source": [
    "##### **236.笔面试算法强化--浅拷贝的算法--1**\n",
    "+ Primes(List)\n",
    "+ William from LXOD choose elem(list)"
   ]
  },
  {
   "cell_type": "markdown",
   "id": "cf4da81a-9b6b-4a30-a33e-9c6989a0fd71",
   "metadata": {},
   "source": [
    "##### **237.笔面试算法强化--浅拷贝的算法--2**\n",
    "##### **238.笔面试算法强化--浅拷贝的算法--3**"
   ]
  },
  {
   "cell_type": "code",
   "execution_count": 25,
   "id": "c68e8ac8-11f0-42f2-995c-bc7b084a5569",
   "metadata": {},
   "outputs": [
    {
     "name": "stdout",
     "output_type": "stream",
     "text": [
      "the length of the data list is :0: The size in memory(byte) is :56\n",
      "the length of the data list is :1: The size in memory(byte) is :88\n",
      "the length of the data list is :2: The size in memory(byte) is :88\n",
      "the length of the data list is :3: The size in memory(byte) is :88\n",
      "the length of the data list is :4: The size in memory(byte) is :88\n",
      "the length of the data list is :5: The size in memory(byte) is :120\n",
      "the length of the data list is :6: The size in memory(byte) is :120\n",
      "the length of the data list is :7: The size in memory(byte) is :120\n",
      "the length of the data list is :8: The size in memory(byte) is :120\n",
      "the length of the data list is :9: The size in memory(byte) is :184\n"
     ]
    }
   ],
   "source": [
    "import sys \n",
    "n = 10\n",
    "test_data = []\n",
    "for i in range(n):\n",
    "    x = len(test_data)\n",
    "    y = sys.getsizeof(test_data)\n",
    "    \n",
    "    print('the length of the data list is :{}: The size in memory(byte) is :{}'.format(x,y))\n",
    "    test_data.append(n)"
   ]
  },
  {
   "cell_type": "markdown",
   "id": "d299de5a-7aca-4e9b-abff-3596dfb338c0",
   "metadata": {},
   "source": [
    "##### **239.笔面试算法强化--浅拷贝的算法--4**"
   ]
  },
  {
   "cell_type": "raw",
   "id": "d1eb7905-4346-4d54-ad3d-106973114d22",
   "metadata": {},
   "source": [
    "from IPython.display import Image\n",
    "Image(filename = 'A239.png')"
   ]
  },
  {
   "cell_type": "markdown",
   "id": "ea8df7d9-d210-4130-a65f-16ce690c684a",
   "metadata": {},
   "source": [
    "##### **240.LeetCode精选--从Anagram到动态数组--1**"
   ]
  },
  {
   "cell_type": "code",
   "execution_count": null,
   "id": "d269e555-332e-48ff-b615-4848e0ac9a3b",
   "metadata": {},
   "outputs": [],
   "source": []
  },
  {
   "cell_type": "code",
   "execution_count": null,
   "id": "abda5fc9-3f5d-43c4-b64c-5cbd46200053",
   "metadata": {},
   "outputs": [],
   "source": []
  },
  {
   "cell_type": "code",
   "execution_count": null,
   "id": "5f912611-30b6-4fcb-9091-419c9d8fd536",
   "metadata": {},
   "outputs": [],
   "source": []
  }
 ],
 "metadata": {
  "kernelspec": {
   "display_name": "Python 3 (ipykernel)",
   "language": "python",
   "name": "python3"
  },
  "language_info": {
   "codemirror_mode": {
    "name": "ipython",
    "version": 3
   },
   "file_extension": ".py",
   "mimetype": "text/x-python",
   "name": "python",
   "nbconvert_exporter": "python",
   "pygments_lexer": "ipython3",
   "version": "3.9.7"
  }
 },
 "nbformat": 4,
 "nbformat_minor": 5
}
