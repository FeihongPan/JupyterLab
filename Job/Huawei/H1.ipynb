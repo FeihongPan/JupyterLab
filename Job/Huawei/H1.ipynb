{
 "cells": [
  {
   "cell_type": "code",
   "execution_count": 1,
   "id": "cd8606ce-eaf7-4d67-b371-0030cf554e10",
   "metadata": {},
   "outputs": [
    {
     "data": {
      "text/plain": [
       "False"
      ]
     },
     "execution_count": 1,
     "metadata": {},
     "output_type": "execute_result"
    }
   ],
   "source": [
    "x = 1  \n",
    "not x  "
   ]
  },
  {
   "cell_type": "code",
   "execution_count": 2,
   "id": "f8b065ef-9f21-4823-87a3-1b3216080077",
   "metadata": {},
   "outputs": [
    {
     "data": {
      "text/plain": [
       "False"
      ]
     },
     "execution_count": 2,
     "metadata": {},
     "output_type": "execute_result"
    }
   ],
   "source": [
    "x is None"
   ]
  },
  {
   "cell_type": "code",
   "execution_count": 3,
   "id": "98f215c4-e62d-4e0e-8f32-5ae60b6439fe",
   "metadata": {},
   "outputs": [
    {
     "data": {
      "text/plain": [
       "True"
      ]
     },
     "execution_count": 3,
     "metadata": {},
     "output_type": "execute_result"
    }
   ],
   "source": [
    "x is not None"
   ]
  },
  {
   "cell_type": "markdown",
   "id": "49d256ec-f354-44d9-8d81-2562b38cffe8",
   "metadata": {},
   "source": [
    "+ **对于习惯于使用if not x这种写法的pythoner，必须清楚x等于None,  False, 空字符串\"\", 0, 空列表[], 空字典{}, 空元组()时对你的判断没有影响才行**\n",
    "    + not与逻辑判断句if连用，**代表not后面的表达式为False的时候**，执行冒号后面的语句。"
   ]
  },
  {
   "cell_type": "code",
   "execution_count": 4,
   "id": "00434028-ef4e-45b0-91dc-d768260862d0",
   "metadata": {},
   "outputs": [
    {
     "name": "stdout",
     "output_type": "stream",
     "text": [
      "2\n"
     ]
    }
   ],
   "source": [
    "if not x: # if x is None:\n",
    "    print(x)\n",
    "elif x is not None: # if x is True == if x:\n",
    "    print(x + 1)"
   ]
  },
  {
   "cell_type": "code",
   "execution_count": 5,
   "id": "7833dd80-19a2-4759-b6df-95e14be0f9f7",
   "metadata": {},
   "outputs": [
    {
     "name": "stdout",
     "output_type": "stream",
     "text": [
      "0.5\n",
      "0.0\n"
     ]
    }
   ],
   "source": [
    "x = 1\n",
    "while x:\n",
    "    x -= 0.5\n",
    "    print(x)"
   ]
  },
  {
   "cell_type": "code",
   "execution_count": 6,
   "id": "145ad260-0420-4787-9409-d5e80c3fceef",
   "metadata": {},
   "outputs": [],
   "source": [
    "x = 1\n",
    "while not x: # while x is None\n",
    "    print(x)"
   ]
  },
  {
   "cell_type": "markdown",
   "id": "581d6a17-2b3c-46c8-883a-ae76e530a43a",
   "metadata": {},
   "source": [
    "##### **1.两数之和**\n",
    "+ 给定一个整数数组 nums 和一个整数目标值 target，请你在该数组中找出 和为目标值 target  的那 两个 整数，并返回它们的数组下标。你可以假设每种输入只会对应一个答案。但是，数组中同一个元素在答案里不能重复出现。你可以按任意顺序返回答案。"
   ]
  },
  {
   "cell_type": "code",
   "execution_count": 7,
   "id": "7cffcb29-f160-4416-b8b0-abd6471b11fe",
   "metadata": {},
   "outputs": [
    {
     "data": {
      "text/plain": [
       "[0, 1]"
      ]
     },
     "execution_count": 7,
     "metadata": {},
     "output_type": "execute_result"
    }
   ],
   "source": [
    "from typing import List\n",
    "class Solution:\n",
    "    def twoSum(self, nums: List[int], target: int) -> List[int]:\n",
    "        i = j = 0\n",
    "        for i in range(len(nums)):\n",
    "            for j in range(i+1, len(nums)):\n",
    "                if nums[i] + nums[j] == target:\n",
    "                    l = [i,j]\n",
    "                else:\n",
    "                    i += 1\n",
    "            return l\n",
    "\n",
    "s = Solution()\n",
    "s.twoSum(nums = [2,7,11,15], target = 9)"
   ]
  },
  {
   "cell_type": "markdown",
   "id": "700a7f6d-5aec-40b7-800d-67286b29b13e",
   "metadata": {},
   "source": [
    "+ **哈希表遍历**"
   ]
  },
  {
   "cell_type": "code",
   "execution_count": 8,
   "id": "81c6e511-f7ef-4c5c-82ae-231f8ca46c22",
   "metadata": {},
   "outputs": [
    {
     "data": {
      "text/plain": [
       "[0, 2]"
      ]
     },
     "execution_count": 8,
     "metadata": {},
     "output_type": "execute_result"
    }
   ],
   "source": [
    "from typing import List\n",
    "class Solution:\n",
    "    @classmethod\n",
    "    def twoSum(self, nums: List[int], target: int) -> List[int]:\n",
    "        hashtable = dict()\n",
    "        for i,num in enumerate(nums):\n",
    "            if target - num in hashtable:\n",
    "                return [hashtable[target - num], i]\n",
    "            hashtable[nums[i]] = i\n",
    "        return []\n",
    "    \n",
    "Solution.twoSum(nums = [3,5,8], target = 11)"
   ]
  },
  {
   "cell_type": "markdown",
   "id": "8bc37cec-bf92-414c-ad66-bec5e44753bf",
   "metadata": {},
   "source": [
    "+ **enumerate()** 函数用于将一个可遍历的数据对象(如列表、元组或字符串)组合为一个索引序列，同时列出数据和数据下标，一般用在 for 循环当中"
   ]
  },
  {
   "cell_type": "code",
   "execution_count": 9,
   "id": "d44ef7dd-452a-479f-96d3-3cb66cb6c8ae",
   "metadata": {},
   "outputs": [
    {
     "name": "stdout",
     "output_type": "stream",
     "text": [
      "{0: 'Spring', 1: 'Summer', 2: 'Fall', 3: 'Winter'}\n",
      "[(1, 'Spring'), (2, 'Summer'), (3, 'Fall'), (4, 'Winter')]\n"
     ]
    }
   ],
   "source": [
    "seasons = ['Spring', 'Summer', 'Fall', 'Winter']\n",
    "print(dict(enumerate(seasons)))\n",
    "print(list(enumerate(seasons, start=1)))       # 下标从 1 开始"
   ]
  },
  {
   "cell_type": "code",
   "execution_count": 10,
   "id": "8999a749-07c7-4964-baaf-c906a784c413",
   "metadata": {},
   "outputs": [
    {
     "name": "stdout",
     "output_type": "stream",
     "text": [
      "{}\n",
      "0 one\n",
      "1 two\n",
      "2 three\n"
     ]
    },
    {
     "data": {
      "text/plain": [
       "{0: 'one', 1: 'two', 2: 'three'}"
      ]
     },
     "execution_count": 10,
     "metadata": {},
     "output_type": "execute_result"
    }
   ],
   "source": [
    "seq = ['one', 'two', 'three']\n",
    "dict1 = dict()\n",
    "print(dict1)\n",
    "for i,element in enumerate(seq):\n",
    "    dict1[i] = seq[i]                          # 字典的key可以直接用数字表示 dict[i] = seq[i]\n",
    "    print (i, element)\n",
    "dict1"
   ]
  },
  {
   "cell_type": "code",
   "execution_count": 11,
   "id": "748e96b0-acde-411a-9b49-1e720ff6a4a1",
   "metadata": {},
   "outputs": [
    {
     "name": "stdout",
     "output_type": "stream",
     "text": [
      "{3: 0, 2: 1, 4: 2}\n",
      "True\n"
     ]
    }
   ],
   "source": [
    "nums = [3,2,4]\n",
    "hashtable = {}\n",
    "hashtable[nums[0]] = 0 # h[nums[0]] = h[3] = 0 \n",
    "hashtable[nums[1]] = 1  # \n",
    "hashtable[nums[2]] = 2 \n",
    "print(hashtable)\n",
    "print(3 and 2 and 4 in hashtable) # 看看key是否在字典中的方法"
   ]
  },
  {
   "cell_type": "markdown",
   "id": "1afe7c38-6d22-4d0e-a3de-b2c851b48195",
   "metadata": {},
   "source": [
    "##### **9.回文数**\n",
    "+ 给你一个整数 x ，如果 x 是一个回文整数，返回 true ；否则，返回 false 。回文数是指正序（从左向右）和倒序（从右向左）读都是一样的整数。例如，121 是回文，而 123 不是。"
   ]
  },
  {
   "cell_type": "code",
   "execution_count": 12,
   "id": "0d946ae1-5661-40e2-9a89-569a8fe18ba4",
   "metadata": {},
   "outputs": [
    {
     "data": {
      "text/plain": [
       "False"
      ]
     },
     "execution_count": 12,
     "metadata": {},
     "output_type": "execute_result"
    }
   ],
   "source": [
    "class Solution:\n",
    "    def isPalindrome(self, x: int) -> bool:\n",
    "        return str(x)[::-1] == str(x)\n",
    "s = Solution()\n",
    "s.isPalindrome(x = -121)"
   ]
  },
  {
   "cell_type": "code",
   "execution_count": 13,
   "id": "9614ba2a-c1e9-4fb2-a5a8-6f40a24a5a90",
   "metadata": {},
   "outputs": [
    {
     "data": {
      "text/plain": [
       "False"
      ]
     },
     "execution_count": 13,
     "metadata": {},
     "output_type": "execute_result"
    }
   ],
   "source": [
    "class Solution:\n",
    "    def isPalindrome(self, x: int) -> bool:\n",
    "        if x < 0:\n",
    "            return False\n",
    "        res, y = 0, x\n",
    "        while y != 0:\n",
    "            res = res*10 +y%10\n",
    "            y //=10\n",
    "        return res == x\n",
    "\n",
    "s = Solution()\n",
    "s.isPalindrome(x = 1121)"
   ]
  },
  {
   "cell_type": "markdown",
   "id": "6e493063-f986-45c9-9269-108414c65f14",
   "metadata": {},
   "source": [
    "##### **13.罗马数字转整数**\n",
    "+ 例如， 罗马数字 2 写做 II ，即为两个并列的 1 。12 写做 XII ，即为 X + II 。 27 写做  XXVII, 即为 XX + V + II 。通常情况下，罗马数字中小的数字在大的数字的右边。但也存在特例，例如 4 不写做 IIII，而是 IV。数字 1 在数字 5 的左边，所表示的数等于大数 5 减小数 1 得到的数值 4 。同样地，数字 9 表示为 IX。这个特殊的规则只适用于以下六种情况：\n",
    "    + I 可以放在 V (5) 和 X (10) 的左边，来表示 4 和 9。\n",
    "    + X 可以放在 L (50) 和 C (100) 的左边，来表示 40 和 90。 \n",
    "    + C 可以放在 D (500) 和 M (1000) 的左边，来表示 400 和 900。给定一个罗马数字，将其转换成整数。"
   ]
  },
  {
   "cell_type": "code",
   "execution_count": 14,
   "id": "ff5024e6-f87e-4eb9-b6fc-e49bb5ba5f0f",
   "metadata": {},
   "outputs": [
    {
     "data": {
      "text/plain": [
       "58"
      ]
     },
     "execution_count": 14,
     "metadata": {},
     "output_type": "execute_result"
    }
   ],
   "source": [
    "class Solution:\n",
    "    def romanToInt(self, s: str) -> int:\n",
    "        Symbol_Value = {\n",
    "            'I': 1,\n",
    "            'V': 5,\n",
    "            'X': 10,\n",
    "            'L': 50,\n",
    "            'C': 100,\n",
    "            'D': 500,\n",
    "            'M': 1000,\n",
    "            }\n",
    "        num = 0\n",
    "        SV = Symbol_Value\n",
    "        for i in range(len(s)):\n",
    "            if i < len(s) - 1 and SV[s[i]] < SV[s[i+1]]:\n",
    "                num -= SV[s[i]]\n",
    "            else:\n",
    "                num += SV[s[i]]\n",
    "        return num\n",
    "        \n",
    "s = Solution()     \n",
    "s.romanToInt('LVIII')"
   ]
  },
  {
   "cell_type": "code",
   "execution_count": 15,
   "id": "e7f32d38-73b4-4c45-a537-bd17eb46ef05",
   "metadata": {},
   "outputs": [
    {
     "data": {
      "text/plain": [
       "58"
      ]
     },
     "execution_count": 15,
     "metadata": {},
     "output_type": "execute_result"
    }
   ],
   "source": [
    "class Solution:\n",
    "    Symbol_Value = {\n",
    "    'I': 1,\n",
    "    'V': 5,\n",
    "    'X': 10,\n",
    "    'L': 50,\n",
    "    'C': 100,\n",
    "    'D': 500,\n",
    "    'M': 1000,\n",
    "    }\n",
    "    def romanToInt(self, s: str) -> int:\n",
    "        num = 0\n",
    "        SV = Solution.Symbol_Value\n",
    "        for i,ssv in enumerate(s):\n",
    "            value = SV[ssv]\n",
    "            if i < len(s) - 1 and value < SV[s[i+1]]:\n",
    "                num -= value\n",
    "            else:\n",
    "                num += value \n",
    "        return num\n",
    "            \n",
    "s = Solution()     \n",
    "s.romanToInt('LVIII')            "
   ]
  },
  {
   "cell_type": "code",
   "execution_count": 16,
   "id": "338f4b75-817e-47f6-8332-be24dc9033aa",
   "metadata": {},
   "outputs": [
    {
     "name": "stdout",
     "output_type": "stream",
     "text": [
      "6\n",
      "True\n",
      "False\n",
      "False\n"
     ]
    }
   ],
   "source": [
    "a = {\n",
    "    'I': 1,\n",
    "    'V': 5,\n",
    "    'X': 10,\n",
    "    'L': 50,\n",
    "    'C': 100,\n",
    "    'D': 500,\n",
    "    'M': 1000,\n",
    "    }\n",
    "\n",
    "s = 'ABCIV'\n",
    "print(a[s[3]] + a['V']) # 循环嵌套,字典用法\n",
    "print('V'in a) # 看看key是否在字典中的方法\n",
    "print('A'in a)\n",
    "print(1 in a)"
   ]
  },
  {
   "cell_type": "markdown",
   "id": "7ff3a8b7-ef3b-4022-8652-256e61e027bb",
   "metadata": {},
   "source": [
    "##### **14.最长公共前缀**\n",
    "+ 编写一个函数来查找字符串数组中的最长公共前缀。如果不存在公共前缀，返回空字符串 \"\"。\n",
    "+ 另一种方法是纵向扫描。纵向扫描时，从前往后遍历所有字符串的每一列，比较相同列上的字符是否相同，如果相同则继续对下一列进行比较，如果不相同则当前列不再属于公共前缀，当前列之前的部分为最长公共前缀"
   ]
  },
  {
   "cell_type": "code",
   "execution_count": 17,
   "id": "3f539a41-47f9-43a0-a682-0917eecc920a",
   "metadata": {},
   "outputs": [
    {
     "name": "stdout",
     "output_type": "stream",
     "text": [
      "fl\n"
     ]
    },
    {
     "data": {
      "text/plain": [
       "''"
      ]
     },
     "execution_count": 17,
     "metadata": {},
     "output_type": "execute_result"
    }
   ],
   "source": [
    "from typing import List\n",
    "class Solution:\n",
    "    def longestCommonPrefix(self, strs: List[str]) -> str:\n",
    "        if not strs:\n",
    "            return \"\"\n",
    "        length = len(strs[0])\n",
    "        count = len(strs)\n",
    "        for i in range(length):\n",
    "            value = strs[0][i]\n",
    "            for j in range(1,count):\n",
    "                if i == len(strs[j]) or strs[j][i] != value:\n",
    "                    return strs[0][:i]\n",
    "        return strs[0]\n",
    "\n",
    "s = Solution()\n",
    "print(s.longestCommonPrefix(strs = [\"flower\",\"flow\",\"flight\"]))\n",
    "s.longestCommonPrefix(strs = [\"dog\",\"racecar\",\"car\"])"
   ]
  },
  {
   "cell_type": "code",
   "execution_count": 18,
   "id": "f1039eb2-42de-4052-b2ba-16d9614f9a61",
   "metadata": {},
   "outputs": [
    {
     "data": {
      "text/plain": [
       "'fl'"
      ]
     },
     "execution_count": 18,
     "metadata": {},
     "output_type": "execute_result"
    }
   ],
   "source": [
    "from typing import List\n",
    "class Solution:\n",
    "    def longestCommonPrefix(self, strs: List[str]) -> str:\n",
    "        if not strs:\n",
    "            return \"\"\n",
    "        s1 = min(strs)\n",
    "        s2 = max(strs)\n",
    "        for i,x in enumerate(s1):\n",
    "            if x != s2[i]:\n",
    "                return s2[:i]\n",
    "        return s1\n",
    "\n",
    "s = Solution()\n",
    "s.longestCommonPrefix(strs = [\"flower\",\"flow\",\"flight\"])"
   ]
  },
  {
   "cell_type": "markdown",
   "id": "c6b1dbe2-feef-421b-bc46-6bc0871d3d37",
   "metadata": {},
   "source": [
    "+ 取一个单词 s，和后面单词比较，看 s 与每个单词相同的最长前缀是多少！遍历所有单词。"
   ]
  },
  {
   "cell_type": "code",
   "execution_count": 19,
   "id": "8c802f4f-081a-46a7-89f8-48dd057e8e61",
   "metadata": {},
   "outputs": [
    {
     "data": {
      "text/plain": [
       "'fl'"
      ]
     },
     "execution_count": 19,
     "metadata": {},
     "output_type": "execute_result"
    }
   ],
   "source": [
    "from typing import List\n",
    "class Solution:\n",
    "    def longestCommonPrefix(self, strs: List[str]) -> str:\n",
    "        if not strs:\n",
    "            return \"\"\n",
    "        res = strs[0]\n",
    "        i = 1\n",
    "        while i < len(strs):\n",
    "            while strs[i].find(res) != 0:\n",
    "                res = res[0:len(res)-1]\n",
    "            i += 1\n",
    "        return res\n",
    "\n",
    "s = Solution()\n",
    "s.longestCommonPrefix(strs = [\"flower\",\"flow\",\"flight\"])"
   ]
  },
  {
   "cell_type": "markdown",
   "id": "b04e337e-3398-49f6-9e6a-6daaef4e8915",
   "metadata": {},
   "source": [
    "##### **20.有效的括号**\n",
    "+ 给定一个只包括 '('，')'，'{'，'}'，'['，']' 的字符串 s ，判断字符串是否有效。有效字符串需满足：左括号必须用相同类型的右括号闭合。左括号必须以正确的顺序闭合。"
   ]
  },
  {
   "cell_type": "markdown",
   "id": "19754fa8-a621-4ac1-9a13-ba72d1035698",
   "metadata": {},
   "source": [
    "+ **栈法**"
   ]
  },
  {
   "cell_type": "code",
   "execution_count": 20,
   "id": "27ccc77f-8100-45eb-87d6-2dc676cb24a3",
   "metadata": {},
   "outputs": [
    {
     "data": {
      "text/plain": [
       "True"
      ]
     },
     "execution_count": 20,
     "metadata": {},
     "output_type": "execute_result"
    }
   ],
   "source": [
    "class Solution:\n",
    "    @classmethod\n",
    "    def isValid(self, s: str) -> bool:\n",
    "        sy = {\n",
    "            \")\": \"(\",\n",
    "            \"]\": \"[\",\n",
    "            \"}\": \"{\"\n",
    "        }\n",
    "        if len(s) % 2 == 1:\n",
    "            return False\n",
    "        stack = list()\n",
    "        for ch in s:\n",
    "            if ch in sy:\n",
    "                if not stack or stack[-1] != sy[ch]:\n",
    "                    return False\n",
    "                stack.pop()\n",
    "            else:\n",
    "                stack.append(ch)\n",
    "        \n",
    "        return not stack\n",
    "Solution.isValid('[][]{}')"
   ]
  },
  {
   "cell_type": "code",
   "execution_count": 21,
   "id": "2d2221fc-9d30-45e3-b16d-f5739a3f17ff",
   "metadata": {},
   "outputs": [
    {
     "data": {
      "text/plain": [
       "False"
      ]
     },
     "execution_count": 21,
     "metadata": {},
     "output_type": "execute_result"
    }
   ],
   "source": [
    "class Solution:\n",
    "    @classmethod\n",
    "    def isValid(self, s: str) -> bool:\n",
    "        stack = []\n",
    "        for i in s:\n",
    "            if i == '(':\n",
    "                stack.append(')')\n",
    "            elif i == '[':\n",
    "                stack.append(']')\n",
    "            elif i == '{':\n",
    "                stack.append('}')\n",
    "            elif not stack or stack[-1] != i:\n",
    "                return False \n",
    "            else:\n",
    "                stack.pop()\n",
    "        \n",
    "        return True if not stack else False\n",
    "Solution.isValid('[]}]')"
   ]
  },
  {
   "cell_type": "code",
   "execution_count": 22,
   "id": "168154ef-97dd-4fd2-a1bb-3cc4346f1323",
   "metadata": {},
   "outputs": [
    {
     "data": {
      "text/plain": [
       "True"
      ]
     },
     "execution_count": 22,
     "metadata": {},
     "output_type": "execute_result"
    }
   ],
   "source": [
    "class Solution:\n",
    "    @classmethod\n",
    "    def isValid(self, s: str) -> bool:\n",
    "        while '{}' in s or '()' in s or '[]' in s:\n",
    "            s = s.replace('{}', '')\n",
    "            s = s.replace('[]', '')\n",
    "            s = s.replace('()', '')\n",
    "        return s == ''\n",
    "Solution.isValid('{[]}')"
   ]
  },
  {
   "cell_type": "markdown",
   "id": "2debe14d-10fd-4cfd-96ce-38f110267dd9",
   "metadata": {},
   "source": [
    "##### **21.合并两个有序链表**\n",
    "+ 将两个升序链表合并为一个新的 升序 链表并返回。新链表是通过拼接给定的两个链表的所有节点组成的。\n",
    "+ **递归**"
   ]
  },
  {
   "cell_type": "code",
   "execution_count": 23,
   "id": "751073d8-96af-44c2-a1ec-7e3512c0008a",
   "metadata": {},
   "outputs": [
    {
     "data": {
      "text/plain": [
       "<__main__.ListNode at 0x1d45bf84640>"
      ]
     },
     "execution_count": 23,
     "metadata": {},
     "output_type": "execute_result"
    }
   ],
   "source": [
    "class ListNode:\n",
    "    def __init__(self, val=0, next=None):\n",
    "        self.val = val\n",
    "        self.next = next\n",
    "class Solution:\n",
    "    @classmethod\n",
    "    def mergeTwoLists(self, list1:ListNode, list2:ListNode) -> ListNode:\n",
    "        if list1 is None:\n",
    "            return list2\n",
    "        elif list2 is None:\n",
    "            return list1\n",
    "        elif list1.val < list2.val:\n",
    "            list1.next = self.mergeTwoLists(list1.next, list2)\n",
    "            return list1\n",
    "        else:\n",
    "            list2.next = self.mergeTwoLists(list1,list2.next)\n",
    "            return list2\n",
    "\n",
    "l1 = ListNode(1)\n",
    "l1.next = ListNode(2)\n",
    "l1.next.next = ListNode(4)\n",
    "l2 = ListNode(1)\n",
    "l2.next = ListNode(3)\n",
    "l2.next.next = ListNode(4)\n",
    "Solution.mergeTwoLists(list1 = l1, list2 = l2)"
   ]
  },
  {
   "cell_type": "markdown",
   "id": "de043e50-6053-474a-aef8-4a13512c90fc",
   "metadata": {},
   "source": [
    "+ 我们可以用迭代的方法来实现上述算法。当 l1 和 l2 都不是空链表时，判断 l1 和 l2 哪一个链表的头节点的值更小，将较小值的节点添加到结果里，当一个节点被添加到结果里之后，将对应链表中的节点向后移一位。\n",
    "+ 首先，我们设定一个哨兵节点 prehead ，这可以在最后让我们比较容易地返回合并后的链表。我们维护一个 prev 指针，我们需要做的是调整它的 next 指针。然后，我们重复以下过程，直到 l1 或者 l2 指向了 null ：如果 l1 当前节点的值小于等于 l2 ，我们就把 l1 当前的节点接在 prev 节点的后面同时将 l1 指针往后移一位。否则，我们对 l2 做同样的操作。不管我们将哪一个元素接在了后面，我们都需要把 prev 向后移一位。\n",
    "+ 在循环终止的时候， l1 和 l2 至多有一个是非空的。由于输入的两个链表都是有序的，所以不管哪个链表是非空的，它包含的所有元素都比前面已经合并链表中的所有元素都要大。这意味着我们只需要简单地将非空链表接在合并链表的后面，并返回合并链表即可。"
   ]
  },
  {
   "cell_type": "code",
   "execution_count": 24,
   "id": "cca88e8d-f335-4628-ab84-923dd323536c",
   "metadata": {},
   "outputs": [
    {
     "data": {
      "text/plain": [
       "<__main__.ListNode at 0x1d45bf6e0d0>"
      ]
     },
     "execution_count": 24,
     "metadata": {},
     "output_type": "execute_result"
    }
   ],
   "source": [
    "class ListNode:\n",
    "    def __init__(self, val=0, next=None):\n",
    "        self.val = val\n",
    "        self.next = next\n",
    "class Solution:\n",
    "    @classmethod\n",
    "    def mergeTwoLists(self, list1:ListNode, list2:ListNode) -> ListNode:\n",
    "        perhead = ListNode(-1)\n",
    "        prev = perhead\n",
    "        while list1 and list2:\n",
    "            if list1.val < list2.val:\n",
    "                prev.next = list1\n",
    "                list1 = list1.next\n",
    "            else:\n",
    "                prev.next = list2\n",
    "                list2 = list2.next\n",
    "            prev = prev.next \n",
    "        if list1 is not None:\n",
    "            prev.next = list1\n",
    "        else:\n",
    "            prev.next = list2\n",
    "            \n",
    "        return perhead.next\n",
    "                \n",
    "\n",
    "l1 = ListNode(1)\n",
    "l1.next = ListNode(2)\n",
    "l1.next.next = ListNode(4)\n",
    "l2 = ListNode(1)\n",
    "l2.next = ListNode(3)\n",
    "l2.next.next = ListNode(4)\n",
    "Solution.mergeTwoLists(list1 = l1, list2 = l2)"
   ]
  },
  {
   "cell_type": "markdown",
   "id": "ce438a34-65d7-4657-bcf7-3ec936f7792f",
   "metadata": {},
   "source": [
    "##### **26. 删除有序数组中的重复项**\n",
    "+ 给你一个 升序排列 的数组 nums ，请你 原地 删除重复出现的元素，使每个元素 只出现一次 ，返回删除后数组的新长度。元素的 相对顺序 应该保持 一致 。由于在某些语言中不能改变数组的长度，所以必须将结果放在数组nums的第一部分。更规范地说，如果在删除重复项之后有 k 个元素，那么 nums 的前 k 个元素应该保存最终结果。将最终结果插入 nums 的前 k 个位置后返回 k 。不要使用额外的空间，你必须在 原地 修改输入数组 并在使用 O(1) 额外空间的条件下完成。"
   ]
  },
  {
   "cell_type": "markdown",
   "id": "813ee70c-a875-4b31-b5e3-56a5859f469b",
   "metadata": {},
   "source": [
    "+ **双指针**"
   ]
  },
  {
   "cell_type": "code",
   "execution_count": 25,
   "id": "08fbdd17-eefb-4ea8-ad6e-b1f753a81e39",
   "metadata": {},
   "outputs": [
    {
     "data": {
      "text/plain": [
       "4"
      ]
     },
     "execution_count": 25,
     "metadata": {},
     "output_type": "execute_result"
    }
   ],
   "source": [
    "class Solution:\n",
    "    @classmethod\n",
    "    def removeDuplicates(self, nums: List[int]) -> int:\n",
    "        if not nums:\n",
    "            return 0\n",
    "        fast = slow = 1\n",
    "        while fast < len(nums):\n",
    "            if nums[fast] != nums[fast -1]:\n",
    "                nums[slow] = nums[fast]\n",
    "                slow += 1\n",
    "            fast += 1\n",
    "        return slow\n",
    "Solution.removeDuplicates(nums = [1,1,2,4,5])"
   ]
  },
  {
   "cell_type": "code",
   "execution_count": 26,
   "id": "d8d7f8e5-005a-435e-ade9-065a4c4ca7d3",
   "metadata": {},
   "outputs": [
    {
     "data": {
      "text/plain": [
       "4"
      ]
     },
     "execution_count": 26,
     "metadata": {},
     "output_type": "execute_result"
    }
   ],
   "source": [
    "class Solution:\n",
    "    @classmethod\n",
    "    def removeDuplicates(self, nums: List[int]) -> int:\n",
    "        j = 1\n",
    "        for i in range(len(nums)):\n",
    "            if nums[i] != nums[j]:\n",
    "                j += 1\n",
    "                nums[j] = nums[i]\n",
    "        return j\n",
    "Solution.removeDuplicates(nums = [1,1,2,3,9])"
   ]
  },
  {
   "cell_type": "markdown",
   "id": "2d06d7a8-d661-4018-b82f-ee3cfd4329b6",
   "metadata": {},
   "source": [
    "##### **27.移除元素**\n",
    "+ 给你一个数组 nums 和一个值 val，你需要 原地 移除所有数值等于 val 的元素，并返回移除后数组的新长度。不要使用额外的数组空间，你必须仅使用 O(1) 额外空间并 原地 修改输入数组。元素的顺序可以改变。你不需要考虑数组中超出新长度后面的元素。"
   ]
  },
  {
   "cell_type": "code",
   "execution_count": 27,
   "id": "9a64050f-0af2-4bd3-8cf9-8f4bd93c7b64",
   "metadata": {},
   "outputs": [
    {
     "data": {
      "text/plain": [
       "3"
      ]
     },
     "execution_count": 27,
     "metadata": {},
     "output_type": "execute_result"
    }
   ],
   "source": [
    "from typing import List\n",
    "class Solution:\n",
    "    def removeElement(self, nums: List[int], val: int) -> int:\n",
    "        a = 0\n",
    "        b = 0\n",
    "        while a < len(nums):\n",
    "            if nums[a] != val:\n",
    "                nums[b] = nums[a]\n",
    "                b += 1 \n",
    "            a += 1\n",
    "            \n",
    "        return b\n",
    "\n",
    "s = Solution()\n",
    "s.removeElement(nums = [2,2,1,3], val = 3)"
   ]
  },
  {
   "cell_type": "code",
   "execution_count": 28,
   "id": "bd6c6c13-9284-4985-99c7-7f646f04f824",
   "metadata": {},
   "outputs": [
    {
     "data": {
      "text/plain": [
       "4"
      ]
     },
     "execution_count": 28,
     "metadata": {},
     "output_type": "execute_result"
    }
   ],
   "source": [
    "from typing import List\n",
    "class Solution:\n",
    "    @classmethod\n",
    "    def removeElement(self, nums: List[int], val: int) -> int:\n",
    "        i = j = 0\n",
    "        while i < len(nums):\n",
    "            if nums[i] != val:\n",
    "                nums[j] = nums[i]\n",
    "                j += 1\n",
    "            i += 1\n",
    "        return j\n",
    "\n",
    "Solution.removeElement(nums = [1,5,8,5,1,2], val = 5)"
   ]
  },
  {
   "cell_type": "code",
   "execution_count": null,
   "id": "18350835-c350-496e-9105-f341067851e4",
   "metadata": {},
   "outputs": [],
   "source": []
  },
  {
   "cell_type": "code",
   "execution_count": null,
   "id": "95addf34-ab0f-4814-8fa3-2d8bfdfe344f",
   "metadata": {},
   "outputs": [],
   "source": []
  },
  {
   "cell_type": "code",
   "execution_count": null,
   "id": "2d634211-34b6-4177-993b-6e7f199e27b3",
   "metadata": {},
   "outputs": [],
   "source": []
  },
  {
   "cell_type": "code",
   "execution_count": null,
   "id": "653b4046-170c-4f85-a9c4-a6341fdb1dea",
   "metadata": {},
   "outputs": [],
   "source": []
  }
 ],
 "metadata": {
  "kernelspec": {
   "display_name": "Python 3 (ipykernel)",
   "language": "python",
   "name": "python3"
  },
  "language_info": {
   "codemirror_mode": {
    "name": "ipython",
    "version": 3
   },
   "file_extension": ".py",
   "mimetype": "text/x-python",
   "name": "python",
   "nbconvert_exporter": "python",
   "pygments_lexer": "ipython3",
   "version": "3.9.7"
  }
 },
 "nbformat": 4,
 "nbformat_minor": 5
}
