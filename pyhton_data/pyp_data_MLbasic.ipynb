{
 "cells": [
  {
   "cell_type": "markdown",
   "id": "a0bb95ac-9f0a-4eae-a2f1-c812a385f5f4",
   "metadata": {},
   "source": [
    "#### **9.1 机器学习的定义和分类**\n",
    "+ 机器学习定义: 简单地说就是从数据中归纳有用的规则，计算机程序如何随着经验积累自动提升性能\n",
    "    + 人类只需要把大量的数据输入给计算机，然后计算机就可以自己总结经验归纳逻辑\n",
    "        + 监督学习:预测未来可能发生的事情\n",
    "        + 无监督学习:使用无历史标签的学习\n",
    "        + 半监督学习\n",
    "        + 强化学习:机器人\n",
    "    + 机器学习和深度学习"
   ]
  },
  {
   "cell_type": "code",
   "execution_count": 1,
   "id": "09d91902-50dd-45fb-8a71-7cdfd5042f2d",
   "metadata": {},
   "outputs": [],
   "source": [
    "import numpy as np\n",
    "import matplotlib.pyplot as plt\n",
    "%matplotlib inline"
   ]
  },
  {
   "cell_type": "code",
   "execution_count": 2,
   "id": "1646a89e-556a-4baa-91f8-aab446ec7c10",
   "metadata": {},
   "outputs": [],
   "source": [
    "x = np.linspace(0,30,20)\n",
    "y = x + 3 * np.random.randn(20)"
   ]
  },
  {
   "cell_type": "code",
   "execution_count": 3,
   "id": "f93d6f6d-5caa-4274-9e78-be13f9ca4311",
   "metadata": {},
   "outputs": [
    {
     "data": {
      "text/plain": [
       "array([ 0.        ,  1.57894737,  3.15789474,  4.73684211,  6.31578947,\n",
       "        7.89473684,  9.47368421, 11.05263158, 12.63157895, 14.21052632,\n",
       "       15.78947368, 17.36842105, 18.94736842, 20.52631579, 22.10526316,\n",
       "       23.68421053, 25.26315789, 26.84210526, 28.42105263, 30.        ])"
      ]
     },
     "execution_count": 3,
     "metadata": {},
     "output_type": "execute_result"
    }
   ],
   "source": [
    "x"
   ]
  },
  {
   "cell_type": "code",
   "execution_count": 4,
   "id": "611d6062-37fb-47fc-9707-3dafa8bdf679",
   "metadata": {},
   "outputs": [
    {
     "data": {
      "text/plain": [
       "array([-1.91208282, -2.45511972,  1.99845676,  2.71882485,  6.86473641,\n",
       "        6.07793054,  2.2073264 ,  9.43315826, 13.9899559 , 16.92066466,\n",
       "       17.71442092, 18.08882159, 16.3581684 , 21.0950276 , 21.41050186,\n",
       "       24.43575813, 27.60393888, 25.3059166 , 25.88441746, 34.3509233 ])"
      ]
     },
     "execution_count": 4,
     "metadata": {},
     "output_type": "execute_result"
    }
   ],
   "source": [
    "y"
   ]
  },
  {
   "cell_type": "code",
   "execution_count": 5,
   "id": "91b2eb9a-48c9-4373-b8ab-e762b5e8343e",
   "metadata": {},
   "outputs": [
    {
     "data": {
      "text/plain": [
       "<matplotlib.collections.PathCollection at 0x27dfa28aaf0>"
      ]
     },
     "execution_count": 5,
     "metadata": {},
     "output_type": "execute_result"
    },
    {
     "data": {
      "image/png": "[encoded data removed]",
      "text/plain": [
       "<Figure size 576x432 with 1 Axes>"
      ]
     },
     "metadata": {
      "needs_background": "light"
     },
     "output_type": "display_data"
    }
   ],
   "source": [
    "plt.figure(figsize = (8,6))\n",
    "plt.scatter(x,y)"
   ]
  },
  {
   "cell_type": "markdown",
   "id": "b2cca5b0-3adb-4082-86cd-e046cf445916",
   "metadata": {},
   "source": [
    "+ **Scikit-learn**\n",
    "    + 分类\n",
    "    + 回归\n",
    "    + 聚类\n",
    "    + 数据降维\n",
    "    + 模型选择\n",
    "    + 数据预处理"
   ]
  },
  {
   "cell_type": "markdown",
   "id": "4648cc37-e94d-4e58-bf7e-90d50ff71f18",
   "metadata": {},
   "source": [
    "#### **9.2 线性回归和机器学习的一般步骤**\n",
    "+ **线性回归**"
   ]
  },
  {
   "cell_type": "code",
   "execution_count": 6,
   "id": "b65c83b7-3336-4a73-b0f9-105e9790f04d",
   "metadata": {},
   "outputs": [],
   "source": [
    "from sklearn.linear_model import LinearRegression"
   ]
  },
  {
   "cell_type": "code",
   "execution_count": 7,
   "id": "73e62afb-43e1-4c2b-aecf-61a346784cec",
   "metadata": {},
   "outputs": [],
   "source": [
    "X = x.reshape(-1,1)\n",
    "Y = y.reshape(-1,1)"
   ]
  },
  {
   "cell_type": "code",
   "execution_count": 8,
   "id": "ba535853-8fc7-4412-bc1e-516d5475fa76",
   "metadata": {},
   "outputs": [
    {
     "data": {
      "text/plain": [
       "(array([ 0.        ,  1.57894737,  3.15789474,  4.73684211,  6.31578947,\n",
       "         7.89473684,  9.47368421, 11.05263158, 12.63157895, 14.21052632,\n",
       "        15.78947368, 17.36842105, 18.94736842, 20.52631579, 22.10526316,\n",
       "        23.68421053, 25.26315789, 26.84210526, 28.42105263, 30.        ]),\n",
       " array([-1.91208282, -2.45511972,  1.99845676,  2.71882485,  6.86473641,\n",
       "         6.07793054,  2.2073264 ,  9.43315826, 13.9899559 , 16.92066466,\n",
       "        17.71442092, 18.08882159, 16.3581684 , 21.0950276 , 21.41050186,\n",
       "        24.43575813, 27.60393888, 25.3059166 , 25.88441746, 34.3509233 ]))"
      ]
     },
     "execution_count": 8,
     "metadata": {},
     "output_type": "execute_result"
    }
   ],
   "source": [
    "x,y"
   ]
  },
  {
   "cell_type": "code",
   "execution_count": 9,
   "id": "86d25d2a-d41c-4c07-8a7e-d696a918ac5a",
   "metadata": {},
   "outputs": [
    {
     "data": {
      "text/plain": [
       "(array([[ 0.        ],\n",
       "        [ 1.57894737],\n",
       "        [ 3.15789474],\n",
       "        [ 4.73684211],\n",
       "        [ 6.31578947],\n",
       "        [ 7.89473684],\n",
       "        [ 9.47368421],\n",
       "        [11.05263158],\n",
       "        [12.63157895],\n",
       "        [14.21052632],\n",
       "        [15.78947368],\n",
       "        [17.36842105],\n",
       "        [18.94736842],\n",
       "        [20.52631579],\n",
       "        [22.10526316],\n",
       "        [23.68421053],\n",
       "        [25.26315789],\n",
       "        [26.84210526],\n",
       "        [28.42105263],\n",
       "        [30.        ]]),\n",
       " array([[-1.91208282],\n",
       "        [-2.45511972],\n",
       "        [ 1.99845676],\n",
       "        [ 2.71882485],\n",
       "        [ 6.86473641],\n",
       "        [ 6.07793054],\n",
       "        [ 2.2073264 ],\n",
       "        [ 9.43315826],\n",
       "        [13.9899559 ],\n",
       "        [16.92066466],\n",
       "        [17.71442092],\n",
       "        [18.08882159],\n",
       "        [16.3581684 ],\n",
       "        [21.0950276 ],\n",
       "        [21.41050186],\n",
       "        [24.43575813],\n",
       "        [27.60393888],\n",
       "        [25.3059166 ],\n",
       "        [25.88441746],\n",
       "        [34.3509233 ]]))"
      ]
     },
     "execution_count": 9,
     "metadata": {},
     "output_type": "execute_result"
    }
   ],
   "source": [
    "X,Y"
   ]
  },
  {
   "cell_type": "markdown",
   "id": "0424108f-650a-47d8-84ea-4a2877c64703",
   "metadata": {},
   "source": [
    "+ **初始化模型和输入数据**"
   ]
  },
  {
   "cell_type": "code",
   "execution_count": 10,
   "id": "32f6329a-c65f-4a74-a6a4-c4e360c4569d",
   "metadata": {},
   "outputs": [],
   "source": [
    "model = LinearRegression()"
   ]
  },
  {
   "cell_type": "code",
   "execution_count": 11,
   "id": "a0c467da-77db-40db-88ca-2ccdc55dd1d8",
   "metadata": {},
   "outputs": [
    {
     "data": {
      "text/plain": [
       "LinearRegression()"
      ]
     },
     "execution_count": 11,
     "metadata": {},
     "output_type": "execute_result"
    }
   ],
   "source": [
    "model.fit(X,Y)"
   ]
  },
  {
   "cell_type": "markdown",
   "id": "4b450591-3998-4ea8-a2bf-a779cd63b1ab",
   "metadata": {},
   "source": [
    "+ **预测模型**"
   ]
  },
  {
   "cell_type": "code",
   "execution_count": 12,
   "id": "5b8dfc5c-cd59-436a-8ac9-442e7371f5cf",
   "metadata": {
    "tags": []
   },
   "outputs": [
    {
     "data": {
      "text/plain": [
       "array([[42.44138874]])"
      ]
     },
     "execution_count": 12,
     "metadata": {},
     "output_type": "execute_result"
    }
   ],
   "source": [
    "model.predict([[40]])"
   ]
  },
  {
   "cell_type": "code",
   "execution_count": 13,
   "id": "06d842e2-eefc-4d67-ae3e-2a1480844553",
   "metadata": {},
   "outputs": [
    {
     "data": {
      "text/plain": [
       "[<matplotlib.lines.Line2D at 0x27dfce23e20>]"
      ]
     },
     "execution_count": 13,
     "metadata": {},
     "output_type": "execute_result"
    },
    {
     "data": {
      "image/png": "[encoded data removed]",
      "text/plain": [
       "<Figure size 720x576 with 1 Axes>"
      ]
     },
     "metadata": {
      "needs_background": "light"
     },
     "output_type": "display_data"
    }
   ],
   "source": [
    "plt.figure(figsize=(10,8))\n",
    "plt.scatter(X,Y)\n",
    "plt.plot(X,model.predict(X))"
   ]
  },
  {
   "cell_type": "code",
   "execution_count": 14,
   "id": "a95d04db-a27a-4ea5-9c47-403b88744d44",
   "metadata": {},
   "outputs": [
    {
     "data": {
      "text/plain": [
       "[<matplotlib.lines.Line2D at 0x27dfceab3a0>]"
      ]
     },
     "execution_count": 14,
     "metadata": {},
     "output_type": "execute_result"
    },
    {
     "data": {
      "image/png": "[encoded data removed]",
      "text/plain": [
       "<Figure size 720x576 with 1 Axes>"
      ]
     },
     "metadata": {
      "needs_background": "light"
     },
     "output_type": "display_data"
    }
   ],
   "source": [
    "plt.figure(figsize=(10,8))\n",
    "plt.scatter(X,Y)\n",
    "x1 = np.linspace(0,45).reshape(-1,1)\n",
    "plt.plot(x1,model.predict(x1))"
   ]
  },
  {
   "cell_type": "markdown",
   "id": "d8d1ec09-626b-4978-a909-981f86824f0f",
   "metadata": {},
   "source": [
    "#### **9.3 线性回归模型的评价**\n",
    "+ 1.准备数据\n",
    "+ 2.初始化模型\n",
    "+ 3.预测\n",
    "+ 4.评价数据"
   ]
  },
  {
   "cell_type": "code",
   "execution_count": 15,
   "id": "4dbe564e-59a5-47b3-a813-993c82bba7ce",
   "metadata": {},
   "outputs": [
    {
     "data": {
      "text/plain": [
       "array([[-2.41749357],\n",
       "       [-0.64674821],\n",
       "       [ 1.12399714],\n",
       "       [ 2.89474249],\n",
       "       [ 4.66548785],\n",
       "       [ 6.4362332 ],\n",
       "       [ 8.20697856],\n",
       "       [ 9.97772391],\n",
       "       [11.74846927],\n",
       "       [13.51921462],\n",
       "       [15.28995998],\n",
       "       [17.06070533],\n",
       "       [18.83145068],\n",
       "       [20.60219604],\n",
       "       [22.37294139],\n",
       "       [24.14368675],\n",
       "       [25.9144321 ],\n",
       "       [27.68517746],\n",
       "       [29.45592281],\n",
       "       [31.22666817]])"
      ]
     },
     "execution_count": 15,
     "metadata": {},
     "output_type": "execute_result"
    }
   ],
   "source": [
    "Y_pre = model.predict(X)\n",
    "Y_pre"
   ]
  },
  {
   "cell_type": "code",
   "execution_count": 16,
   "id": "0aebf997-2e59-413d-8865-8e42c18ed53d",
   "metadata": {},
   "outputs": [
    {
     "data": {
      "text/plain": [
       "107.51142537663252"
      ]
     },
     "execution_count": 16,
     "metadata": {},
     "output_type": "execute_result"
    }
   ],
   "source": [
    "np.sum(np.square(Y_pre - Y))"
   ]
  },
  {
   "cell_type": "code",
   "execution_count": 17,
   "id": "042f2f51-4f6b-4c86-9dfc-8d4cfbba9c74",
   "metadata": {},
   "outputs": [
    {
     "data": {
      "text/plain": [
       "array([-2.41749357])"
      ]
     },
     "execution_count": 17,
     "metadata": {},
     "output_type": "execute_result"
    }
   ],
   "source": [
    "# 截距\n",
    "model.intercept_"
   ]
  },
  {
   "cell_type": "code",
   "execution_count": 18,
   "id": "b5f27976-8745-47e5-abb0-968168f191ac",
   "metadata": {},
   "outputs": [
    {
     "data": {
      "text/plain": [
       "array([[1.12147206]])"
      ]
     },
     "execution_count": 18,
     "metadata": {},
     "output_type": "execute_result"
    }
   ],
   "source": [
    "# 斜率\n",
    "model.coef_"
   ]
  },
  {
   "cell_type": "code",
   "execution_count": 19,
   "id": "9b36f413-45a2-4a0a-86a6-59355fb11323",
   "metadata": {},
   "outputs": [
    {
     "data": {
      "text/plain": [
       "array([[-2.41749357],\n",
       "       [-0.48885348],\n",
       "       [ 1.43978661],\n",
       "       [ 3.3684267 ],\n",
       "       [ 5.2970668 ],\n",
       "       [ 7.22570689],\n",
       "       [ 9.15434698],\n",
       "       [11.08298707],\n",
       "       [13.01162716],\n",
       "       [14.94026725],\n",
       "       [16.86890734],\n",
       "       [18.79754744],\n",
       "       [20.72618753],\n",
       "       [22.65482762],\n",
       "       [24.58346771],\n",
       "       [26.5121078 ],\n",
       "       [28.44074789],\n",
       "       [30.36938798],\n",
       "       [32.29802807],\n",
       "       [34.22666817]])"
      ]
     },
     "execution_count": 19,
     "metadata": {},
     "output_type": "execute_result"
    }
   ],
   "source": [
    "Y_pre2 = (model.coef_ + 0.1) * X + model.intercept_\n",
    "Y_pre2"
   ]
  },
  {
   "cell_type": "code",
   "execution_count": 20,
   "id": "880a0362-a2f5-4ca8-8fd9-05ab62718326",
   "metadata": {},
   "outputs": [
    {
     "data": {
      "text/plain": [
       "169.09037274505383"
      ]
     },
     "execution_count": 20,
     "metadata": {},
     "output_type": "execute_result"
    }
   ],
   "source": [
    "np.sum(np.square(Y_pre2 - Y))"
   ]
  },
  {
   "cell_type": "markdown",
   "id": "a76ac988-958e-4b43-a64a-bff9d1b2fcf8",
   "metadata": {},
   "source": [
    "+ **客观评价模型**"
   ]
  },
  {
   "cell_type": "code",
   "execution_count": 21,
   "id": "f89e1498-89cb-48a0-b780-5a1f30966e48",
   "metadata": {},
   "outputs": [],
   "source": [
    "X_train, X_test = X[:15], X[15:] "
   ]
  },
  {
   "cell_type": "code",
   "execution_count": 22,
   "id": "0ecd6907-e144-489d-8fad-7295228fce8b",
   "metadata": {},
   "outputs": [],
   "source": [
    "Y_train, Y_test = Y[:15], Y[15:] "
   ]
  },
  {
   "cell_type": "code",
   "execution_count": 23,
   "id": "5acb8940-fec3-449c-8cfe-21ea2bc70de2",
   "metadata": {},
   "outputs": [
    {
     "data": {
      "text/plain": [
       "(array([[ 0.        ],\n",
       "        [ 1.57894737],\n",
       "        [ 3.15789474],\n",
       "        [ 4.73684211],\n",
       "        [ 6.31578947],\n",
       "        [ 7.89473684],\n",
       "        [ 9.47368421],\n",
       "        [11.05263158],\n",
       "        [12.63157895],\n",
       "        [14.21052632],\n",
       "        [15.78947368],\n",
       "        [17.36842105],\n",
       "        [18.94736842],\n",
       "        [20.52631579],\n",
       "        [22.10526316]]),\n",
       " array([[23.68421053],\n",
       "        [25.26315789],\n",
       "        [26.84210526],\n",
       "        [28.42105263],\n",
       "        [30.        ]]))"
      ]
     },
     "execution_count": 23,
     "metadata": {},
     "output_type": "execute_result"
    }
   ],
   "source": [
    "X_train, X_test"
   ]
  },
  {
   "cell_type": "code",
   "execution_count": 24,
   "id": "399c2392-fac4-4707-bba1-00d756f59c6b",
   "metadata": {},
   "outputs": [
    {
     "data": {
      "text/plain": [
       "LinearRegression()"
      ]
     },
     "execution_count": 24,
     "metadata": {},
     "output_type": "execute_result"
    }
   ],
   "source": [
    "model = LinearRegression()\n",
    "model.fit(X_train, Y_train)"
   ]
  },
  {
   "cell_type": "code",
   "execution_count": 25,
   "id": "8e6c05be-22f5-4b59-8588-9c4ad40ed2c1",
   "metadata": {},
   "outputs": [
    {
     "data": {
      "text/plain": [
       "32.27369654140522"
      ]
     },
     "execution_count": 25,
     "metadata": {},
     "output_type": "execute_result"
    }
   ],
   "source": [
    "np.sum(np.square(model.predict(X_test) - Y_test))"
   ]
  },
  {
   "cell_type": "code",
   "execution_count": 26,
   "id": "0417c463-90ac-4c1d-9a51-b2e921cdd54f",
   "metadata": {},
   "outputs": [
    {
     "data": {
      "text/plain": [
       "array([[1.13967128]])"
      ]
     },
     "execution_count": 26,
     "metadata": {},
     "output_type": "execute_result"
    }
   ],
   "source": [
    "model.coef_"
   ]
  },
  {
   "cell_type": "code",
   "execution_count": 27,
   "id": "2e1c6c36-0325-4829-9326-5adcea8e37f0",
   "metadata": {},
   "outputs": [
    {
     "data": {
      "text/plain": [
       "array([-2.56231405])"
      ]
     },
     "execution_count": 27,
     "metadata": {},
     "output_type": "execute_result"
    }
   ],
   "source": [
    "model.intercept_"
   ]
  },
  {
   "cell_type": "code",
   "execution_count": 28,
   "id": "7dfeb865-9334-4e0e-82c5-e9f02bdb8cb6",
   "metadata": {},
   "outputs": [
    {
     "data": {
      "text/plain": [
       "32.836368194780434"
      ]
     },
     "execution_count": 28,
     "metadata": {},
     "output_type": "execute_result"
    }
   ],
   "source": [
    "Y_pre3 = model.coef_ * X_test + model.intercept_ + 0.1\n",
    "np.sum(np.square(Y_pre3 - Y_test))"
   ]
  },
  {
   "cell_type": "code",
   "execution_count": 29,
   "id": "921c5e19-b458-4284-9608-cfd6a5ebe48c",
   "metadata": {},
   "outputs": [
    {
     "data": {
      "text/plain": [
       "[<matplotlib.lines.Line2D at 0x27dfd163cd0>]"
      ]
     },
     "execution_count": 29,
     "metadata": {},
     "output_type": "execute_result"
    },
    {
     "data": {
      "image/png": "[encoded data removed]",
      "text/plain": [
       "<Figure size 432x288 with 1 Axes>"
      ]
     },
     "metadata": {
      "needs_background": "light"
     },
     "output_type": "display_data"
    }
   ],
   "source": [
    "plt.scatter(X,Y)\n",
    "plt.plot(X,model.predict(X))\n",
    "plt.plot(X, model.coef_ * X + model.intercept_ + 0.1)"
   ]
  },
  {
   "cell_type": "markdown",
   "id": "17d0ed51-91d4-40aa-aef2-b2d1c40026de",
   "metadata": {},
   "source": [
    "#### **9.4 多元回归模型简介**\n",
    "+ 数据描述: 数据集包含了200个不同市场的产品销售额，每个销售额对应3个广告媒体，分别是TV,radio,newpaper\n",
    "+ 任务描述: 分析广告媒体与销售额之间的关系，基于广告媒体预算，预测销售额\n",
    "+ 评价指标: 销售额为连续值，为回归问题，可以采用均方误差作为评价指标 开发环境"
   ]
  },
  {
   "cell_type": "code",
   "execution_count": 30,
   "id": "5151f437-2b97-4f9d-b0af-654be5af7fac",
   "metadata": {},
   "outputs": [],
   "source": [
    "import pandas as pd\n",
    "import numpy as np\n",
    "import matplotlib.pyplot as plt\n",
    "%matplotlib inline "
   ]
  },
  {
   "cell_type": "code",
   "execution_count": 31,
   "id": "ce8aa9e2-bb22-4ee1-82eb-7fc4f6d50fc7",
   "metadata": {},
   "outputs": [],
   "source": [
    "from sklearn.linear_model import LinearRegression\n",
    "from sklearn.model_selection import train_test_split\n",
    "from sklearn.metrics import mean_squared_error # 用包来计算方差等"
   ]
  },
  {
   "cell_type": "code",
   "execution_count": 32,
   "id": "e6d9e367-9b27-4dfd-9371-cfcd75589f37",
   "metadata": {
    "tags": []
   },
   "outputs": [
    {
     "data": {
      "text/html": [
       "<div>\n",
       "<style scoped>\n",
       "    .dataframe tbody tr th:only-of-type {\n",
       "        vertical-align: middle;\n",
       "    }\n",
       "\n",
       "    .dataframe tbody tr th {\n",
       "        vertical-align: top;\n",
       "    }\n",
       "\n",
       "    .dataframe thead th {\n",
       "        text-align: right;\n",
       "    }\n",
       "</style>\n",
       "<table border=\"1\" class=\"dataframe\">\n",
       "  <thead>\n",
       "    <tr style=\"text-align: right;\">\n",
       "      <th></th>\n",
       "      <th>TV</th>\n",
       "      <th>radio</th>\n",
       "      <th>newspaper</th>\n",
       "      <th>sales</th>\n",
       "    </tr>\n",
       "  </thead>\n",
       "  <tbody>\n",
       "    <tr>\n",
       "      <th>1</th>\n",
       "      <td>14.448068</td>\n",
       "      <td>44.462209</td>\n",
       "      <td>83.848254</td>\n",
       "      <td>7.017829</td>\n",
       "    </tr>\n",
       "    <tr>\n",
       "      <th>2</th>\n",
       "      <td>77.036669</td>\n",
       "      <td>1.943525</td>\n",
       "      <td>4.763917</td>\n",
       "      <td>26.618768</td>\n",
       "    </tr>\n",
       "    <tr>\n",
       "      <th>3</th>\n",
       "      <td>32.766364</td>\n",
       "      <td>37.951899</td>\n",
       "      <td>25.707074</td>\n",
       "      <td>29.043220</td>\n",
       "    </tr>\n",
       "    <tr>\n",
       "      <th>4</th>\n",
       "      <td>263.713257</td>\n",
       "      <td>1.355217</td>\n",
       "      <td>74.723872</td>\n",
       "      <td>20.159387</td>\n",
       "    </tr>\n",
       "    <tr>\n",
       "      <th>5</th>\n",
       "      <td>198.700984</td>\n",
       "      <td>22.022366</td>\n",
       "      <td>79.484836</td>\n",
       "      <td>3.560086</td>\n",
       "    </tr>\n",
       "    <tr>\n",
       "      <th>...</th>\n",
       "      <td>...</td>\n",
       "      <td>...</td>\n",
       "      <td>...</td>\n",
       "      <td>...</td>\n",
       "    </tr>\n",
       "    <tr>\n",
       "      <th>196</th>\n",
       "      <td>156.483784</td>\n",
       "      <td>45.086194</td>\n",
       "      <td>39.484829</td>\n",
       "      <td>26.406480</td>\n",
       "    </tr>\n",
       "    <tr>\n",
       "      <th>197</th>\n",
       "      <td>17.155817</td>\n",
       "      <td>24.310617</td>\n",
       "      <td>5.438624</td>\n",
       "      <td>27.742413</td>\n",
       "    </tr>\n",
       "    <tr>\n",
       "      <th>198</th>\n",
       "      <td>260.605704</td>\n",
       "      <td>37.881865</td>\n",
       "      <td>70.681708</td>\n",
       "      <td>12.511610</td>\n",
       "    </tr>\n",
       "    <tr>\n",
       "      <th>199</th>\n",
       "      <td>83.345782</td>\n",
       "      <td>49.300295</td>\n",
       "      <td>67.279614</td>\n",
       "      <td>16.401284</td>\n",
       "    </tr>\n",
       "    <tr>\n",
       "      <th>200</th>\n",
       "      <td>216.976639</td>\n",
       "      <td>35.245909</td>\n",
       "      <td>58.001419</td>\n",
       "      <td>18.690760</td>\n",
       "    </tr>\n",
       "  </tbody>\n",
       "</table>\n",
       "<p>200 rows × 4 columns</p>\n",
       "</div>"
      ],
      "text/plain": [
       "             TV      radio  newspaper      sales\n",
       "1     14.448068  44.462209  83.848254   7.017829\n",
       "2     77.036669   1.943525   4.763917  26.618768\n",
       "3     32.766364  37.951899  25.707074  29.043220\n",
       "4    263.713257   1.355217  74.723872  20.159387\n",
       "5    198.700984  22.022366  79.484836   3.560086\n",
       "..          ...        ...        ...        ...\n",
       "196  156.483784  45.086194  39.484829  26.406480\n",
       "197   17.155817  24.310617   5.438624  27.742413\n",
       "198  260.605704  37.881865  70.681708  12.511610\n",
       "199   83.345782  49.300295  67.279614  16.401284\n",
       "200  216.976639  35.245909  58.001419  18.690760\n",
       "\n",
       "[200 rows x 4 columns]"
      ]
     },
     "execution_count": 32,
     "metadata": {},
     "output_type": "execute_result"
    }
   ],
   "source": [
    "index = np.arange(1,201)\n",
    "\n",
    "# olumns = ['TV','radio','newspaper','sales'] \n",
    "data = pd.DataFrame(\n",
    "    {\n",
    "    'TV': 300 * np.random.random(200),\n",
    "    'radio': 50 * np.random.random(200),\n",
    "    'newspaper': 100 * np.random.random(200),\n",
    "    'sales': 30 * np.random.random(200)\n",
    "    },\n",
    "    index = index,\n",
    "    # columns = columns\n",
    ")\n",
    "data"
   ]
  },
  {
   "cell_type": "code",
   "execution_count": 33,
   "id": "c5fb95a4-680d-4533-92ad-5614ea2c4c0f",
   "metadata": {},
   "outputs": [],
   "source": [
    "data.to_csv('datacsv2.csv')"
   ]
  },
  {
   "cell_type": "code",
   "execution_count": 34,
   "id": "d6f10db1-4f79-4b98-a231-5abbb2202a92",
   "metadata": {},
   "outputs": [
    {
     "data": {
      "text/html": [
       "<div>\n",
       "<style scoped>\n",
       "    .dataframe tbody tr th:only-of-type {\n",
       "        vertical-align: middle;\n",
       "    }\n",
       "\n",
       "    .dataframe tbody tr th {\n",
       "        vertical-align: top;\n",
       "    }\n",
       "\n",
       "    .dataframe thead th {\n",
       "        text-align: right;\n",
       "    }\n",
       "</style>\n",
       "<table border=\"1\" class=\"dataframe\">\n",
       "  <thead>\n",
       "    <tr style=\"text-align: right;\">\n",
       "      <th></th>\n",
       "      <th>Unnamed: 0</th>\n",
       "      <th>TV</th>\n",
       "      <th>radio</th>\n",
       "      <th>newspaper</th>\n",
       "      <th>sales</th>\n",
       "    </tr>\n",
       "  </thead>\n",
       "  <tbody>\n",
       "    <tr>\n",
       "      <th>0</th>\n",
       "      <td>1</td>\n",
       "      <td>14.448068</td>\n",
       "      <td>44.462209</td>\n",
       "      <td>83.848254</td>\n",
       "      <td>7.017829</td>\n",
       "    </tr>\n",
       "    <tr>\n",
       "      <th>1</th>\n",
       "      <td>2</td>\n",
       "      <td>77.036669</td>\n",
       "      <td>1.943525</td>\n",
       "      <td>4.763917</td>\n",
       "      <td>26.618768</td>\n",
       "    </tr>\n",
       "    <tr>\n",
       "      <th>2</th>\n",
       "      <td>3</td>\n",
       "      <td>32.766364</td>\n",
       "      <td>37.951899</td>\n",
       "      <td>25.707074</td>\n",
       "      <td>29.043220</td>\n",
       "    </tr>\n",
       "    <tr>\n",
       "      <th>3</th>\n",
       "      <td>4</td>\n",
       "      <td>263.713257</td>\n",
       "      <td>1.355217</td>\n",
       "      <td>74.723872</td>\n",
       "      <td>20.159387</td>\n",
       "    </tr>\n",
       "    <tr>\n",
       "      <th>4</th>\n",
       "      <td>5</td>\n",
       "      <td>198.700984</td>\n",
       "      <td>22.022366</td>\n",
       "      <td>79.484836</td>\n",
       "      <td>3.560086</td>\n",
       "    </tr>\n",
       "  </tbody>\n",
       "</table>\n",
       "</div>"
      ],
      "text/plain": [
       "   Unnamed: 0          TV      radio  newspaper      sales\n",
       "0           1   14.448068  44.462209  83.848254   7.017829\n",
       "1           2   77.036669   1.943525   4.763917  26.618768\n",
       "2           3   32.766364  37.951899  25.707074  29.043220\n",
       "3           4  263.713257   1.355217  74.723872  20.159387\n",
       "4           5  198.700984  22.022366  79.484836   3.560086"
      ]
     },
     "execution_count": 34,
     "metadata": {},
     "output_type": "execute_result"
    }
   ],
   "source": [
    "plt.style.use('ggplot')\n",
    "data = pd.read_csv('datacsv2.csv')\n",
    "data.head()"
   ]
  },
  {
   "cell_type": "code",
   "execution_count": 35,
   "id": "614416ac-9319-40fb-a2f8-78e468ac324c",
   "metadata": {},
   "outputs": [
    {
     "data": {
      "text/plain": [
       "<matplotlib.collections.PathCollection at 0x27dfdfb81c0>"
      ]
     },
     "execution_count": 35,
     "metadata": {},
     "output_type": "execute_result"
    },
    {
     "data": {
      "image/png": "[encoded data removed]",
      "text/plain": [
       "<Figure size 432x288 with 1 Axes>"
      ]
     },
     "metadata": {},
     "output_type": "display_data"
    }
   ],
   "source": [
    "plt.scatter(data.TV, data.sales)"
   ]
  },
  {
   "cell_type": "code",
   "execution_count": 36,
   "id": "c1bcb934-6a8d-4fc0-8b03-b1a750bbfdee",
   "metadata": {},
   "outputs": [
    {
     "data": {
      "text/plain": [
       "<matplotlib.collections.PathCollection at 0x27dfe01fbe0>"
      ]
     },
     "execution_count": 36,
     "metadata": {},
     "output_type": "execute_result"
    },
    {
     "data": {
      "image/png": "[encoded data removed]",
      "text/plain": [
       "<Figure size 432x288 with 1 Axes>"
      ]
     },
     "metadata": {},
     "output_type": "display_data"
    }
   ],
   "source": [
    "plt.scatter(data.radio, data.sales)"
   ]
  },
  {
   "cell_type": "code",
   "execution_count": 37,
   "id": "14dfe9cb-79f7-4e13-bce6-82a4441a59d4",
   "metadata": {},
   "outputs": [
    {
     "data": {
      "text/plain": [
       "<matplotlib.collections.PathCollection at 0x27dfe0972b0>"
      ]
     },
     "execution_count": 37,
     "metadata": {},
     "output_type": "execute_result"
    },
    {
     "data": {
      "image/png": "[encoded data removed]",
      "text/plain": [
       "<Figure size 432x288 with 1 Axes>"
      ]
     },
     "metadata": {},
     "output_type": "display_data"
    }
   ],
   "source": [
    "plt.scatter(data.newspaper, data.sales)"
   ]
  },
  {
   "cell_type": "markdown",
   "id": "94eff0e4-2f23-46bd-b687-c83101096582",
   "metadata": {},
   "source": [
    "#### **9.5 多元回归模型建立和评价**"
   ]
  },
  {
   "cell_type": "code",
   "execution_count": 38,
   "id": "67433476-62c0-4a56-8564-d45f8d66134b",
   "metadata": {},
   "outputs": [],
   "source": [
    "x = data[['TV','radio','newspaper']]\n",
    "y = data.sales"
   ]
  },
  {
   "cell_type": "code",
   "execution_count": 39,
   "id": "637c88a8-f597-457d-bba5-1dd95bcb6be6",
   "metadata": {},
   "outputs": [],
   "source": [
    "x_train,x_test,y_train,y_test = train_test_split(x,y)"
   ]
  },
  {
   "cell_type": "code",
   "execution_count": 40,
   "id": "eb257061-31fe-462e-bbae-16567b4570c9",
   "metadata": {},
   "outputs": [
    {
     "data": {
      "text/plain": [
       "(150, 150)"
      ]
     },
     "execution_count": 40,
     "metadata": {},
     "output_type": "execute_result"
    }
   ],
   "source": [
    "len(x_train),len(y_train)"
   ]
  },
  {
   "cell_type": "code",
   "execution_count": 41,
   "id": "76560f08-de1f-4ab9-9e0c-b0e5dce85ba8",
   "metadata": {},
   "outputs": [
    {
     "data": {
      "text/plain": [
       "(50, 50)"
      ]
     },
     "execution_count": 41,
     "metadata": {},
     "output_type": "execute_result"
    }
   ],
   "source": [
    "len(x_test),len(y_test)"
   ]
  },
  {
   "cell_type": "markdown",
   "id": "f608b44d-a46c-43b7-95e4-fa5f6968081c",
   "metadata": {},
   "source": [
    "+ **1. 初始化模型**"
   ]
  },
  {
   "cell_type": "code",
   "execution_count": 42,
   "id": "cb486003-05ac-430c-8eab-e5d49fa8ac1c",
   "metadata": {},
   "outputs": [],
   "source": [
    "model = LinearRegression()"
   ]
  },
  {
   "cell_type": "markdown",
   "id": "4e903619-bf3a-413b-8673-07fc7f9b31ca",
   "metadata": {},
   "source": [
    "+ **2. 进行数据训练**"
   ]
  },
  {
   "cell_type": "code",
   "execution_count": 43,
   "id": "8d8fde68-7881-4e4a-9eef-aecb7c900525",
   "metadata": {},
   "outputs": [
    {
     "data": {
      "text/plain": [
       "LinearRegression()"
      ]
     },
     "execution_count": 43,
     "metadata": {},
     "output_type": "execute_result"
    }
   ],
   "source": [
    "model.fit(x_train,y_train)"
   ]
  },
  {
   "cell_type": "code",
   "execution_count": 44,
   "id": "76be3019-39d0-456a-86d6-5d44eedc7e8b",
   "metadata": {},
   "outputs": [
    {
     "data": {
      "text/plain": [
       "array([ 0.00466702, -0.08717778,  0.00950922])"
      ]
     },
     "execution_count": 44,
     "metadata": {},
     "output_type": "execute_result"
    }
   ],
   "source": [
    "model.coef_"
   ]
  },
  {
   "cell_type": "raw",
   "id": "82bc8f74-9ad4-4dfd-a721-9abb75436849",
   "metadata": {},
   "source": [
    "# 多元线性函数\n",
    "y = ax1 + bx2 + cx3 + intc"
   ]
  },
  {
   "cell_type": "code",
   "execution_count": 45,
   "id": "7ec4a836-c917-4a07-b03b-655899af5b3f",
   "metadata": {},
   "outputs": [
    {
     "name": "stdout",
     "output_type": "stream",
     "text": [
      "('TV', 0.004667016951312306)\n",
      "('radio', -0.08717777620665476)\n",
      "('newspaper', 0.009509215466931849)\n"
     ]
    }
   ],
   "source": [
    "for i in zip(x_train.columns, model.coef_):\n",
    "    print(i)"
   ]
  },
  {
   "cell_type": "markdown",
   "id": "6314bb94-fc2b-4712-a17a-53447d4b820a",
   "metadata": {},
   "source": [
    "+ **3. 模型预测**\n",
    "+ **4. 模型评估**:平方差"
   ]
  },
  {
   "cell_type": "code",
   "execution_count": 46,
   "id": "bf890cfc-0741-46a4-9cec-77a070380f48",
   "metadata": {},
   "outputs": [
    {
     "data": {
      "text/plain": [
       "82.95172001713406"
      ]
     },
     "execution_count": 46,
     "metadata": {},
     "output_type": "execute_result"
    }
   ],
   "source": [
    "mean_squared_error(model.predict(x_test),y_test)"
   ]
  },
  {
   "cell_type": "markdown",
   "id": "b5863acd-4497-414e-902d-a96183a20580",
   "metadata": {},
   "source": [
    "#### **9.6 多元回归模型的改进**"
   ]
  },
  {
   "cell_type": "code",
   "execution_count": 47,
   "id": "460f7d99-ce34-46ca-bade-5b1d723bb48b",
   "metadata": {},
   "outputs": [],
   "source": [
    "x = data[['TV','radio']]\n",
    "y = data.sales"
   ]
  },
  {
   "cell_type": "code",
   "execution_count": 48,
   "id": "f942632e-8a25-41c3-b4c1-df6f7446b339",
   "metadata": {},
   "outputs": [],
   "source": [
    "x_train,x_test,y_train,y_test = train_test_split(x,y)"
   ]
  },
  {
   "cell_type": "code",
   "execution_count": 49,
   "id": "77a6156f-e839-4b57-b9ab-697c93dd78bd",
   "metadata": {},
   "outputs": [],
   "source": [
    "model2 = LinearRegression()"
   ]
  },
  {
   "cell_type": "code",
   "execution_count": 50,
   "id": "32456fb0-1ae2-4b7a-b726-c878397ecd20",
   "metadata": {},
   "outputs": [
    {
     "data": {
      "text/plain": [
       "LinearRegression()"
      ]
     },
     "execution_count": 50,
     "metadata": {},
     "output_type": "execute_result"
    }
   ],
   "source": [
    "model2.fit(x_train,y_train)"
   ]
  },
  {
   "cell_type": "code",
   "execution_count": 51,
   "id": "aa4fbc39-e44e-4b88-8018-6e5c9c6ff5f2",
   "metadata": {},
   "outputs": [
    {
     "data": {
      "text/plain": [
       "array([ 0.00296715, -0.08515771])"
      ]
     },
     "execution_count": 51,
     "metadata": {},
     "output_type": "execute_result"
    }
   ],
   "source": [
    "model2.coef_"
   ]
  },
  {
   "cell_type": "code",
   "execution_count": 52,
   "id": "6b256e4c-f21b-46eb-84a5-0bfdda3b3951",
   "metadata": {},
   "outputs": [
    {
     "data": {
      "text/plain": [
       "71.71478883786855"
      ]
     },
     "execution_count": 52,
     "metadata": {},
     "output_type": "execute_result"
    }
   ],
   "source": [
    "mean_squared_error(model2.predict(x_test),y_test)"
   ]
  },
  {
   "cell_type": "markdown",
   "id": "39130016-8d66-4ba2-b71a-1852024f7e9b",
   "metadata": {},
   "source": [
    "#### **9.7 K均值聚类算法的解析**\n",
    "+ 聚类是数据挖掘中的概念，就是按照某个特定标准把一个数据集分割成不同的类或者簇，使得同一类的数据对象的相似性尽可能大，同时不在同一个簇中的数据对象的差异性也尽可能大。也即聚类后的同一类数据尽可能聚集到一起，不同类数据尽量分离。\n",
    "+ 聚类通常并不需要使用训练数据进行学习，这在ML中成为无监督学习\n",
    "+ 选择K个点作为初始质心\n",
    "+ repeat\n",
    "+ 将每个点指派到最近的质心，形成k个簇\n",
    "+ 重新计算每个簇的质心\n",
    "+ until簇不发生变化或达到最大迭代次数"
   ]
  },
  {
   "cell_type": "markdown",
   "id": "bae0e351-4ccd-49f2-a258-83c476f93339",
   "metadata": {},
   "source": [
    "+ **K-Means:K均值聚类**"
   ]
  },
  {
   "cell_type": "code",
   "execution_count": 53,
   "id": "e460fc49-8362-43af-9651-66400c585d32",
   "metadata": {},
   "outputs": [
    {
     "data": {
      "text/html": [
       "<div>\n",
       "<style scoped>\n",
       "    .dataframe tbody tr th:only-of-type {\n",
       "        vertical-align: middle;\n",
       "    }\n",
       "\n",
       "    .dataframe tbody tr th {\n",
       "        vertical-align: top;\n",
       "    }\n",
       "\n",
       "    .dataframe thead th {\n",
       "        text-align: right;\n",
       "    }\n",
       "</style>\n",
       "<table border=\"1\" class=\"dataframe\">\n",
       "  <thead>\n",
       "    <tr style=\"text-align: right;\">\n",
       "      <th></th>\n",
       "      <th>X</th>\n",
       "      <th>Y</th>\n",
       "    </tr>\n",
       "  </thead>\n",
       "  <tbody>\n",
       "    <tr>\n",
       "      <th>0</th>\n",
       "      <td>24</td>\n",
       "      <td>9</td>\n",
       "    </tr>\n",
       "    <tr>\n",
       "      <th>1</th>\n",
       "      <td>20</td>\n",
       "      <td>25</td>\n",
       "    </tr>\n",
       "    <tr>\n",
       "      <th>2</th>\n",
       "      <td>31</td>\n",
       "      <td>36</td>\n",
       "    </tr>\n",
       "    <tr>\n",
       "      <th>3</th>\n",
       "      <td>16</td>\n",
       "      <td>43</td>\n",
       "    </tr>\n",
       "    <tr>\n",
       "      <th>4</th>\n",
       "      <td>21</td>\n",
       "      <td>9</td>\n",
       "    </tr>\n",
       "    <tr>\n",
       "      <th>...</th>\n",
       "      <td>...</td>\n",
       "      <td>...</td>\n",
       "    </tr>\n",
       "    <tr>\n",
       "      <th>95</th>\n",
       "      <td>33</td>\n",
       "      <td>6</td>\n",
       "    </tr>\n",
       "    <tr>\n",
       "      <th>96</th>\n",
       "      <td>30</td>\n",
       "      <td>40</td>\n",
       "    </tr>\n",
       "    <tr>\n",
       "      <th>97</th>\n",
       "      <td>8</td>\n",
       "      <td>29</td>\n",
       "    </tr>\n",
       "    <tr>\n",
       "      <th>98</th>\n",
       "      <td>43</td>\n",
       "      <td>33</td>\n",
       "    </tr>\n",
       "    <tr>\n",
       "      <th>99</th>\n",
       "      <td>2</td>\n",
       "      <td>45</td>\n",
       "    </tr>\n",
       "  </tbody>\n",
       "</table>\n",
       "<p>100 rows × 2 columns</p>\n",
       "</div>"
      ],
      "text/plain": [
       "     X   Y\n",
       "0   24   9\n",
       "1   20  25\n",
       "2   31  36\n",
       "3   16  43\n",
       "4   21   9\n",
       "..  ..  ..\n",
       "95  33   6\n",
       "96  30  40\n",
       "97   8  29\n",
       "98  43  33\n",
       "99   2  45\n",
       "\n",
       "[100 rows x 2 columns]"
      ]
     },
     "execution_count": 53,
     "metadata": {},
     "output_type": "execute_result"
    }
   ],
   "source": [
    "data1 =pd.DataFrame(\n",
    "    {'X':np.random.randint(1,50,100), \n",
    "     'Y':np.random.randint(1,50,100)\n",
    "    }\n",
    ")\n",
    "data1"
   ]
  },
  {
   "cell_type": "code",
   "execution_count": 54,
   "id": "a5484565-84ba-422c-b79f-b3d181f8373c",
   "metadata": {},
   "outputs": [
    {
     "data": {
      "text/html": [
       "<div>\n",
       "<style scoped>\n",
       "    .dataframe tbody tr th:only-of-type {\n",
       "        vertical-align: middle;\n",
       "    }\n",
       "\n",
       "    .dataframe tbody tr th {\n",
       "        vertical-align: top;\n",
       "    }\n",
       "\n",
       "    .dataframe thead th {\n",
       "        text-align: right;\n",
       "    }\n",
       "</style>\n",
       "<table border=\"1\" class=\"dataframe\">\n",
       "  <thead>\n",
       "    <tr style=\"text-align: right;\">\n",
       "      <th></th>\n",
       "      <th>X</th>\n",
       "      <th>Y</th>\n",
       "    </tr>\n",
       "  </thead>\n",
       "  <tbody>\n",
       "    <tr>\n",
       "      <th>0</th>\n",
       "      <td>74</td>\n",
       "      <td>59</td>\n",
       "    </tr>\n",
       "    <tr>\n",
       "      <th>1</th>\n",
       "      <td>70</td>\n",
       "      <td>75</td>\n",
       "    </tr>\n",
       "    <tr>\n",
       "      <th>2</th>\n",
       "      <td>81</td>\n",
       "      <td>86</td>\n",
       "    </tr>\n",
       "    <tr>\n",
       "      <th>3</th>\n",
       "      <td>66</td>\n",
       "      <td>93</td>\n",
       "    </tr>\n",
       "    <tr>\n",
       "      <th>4</th>\n",
       "      <td>71</td>\n",
       "      <td>59</td>\n",
       "    </tr>\n",
       "    <tr>\n",
       "      <th>...</th>\n",
       "      <td>...</td>\n",
       "      <td>...</td>\n",
       "    </tr>\n",
       "    <tr>\n",
       "      <th>95</th>\n",
       "      <td>33</td>\n",
       "      <td>6</td>\n",
       "    </tr>\n",
       "    <tr>\n",
       "      <th>96</th>\n",
       "      <td>30</td>\n",
       "      <td>40</td>\n",
       "    </tr>\n",
       "    <tr>\n",
       "      <th>97</th>\n",
       "      <td>8</td>\n",
       "      <td>29</td>\n",
       "    </tr>\n",
       "    <tr>\n",
       "      <th>98</th>\n",
       "      <td>43</td>\n",
       "      <td>33</td>\n",
       "    </tr>\n",
       "    <tr>\n",
       "      <th>99</th>\n",
       "      <td>2</td>\n",
       "      <td>45</td>\n",
       "    </tr>\n",
       "  </tbody>\n",
       "</table>\n",
       "<p>200 rows × 2 columns</p>\n",
       "</div>"
      ],
      "text/plain": [
       "     X   Y\n",
       "0   74  59\n",
       "1   70  75\n",
       "2   81  86\n",
       "3   66  93\n",
       "4   71  59\n",
       "..  ..  ..\n",
       "95  33   6\n",
       "96  30  40\n",
       "97   8  29\n",
       "98  43  33\n",
       "99   2  45\n",
       "\n",
       "[200 rows x 2 columns]"
      ]
     },
     "execution_count": 54,
     "metadata": {},
     "output_type": "execute_result"
    }
   ],
   "source": [
    "data = pd.concat([data1 + 50, data1])\n",
    "data"
   ]
  },
  {
   "cell_type": "code",
   "execution_count": 55,
   "id": "d1481207-6ff8-4047-943b-27c187efc174",
   "metadata": {},
   "outputs": [
    {
     "data": {
      "text/plain": [
       "<matplotlib.collections.PathCollection at 0x27dfe11f2b0>"
      ]
     },
     "execution_count": 55,
     "metadata": {},
     "output_type": "execute_result"
    },
    {
     "data": {
      "image/png": "[encoded data removed]",
      "text/plain": [
       "<Figure size 432x288 with 1 Axes>"
      ]
     },
     "metadata": {},
     "output_type": "display_data"
    }
   ],
   "source": [
    "plt.style.use('ggplot')\n",
    "plt.scatter(data.X,data.Y)"
   ]
  },
  {
   "cell_type": "markdown",
   "id": "dcf1f23a-a9ca-4fa9-9b09-3c01e1fb0601",
   "metadata": {},
   "source": [
    "#### **9.8 K-means聚类的代码实现**"
   ]
  },
  {
   "cell_type": "code",
   "execution_count": 56,
   "id": "b2608a08-bd30-4fc8-9518-cbff21cc5c69",
   "metadata": {},
   "outputs": [],
   "source": [
    "from sklearn.cluster import KMeans"
   ]
  },
  {
   "cell_type": "code",
   "execution_count": 67,
   "id": "87d7abf8-af85-475d-a175-546a920de89a",
   "metadata": {},
   "outputs": [
    {
     "data": {
      "text/plain": [
       "array([1, 1, 1, 1, 1, 1, 1, 1, 1, 1, 1, 1, 1, 1, 1, 1, 1, 1, 1, 1, 1, 1,\n",
       "       1, 1, 1, 1, 1, 1, 1, 1, 1, 1, 1, 1, 1, 1, 1, 1, 1, 1, 1, 1, 1, 1,\n",
       "       1, 1, 0, 1, 1, 1, 1, 1, 1, 1, 1, 1, 1, 1, 1, 1, 1, 1, 1, 1, 1, 1,\n",
       "       1, 1, 1, 1, 1, 1, 1, 1, 1, 1, 1, 1, 1, 1, 1, 1, 1, 1, 1, 1, 1, 1,\n",
       "       1, 1, 1, 1, 1, 1, 1, 1, 1, 1, 1, 1, 0, 0, 0, 0, 0, 0, 0, 0, 0, 0,\n",
       "       0, 0, 0, 0, 0, 0, 0, 0, 0, 0, 0, 0, 0, 0, 0, 0, 0, 0, 0, 0, 0, 0,\n",
       "       0, 0, 0, 0, 0, 0, 0, 0, 0, 0, 0, 0, 0, 0, 0, 0, 0, 0, 0, 0, 0, 0,\n",
       "       0, 0, 0, 0, 0, 0, 0, 0, 0, 0, 0, 0, 0, 0, 0, 0, 0, 0, 0, 0, 0, 0,\n",
       "       0, 0, 0, 0, 0, 0, 0, 0, 0, 0, 0, 0, 0, 0, 0, 0, 0, 0, 0, 0, 0, 0,\n",
       "       0, 0])"
      ]
     },
     "execution_count": 67,
     "metadata": {},
     "output_type": "execute_result"
    }
   ],
   "source": [
    "y_pred = KMeans(n_clusters = 2).fit_predict(data) # 把数据分成两类\n",
    "y_pred"
   ]
  },
  {
   "cell_type": "code",
   "execution_count": 58,
   "id": "3f436d52-463e-4332-9d0a-7650c792cc1b",
   "metadata": {},
   "outputs": [
    {
     "data": {
      "text/plain": [
       "<matplotlib.collections.PathCollection at 0x27dfe441670>"
      ]
     },
     "execution_count": 58,
     "metadata": {},
     "output_type": "execute_result"
    },
    {
     "data": {
      "image/png": "[encoded data removed]",
      "text/plain": [
       "<Figure size 432x288 with 1 Axes>"
      ]
     },
     "metadata": {},
     "output_type": "display_data"
    }
   ],
   "source": [
    "plt.scatter(data.X,data.Y, c = y_pred)"
   ]
  },
  {
   "cell_type": "markdown",
   "id": "ed5488ae-d116-4fc2-99ef-98e9150af0d5",
   "metadata": {},
   "source": [
    "+ **进行评价**"
   ]
  },
  {
   "cell_type": "code",
   "execution_count": 59,
   "id": "7322aac1-2a3d-45e7-808d-dd7f4067f1cd",
   "metadata": {},
   "outputs": [],
   "source": [
    "from sklearn import metrics"
   ]
  },
  {
   "cell_type": "code",
   "execution_count": 62,
   "id": "2cda35a2-eb96-4332-bbea-293d76947109",
   "metadata": {},
   "outputs": [
    {
     "data": {
      "text/plain": [
       "609.1168325134112"
      ]
     },
     "execution_count": 62,
     "metadata": {},
     "output_type": "execute_result"
    }
   ],
   "source": [
    "metrics.calinski_harabasz_score(data, y_pred)"
   ]
  },
  {
   "cell_type": "code",
   "execution_count": 66,
   "id": "90bb189f-cd6f-4fa7-bacf-8ee949bd367f",
   "metadata": {},
   "outputs": [
    {
     "data": {
      "text/plain": [
       "380.21896069164364"
      ]
     },
     "execution_count": 66,
     "metadata": {},
     "output_type": "execute_result"
    }
   ],
   "source": [
    "y_pred = KMeans(n_clusters = 5).fit_predict(data)\n",
    "metrics.calinski_harabasz_score(data, y_pred)"
   ]
  },
  {
   "cell_type": "markdown",
   "id": "15b1e717-79bd-4f8d-9eac-887f4bf3065d",
   "metadata": {},
   "source": [
    "#### **9.9 小麦数据集应用聚类算法**"
   ]
  },
  {
   "cell_type": "code",
   "execution_count": 72,
   "id": "0244690f-cb48-4001-9b4e-f3044f306d6b",
   "metadata": {},
   "outputs": [
    {
     "data": {
      "text/html": [
       "<div>\n",
       "<style scoped>\n",
       "    .dataframe tbody tr th:only-of-type {\n",
       "        vertical-align: middle;\n",
       "    }\n",
       "\n",
       "    .dataframe tbody tr th {\n",
       "        vertical-align: top;\n",
       "    }\n",
       "\n",
       "    .dataframe thead th {\n",
       "        text-align: right;\n",
       "    }\n",
       "</style>\n",
       "<table border=\"1\" class=\"dataframe\">\n",
       "  <thead>\n",
       "    <tr style=\"text-align: right;\">\n",
       "      <th></th>\n",
       "      <th>x1</th>\n",
       "      <th>x2</th>\n",
       "      <th>x3</th>\n",
       "      <th>x4</th>\n",
       "      <th>x5</th>\n",
       "      <th>x6</th>\n",
       "      <th>x7</th>\n",
       "      <th>y</th>\n",
       "    </tr>\n",
       "  </thead>\n",
       "  <tbody>\n",
       "    <tr>\n",
       "      <th>0</th>\n",
       "      <td>15.26</td>\n",
       "      <td>14.84</td>\n",
       "      <td>0.8710</td>\n",
       "      <td>5.763</td>\n",
       "      <td>3.312</td>\n",
       "      <td>2.221</td>\n",
       "      <td>5.220</td>\n",
       "      <td>1.0</td>\n",
       "    </tr>\n",
       "    <tr>\n",
       "      <th>1</th>\n",
       "      <td>14.88</td>\n",
       "      <td>14.57</td>\n",
       "      <td>0.8811</td>\n",
       "      <td>5.554</td>\n",
       "      <td>3.333</td>\n",
       "      <td>1.018</td>\n",
       "      <td>4.956</td>\n",
       "      <td>1.0</td>\n",
       "    </tr>\n",
       "    <tr>\n",
       "      <th>2</th>\n",
       "      <td>14.29</td>\n",
       "      <td>14.09</td>\n",
       "      <td>0.9050</td>\n",
       "      <td>5.291</td>\n",
       "      <td>3.337</td>\n",
       "      <td>2.699</td>\n",
       "      <td>4.825</td>\n",
       "      <td>1.0</td>\n",
       "    </tr>\n",
       "    <tr>\n",
       "      <th>3</th>\n",
       "      <td>13.84</td>\n",
       "      <td>13.94</td>\n",
       "      <td>0.8955</td>\n",
       "      <td>5.324</td>\n",
       "      <td>3.379</td>\n",
       "      <td>2.259</td>\n",
       "      <td>4.805</td>\n",
       "      <td>1.0</td>\n",
       "    </tr>\n",
       "    <tr>\n",
       "      <th>4</th>\n",
       "      <td>16.14</td>\n",
       "      <td>14.99</td>\n",
       "      <td>0.9034</td>\n",
       "      <td>5.658</td>\n",
       "      <td>3.562</td>\n",
       "      <td>1.355</td>\n",
       "      <td>5.175</td>\n",
       "      <td>1.0</td>\n",
       "    </tr>\n",
       "    <tr>\n",
       "      <th>...</th>\n",
       "      <td>...</td>\n",
       "      <td>...</td>\n",
       "      <td>...</td>\n",
       "      <td>...</td>\n",
       "      <td>...</td>\n",
       "      <td>...</td>\n",
       "      <td>...</td>\n",
       "      <td>...</td>\n",
       "    </tr>\n",
       "    <tr>\n",
       "      <th>205</th>\n",
       "      <td>12.19</td>\n",
       "      <td>13.20</td>\n",
       "      <td>0.8783</td>\n",
       "      <td>5.137</td>\n",
       "      <td>2.981</td>\n",
       "      <td>3.631</td>\n",
       "      <td>4.870</td>\n",
       "      <td>3.0</td>\n",
       "    </tr>\n",
       "    <tr>\n",
       "      <th>206</th>\n",
       "      <td>11.23</td>\n",
       "      <td>12.88</td>\n",
       "      <td>0.8511</td>\n",
       "      <td>5.140</td>\n",
       "      <td>2.795</td>\n",
       "      <td>4.325</td>\n",
       "      <td>5.003</td>\n",
       "      <td>3.0</td>\n",
       "    </tr>\n",
       "    <tr>\n",
       "      <th>207</th>\n",
       "      <td>13.20</td>\n",
       "      <td>13.66</td>\n",
       "      <td>0.8883</td>\n",
       "      <td>5.236</td>\n",
       "      <td>3.232</td>\n",
       "      <td>8.315</td>\n",
       "      <td>5.056</td>\n",
       "      <td>3.0</td>\n",
       "    </tr>\n",
       "    <tr>\n",
       "      <th>208</th>\n",
       "      <td>11.84</td>\n",
       "      <td>13.21</td>\n",
       "      <td>0.8521</td>\n",
       "      <td>5.175</td>\n",
       "      <td>2.836</td>\n",
       "      <td>3.598</td>\n",
       "      <td>5.044</td>\n",
       "      <td>3.0</td>\n",
       "    </tr>\n",
       "    <tr>\n",
       "      <th>209</th>\n",
       "      <td>12.30</td>\n",
       "      <td>13.34</td>\n",
       "      <td>0.8684</td>\n",
       "      <td>5.243</td>\n",
       "      <td>2.974</td>\n",
       "      <td>5.637</td>\n",
       "      <td>5.063</td>\n",
       "      <td>3.0</td>\n",
       "    </tr>\n",
       "  </tbody>\n",
       "</table>\n",
       "<p>210 rows × 8 columns</p>\n",
       "</div>"
      ],
      "text/plain": [
       "        x1     x2      x3     x4     x5     x6     x7    y\n",
       "0    15.26  14.84  0.8710  5.763  3.312  2.221  5.220  1.0\n",
       "1    14.88  14.57  0.8811  5.554  3.333  1.018  4.956  1.0\n",
       "2    14.29  14.09  0.9050  5.291  3.337  2.699  4.825  1.0\n",
       "3    13.84  13.94  0.8955  5.324  3.379  2.259  4.805  1.0\n",
       "4    16.14  14.99  0.9034  5.658  3.562  1.355  5.175  1.0\n",
       "..     ...    ...     ...    ...    ...    ...    ...  ...\n",
       "205  12.19  13.20  0.8783  5.137  2.981  3.631  4.870  3.0\n",
       "206  11.23  12.88  0.8511  5.140  2.795  4.325  5.003  3.0\n",
       "207  13.20  13.66  0.8883  5.236  3.232  8.315  5.056  3.0\n",
       "208  11.84  13.21  0.8521  5.175  2.836  3.598  5.044  3.0\n",
       "209  12.30  13.34  0.8684  5.243  2.974  5.637  5.063  3.0\n",
       "\n",
       "[210 rows x 8 columns]"
      ]
     },
     "execution_count": 72,
     "metadata": {},
     "output_type": "execute_result"
    }
   ],
   "source": [
    "data = pd.read_csv('seeds_dataset.csv', names = ['x1','x2','x3','x4','x5','x6','x7','y'])\n",
    "data"
   ]
  },
  {
   "cell_type": "code",
   "execution_count": null,
   "id": "8d3b38b0-4d2a-43e2-86e1-ccb16cda23b5",
   "metadata": {},
   "outputs": [],
   "source": []
  },
  {
   "cell_type": "code",
   "execution_count": null,
   "id": "d873a830-f901-4e6c-8545-12735908344f",
   "metadata": {},
   "outputs": [],
   "source": []
  },
  {
   "cell_type": "code",
   "execution_count": null,
   "id": "4dc7b93f-32e1-4524-bca0-9971979858c9",
   "metadata": {},
   "outputs": [],
   "source": []
  }
 ],
 "metadata": {
  "kernelspec": {
   "display_name": "Python 3 (ipykernel)",
   "language": "python",
   "name": "python3"
  },
  "language_info": {
   "codemirror_mode": {
    "name": "ipython",
    "version": 3
   },
   "file_extension": ".py",
   "mimetype": "text/x-python",
   "name": "python",
   "nbconvert_exporter": "python",
   "pygments_lexer": "ipython3",
   "version": "3.9.7"
  }
 },
 "nbformat": 4,
 "nbformat_minor": 5
}
