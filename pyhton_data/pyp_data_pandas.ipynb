{
 "cells": [
  {
   "cell_type": "markdown",
   "id": "37107e8b-a94f-49d3-af0c-864bd51a7d5e",
   "metadata": {},
   "source": [
    "#### **4.Pandas基础**\n",
    "##### **4.1 python数据结构--认识Series**"
   ]
  },
  {
   "cell_type": "code",
   "execution_count": 1,
   "id": "0011da75-687f-4c7c-bccd-ae18088f5cde",
   "metadata": {},
   "outputs": [],
   "source": [
    "import pandas as pd"
   ]
  },
  {
   "cell_type": "code",
   "execution_count": 2,
   "id": "9d386378-471f-4a19-8afa-7a8eed8c4eee",
   "metadata": {},
   "outputs": [
    {
     "data": {
      "text/plain": [
       "0    1\n",
       "1    2\n",
       "2    3\n",
       "3    4\n",
       "dtype: int64"
      ]
     },
     "execution_count": 2,
     "metadata": {},
     "output_type": "execute_result"
    }
   ],
   "source": [
    "s = pd.Series([1,2,3,4])\n",
    "s"
   ]
  },
  {
   "cell_type": "code",
   "execution_count": 3,
   "id": "a76c5690-ae80-4dfb-a488-90f59a8489f6",
   "metadata": {},
   "outputs": [
    {
     "data": {
      "text/plain": [
       "a    1\n",
       "b    2\n",
       "c    3\n",
       "d    4\n",
       "dtype: int64"
      ]
     },
     "execution_count": 3,
     "metadata": {},
     "output_type": "execute_result"
    }
   ],
   "source": [
    "s = pd.Series([1,2,3,4], index = list('abcd'))\n",
    "s"
   ]
  },
  {
   "cell_type": "code",
   "execution_count": 4,
   "id": "5393a625-0cfd-483e-b833-0e571e48be60",
   "metadata": {},
   "outputs": [
    {
     "data": {
      "text/plain": [
       "array([1, 2, 3, 4], dtype=int64)"
      ]
     },
     "execution_count": 4,
     "metadata": {},
     "output_type": "execute_result"
    }
   ],
   "source": [
    "s.values"
   ]
  },
  {
   "cell_type": "code",
   "execution_count": 5,
   "id": "8d8bb455-4038-4b39-940b-6210bfd5838b",
   "metadata": {},
   "outputs": [
    {
     "data": {
      "text/plain": [
       "[1, 2]"
      ]
     },
     "execution_count": 5,
     "metadata": {},
     "output_type": "execute_result"
    }
   ],
   "source": [
    "[s['a'], s['b']]"
   ]
  },
  {
   "cell_type": "code",
   "execution_count": 6,
   "id": "73a7e7be-b517-4ce4-b1d7-304c08b02b9b",
   "metadata": {},
   "outputs": [
    {
     "data": {
      "text/plain": [
       "a    1\n",
       "b    2\n",
       "c    3\n",
       "dtype: int64"
      ]
     },
     "execution_count": 6,
     "metadata": {},
     "output_type": "execute_result"
    }
   ],
   "source": [
    "s[['a', 'b', 'c']]"
   ]
  },
  {
   "cell_type": "code",
   "execution_count": 7,
   "id": "f22479e6-5ca9-404e-b6a1-3e8155c4dad8",
   "metadata": {},
   "outputs": [
    {
     "data": {
      "text/plain": [
       "a    False\n",
       "b    False\n",
       "c     True\n",
       "d     True\n",
       "dtype: bool"
      ]
     },
     "execution_count": 7,
     "metadata": {},
     "output_type": "execute_result"
    }
   ],
   "source": [
    "s > 2"
   ]
  },
  {
   "cell_type": "code",
   "execution_count": 8,
   "id": "d3763a14-0a0c-488d-852d-2deb23b80d3e",
   "metadata": {},
   "outputs": [
    {
     "data": {
      "text/plain": [
       "c    3\n",
       "d    4\n",
       "dtype: int64"
      ]
     },
     "execution_count": 8,
     "metadata": {},
     "output_type": "execute_result"
    }
   ],
   "source": [
    "s[s>2]"
   ]
  },
  {
   "cell_type": "code",
   "execution_count": 9,
   "id": "6fb835aa-3650-4403-aaff-40dfa0ec0a98",
   "metadata": {},
   "outputs": [
    {
     "data": {
      "text/plain": [
       "2.5"
      ]
     },
     "execution_count": 9,
     "metadata": {},
     "output_type": "execute_result"
    }
   ],
   "source": [
    "import numpy as np\n",
    "np.mean(s)"
   ]
  },
  {
   "cell_type": "code",
   "execution_count": 10,
   "id": "f88c30b1-979e-40aa-add1-15ff0b5f4b8a",
   "metadata": {},
   "outputs": [
    {
     "data": {
      "text/plain": [
       "10"
      ]
     },
     "execution_count": 10,
     "metadata": {},
     "output_type": "execute_result"
    }
   ],
   "source": [
    "s.sum()"
   ]
  },
  {
   "cell_type": "code",
   "execution_count": 11,
   "id": "fcd381f7-fc09-42cd-9033-4627b3aecd50",
   "metadata": {},
   "outputs": [
    {
     "data": {
      "text/plain": [
       "[True, False]"
      ]
     },
     "execution_count": 11,
     "metadata": {},
     "output_type": "execute_result"
    }
   ],
   "source": [
    "['a' in s, 'e' in s]"
   ]
  },
  {
   "cell_type": "code",
   "execution_count": 12,
   "id": "8a9b8dde-c6a5-4ef1-85e3-85839039e8cc",
   "metadata": {},
   "outputs": [
    {
     "data": {
      "text/plain": [
       "[False]"
      ]
     },
     "execution_count": 12,
     "metadata": {},
     "output_type": "execute_result"
    }
   ],
   "source": [
    "['e' in s.index]"
   ]
  },
  {
   "cell_type": "code",
   "execution_count": 13,
   "id": "50b1782d-7aa9-4c33-b1cd-8b934842b1ef",
   "metadata": {},
   "outputs": [
    {
     "data": {
      "text/plain": [
       "a    1.0\n",
       "b    NaN\n",
       "c    3.0\n",
       "d    4.0\n",
       "dtype: float64"
      ]
     },
     "execution_count": 13,
     "metadata": {},
     "output_type": "execute_result"
    }
   ],
   "source": [
    "s['b'] = np.nan\n",
    "s"
   ]
  },
  {
   "cell_type": "code",
   "execution_count": 14,
   "id": "3e88bc98-01f4-4901-8d05-b93c08a26f44",
   "metadata": {},
   "outputs": [
    {
     "data": {
      "text/plain": [
       "8.0"
      ]
     },
     "execution_count": 14,
     "metadata": {},
     "output_type": "execute_result"
    }
   ],
   "source": [
    "s.mean()\n",
    "s.sum()"
   ]
  },
  {
   "cell_type": "code",
   "execution_count": 15,
   "id": "b2288a8f-29db-4fff-9e19-921ae7b51edc",
   "metadata": {},
   "outputs": [
    {
     "data": {
      "text/plain": [
       "a    5\n",
       "f    6\n",
       "c    7\n",
       "dtype: int64"
      ]
     },
     "execution_count": 15,
     "metadata": {},
     "output_type": "execute_result"
    }
   ],
   "source": [
    "s1 = pd.Series([5,6,7], index = ['a' , 'f', 'c'])\n",
    "s1"
   ]
  },
  {
   "cell_type": "code",
   "execution_count": 16,
   "id": "60672537-6163-4400-9709-617743c32e7b",
   "metadata": {},
   "outputs": [
    {
     "data": {
      "text/plain": [
       "a     6.0\n",
       "b     NaN\n",
       "c    10.0\n",
       "d     NaN\n",
       "f     NaN\n",
       "dtype: float64"
      ]
     },
     "execution_count": 16,
     "metadata": {},
     "output_type": "execute_result"
    }
   ],
   "source": [
    "s + s1"
   ]
  },
  {
   "cell_type": "markdown",
   "id": "6c844517-9fd2-4908-bd6c-2ba0e865d09a",
   "metadata": {},
   "source": [
    "##### **4.2 python数据结构--认识DataFrame**\n",
    "+ DataFrame表示一个长方形表格，并包含排好序的列，每一列可以是不同的数值类型(数字,字符串,布尔值)。DataFrame有行索引和列索引，可以看作是分享所有索引的有Series组成的字典。数据是保存在一维以上的区块里的"
   ]
  },
  {
   "cell_type": "code",
   "execution_count": 17,
   "id": "5c2c9825-9c46-4493-bf14-3db615990d56",
   "metadata": {},
   "outputs": [
    {
     "data": {
      "text/html": [
       "<div>\n",
       "<style scoped>\n",
       "    .dataframe tbody tr th:only-of-type {\n",
       "        vertical-align: middle;\n",
       "    }\n",
       "\n",
       "    .dataframe tbody tr th {\n",
       "        vertical-align: top;\n",
       "    }\n",
       "\n",
       "    .dataframe thead th {\n",
       "        text-align: right;\n",
       "    }\n",
       "</style>\n",
       "<table border=\"1\" class=\"dataframe\">\n",
       "  <thead>\n",
       "    <tr style=\"text-align: right;\">\n",
       "      <th></th>\n",
       "      <th>a</th>\n",
       "      <th>b</th>\n",
       "      <th>c</th>\n",
       "    </tr>\n",
       "  </thead>\n",
       "  <tbody>\n",
       "    <tr>\n",
       "      <th>one</th>\n",
       "      <td>1</td>\n",
       "      <td>r</td>\n",
       "      <td>1</td>\n",
       "    </tr>\n",
       "    <tr>\n",
       "      <th>two</th>\n",
       "      <td>2</td>\n",
       "      <td>f</td>\n",
       "      <td>1</td>\n",
       "    </tr>\n",
       "    <tr>\n",
       "      <th>three</th>\n",
       "      <td>3</td>\n",
       "      <td>t</td>\n",
       "      <td>1</td>\n",
       "    </tr>\n",
       "    <tr>\n",
       "      <th>four</th>\n",
       "      <td>4</td>\n",
       "      <td>y</td>\n",
       "      <td>1</td>\n",
       "    </tr>\n",
       "  </tbody>\n",
       "</table>\n",
       "</div>"
      ],
      "text/plain": [
       "       a  b  c\n",
       "one    1  r  1\n",
       "two    2  f  1\n",
       "three  3  t  1\n",
       "four   4  y  1"
      ]
     },
     "execution_count": 17,
     "metadata": {},
     "output_type": "execute_result"
    }
   ],
   "source": [
    "data = pd.DataFrame(\n",
    "    {\n",
    "    'a': [1,2,3,4],\n",
    "    'b': list('rfty'),\n",
    "    'c': 1\n",
    "    },\n",
    "    index = ['one', 'two', 'three', 'four']\n",
    ")\n",
    "data"
   ]
  },
  {
   "cell_type": "code",
   "execution_count": 18,
   "id": "ad0add07-18fa-4ca4-a7d3-3bb3bb3e91d4",
   "metadata": {},
   "outputs": [
    {
     "data": {
      "text/plain": [
       "Index(['one', 'two', 'three', 'four'], dtype='object')"
      ]
     },
     "execution_count": 18,
     "metadata": {},
     "output_type": "execute_result"
    }
   ],
   "source": [
    "# 行索引\n",
    "data.index"
   ]
  },
  {
   "cell_type": "code",
   "execution_count": 19,
   "id": "7c8e29a8-1816-4bcd-ba40-63ae136fc9f3",
   "metadata": {},
   "outputs": [
    {
     "data": {
      "text/plain": [
       "Index(['a', 'b', 'c'], dtype='object')"
      ]
     },
     "execution_count": 19,
     "metadata": {},
     "output_type": "execute_result"
    }
   ],
   "source": [
    "# 列索引\n",
    "data.columns"
   ]
  },
  {
   "cell_type": "code",
   "execution_count": 20,
   "id": "0df890b8-d693-467f-b50b-865f42e6fde9",
   "metadata": {},
   "outputs": [
    {
     "data": {
      "text/plain": [
       "array([[1, 'r', 1],\n",
       "       [2, 'f', 1],\n",
       "       [3, 't', 1],\n",
       "       [4, 'y', 1]], dtype=object)"
      ]
     },
     "execution_count": 20,
     "metadata": {},
     "output_type": "execute_result"
    }
   ],
   "source": [
    "data.values"
   ]
  },
  {
   "cell_type": "code",
   "execution_count": 21,
   "id": "e2202a52-c1e7-43b1-9e0b-957cfa3acbff",
   "metadata": {},
   "outputs": [
    {
     "data": {
      "text/html": [
       "<div>\n",
       "<style scoped>\n",
       "    .dataframe tbody tr th:only-of-type {\n",
       "        vertical-align: middle;\n",
       "    }\n",
       "\n",
       "    .dataframe tbody tr th {\n",
       "        vertical-align: top;\n",
       "    }\n",
       "\n",
       "    .dataframe thead th {\n",
       "        text-align: right;\n",
       "    }\n",
       "</style>\n",
       "<table border=\"1\" class=\"dataframe\">\n",
       "  <thead>\n",
       "    <tr style=\"text-align: right;\">\n",
       "      <th></th>\n",
       "      <th>a</th>\n",
       "      <th>b</th>\n",
       "      <th>c</th>\n",
       "      <th>d</th>\n",
       "    </tr>\n",
       "  </thead>\n",
       "  <tbody>\n",
       "    <tr>\n",
       "      <th>one</th>\n",
       "      <td>-0.147031</td>\n",
       "      <td>-1.185039</td>\n",
       "      <td>-0.774935</td>\n",
       "      <td>0.308595</td>\n",
       "    </tr>\n",
       "    <tr>\n",
       "      <th>two</th>\n",
       "      <td>-1.438597</td>\n",
       "      <td>-1.014419</td>\n",
       "      <td>0.489477</td>\n",
       "      <td>0.649704</td>\n",
       "    </tr>\n",
       "    <tr>\n",
       "      <th>three</th>\n",
       "      <td>-0.891525</td>\n",
       "      <td>0.069491</td>\n",
       "      <td>-1.422788</td>\n",
       "      <td>0.033784</td>\n",
       "    </tr>\n",
       "    <tr>\n",
       "      <th>four</th>\n",
       "      <td>-0.363906</td>\n",
       "      <td>0.388449</td>\n",
       "      <td>-0.324009</td>\n",
       "      <td>0.971932</td>\n",
       "    </tr>\n",
       "    <tr>\n",
       "      <th>five</th>\n",
       "      <td>-1.474149</td>\n",
       "      <td>0.486498</td>\n",
       "      <td>-0.221135</td>\n",
       "      <td>1.078785</td>\n",
       "    </tr>\n",
       "    <tr>\n",
       "      <th>six</th>\n",
       "      <td>-0.067446</td>\n",
       "      <td>-0.482200</td>\n",
       "      <td>-0.717862</td>\n",
       "      <td>1.026219</td>\n",
       "    </tr>\n",
       "  </tbody>\n",
       "</table>\n",
       "</div>"
      ],
      "text/plain": [
       "              a         b         c         d\n",
       "one   -0.147031 -1.185039 -0.774935  0.308595\n",
       "two   -1.438597 -1.014419  0.489477  0.649704\n",
       "three -0.891525  0.069491 -1.422788  0.033784\n",
       "four  -0.363906  0.388449 -0.324009  0.971932\n",
       "five  -1.474149  0.486498 -0.221135  1.078785\n",
       "six   -0.067446 -0.482200 -0.717862  1.026219"
      ]
     },
     "execution_count": 21,
     "metadata": {},
     "output_type": "execute_result"
    }
   ],
   "source": [
    "index = ['one', 'two', 'three', 'four', 'five', 'six']\n",
    "df = pd.DataFrame(np.random.randn(6,4), index = index, columns = list('abcd')) \n",
    "df"
   ]
  },
  {
   "cell_type": "markdown",
   "id": "ec610cbc-4059-4335-b830-3fa8b2a0b7ac",
   "metadata": {},
   "source": [
    "+ **取出df中的值**"
   ]
  },
  {
   "cell_type": "code",
   "execution_count": 22,
   "id": "6643eeaf-7fe8-414a-845c-fb893f7e8214",
   "metadata": {},
   "outputs": [
    {
     "data": {
      "text/plain": [
       "one     -0.147031\n",
       "two     -1.438597\n",
       "three   -0.891525\n",
       "four    -0.363906\n",
       "five    -1.474149\n",
       "six     -0.067446\n",
       "Name: a, dtype: float64"
      ]
     },
     "execution_count": 22,
     "metadata": {},
     "output_type": "execute_result"
    }
   ],
   "source": [
    "df['a']"
   ]
  },
  {
   "cell_type": "code",
   "execution_count": 23,
   "id": "6fc79988-e95d-4a0d-8fbc-727f7b3ca203",
   "metadata": {},
   "outputs": [
    {
     "data": {
      "text/plain": [
       "-0.891525012707464"
      ]
     },
     "execution_count": 23,
     "metadata": {},
     "output_type": "execute_result"
    }
   ],
   "source": [
    "df['a']['three']"
   ]
  },
  {
   "cell_type": "code",
   "execution_count": 24,
   "id": "800f8721-31f2-4fd6-9554-77addde7bd04",
   "metadata": {},
   "outputs": [
    {
     "data": {
      "text/plain": [
       "one     -0.147031\n",
       "two     -1.438597\n",
       "three   -0.891525\n",
       "four    -0.363906\n",
       "five    -1.474149\n",
       "six     -0.067446\n",
       "Name: a, dtype: float64"
      ]
     },
     "execution_count": 24,
     "metadata": {},
     "output_type": "execute_result"
    }
   ],
   "source": [
    "df.a"
   ]
  },
  {
   "cell_type": "code",
   "execution_count": 25,
   "id": "f658c8ce-c6ed-4c7c-9421-c98857dd357f",
   "metadata": {},
   "outputs": [
    {
     "data": {
      "text/plain": [
       "-0.891525012707464"
      ]
     },
     "execution_count": 25,
     "metadata": {},
     "output_type": "execute_result"
    }
   ],
   "source": [
    "df.a.three"
   ]
  },
  {
   "cell_type": "code",
   "execution_count": 26,
   "id": "bf0977be-afeb-4711-bd5b-34f5787ed440",
   "metadata": {},
   "outputs": [
    {
     "data": {
      "text/plain": [
       "pandas.core.series.Series"
      ]
     },
     "execution_count": 26,
     "metadata": {},
     "output_type": "execute_result"
    }
   ],
   "source": [
    "type(df.a)"
   ]
  },
  {
   "cell_type": "markdown",
   "id": "6e7225d7-f435-441c-a5dd-1fc87388afed",
   "metadata": {},
   "source": [
    "+ **双中括号取多列**"
   ]
  },
  {
   "cell_type": "code",
   "execution_count": 27,
   "id": "1e51b51c-30cd-46a3-9278-bbb46004b08c",
   "metadata": {},
   "outputs": [
    {
     "data": {
      "text/html": [
       "<div>\n",
       "<style scoped>\n",
       "    .dataframe tbody tr th:only-of-type {\n",
       "        vertical-align: middle;\n",
       "    }\n",
       "\n",
       "    .dataframe tbody tr th {\n",
       "        vertical-align: top;\n",
       "    }\n",
       "\n",
       "    .dataframe thead th {\n",
       "        text-align: right;\n",
       "    }\n",
       "</style>\n",
       "<table border=\"1\" class=\"dataframe\">\n",
       "  <thead>\n",
       "    <tr style=\"text-align: right;\">\n",
       "      <th></th>\n",
       "      <th>a</th>\n",
       "      <th>b</th>\n",
       "    </tr>\n",
       "  </thead>\n",
       "  <tbody>\n",
       "    <tr>\n",
       "      <th>one</th>\n",
       "      <td>-0.147031</td>\n",
       "      <td>-1.185039</td>\n",
       "    </tr>\n",
       "    <tr>\n",
       "      <th>two</th>\n",
       "      <td>-1.438597</td>\n",
       "      <td>-1.014419</td>\n",
       "    </tr>\n",
       "    <tr>\n",
       "      <th>three</th>\n",
       "      <td>-0.891525</td>\n",
       "      <td>0.069491</td>\n",
       "    </tr>\n",
       "    <tr>\n",
       "      <th>four</th>\n",
       "      <td>-0.363906</td>\n",
       "      <td>0.388449</td>\n",
       "    </tr>\n",
       "    <tr>\n",
       "      <th>five</th>\n",
       "      <td>-1.474149</td>\n",
       "      <td>0.486498</td>\n",
       "    </tr>\n",
       "    <tr>\n",
       "      <th>six</th>\n",
       "      <td>-0.067446</td>\n",
       "      <td>-0.482200</td>\n",
       "    </tr>\n",
       "  </tbody>\n",
       "</table>\n",
       "</div>"
      ],
      "text/plain": [
       "              a         b\n",
       "one   -0.147031 -1.185039\n",
       "two   -1.438597 -1.014419\n",
       "three -0.891525  0.069491\n",
       "four  -0.363906  0.388449\n",
       "five  -1.474149  0.486498\n",
       "six   -0.067446 -0.482200"
      ]
     },
     "execution_count": 27,
     "metadata": {},
     "output_type": "execute_result"
    }
   ],
   "source": [
    "df[['a', 'b']]"
   ]
  },
  {
   "cell_type": "markdown",
   "id": "275e8450-4707-4c55-8dd1-d539293eb0bc",
   "metadata": {},
   "source": [
    "+ **选取多行**"
   ]
  },
  {
   "cell_type": "code",
   "execution_count": 28,
   "id": "563aa6e3-9972-4f00-b3a6-b1d1b458c781",
   "metadata": {},
   "outputs": [
    {
     "data": {
      "text/html": [
       "<div>\n",
       "<style scoped>\n",
       "    .dataframe tbody tr th:only-of-type {\n",
       "        vertical-align: middle;\n",
       "    }\n",
       "\n",
       "    .dataframe tbody tr th {\n",
       "        vertical-align: top;\n",
       "    }\n",
       "\n",
       "    .dataframe thead th {\n",
       "        text-align: right;\n",
       "    }\n",
       "</style>\n",
       "<table border=\"1\" class=\"dataframe\">\n",
       "  <thead>\n",
       "    <tr style=\"text-align: right;\">\n",
       "      <th></th>\n",
       "      <th>a</th>\n",
       "      <th>b</th>\n",
       "      <th>c</th>\n",
       "      <th>d</th>\n",
       "    </tr>\n",
       "  </thead>\n",
       "  <tbody>\n",
       "    <tr>\n",
       "      <th>one</th>\n",
       "      <td>-0.147031</td>\n",
       "      <td>-1.185039</td>\n",
       "      <td>-0.774935</td>\n",
       "      <td>0.308595</td>\n",
       "    </tr>\n",
       "    <tr>\n",
       "      <th>two</th>\n",
       "      <td>-1.438597</td>\n",
       "      <td>-1.014419</td>\n",
       "      <td>0.489477</td>\n",
       "      <td>0.649704</td>\n",
       "    </tr>\n",
       "  </tbody>\n",
       "</table>\n",
       "</div>"
      ],
      "text/plain": [
       "            a         b         c         d\n",
       "one -0.147031 -1.185039 -0.774935  0.308595\n",
       "two -1.438597 -1.014419  0.489477  0.649704"
      ]
     },
     "execution_count": 28,
     "metadata": {},
     "output_type": "execute_result"
    }
   ],
   "source": [
    "df[0:2]"
   ]
  },
  {
   "cell_type": "markdown",
   "id": "cb8be41b-5a99-4194-ada1-225a882c0faa",
   "metadata": {},
   "source": [
    "+ **loc根据索引取多行值**"
   ]
  },
  {
   "cell_type": "code",
   "execution_count": 29,
   "id": "53df761f-5933-4b93-af8b-d7af9d5caa6e",
   "metadata": {},
   "outputs": [
    {
     "data": {
      "text/plain": [
       "a   -0.147031\n",
       "b   -1.185039\n",
       "c   -0.774935\n",
       "d    0.308595\n",
       "Name: one, dtype: float64"
      ]
     },
     "execution_count": 29,
     "metadata": {},
     "output_type": "execute_result"
    }
   ],
   "source": [
    "df.loc['one']"
   ]
  },
  {
   "cell_type": "code",
   "execution_count": 30,
   "id": "7845ae8a-eecf-42c3-b9fe-aac29526b162",
   "metadata": {},
   "outputs": [
    {
     "data": {
      "text/html": [
       "<div>\n",
       "<style scoped>\n",
       "    .dataframe tbody tr th:only-of-type {\n",
       "        vertical-align: middle;\n",
       "    }\n",
       "\n",
       "    .dataframe tbody tr th {\n",
       "        vertical-align: top;\n",
       "    }\n",
       "\n",
       "    .dataframe thead th {\n",
       "        text-align: right;\n",
       "    }\n",
       "</style>\n",
       "<table border=\"1\" class=\"dataframe\">\n",
       "  <thead>\n",
       "    <tr style=\"text-align: right;\">\n",
       "      <th></th>\n",
       "      <th>a</th>\n",
       "      <th>b</th>\n",
       "      <th>c</th>\n",
       "      <th>d</th>\n",
       "    </tr>\n",
       "  </thead>\n",
       "  <tbody>\n",
       "    <tr>\n",
       "      <th>one</th>\n",
       "      <td>-0.147031</td>\n",
       "      <td>-1.185039</td>\n",
       "      <td>-0.774935</td>\n",
       "      <td>0.308595</td>\n",
       "    </tr>\n",
       "    <tr>\n",
       "      <th>three</th>\n",
       "      <td>-0.891525</td>\n",
       "      <td>0.069491</td>\n",
       "      <td>-1.422788</td>\n",
       "      <td>0.033784</td>\n",
       "    </tr>\n",
       "  </tbody>\n",
       "</table>\n",
       "</div>"
      ],
      "text/plain": [
       "              a         b         c         d\n",
       "one   -0.147031 -1.185039 -0.774935  0.308595\n",
       "three -0.891525  0.069491 -1.422788  0.033784"
      ]
     },
     "execution_count": 30,
     "metadata": {},
     "output_type": "execute_result"
    }
   ],
   "source": [
    "df.loc[['one', 'three']]"
   ]
  },
  {
   "cell_type": "code",
   "execution_count": 31,
   "id": "5541a3ba-41dd-4bbb-acd7-c1b2e39b8d6f",
   "metadata": {},
   "outputs": [
    {
     "data": {
      "text/html": [
       "<div>\n",
       "<style scoped>\n",
       "    .dataframe tbody tr th:only-of-type {\n",
       "        vertical-align: middle;\n",
       "    }\n",
       "\n",
       "    .dataframe tbody tr th {\n",
       "        vertical-align: top;\n",
       "    }\n",
       "\n",
       "    .dataframe thead th {\n",
       "        text-align: right;\n",
       "    }\n",
       "</style>\n",
       "<table border=\"1\" class=\"dataframe\">\n",
       "  <thead>\n",
       "    <tr style=\"text-align: right;\">\n",
       "      <th></th>\n",
       "      <th>a</th>\n",
       "      <th>b</th>\n",
       "      <th>c</th>\n",
       "      <th>d</th>\n",
       "    </tr>\n",
       "  </thead>\n",
       "  <tbody>\n",
       "    <tr>\n",
       "      <th>one</th>\n",
       "      <td>-0.147031</td>\n",
       "      <td>-1.185039</td>\n",
       "      <td>-0.774935</td>\n",
       "      <td>0.308595</td>\n",
       "    </tr>\n",
       "    <tr>\n",
       "      <th>two</th>\n",
       "      <td>-1.438597</td>\n",
       "      <td>-1.014419</td>\n",
       "      <td>0.489477</td>\n",
       "      <td>0.649704</td>\n",
       "    </tr>\n",
       "    <tr>\n",
       "      <th>three</th>\n",
       "      <td>-0.891525</td>\n",
       "      <td>0.069491</td>\n",
       "      <td>-1.422788</td>\n",
       "      <td>0.033784</td>\n",
       "    </tr>\n",
       "  </tbody>\n",
       "</table>\n",
       "</div>"
      ],
      "text/plain": [
       "              a         b         c         d\n",
       "one   -0.147031 -1.185039 -0.774935  0.308595\n",
       "two   -1.438597 -1.014419  0.489477  0.649704\n",
       "three -0.891525  0.069491 -1.422788  0.033784"
      ]
     },
     "execution_count": 31,
     "metadata": {},
     "output_type": "execute_result"
    }
   ],
   "source": [
    "# 前包括 + 后包括\n",
    "df.loc['one':'three']"
   ]
  },
  {
   "cell_type": "code",
   "execution_count": 32,
   "id": "2e2ff896-5184-4d6a-afe0-654387cb4109",
   "metadata": {},
   "outputs": [
    {
     "data": {
      "text/html": [
       "<div>\n",
       "<style scoped>\n",
       "    .dataframe tbody tr th:only-of-type {\n",
       "        vertical-align: middle;\n",
       "    }\n",
       "\n",
       "    .dataframe tbody tr th {\n",
       "        vertical-align: top;\n",
       "    }\n",
       "\n",
       "    .dataframe thead th {\n",
       "        text-align: right;\n",
       "    }\n",
       "</style>\n",
       "<table border=\"1\" class=\"dataframe\">\n",
       "  <thead>\n",
       "    <tr style=\"text-align: right;\">\n",
       "      <th></th>\n",
       "      <th>c</th>\n",
       "      <th>d</th>\n",
       "    </tr>\n",
       "  </thead>\n",
       "  <tbody>\n",
       "    <tr>\n",
       "      <th>one</th>\n",
       "      <td>-0.774935</td>\n",
       "      <td>0.308595</td>\n",
       "    </tr>\n",
       "    <tr>\n",
       "      <th>two</th>\n",
       "      <td>0.489477</td>\n",
       "      <td>0.649704</td>\n",
       "    </tr>\n",
       "    <tr>\n",
       "      <th>three</th>\n",
       "      <td>-1.422788</td>\n",
       "      <td>0.033784</td>\n",
       "    </tr>\n",
       "  </tbody>\n",
       "</table>\n",
       "</div>"
      ],
      "text/plain": [
       "              c         d\n",
       "one   -0.774935  0.308595\n",
       "two    0.489477  0.649704\n",
       "three -1.422788  0.033784"
      ]
     },
     "execution_count": 32,
     "metadata": {},
     "output_type": "execute_result"
    }
   ],
   "source": [
    "df.loc['one':'three', 'c':]"
   ]
  },
  {
   "cell_type": "code",
   "execution_count": 33,
   "id": "373a7762-f7f1-451a-ab57-4f58e8d4dbd7",
   "metadata": {},
   "outputs": [
    {
     "data": {
      "text/plain": [
       "one     -0.774935\n",
       "two      0.489477\n",
       "three   -1.422788\n",
       "Name: c, dtype: float64"
      ]
     },
     "execution_count": 33,
     "metadata": {},
     "output_type": "execute_result"
    }
   ],
   "source": [
    "df.loc['one':'three', 'c']"
   ]
  },
  {
   "cell_type": "markdown",
   "id": "f100e68a-899c-49e6-8995-8260864f3e4b",
   "metadata": {},
   "source": [
    "+ **iloc根据位置取多行值**(前包括后不包括)"
   ]
  },
  {
   "cell_type": "code",
   "execution_count": 34,
   "id": "10d83000-9879-4f80-942a-4822277d20f6",
   "metadata": {},
   "outputs": [
    {
     "data": {
      "text/html": [
       "<div>\n",
       "<style scoped>\n",
       "    .dataframe tbody tr th:only-of-type {\n",
       "        vertical-align: middle;\n",
       "    }\n",
       "\n",
       "    .dataframe tbody tr th {\n",
       "        vertical-align: top;\n",
       "    }\n",
       "\n",
       "    .dataframe thead th {\n",
       "        text-align: right;\n",
       "    }\n",
       "</style>\n",
       "<table border=\"1\" class=\"dataframe\">\n",
       "  <thead>\n",
       "    <tr style=\"text-align: right;\">\n",
       "      <th></th>\n",
       "      <th>a</th>\n",
       "      <th>b</th>\n",
       "      <th>c</th>\n",
       "      <th>d</th>\n",
       "    </tr>\n",
       "  </thead>\n",
       "  <tbody>\n",
       "    <tr>\n",
       "      <th>two</th>\n",
       "      <td>-1.438597</td>\n",
       "      <td>-1.014419</td>\n",
       "      <td>0.489477</td>\n",
       "      <td>0.649704</td>\n",
       "    </tr>\n",
       "    <tr>\n",
       "      <th>three</th>\n",
       "      <td>-0.891525</td>\n",
       "      <td>0.069491</td>\n",
       "      <td>-1.422788</td>\n",
       "      <td>0.033784</td>\n",
       "    </tr>\n",
       "  </tbody>\n",
       "</table>\n",
       "</div>"
      ],
      "text/plain": [
       "              a         b         c         d\n",
       "two   -1.438597 -1.014419  0.489477  0.649704\n",
       "three -0.891525  0.069491 -1.422788  0.033784"
      ]
     },
     "execution_count": 34,
     "metadata": {},
     "output_type": "execute_result"
    }
   ],
   "source": [
    "df.iloc[1:3]"
   ]
  },
  {
   "cell_type": "code",
   "execution_count": 35,
   "id": "fa39f059-96d3-426d-a9bd-8e0e80e38ada",
   "metadata": {},
   "outputs": [
    {
     "data": {
      "text/html": [
       "<div>\n",
       "<style scoped>\n",
       "    .dataframe tbody tr th:only-of-type {\n",
       "        vertical-align: middle;\n",
       "    }\n",
       "\n",
       "    .dataframe tbody tr th {\n",
       "        vertical-align: top;\n",
       "    }\n",
       "\n",
       "    .dataframe thead th {\n",
       "        text-align: right;\n",
       "    }\n",
       "</style>\n",
       "<table border=\"1\" class=\"dataframe\">\n",
       "  <thead>\n",
       "    <tr style=\"text-align: right;\">\n",
       "      <th></th>\n",
       "      <th>b</th>\n",
       "      <th>c</th>\n",
       "      <th>d</th>\n",
       "    </tr>\n",
       "  </thead>\n",
       "  <tbody>\n",
       "    <tr>\n",
       "      <th>two</th>\n",
       "      <td>-1.014419</td>\n",
       "      <td>0.489477</td>\n",
       "      <td>0.649704</td>\n",
       "    </tr>\n",
       "    <tr>\n",
       "      <th>three</th>\n",
       "      <td>0.069491</td>\n",
       "      <td>-1.422788</td>\n",
       "      <td>0.033784</td>\n",
       "    </tr>\n",
       "  </tbody>\n",
       "</table>\n",
       "</div>"
      ],
      "text/plain": [
       "              b         c         d\n",
       "two   -1.014419  0.489477  0.649704\n",
       "three  0.069491 -1.422788  0.033784"
      ]
     },
     "execution_count": 35,
     "metadata": {},
     "output_type": "execute_result"
    }
   ],
   "source": [
    "df.iloc[1:3, 1:]"
   ]
  },
  {
   "cell_type": "markdown",
   "id": "776b21fc-30e7-4d39-8887-d8d288448d83",
   "metadata": {},
   "source": [
    "##### **4.3 DataFrame添加删除数据以及运算特点**"
   ]
  },
  {
   "cell_type": "code",
   "execution_count": 36,
   "id": "b82a4edf-7867-4c7e-9737-a9ff1b83b0aa",
   "metadata": {},
   "outputs": [
    {
     "data": {
      "text/html": [
       "<div>\n",
       "<style scoped>\n",
       "    .dataframe tbody tr th:only-of-type {\n",
       "        vertical-align: middle;\n",
       "    }\n",
       "\n",
       "    .dataframe tbody tr th {\n",
       "        vertical-align: top;\n",
       "    }\n",
       "\n",
       "    .dataframe thead th {\n",
       "        text-align: right;\n",
       "    }\n",
       "</style>\n",
       "<table border=\"1\" class=\"dataframe\">\n",
       "  <thead>\n",
       "    <tr style=\"text-align: right;\">\n",
       "      <th></th>\n",
       "      <th>a</th>\n",
       "      <th>b</th>\n",
       "      <th>c</th>\n",
       "      <th>d</th>\n",
       "    </tr>\n",
       "  </thead>\n",
       "  <tbody>\n",
       "    <tr>\n",
       "      <th>one</th>\n",
       "      <td>1.223521</td>\n",
       "      <td>-0.727641</td>\n",
       "      <td>1.632407</td>\n",
       "      <td>0.710552</td>\n",
       "    </tr>\n",
       "    <tr>\n",
       "      <th>two</th>\n",
       "      <td>0.740826</td>\n",
       "      <td>-0.286074</td>\n",
       "      <td>-0.293368</td>\n",
       "      <td>1.534549</td>\n",
       "    </tr>\n",
       "    <tr>\n",
       "      <th>three</th>\n",
       "      <td>0.916008</td>\n",
       "      <td>0.862511</td>\n",
       "      <td>-2.479221</td>\n",
       "      <td>-0.350486</td>\n",
       "    </tr>\n",
       "    <tr>\n",
       "      <th>four</th>\n",
       "      <td>-0.506387</td>\n",
       "      <td>0.895404</td>\n",
       "      <td>-0.591576</td>\n",
       "      <td>0.061043</td>\n",
       "    </tr>\n",
       "    <tr>\n",
       "      <th>five</th>\n",
       "      <td>-1.462403</td>\n",
       "      <td>-0.420341</td>\n",
       "      <td>0.152088</td>\n",
       "      <td>-0.134021</td>\n",
       "    </tr>\n",
       "    <tr>\n",
       "      <th>six</th>\n",
       "      <td>0.697406</td>\n",
       "      <td>0.535282</td>\n",
       "      <td>-0.417625</td>\n",
       "      <td>-0.112981</td>\n",
       "    </tr>\n",
       "    <tr>\n",
       "      <th>seven</th>\n",
       "      <td>-1.223953</td>\n",
       "      <td>0.184059</td>\n",
       "      <td>-0.687621</td>\n",
       "      <td>-0.239499</td>\n",
       "    </tr>\n",
       "  </tbody>\n",
       "</table>\n",
       "</div>"
      ],
      "text/plain": [
       "              a         b         c         d\n",
       "one    1.223521 -0.727641  1.632407  0.710552\n",
       "two    0.740826 -0.286074 -0.293368  1.534549\n",
       "three  0.916008  0.862511 -2.479221 -0.350486\n",
       "four  -0.506387  0.895404 -0.591576  0.061043\n",
       "five  -1.462403 -0.420341  0.152088 -0.134021\n",
       "six    0.697406  0.535282 -0.417625 -0.112981\n",
       "seven -1.223953  0.184059 -0.687621 -0.239499"
      ]
     },
     "execution_count": 36,
     "metadata": {},
     "output_type": "execute_result"
    }
   ],
   "source": [
    "xuhao = ['one', 'two', 'three', 'four', 'five', 'six', 'seven']\n",
    "data = pd.DataFrame(np.random.randn(7,4), index = xuhao, columns = list('abcd')) \n",
    "data"
   ]
  },
  {
   "cell_type": "code",
   "execution_count": 37,
   "id": "78b6ae2b-8010-4f0d-82fe-919278568c84",
   "metadata": {},
   "outputs": [
    {
     "data": {
      "text/html": [
       "<div>\n",
       "<style scoped>\n",
       "    .dataframe tbody tr th:only-of-type {\n",
       "        vertical-align: middle;\n",
       "    }\n",
       "\n",
       "    .dataframe tbody tr th {\n",
       "        vertical-align: top;\n",
       "    }\n",
       "\n",
       "    .dataframe thead th {\n",
       "        text-align: right;\n",
       "    }\n",
       "</style>\n",
       "<table border=\"1\" class=\"dataframe\">\n",
       "  <thead>\n",
       "    <tr style=\"text-align: right;\">\n",
       "      <th></th>\n",
       "      <th>a</th>\n",
       "      <th>b</th>\n",
       "      <th>c</th>\n",
       "      <th>d</th>\n",
       "      <th>e</th>\n",
       "    </tr>\n",
       "  </thead>\n",
       "  <tbody>\n",
       "    <tr>\n",
       "      <th>one</th>\n",
       "      <td>1.223521</td>\n",
       "      <td>-0.727641</td>\n",
       "      <td>1.632407</td>\n",
       "      <td>0.710552</td>\n",
       "      <td>0</td>\n",
       "    </tr>\n",
       "    <tr>\n",
       "      <th>two</th>\n",
       "      <td>0.740826</td>\n",
       "      <td>-0.286074</td>\n",
       "      <td>-0.293368</td>\n",
       "      <td>1.534549</td>\n",
       "      <td>1</td>\n",
       "    </tr>\n",
       "    <tr>\n",
       "      <th>three</th>\n",
       "      <td>0.916008</td>\n",
       "      <td>0.862511</td>\n",
       "      <td>-2.479221</td>\n",
       "      <td>-0.350486</td>\n",
       "      <td>2</td>\n",
       "    </tr>\n",
       "    <tr>\n",
       "      <th>four</th>\n",
       "      <td>-0.506387</td>\n",
       "      <td>0.895404</td>\n",
       "      <td>-0.591576</td>\n",
       "      <td>0.061043</td>\n",
       "      <td>3</td>\n",
       "    </tr>\n",
       "    <tr>\n",
       "      <th>five</th>\n",
       "      <td>-1.462403</td>\n",
       "      <td>-0.420341</td>\n",
       "      <td>0.152088</td>\n",
       "      <td>-0.134021</td>\n",
       "      <td>4</td>\n",
       "    </tr>\n",
       "    <tr>\n",
       "      <th>six</th>\n",
       "      <td>0.697406</td>\n",
       "      <td>0.535282</td>\n",
       "      <td>-0.417625</td>\n",
       "      <td>-0.112981</td>\n",
       "      <td>5</td>\n",
       "    </tr>\n",
       "    <tr>\n",
       "      <th>seven</th>\n",
       "      <td>-1.223953</td>\n",
       "      <td>0.184059</td>\n",
       "      <td>-0.687621</td>\n",
       "      <td>-0.239499</td>\n",
       "      <td>6</td>\n",
       "    </tr>\n",
       "  </tbody>\n",
       "</table>\n",
       "</div>"
      ],
      "text/plain": [
       "              a         b         c         d  e\n",
       "one    1.223521 -0.727641  1.632407  0.710552  0\n",
       "two    0.740826 -0.286074 -0.293368  1.534549  1\n",
       "three  0.916008  0.862511 -2.479221 -0.350486  2\n",
       "four  -0.506387  0.895404 -0.591576  0.061043  3\n",
       "five  -1.462403 -0.420341  0.152088 -0.134021  4\n",
       "six    0.697406  0.535282 -0.417625 -0.112981  5\n",
       "seven -1.223953  0.184059 -0.687621 -0.239499  6"
      ]
     },
     "execution_count": 37,
     "metadata": {},
     "output_type": "execute_result"
    }
   ],
   "source": [
    "data['e'] = np.arange(7)\n",
    "data"
   ]
  },
  {
   "cell_type": "code",
   "execution_count": 38,
   "id": "607fa8fa-fc17-4bed-8a2b-00e5efd4c73d",
   "metadata": {},
   "outputs": [
    {
     "data": {
      "text/html": [
       "<div>\n",
       "<style scoped>\n",
       "    .dataframe tbody tr th:only-of-type {\n",
       "        vertical-align: middle;\n",
       "    }\n",
       "\n",
       "    .dataframe tbody tr th {\n",
       "        vertical-align: top;\n",
       "    }\n",
       "\n",
       "    .dataframe thead th {\n",
       "        text-align: right;\n",
       "    }\n",
       "</style>\n",
       "<table border=\"1\" class=\"dataframe\">\n",
       "  <thead>\n",
       "    <tr style=\"text-align: right;\">\n",
       "      <th></th>\n",
       "      <th>a</th>\n",
       "      <th>b</th>\n",
       "      <th>c</th>\n",
       "      <th>d</th>\n",
       "    </tr>\n",
       "  </thead>\n",
       "  <tbody>\n",
       "    <tr>\n",
       "      <th>one</th>\n",
       "      <td>1.223521</td>\n",
       "      <td>-0.727641</td>\n",
       "      <td>1.632407</td>\n",
       "      <td>0.710552</td>\n",
       "    </tr>\n",
       "    <tr>\n",
       "      <th>two</th>\n",
       "      <td>0.740826</td>\n",
       "      <td>-0.286074</td>\n",
       "      <td>-0.293368</td>\n",
       "      <td>1.534549</td>\n",
       "    </tr>\n",
       "    <tr>\n",
       "      <th>three</th>\n",
       "      <td>0.916008</td>\n",
       "      <td>0.862511</td>\n",
       "      <td>-2.479221</td>\n",
       "      <td>-0.350486</td>\n",
       "    </tr>\n",
       "    <tr>\n",
       "      <th>four</th>\n",
       "      <td>-0.506387</td>\n",
       "      <td>0.895404</td>\n",
       "      <td>-0.591576</td>\n",
       "      <td>0.061043</td>\n",
       "    </tr>\n",
       "    <tr>\n",
       "      <th>five</th>\n",
       "      <td>-1.462403</td>\n",
       "      <td>-0.420341</td>\n",
       "      <td>0.152088</td>\n",
       "      <td>-0.134021</td>\n",
       "    </tr>\n",
       "    <tr>\n",
       "      <th>six</th>\n",
       "      <td>0.697406</td>\n",
       "      <td>0.535282</td>\n",
       "      <td>-0.417625</td>\n",
       "      <td>-0.112981</td>\n",
       "    </tr>\n",
       "    <tr>\n",
       "      <th>seven</th>\n",
       "      <td>-1.223953</td>\n",
       "      <td>0.184059</td>\n",
       "      <td>-0.687621</td>\n",
       "      <td>-0.239499</td>\n",
       "    </tr>\n",
       "  </tbody>\n",
       "</table>\n",
       "</div>"
      ],
      "text/plain": [
       "              a         b         c         d\n",
       "one    1.223521 -0.727641  1.632407  0.710552\n",
       "two    0.740826 -0.286074 -0.293368  1.534549\n",
       "three  0.916008  0.862511 -2.479221 -0.350486\n",
       "four  -0.506387  0.895404 -0.591576  0.061043\n",
       "five  -1.462403 -0.420341  0.152088 -0.134021\n",
       "six    0.697406  0.535282 -0.417625 -0.112981\n",
       "seven -1.223953  0.184059 -0.687621 -0.239499"
      ]
     },
     "execution_count": 38,
     "metadata": {},
     "output_type": "execute_result"
    }
   ],
   "source": [
    "del data['e']\n",
    "data"
   ]
  },
  {
   "cell_type": "markdown",
   "id": "f4b673fc-2a94-4da3-95ca-aecd039e9627",
   "metadata": {},
   "source": [
    "+ **.点语法在增加行和改变列并不通用，只能改变**"
   ]
  },
  {
   "cell_type": "code",
   "execution_count": 39,
   "id": "62ac486b-42ff-4d5b-9313-9613e2ba7725",
   "metadata": {},
   "outputs": [
    {
     "data": {
      "text/html": [
       "<div>\n",
       "<style scoped>\n",
       "    .dataframe tbody tr th:only-of-type {\n",
       "        vertical-align: middle;\n",
       "    }\n",
       "\n",
       "    .dataframe tbody tr th {\n",
       "        vertical-align: top;\n",
       "    }\n",
       "\n",
       "    .dataframe thead th {\n",
       "        text-align: right;\n",
       "    }\n",
       "</style>\n",
       "<table border=\"1\" class=\"dataframe\">\n",
       "  <thead>\n",
       "    <tr style=\"text-align: right;\">\n",
       "      <th></th>\n",
       "      <th>a</th>\n",
       "      <th>b</th>\n",
       "      <th>c</th>\n",
       "      <th>d</th>\n",
       "    </tr>\n",
       "  </thead>\n",
       "  <tbody>\n",
       "    <tr>\n",
       "      <th>one</th>\n",
       "      <td>1.223521</td>\n",
       "      <td>-0.727641</td>\n",
       "      <td>1.632407</td>\n",
       "      <td>0.710552</td>\n",
       "    </tr>\n",
       "    <tr>\n",
       "      <th>two</th>\n",
       "      <td>0.740826</td>\n",
       "      <td>-0.286074</td>\n",
       "      <td>-0.293368</td>\n",
       "      <td>1.534549</td>\n",
       "    </tr>\n",
       "    <tr>\n",
       "      <th>three</th>\n",
       "      <td>0.916008</td>\n",
       "      <td>0.862511</td>\n",
       "      <td>-2.479221</td>\n",
       "      <td>-0.350486</td>\n",
       "    </tr>\n",
       "    <tr>\n",
       "      <th>four</th>\n",
       "      <td>-0.506387</td>\n",
       "      <td>0.895404</td>\n",
       "      <td>-0.591576</td>\n",
       "      <td>0.061043</td>\n",
       "    </tr>\n",
       "    <tr>\n",
       "      <th>five</th>\n",
       "      <td>-1.462403</td>\n",
       "      <td>-0.420341</td>\n",
       "      <td>0.152088</td>\n",
       "      <td>-0.134021</td>\n",
       "    </tr>\n",
       "    <tr>\n",
       "      <th>six</th>\n",
       "      <td>0.697406</td>\n",
       "      <td>0.535282</td>\n",
       "      <td>-0.417625</td>\n",
       "      <td>-0.112981</td>\n",
       "    </tr>\n",
       "    <tr>\n",
       "      <th>seven</th>\n",
       "      <td>-1.223953</td>\n",
       "      <td>0.184059</td>\n",
       "      <td>-0.687621</td>\n",
       "      <td>-0.239499</td>\n",
       "    </tr>\n",
       "  </tbody>\n",
       "</table>\n",
       "</div>"
      ],
      "text/plain": [
       "              a         b         c         d\n",
       "one    1.223521 -0.727641  1.632407  0.710552\n",
       "two    0.740826 -0.286074 -0.293368  1.534549\n",
       "three  0.916008  0.862511 -2.479221 -0.350486\n",
       "four  -0.506387  0.895404 -0.591576  0.061043\n",
       "five  -1.462403 -0.420341  0.152088 -0.134021\n",
       "six    0.697406  0.535282 -0.417625 -0.112981\n",
       "seven -1.223953  0.184059 -0.687621 -0.239499"
      ]
     },
     "execution_count": 39,
     "metadata": {},
     "output_type": "execute_result"
    }
   ],
   "source": [
    "data.f = 8\n",
    "data"
   ]
  },
  {
   "cell_type": "markdown",
   "id": "a9d89fd2-764d-4758-b3fd-1b315133325c",
   "metadata": {},
   "source": [
    "+ **添加删除行**"
   ]
  },
  {
   "cell_type": "code",
   "execution_count": 40,
   "id": "b87c2d0b-7580-4dee-8307-049348932e8e",
   "metadata": {},
   "outputs": [
    {
     "data": {
      "text/html": [
       "<div>\n",
       "<style scoped>\n",
       "    .dataframe tbody tr th:only-of-type {\n",
       "        vertical-align: middle;\n",
       "    }\n",
       "\n",
       "    .dataframe tbody tr th {\n",
       "        vertical-align: top;\n",
       "    }\n",
       "\n",
       "    .dataframe thead th {\n",
       "        text-align: right;\n",
       "    }\n",
       "</style>\n",
       "<table border=\"1\" class=\"dataframe\">\n",
       "  <thead>\n",
       "    <tr style=\"text-align: right;\">\n",
       "      <th></th>\n",
       "      <th>a</th>\n",
       "      <th>b</th>\n",
       "      <th>c</th>\n",
       "      <th>d</th>\n",
       "    </tr>\n",
       "  </thead>\n",
       "  <tbody>\n",
       "    <tr>\n",
       "      <th>one</th>\n",
       "      <td>1.223521</td>\n",
       "      <td>-0.727641</td>\n",
       "      <td>1.632407</td>\n",
       "      <td>0.710552</td>\n",
       "    </tr>\n",
       "    <tr>\n",
       "      <th>two</th>\n",
       "      <td>0.740826</td>\n",
       "      <td>-0.286074</td>\n",
       "      <td>-0.293368</td>\n",
       "      <td>1.534549</td>\n",
       "    </tr>\n",
       "    <tr>\n",
       "      <th>three</th>\n",
       "      <td>0.916008</td>\n",
       "      <td>0.862511</td>\n",
       "      <td>-2.479221</td>\n",
       "      <td>-0.350486</td>\n",
       "    </tr>\n",
       "    <tr>\n",
       "      <th>four</th>\n",
       "      <td>-0.506387</td>\n",
       "      <td>0.895404</td>\n",
       "      <td>-0.591576</td>\n",
       "      <td>0.061043</td>\n",
       "    </tr>\n",
       "    <tr>\n",
       "      <th>five</th>\n",
       "      <td>-1.462403</td>\n",
       "      <td>-0.420341</td>\n",
       "      <td>0.152088</td>\n",
       "      <td>-0.134021</td>\n",
       "    </tr>\n",
       "    <tr>\n",
       "      <th>six</th>\n",
       "      <td>0.697406</td>\n",
       "      <td>0.535282</td>\n",
       "      <td>-0.417625</td>\n",
       "      <td>-0.112981</td>\n",
       "    </tr>\n",
       "  </tbody>\n",
       "</table>\n",
       "</div>"
      ],
      "text/plain": [
       "              a         b         c         d\n",
       "one    1.223521 -0.727641  1.632407  0.710552\n",
       "two    0.740826 -0.286074 -0.293368  1.534549\n",
       "three  0.916008  0.862511 -2.479221 -0.350486\n",
       "four  -0.506387  0.895404 -0.591576  0.061043\n",
       "five  -1.462403 -0.420341  0.152088 -0.134021\n",
       "six    0.697406  0.535282 -0.417625 -0.112981"
      ]
     },
     "execution_count": 40,
     "metadata": {},
     "output_type": "execute_result"
    }
   ],
   "source": [
    "data.drop(['seven'])"
   ]
  },
  {
   "cell_type": "markdown",
   "id": "7ee718c4-1ab2-47c3-a07c-15dbdb5a23f0",
   "metadata": {},
   "source": [
    "+ **.drop()只是生成了新的数据，并没有改变原文件**"
   ]
  },
  {
   "cell_type": "code",
   "execution_count": 41,
   "id": "d3ebf6a6-8c9b-4991-9892-3d0f924e9b18",
   "metadata": {},
   "outputs": [
    {
     "data": {
      "text/html": [
       "<div>\n",
       "<style scoped>\n",
       "    .dataframe tbody tr th:only-of-type {\n",
       "        vertical-align: middle;\n",
       "    }\n",
       "\n",
       "    .dataframe tbody tr th {\n",
       "        vertical-align: top;\n",
       "    }\n",
       "\n",
       "    .dataframe thead th {\n",
       "        text-align: right;\n",
       "    }\n",
       "</style>\n",
       "<table border=\"1\" class=\"dataframe\">\n",
       "  <thead>\n",
       "    <tr style=\"text-align: right;\">\n",
       "      <th></th>\n",
       "      <th>a</th>\n",
       "      <th>b</th>\n",
       "      <th>c</th>\n",
       "      <th>d</th>\n",
       "    </tr>\n",
       "  </thead>\n",
       "  <tbody>\n",
       "    <tr>\n",
       "      <th>one</th>\n",
       "      <td>1.223521</td>\n",
       "      <td>-0.727641</td>\n",
       "      <td>1.632407</td>\n",
       "      <td>0.710552</td>\n",
       "    </tr>\n",
       "    <tr>\n",
       "      <th>two</th>\n",
       "      <td>0.740826</td>\n",
       "      <td>-0.286074</td>\n",
       "      <td>-0.293368</td>\n",
       "      <td>1.534549</td>\n",
       "    </tr>\n",
       "    <tr>\n",
       "      <th>three</th>\n",
       "      <td>0.916008</td>\n",
       "      <td>0.862511</td>\n",
       "      <td>-2.479221</td>\n",
       "      <td>-0.350486</td>\n",
       "    </tr>\n",
       "    <tr>\n",
       "      <th>four</th>\n",
       "      <td>-0.506387</td>\n",
       "      <td>0.895404</td>\n",
       "      <td>-0.591576</td>\n",
       "      <td>0.061043</td>\n",
       "    </tr>\n",
       "    <tr>\n",
       "      <th>five</th>\n",
       "      <td>-1.462403</td>\n",
       "      <td>-0.420341</td>\n",
       "      <td>0.152088</td>\n",
       "      <td>-0.134021</td>\n",
       "    </tr>\n",
       "    <tr>\n",
       "      <th>six</th>\n",
       "      <td>0.697406</td>\n",
       "      <td>0.535282</td>\n",
       "      <td>-0.417625</td>\n",
       "      <td>-0.112981</td>\n",
       "    </tr>\n",
       "    <tr>\n",
       "      <th>seven</th>\n",
       "      <td>-1.223953</td>\n",
       "      <td>0.184059</td>\n",
       "      <td>-0.687621</td>\n",
       "      <td>-0.239499</td>\n",
       "    </tr>\n",
       "  </tbody>\n",
       "</table>\n",
       "</div>"
      ],
      "text/plain": [
       "              a         b         c         d\n",
       "one    1.223521 -0.727641  1.632407  0.710552\n",
       "two    0.740826 -0.286074 -0.293368  1.534549\n",
       "three  0.916008  0.862511 -2.479221 -0.350486\n",
       "four  -0.506387  0.895404 -0.591576  0.061043\n",
       "five  -1.462403 -0.420341  0.152088 -0.134021\n",
       "six    0.697406  0.535282 -0.417625 -0.112981\n",
       "seven -1.223953  0.184059 -0.687621 -0.239499"
      ]
     },
     "execution_count": 41,
     "metadata": {},
     "output_type": "execute_result"
    }
   ],
   "source": [
    "data"
   ]
  },
  {
   "cell_type": "code",
   "execution_count": 42,
   "id": "ee5c0847-c4b2-4cbd-9ad6-1a165512c39e",
   "metadata": {},
   "outputs": [
    {
     "data": {
      "text/html": [
       "<div>\n",
       "<style scoped>\n",
       "    .dataframe tbody tr th:only-of-type {\n",
       "        vertical-align: middle;\n",
       "    }\n",
       "\n",
       "    .dataframe tbody tr th {\n",
       "        vertical-align: top;\n",
       "    }\n",
       "\n",
       "    .dataframe thead th {\n",
       "        text-align: right;\n",
       "    }\n",
       "</style>\n",
       "<table border=\"1\" class=\"dataframe\">\n",
       "  <thead>\n",
       "    <tr style=\"text-align: right;\">\n",
       "      <th></th>\n",
       "      <th>a</th>\n",
       "      <th>b</th>\n",
       "      <th>c</th>\n",
       "      <th>d</th>\n",
       "    </tr>\n",
       "  </thead>\n",
       "  <tbody>\n",
       "    <tr>\n",
       "      <th>three</th>\n",
       "      <td>0.916008</td>\n",
       "      <td>0.862511</td>\n",
       "      <td>-2.479221</td>\n",
       "      <td>-0.350486</td>\n",
       "    </tr>\n",
       "    <tr>\n",
       "      <th>four</th>\n",
       "      <td>-0.506387</td>\n",
       "      <td>0.895404</td>\n",
       "      <td>-0.591576</td>\n",
       "      <td>0.061043</td>\n",
       "    </tr>\n",
       "    <tr>\n",
       "      <th>five</th>\n",
       "      <td>-1.462403</td>\n",
       "      <td>-0.420341</td>\n",
       "      <td>0.152088</td>\n",
       "      <td>-0.134021</td>\n",
       "    </tr>\n",
       "    <tr>\n",
       "      <th>six</th>\n",
       "      <td>0.697406</td>\n",
       "      <td>0.535282</td>\n",
       "      <td>-0.417625</td>\n",
       "      <td>-0.112981</td>\n",
       "    </tr>\n",
       "    <tr>\n",
       "      <th>seven</th>\n",
       "      <td>-1.223953</td>\n",
       "      <td>0.184059</td>\n",
       "      <td>-0.687621</td>\n",
       "      <td>-0.239499</td>\n",
       "    </tr>\n",
       "  </tbody>\n",
       "</table>\n",
       "</div>"
      ],
      "text/plain": [
       "              a         b         c         d\n",
       "three  0.916008  0.862511 -2.479221 -0.350486\n",
       "four  -0.506387  0.895404 -0.591576  0.061043\n",
       "five  -1.462403 -0.420341  0.152088 -0.134021\n",
       "six    0.697406  0.535282 -0.417625 -0.112981\n",
       "seven -1.223953  0.184059 -0.687621 -0.239499"
      ]
     },
     "execution_count": 42,
     "metadata": {},
     "output_type": "execute_result"
    }
   ],
   "source": [
    "data.drop(['one', 'two'])"
   ]
  },
  {
   "cell_type": "markdown",
   "id": "7d742bf1-444e-4d8b-b455-cdc86f1d7237",
   "metadata": {},
   "source": [
    "+ **用inplace参数直接改变源文件**"
   ]
  },
  {
   "cell_type": "code",
   "execution_count": 43,
   "id": "ff48a31f-29b9-4e77-999f-67166d9cc66b",
   "metadata": {},
   "outputs": [],
   "source": [
    "data.drop(['seven','three'], inplace=True)"
   ]
  },
  {
   "cell_type": "code",
   "execution_count": 44,
   "id": "fac4e71a-a2b8-4543-b9de-0c33217b3710",
   "metadata": {},
   "outputs": [
    {
     "data": {
      "text/html": [
       "<div>\n",
       "<style scoped>\n",
       "    .dataframe tbody tr th:only-of-type {\n",
       "        vertical-align: middle;\n",
       "    }\n",
       "\n",
       "    .dataframe tbody tr th {\n",
       "        vertical-align: top;\n",
       "    }\n",
       "\n",
       "    .dataframe thead th {\n",
       "        text-align: right;\n",
       "    }\n",
       "</style>\n",
       "<table border=\"1\" class=\"dataframe\">\n",
       "  <thead>\n",
       "    <tr style=\"text-align: right;\">\n",
       "      <th></th>\n",
       "      <th>a</th>\n",
       "      <th>b</th>\n",
       "      <th>c</th>\n",
       "      <th>d</th>\n",
       "    </tr>\n",
       "  </thead>\n",
       "  <tbody>\n",
       "    <tr>\n",
       "      <th>one</th>\n",
       "      <td>1.223521</td>\n",
       "      <td>-0.727641</td>\n",
       "      <td>1.632407</td>\n",
       "      <td>0.710552</td>\n",
       "    </tr>\n",
       "    <tr>\n",
       "      <th>two</th>\n",
       "      <td>0.740826</td>\n",
       "      <td>-0.286074</td>\n",
       "      <td>-0.293368</td>\n",
       "      <td>1.534549</td>\n",
       "    </tr>\n",
       "    <tr>\n",
       "      <th>four</th>\n",
       "      <td>-0.506387</td>\n",
       "      <td>0.895404</td>\n",
       "      <td>-0.591576</td>\n",
       "      <td>0.061043</td>\n",
       "    </tr>\n",
       "    <tr>\n",
       "      <th>five</th>\n",
       "      <td>-1.462403</td>\n",
       "      <td>-0.420341</td>\n",
       "      <td>0.152088</td>\n",
       "      <td>-0.134021</td>\n",
       "    </tr>\n",
       "    <tr>\n",
       "      <th>six</th>\n",
       "      <td>0.697406</td>\n",
       "      <td>0.535282</td>\n",
       "      <td>-0.417625</td>\n",
       "      <td>-0.112981</td>\n",
       "    </tr>\n",
       "  </tbody>\n",
       "</table>\n",
       "</div>"
      ],
      "text/plain": [
       "             a         b         c         d\n",
       "one   1.223521 -0.727641  1.632407  0.710552\n",
       "two   0.740826 -0.286074 -0.293368  1.534549\n",
       "four -0.506387  0.895404 -0.591576  0.061043\n",
       "five -1.462403 -0.420341  0.152088 -0.134021\n",
       "six   0.697406  0.535282 -0.417625 -0.112981"
      ]
     },
     "execution_count": 44,
     "metadata": {},
     "output_type": "execute_result"
    }
   ],
   "source": [
    "data"
   ]
  },
  {
   "cell_type": "markdown",
   "id": "8d17b669-c943-4f69-98b1-83bdf44d2ae2",
   "metadata": {},
   "source": [
    "+ **axis = 1表示列， axis = 0表示行**"
   ]
  },
  {
   "cell_type": "code",
   "execution_count": 45,
   "id": "dfb614c3-0508-4b09-9699-285f8c95dc2f",
   "metadata": {},
   "outputs": [
    {
     "data": {
      "text/html": [
       "<div>\n",
       "<style scoped>\n",
       "    .dataframe tbody tr th:only-of-type {\n",
       "        vertical-align: middle;\n",
       "    }\n",
       "\n",
       "    .dataframe tbody tr th {\n",
       "        vertical-align: top;\n",
       "    }\n",
       "\n",
       "    .dataframe thead th {\n",
       "        text-align: right;\n",
       "    }\n",
       "</style>\n",
       "<table border=\"1\" class=\"dataframe\">\n",
       "  <thead>\n",
       "    <tr style=\"text-align: right;\">\n",
       "      <th></th>\n",
       "      <th>b</th>\n",
       "      <th>c</th>\n",
       "      <th>d</th>\n",
       "    </tr>\n",
       "  </thead>\n",
       "  <tbody>\n",
       "    <tr>\n",
       "      <th>one</th>\n",
       "      <td>-0.727641</td>\n",
       "      <td>1.632407</td>\n",
       "      <td>0.710552</td>\n",
       "    </tr>\n",
       "    <tr>\n",
       "      <th>two</th>\n",
       "      <td>-0.286074</td>\n",
       "      <td>-0.293368</td>\n",
       "      <td>1.534549</td>\n",
       "    </tr>\n",
       "    <tr>\n",
       "      <th>four</th>\n",
       "      <td>0.895404</td>\n",
       "      <td>-0.591576</td>\n",
       "      <td>0.061043</td>\n",
       "    </tr>\n",
       "    <tr>\n",
       "      <th>five</th>\n",
       "      <td>-0.420341</td>\n",
       "      <td>0.152088</td>\n",
       "      <td>-0.134021</td>\n",
       "    </tr>\n",
       "    <tr>\n",
       "      <th>six</th>\n",
       "      <td>0.535282</td>\n",
       "      <td>-0.417625</td>\n",
       "      <td>-0.112981</td>\n",
       "    </tr>\n",
       "  </tbody>\n",
       "</table>\n",
       "</div>"
      ],
      "text/plain": [
       "             b         c         d\n",
       "one  -0.727641  1.632407  0.710552\n",
       "two  -0.286074 -0.293368  1.534549\n",
       "four  0.895404 -0.591576  0.061043\n",
       "five -0.420341  0.152088 -0.134021\n",
       "six   0.535282 -0.417625 -0.112981"
      ]
     },
     "execution_count": 45,
     "metadata": {},
     "output_type": "execute_result"
    }
   ],
   "source": [
    "data.drop('a', axis=1)"
   ]
  },
  {
   "cell_type": "code",
   "execution_count": 46,
   "id": "e3b39b67-27ce-4ff9-af2b-07e20a9306c5",
   "metadata": {},
   "outputs": [
    {
     "data": {
      "text/html": [
       "<div>\n",
       "<style scoped>\n",
       "    .dataframe tbody tr th:only-of-type {\n",
       "        vertical-align: middle;\n",
       "    }\n",
       "\n",
       "    .dataframe tbody tr th {\n",
       "        vertical-align: top;\n",
       "    }\n",
       "\n",
       "    .dataframe thead th {\n",
       "        text-align: right;\n",
       "    }\n",
       "</style>\n",
       "<table border=\"1\" class=\"dataframe\">\n",
       "  <thead>\n",
       "    <tr style=\"text-align: right;\">\n",
       "      <th></th>\n",
       "      <th>a</th>\n",
       "      <th>b</th>\n",
       "      <th>c</th>\n",
       "      <th>d</th>\n",
       "    </tr>\n",
       "  </thead>\n",
       "  <tbody>\n",
       "    <tr>\n",
       "      <th>one</th>\n",
       "      <td>1.223521</td>\n",
       "      <td>-0.727641</td>\n",
       "      <td>1.632407</td>\n",
       "      <td>0.710552</td>\n",
       "    </tr>\n",
       "    <tr>\n",
       "      <th>two</th>\n",
       "      <td>0.740826</td>\n",
       "      <td>-0.286074</td>\n",
       "      <td>-0.293368</td>\n",
       "      <td>1.534549</td>\n",
       "    </tr>\n",
       "    <tr>\n",
       "      <th>four</th>\n",
       "      <td>-0.506387</td>\n",
       "      <td>0.895404</td>\n",
       "      <td>-0.591576</td>\n",
       "      <td>0.061043</td>\n",
       "    </tr>\n",
       "    <tr>\n",
       "      <th>five</th>\n",
       "      <td>-1.462403</td>\n",
       "      <td>-0.420341</td>\n",
       "      <td>0.152088</td>\n",
       "      <td>-0.134021</td>\n",
       "    </tr>\n",
       "    <tr>\n",
       "      <th>six</th>\n",
       "      <td>0.697406</td>\n",
       "      <td>0.535282</td>\n",
       "      <td>-0.417625</td>\n",
       "      <td>-0.112981</td>\n",
       "    </tr>\n",
       "  </tbody>\n",
       "</table>\n",
       "</div>"
      ],
      "text/plain": [
       "             a         b         c         d\n",
       "one   1.223521 -0.727641  1.632407  0.710552\n",
       "two   0.740826 -0.286074 -0.293368  1.534549\n",
       "four -0.506387  0.895404 -0.591576  0.061043\n",
       "five -1.462403 -0.420341  0.152088 -0.134021\n",
       "six   0.697406  0.535282 -0.417625 -0.112981"
      ]
     },
     "execution_count": 46,
     "metadata": {},
     "output_type": "execute_result"
    }
   ],
   "source": [
    "# data.loc['ten'] = np.random.randn(1,4)\n",
    "data"
   ]
  },
  {
   "cell_type": "markdown",
   "id": "34305249-e00d-4017-9a8e-888b1b12d813",
   "metadata": {},
   "source": [
    "+ **在DataFrame中，数据对齐同时发生在行和列上**"
   ]
  },
  {
   "cell_type": "code",
   "execution_count": 47,
   "id": "690804bc-2274-4455-92cc-5296be1caeaa",
   "metadata": {},
   "outputs": [
    {
     "data": {
      "text/plain": [
       "(         b    c    d\n",
       " one    0.0  1.0  2.0\n",
       " two    3.0  4.0  5.0\n",
       " three  6.0  7.0  8.0,\n",
       "          b     d     e\n",
       " three  0.0   1.0   2.0\n",
       " four   3.0   4.0   5.0\n",
       " five   6.0   7.0   8.0\n",
       " six    9.0  10.0  11.0)"
      ]
     },
     "execution_count": 47,
     "metadata": {},
     "output_type": "execute_result"
    }
   ],
   "source": [
    "df1 = pd.DataFrame(np.arange(9.).reshape((3,3)), columns = list('bcd'),\n",
    "                  index = ['one','two','three'])\n",
    "df2 = pd.DataFrame(np.arange(12.).reshape((4,3)), columns = list('bde'),\n",
    "                  index = ['three', 'four', 'five', 'six'])\n",
    "df1,df2"
   ]
  },
  {
   "cell_type": "code",
   "execution_count": 48,
   "id": "ced7c249-fa14-4fda-b8e7-ec0e6d4b04bb",
   "metadata": {},
   "outputs": [
    {
     "data": {
      "text/html": [
       "<div>\n",
       "<style scoped>\n",
       "    .dataframe tbody tr th:only-of-type {\n",
       "        vertical-align: middle;\n",
       "    }\n",
       "\n",
       "    .dataframe tbody tr th {\n",
       "        vertical-align: top;\n",
       "    }\n",
       "\n",
       "    .dataframe thead th {\n",
       "        text-align: right;\n",
       "    }\n",
       "</style>\n",
       "<table border=\"1\" class=\"dataframe\">\n",
       "  <thead>\n",
       "    <tr style=\"text-align: right;\">\n",
       "      <th></th>\n",
       "      <th>b</th>\n",
       "      <th>c</th>\n",
       "      <th>d</th>\n",
       "      <th>e</th>\n",
       "    </tr>\n",
       "  </thead>\n",
       "  <tbody>\n",
       "    <tr>\n",
       "      <th>five</th>\n",
       "      <td>NaN</td>\n",
       "      <td>NaN</td>\n",
       "      <td>NaN</td>\n",
       "      <td>NaN</td>\n",
       "    </tr>\n",
       "    <tr>\n",
       "      <th>four</th>\n",
       "      <td>NaN</td>\n",
       "      <td>NaN</td>\n",
       "      <td>NaN</td>\n",
       "      <td>NaN</td>\n",
       "    </tr>\n",
       "    <tr>\n",
       "      <th>one</th>\n",
       "      <td>NaN</td>\n",
       "      <td>NaN</td>\n",
       "      <td>NaN</td>\n",
       "      <td>NaN</td>\n",
       "    </tr>\n",
       "    <tr>\n",
       "      <th>six</th>\n",
       "      <td>NaN</td>\n",
       "      <td>NaN</td>\n",
       "      <td>NaN</td>\n",
       "      <td>NaN</td>\n",
       "    </tr>\n",
       "    <tr>\n",
       "      <th>three</th>\n",
       "      <td>6.0</td>\n",
       "      <td>NaN</td>\n",
       "      <td>9.0</td>\n",
       "      <td>NaN</td>\n",
       "    </tr>\n",
       "    <tr>\n",
       "      <th>two</th>\n",
       "      <td>NaN</td>\n",
       "      <td>NaN</td>\n",
       "      <td>NaN</td>\n",
       "      <td>NaN</td>\n",
       "    </tr>\n",
       "  </tbody>\n",
       "</table>\n",
       "</div>"
      ],
      "text/plain": [
       "         b   c    d   e\n",
       "five   NaN NaN  NaN NaN\n",
       "four   NaN NaN  NaN NaN\n",
       "one    NaN NaN  NaN NaN\n",
       "six    NaN NaN  NaN NaN\n",
       "three  6.0 NaN  9.0 NaN\n",
       "two    NaN NaN  NaN NaN"
      ]
     },
     "execution_count": 48,
     "metadata": {},
     "output_type": "execute_result"
    }
   ],
   "source": [
    "df1 + df2"
   ]
  },
  {
   "cell_type": "code",
   "execution_count": 49,
   "id": "75a07168-93fe-4cc1-bcc3-d7b6bd40189e",
   "metadata": {},
   "outputs": [
    {
     "data": {
      "text/plain": [
       "b    0.0\n",
       "c    1.0\n",
       "d    2.0\n",
       "Name: one, dtype: float64"
      ]
     },
     "execution_count": 49,
     "metadata": {},
     "output_type": "execute_result"
    }
   ],
   "source": [
    "s1 = df1.iloc[0]\n",
    "s1"
   ]
  },
  {
   "cell_type": "code",
   "execution_count": 50,
   "id": "1e264359-2dba-473f-987c-141327e947ed",
   "metadata": {},
   "outputs": [
    {
     "data": {
      "text/html": [
       "<div>\n",
       "<style scoped>\n",
       "    .dataframe tbody tr th:only-of-type {\n",
       "        vertical-align: middle;\n",
       "    }\n",
       "\n",
       "    .dataframe tbody tr th {\n",
       "        vertical-align: top;\n",
       "    }\n",
       "\n",
       "    .dataframe thead th {\n",
       "        text-align: right;\n",
       "    }\n",
       "</style>\n",
       "<table border=\"1\" class=\"dataframe\">\n",
       "  <thead>\n",
       "    <tr style=\"text-align: right;\">\n",
       "      <th></th>\n",
       "      <th>b</th>\n",
       "      <th>c</th>\n",
       "      <th>d</th>\n",
       "    </tr>\n",
       "  </thead>\n",
       "  <tbody>\n",
       "    <tr>\n",
       "      <th>one</th>\n",
       "      <td>0.0</td>\n",
       "      <td>1.0</td>\n",
       "      <td>2.0</td>\n",
       "    </tr>\n",
       "    <tr>\n",
       "      <th>two</th>\n",
       "      <td>3.0</td>\n",
       "      <td>4.0</td>\n",
       "      <td>5.0</td>\n",
       "    </tr>\n",
       "    <tr>\n",
       "      <th>three</th>\n",
       "      <td>6.0</td>\n",
       "      <td>7.0</td>\n",
       "      <td>8.0</td>\n",
       "    </tr>\n",
       "  </tbody>\n",
       "</table>\n",
       "</div>"
      ],
      "text/plain": [
       "         b    c    d\n",
       "one    0.0  1.0  2.0\n",
       "two    3.0  4.0  5.0\n",
       "three  6.0  7.0  8.0"
      ]
     },
     "execution_count": 50,
     "metadata": {},
     "output_type": "execute_result"
    }
   ],
   "source": [
    "df1"
   ]
  },
  {
   "cell_type": "code",
   "execution_count": 51,
   "id": "5e0afe92-93a4-44a1-a47b-89f4052a786c",
   "metadata": {},
   "outputs": [
    {
     "data": {
      "text/html": [
       "<div>\n",
       "<style scoped>\n",
       "    .dataframe tbody tr th:only-of-type {\n",
       "        vertical-align: middle;\n",
       "    }\n",
       "\n",
       "    .dataframe tbody tr th {\n",
       "        vertical-align: top;\n",
       "    }\n",
       "\n",
       "    .dataframe thead th {\n",
       "        text-align: right;\n",
       "    }\n",
       "</style>\n",
       "<table border=\"1\" class=\"dataframe\">\n",
       "  <thead>\n",
       "    <tr style=\"text-align: right;\">\n",
       "      <th></th>\n",
       "      <th>b</th>\n",
       "      <th>c</th>\n",
       "      <th>d</th>\n",
       "    </tr>\n",
       "  </thead>\n",
       "  <tbody>\n",
       "    <tr>\n",
       "      <th>one</th>\n",
       "      <td>0.0</td>\n",
       "      <td>0.0</td>\n",
       "      <td>0.0</td>\n",
       "    </tr>\n",
       "    <tr>\n",
       "      <th>two</th>\n",
       "      <td>3.0</td>\n",
       "      <td>3.0</td>\n",
       "      <td>3.0</td>\n",
       "    </tr>\n",
       "    <tr>\n",
       "      <th>three</th>\n",
       "      <td>6.0</td>\n",
       "      <td>6.0</td>\n",
       "      <td>6.0</td>\n",
       "    </tr>\n",
       "  </tbody>\n",
       "</table>\n",
       "</div>"
      ],
      "text/plain": [
       "         b    c    d\n",
       "one    0.0  0.0  0.0\n",
       "two    3.0  3.0  3.0\n",
       "three  6.0  6.0  6.0"
      ]
     },
     "execution_count": 51,
     "metadata": {},
     "output_type": "execute_result"
    }
   ],
   "source": [
    "df1 - s1"
   ]
  },
  {
   "cell_type": "code",
   "execution_count": 52,
   "id": "248935ca-4348-4b09-909b-7c6dbc25f9f1",
   "metadata": {},
   "outputs": [
    {
     "data": {
      "text/plain": [
       "b    0\n",
       "e    1\n",
       "f    2\n",
       "dtype: int64"
      ]
     },
     "execution_count": 52,
     "metadata": {},
     "output_type": "execute_result"
    }
   ],
   "source": [
    "s2 = pd.Series(range(3), index = ['b','e','f'])\n",
    "s2"
   ]
  },
  {
   "cell_type": "code",
   "execution_count": 53,
   "id": "34be94ed-79f2-436f-bc0d-d7394ec34d45",
   "metadata": {},
   "outputs": [
    {
     "data": {
      "text/html": [
       "<div>\n",
       "<style scoped>\n",
       "    .dataframe tbody tr th:only-of-type {\n",
       "        vertical-align: middle;\n",
       "    }\n",
       "\n",
       "    .dataframe tbody tr th {\n",
       "        vertical-align: top;\n",
       "    }\n",
       "\n",
       "    .dataframe thead th {\n",
       "        text-align: right;\n",
       "    }\n",
       "</style>\n",
       "<table border=\"1\" class=\"dataframe\">\n",
       "  <thead>\n",
       "    <tr style=\"text-align: right;\">\n",
       "      <th></th>\n",
       "      <th>b</th>\n",
       "      <th>c</th>\n",
       "      <th>d</th>\n",
       "      <th>e</th>\n",
       "      <th>f</th>\n",
       "    </tr>\n",
       "  </thead>\n",
       "  <tbody>\n",
       "    <tr>\n",
       "      <th>one</th>\n",
       "      <td>0.0</td>\n",
       "      <td>NaN</td>\n",
       "      <td>NaN</td>\n",
       "      <td>NaN</td>\n",
       "      <td>NaN</td>\n",
       "    </tr>\n",
       "    <tr>\n",
       "      <th>two</th>\n",
       "      <td>3.0</td>\n",
       "      <td>NaN</td>\n",
       "      <td>NaN</td>\n",
       "      <td>NaN</td>\n",
       "      <td>NaN</td>\n",
       "    </tr>\n",
       "    <tr>\n",
       "      <th>three</th>\n",
       "      <td>6.0</td>\n",
       "      <td>NaN</td>\n",
       "      <td>NaN</td>\n",
       "      <td>NaN</td>\n",
       "      <td>NaN</td>\n",
       "    </tr>\n",
       "  </tbody>\n",
       "</table>\n",
       "</div>"
      ],
      "text/plain": [
       "         b   c   d   e   f\n",
       "one    0.0 NaN NaN NaN NaN\n",
       "two    3.0 NaN NaN NaN NaN\n",
       "three  6.0 NaN NaN NaN NaN"
      ]
     },
     "execution_count": 53,
     "metadata": {},
     "output_type": "execute_result"
    }
   ],
   "source": [
    "df1 - s2"
   ]
  },
  {
   "cell_type": "code",
   "execution_count": 54,
   "id": "77243bf6-9c81-48ae-afda-9782576adeb5",
   "metadata": {},
   "outputs": [
    {
     "data": {
      "text/html": [
       "<div>\n",
       "<style scoped>\n",
       "    .dataframe tbody tr th:only-of-type {\n",
       "        vertical-align: middle;\n",
       "    }\n",
       "\n",
       "    .dataframe tbody tr th {\n",
       "        vertical-align: top;\n",
       "    }\n",
       "\n",
       "    .dataframe thead th {\n",
       "        text-align: right;\n",
       "    }\n",
       "</style>\n",
       "<table border=\"1\" class=\"dataframe\">\n",
       "  <thead>\n",
       "    <tr style=\"text-align: right;\">\n",
       "      <th></th>\n",
       "      <th>b</th>\n",
       "      <th>c</th>\n",
       "      <th>d</th>\n",
       "    </tr>\n",
       "  </thead>\n",
       "  <tbody>\n",
       "    <tr>\n",
       "      <th>one</th>\n",
       "      <td>0.0</td>\n",
       "      <td>1.0</td>\n",
       "      <td>2.0</td>\n",
       "    </tr>\n",
       "    <tr>\n",
       "      <th>two</th>\n",
       "      <td>3.0</td>\n",
       "      <td>4.0</td>\n",
       "      <td>5.0</td>\n",
       "    </tr>\n",
       "    <tr>\n",
       "      <th>three</th>\n",
       "      <td>6.0</td>\n",
       "      <td>7.0</td>\n",
       "      <td>8.0</td>\n",
       "    </tr>\n",
       "  </tbody>\n",
       "</table>\n",
       "</div>"
      ],
      "text/plain": [
       "         b    c    d\n",
       "one    0.0  1.0  2.0\n",
       "two    3.0  4.0  5.0\n",
       "three  6.0  7.0  8.0"
      ]
     },
     "execution_count": 54,
     "metadata": {},
     "output_type": "execute_result"
    }
   ],
   "source": [
    "np.abs(df1)"
   ]
  },
  {
   "cell_type": "code",
   "execution_count": 55,
   "id": "de99c05f-9afc-4e66-bdf8-e74cdc0baaf2",
   "metadata": {},
   "outputs": [
    {
     "data": {
      "text/plain": [
       "b    3.0\n",
       "c    4.0\n",
       "d    5.0\n",
       "dtype: float64"
      ]
     },
     "execution_count": 55,
     "metadata": {},
     "output_type": "execute_result"
    }
   ],
   "source": [
    "np.mean(df1)"
   ]
  },
  {
   "cell_type": "code",
   "execution_count": 56,
   "id": "9543bc25-7436-441c-ab4d-4a4fb0251016",
   "metadata": {},
   "outputs": [
    {
     "data": {
      "text/html": [
       "<div>\n",
       "<style scoped>\n",
       "    .dataframe tbody tr th:only-of-type {\n",
       "        vertical-align: middle;\n",
       "    }\n",
       "\n",
       "    .dataframe tbody tr th {\n",
       "        vertical-align: top;\n",
       "    }\n",
       "\n",
       "    .dataframe thead th {\n",
       "        text-align: right;\n",
       "    }\n",
       "</style>\n",
       "<table border=\"1\" class=\"dataframe\">\n",
       "  <thead>\n",
       "    <tr style=\"text-align: right;\">\n",
       "      <th></th>\n",
       "      <th>b</th>\n",
       "      <th>c</th>\n",
       "      <th>d</th>\n",
       "    </tr>\n",
       "  </thead>\n",
       "  <tbody>\n",
       "    <tr>\n",
       "      <th>one</th>\n",
       "      <td>inf</td>\n",
       "      <td>1.000000</td>\n",
       "      <td>0.500</td>\n",
       "    </tr>\n",
       "    <tr>\n",
       "      <th>two</th>\n",
       "      <td>0.333333</td>\n",
       "      <td>0.250000</td>\n",
       "      <td>0.200</td>\n",
       "    </tr>\n",
       "    <tr>\n",
       "      <th>three</th>\n",
       "      <td>0.166667</td>\n",
       "      <td>0.142857</td>\n",
       "      <td>0.125</td>\n",
       "    </tr>\n",
       "  </tbody>\n",
       "</table>\n",
       "</div>"
      ],
      "text/plain": [
       "              b         c      d\n",
       "one         inf  1.000000  0.500\n",
       "two    0.333333  0.250000  0.200\n",
       "three  0.166667  0.142857  0.125"
      ]
     },
     "execution_count": 56,
     "metadata": {},
     "output_type": "execute_result"
    }
   ],
   "source": [
    "1/df1"
   ]
  },
  {
   "cell_type": "markdown",
   "id": "92b89fa5-04bd-417e-9fa5-7c236da5b261",
   "metadata": {},
   "source": [
    "+ **4.4 DataFrame数据排序和重新索引**"
   ]
  },
  {
   "cell_type": "code",
   "execution_count": 57,
   "id": "2d85a1cf-10d6-4b7e-9675-57f6748b5ae7",
   "metadata": {},
   "outputs": [
    {
     "data": {
      "text/html": [
       "<div>\n",
       "<style scoped>\n",
       "    .dataframe tbody tr th:only-of-type {\n",
       "        vertical-align: middle;\n",
       "    }\n",
       "\n",
       "    .dataframe tbody tr th {\n",
       "        vertical-align: top;\n",
       "    }\n",
       "\n",
       "    .dataframe thead th {\n",
       "        text-align: right;\n",
       "    }\n",
       "</style>\n",
       "<table border=\"1\" class=\"dataframe\">\n",
       "  <thead>\n",
       "    <tr style=\"text-align: right;\">\n",
       "      <th></th>\n",
       "      <th>c</th>\n",
       "      <th>d</th>\n",
       "      <th>a</th>\n",
       "      <th>f</th>\n",
       "      <th>b</th>\n",
       "      <th>e</th>\n",
       "    </tr>\n",
       "  </thead>\n",
       "  <tbody>\n",
       "    <tr>\n",
       "      <th>0</th>\n",
       "      <td>0.876393</td>\n",
       "      <td>0.542810</td>\n",
       "      <td>0.982710</td>\n",
       "      <td>0.658837</td>\n",
       "      <td>0.590216</td>\n",
       "      <td>0.580122</td>\n",
       "    </tr>\n",
       "    <tr>\n",
       "      <th>1</th>\n",
       "      <td>0.098983</td>\n",
       "      <td>0.249922</td>\n",
       "      <td>0.687483</td>\n",
       "      <td>0.125248</td>\n",
       "      <td>0.666582</td>\n",
       "      <td>0.227405</td>\n",
       "    </tr>\n",
       "    <tr>\n",
       "      <th>2</th>\n",
       "      <td>0.371968</td>\n",
       "      <td>0.938309</td>\n",
       "      <td>0.559082</td>\n",
       "      <td>0.649536</td>\n",
       "      <td>0.124434</td>\n",
       "      <td>0.701001</td>\n",
       "    </tr>\n",
       "    <tr>\n",
       "      <th>3</th>\n",
       "      <td>0.106327</td>\n",
       "      <td>0.239245</td>\n",
       "      <td>0.544481</td>\n",
       "      <td>0.286428</td>\n",
       "      <td>0.507504</td>\n",
       "      <td>0.168856</td>\n",
       "    </tr>\n",
       "    <tr>\n",
       "      <th>4</th>\n",
       "      <td>0.024600</td>\n",
       "      <td>0.698147</td>\n",
       "      <td>0.582762</td>\n",
       "      <td>0.725091</td>\n",
       "      <td>0.393957</td>\n",
       "      <td>0.474147</td>\n",
       "    </tr>\n",
       "    <tr>\n",
       "      <th>5</th>\n",
       "      <td>0.293492</td>\n",
       "      <td>0.992006</td>\n",
       "      <td>0.031340</td>\n",
       "      <td>0.039088</td>\n",
       "      <td>0.643286</td>\n",
       "      <td>0.760822</td>\n",
       "    </tr>\n",
       "    <tr>\n",
       "      <th>6</th>\n",
       "      <td>0.022081</td>\n",
       "      <td>0.454180</td>\n",
       "      <td>0.946739</td>\n",
       "      <td>0.573755</td>\n",
       "      <td>0.010548</td>\n",
       "      <td>0.909636</td>\n",
       "    </tr>\n",
       "    <tr>\n",
       "      <th>7</th>\n",
       "      <td>0.790196</td>\n",
       "      <td>0.297769</td>\n",
       "      <td>0.670929</td>\n",
       "      <td>0.416600</td>\n",
       "      <td>0.684626</td>\n",
       "      <td>0.914856</td>\n",
       "    </tr>\n",
       "    <tr>\n",
       "      <th>8</th>\n",
       "      <td>0.536129</td>\n",
       "      <td>0.140736</td>\n",
       "      <td>0.984705</td>\n",
       "      <td>0.548298</td>\n",
       "      <td>0.713773</td>\n",
       "      <td>0.323464</td>\n",
       "    </tr>\n",
       "  </tbody>\n",
       "</table>\n",
       "</div>"
      ],
      "text/plain": [
       "          c         d         a         f         b         e\n",
       "0  0.876393  0.542810  0.982710  0.658837  0.590216  0.580122\n",
       "1  0.098983  0.249922  0.687483  0.125248  0.666582  0.227405\n",
       "2  0.371968  0.938309  0.559082  0.649536  0.124434  0.701001\n",
       "3  0.106327  0.239245  0.544481  0.286428  0.507504  0.168856\n",
       "4  0.024600  0.698147  0.582762  0.725091  0.393957  0.474147\n",
       "5  0.293492  0.992006  0.031340  0.039088  0.643286  0.760822\n",
       "6  0.022081  0.454180  0.946739  0.573755  0.010548  0.909636\n",
       "7  0.790196  0.297769  0.670929  0.416600  0.684626  0.914856\n",
       "8  0.536129  0.140736  0.984705  0.548298  0.713773  0.323464"
      ]
     },
     "execution_count": 57,
     "metadata": {},
     "output_type": "execute_result"
    }
   ],
   "source": [
    "data = pd.DataFrame(np.random.rand(9,6), columns = list('cdafbe'))\n",
    "data"
   ]
  },
  {
   "cell_type": "code",
   "execution_count": 58,
   "id": "9b13bf70-49e1-47ef-8e98-53364e3b0a6a",
   "metadata": {},
   "outputs": [
    {
     "data": {
      "text/html": [
       "<div>\n",
       "<style scoped>\n",
       "    .dataframe tbody tr th:only-of-type {\n",
       "        vertical-align: middle;\n",
       "    }\n",
       "\n",
       "    .dataframe tbody tr th {\n",
       "        vertical-align: top;\n",
       "    }\n",
       "\n",
       "    .dataframe thead th {\n",
       "        text-align: right;\n",
       "    }\n",
       "</style>\n",
       "<table border=\"1\" class=\"dataframe\">\n",
       "  <thead>\n",
       "    <tr style=\"text-align: right;\">\n",
       "      <th></th>\n",
       "      <th>c</th>\n",
       "      <th>d</th>\n",
       "      <th>a</th>\n",
       "      <th>f</th>\n",
       "      <th>b</th>\n",
       "      <th>e</th>\n",
       "    </tr>\n",
       "  </thead>\n",
       "  <tbody>\n",
       "    <tr>\n",
       "      <th>0</th>\n",
       "      <td>0.876393</td>\n",
       "      <td>0.542810</td>\n",
       "      <td>0.982710</td>\n",
       "      <td>0.658837</td>\n",
       "      <td>0.590216</td>\n",
       "      <td>0.580122</td>\n",
       "    </tr>\n",
       "    <tr>\n",
       "      <th>1</th>\n",
       "      <td>0.098983</td>\n",
       "      <td>0.249922</td>\n",
       "      <td>0.687483</td>\n",
       "      <td>0.125248</td>\n",
       "      <td>0.666582</td>\n",
       "      <td>0.227405</td>\n",
       "    </tr>\n",
       "    <tr>\n",
       "      <th>2</th>\n",
       "      <td>0.371968</td>\n",
       "      <td>0.938309</td>\n",
       "      <td>0.559082</td>\n",
       "      <td>0.649536</td>\n",
       "      <td>0.124434</td>\n",
       "      <td>0.701001</td>\n",
       "    </tr>\n",
       "    <tr>\n",
       "      <th>3</th>\n",
       "      <td>0.106327</td>\n",
       "      <td>0.239245</td>\n",
       "      <td>0.544481</td>\n",
       "      <td>0.286428</td>\n",
       "      <td>0.507504</td>\n",
       "      <td>0.168856</td>\n",
       "    </tr>\n",
       "    <tr>\n",
       "      <th>4</th>\n",
       "      <td>0.024600</td>\n",
       "      <td>0.698147</td>\n",
       "      <td>0.582762</td>\n",
       "      <td>0.725091</td>\n",
       "      <td>0.393957</td>\n",
       "      <td>0.474147</td>\n",
       "    </tr>\n",
       "    <tr>\n",
       "      <th>5</th>\n",
       "      <td>0.293492</td>\n",
       "      <td>0.992006</td>\n",
       "      <td>0.031340</td>\n",
       "      <td>0.039088</td>\n",
       "      <td>0.643286</td>\n",
       "      <td>0.760822</td>\n",
       "    </tr>\n",
       "    <tr>\n",
       "      <th>6</th>\n",
       "      <td>0.022081</td>\n",
       "      <td>0.454180</td>\n",
       "      <td>0.946739</td>\n",
       "      <td>0.573755</td>\n",
       "      <td>0.010548</td>\n",
       "      <td>0.909636</td>\n",
       "    </tr>\n",
       "    <tr>\n",
       "      <th>7</th>\n",
       "      <td>0.790196</td>\n",
       "      <td>0.297769</td>\n",
       "      <td>0.670929</td>\n",
       "      <td>0.416600</td>\n",
       "      <td>0.684626</td>\n",
       "      <td>0.914856</td>\n",
       "    </tr>\n",
       "    <tr>\n",
       "      <th>8</th>\n",
       "      <td>0.536129</td>\n",
       "      <td>0.140736</td>\n",
       "      <td>0.984705</td>\n",
       "      <td>0.548298</td>\n",
       "      <td>0.713773</td>\n",
       "      <td>0.323464</td>\n",
       "    </tr>\n",
       "  </tbody>\n",
       "</table>\n",
       "</div>"
      ],
      "text/plain": [
       "          c         d         a         f         b         e\n",
       "0  0.876393  0.542810  0.982710  0.658837  0.590216  0.580122\n",
       "1  0.098983  0.249922  0.687483  0.125248  0.666582  0.227405\n",
       "2  0.371968  0.938309  0.559082  0.649536  0.124434  0.701001\n",
       "3  0.106327  0.239245  0.544481  0.286428  0.507504  0.168856\n",
       "4  0.024600  0.698147  0.582762  0.725091  0.393957  0.474147\n",
       "5  0.293492  0.992006  0.031340  0.039088  0.643286  0.760822\n",
       "6  0.022081  0.454180  0.946739  0.573755  0.010548  0.909636\n",
       "7  0.790196  0.297769  0.670929  0.416600  0.684626  0.914856\n",
       "8  0.536129  0.140736  0.984705  0.548298  0.713773  0.323464"
      ]
     },
     "execution_count": 58,
     "metadata": {},
     "output_type": "execute_result"
    }
   ],
   "source": [
    "# 升序方法\n",
    "data.sort_index()"
   ]
  },
  {
   "cell_type": "code",
   "execution_count": 59,
   "id": "39507625-077b-4315-bdb6-0a0c0b45d356",
   "metadata": {},
   "outputs": [
    {
     "data": {
      "text/html": [
       "<div>\n",
       "<style scoped>\n",
       "    .dataframe tbody tr th:only-of-type {\n",
       "        vertical-align: middle;\n",
       "    }\n",
       "\n",
       "    .dataframe tbody tr th {\n",
       "        vertical-align: top;\n",
       "    }\n",
       "\n",
       "    .dataframe thead th {\n",
       "        text-align: right;\n",
       "    }\n",
       "</style>\n",
       "<table border=\"1\" class=\"dataframe\">\n",
       "  <thead>\n",
       "    <tr style=\"text-align: right;\">\n",
       "      <th></th>\n",
       "      <th>c</th>\n",
       "      <th>d</th>\n",
       "      <th>a</th>\n",
       "      <th>f</th>\n",
       "      <th>b</th>\n",
       "      <th>e</th>\n",
       "    </tr>\n",
       "  </thead>\n",
       "  <tbody>\n",
       "    <tr>\n",
       "      <th>8</th>\n",
       "      <td>0.536129</td>\n",
       "      <td>0.140736</td>\n",
       "      <td>0.984705</td>\n",
       "      <td>0.548298</td>\n",
       "      <td>0.713773</td>\n",
       "      <td>0.323464</td>\n",
       "    </tr>\n",
       "    <tr>\n",
       "      <th>7</th>\n",
       "      <td>0.790196</td>\n",
       "      <td>0.297769</td>\n",
       "      <td>0.670929</td>\n",
       "      <td>0.416600</td>\n",
       "      <td>0.684626</td>\n",
       "      <td>0.914856</td>\n",
       "    </tr>\n",
       "    <tr>\n",
       "      <th>6</th>\n",
       "      <td>0.022081</td>\n",
       "      <td>0.454180</td>\n",
       "      <td>0.946739</td>\n",
       "      <td>0.573755</td>\n",
       "      <td>0.010548</td>\n",
       "      <td>0.909636</td>\n",
       "    </tr>\n",
       "    <tr>\n",
       "      <th>5</th>\n",
       "      <td>0.293492</td>\n",
       "      <td>0.992006</td>\n",
       "      <td>0.031340</td>\n",
       "      <td>0.039088</td>\n",
       "      <td>0.643286</td>\n",
       "      <td>0.760822</td>\n",
       "    </tr>\n",
       "    <tr>\n",
       "      <th>4</th>\n",
       "      <td>0.024600</td>\n",
       "      <td>0.698147</td>\n",
       "      <td>0.582762</td>\n",
       "      <td>0.725091</td>\n",
       "      <td>0.393957</td>\n",
       "      <td>0.474147</td>\n",
       "    </tr>\n",
       "    <tr>\n",
       "      <th>3</th>\n",
       "      <td>0.106327</td>\n",
       "      <td>0.239245</td>\n",
       "      <td>0.544481</td>\n",
       "      <td>0.286428</td>\n",
       "      <td>0.507504</td>\n",
       "      <td>0.168856</td>\n",
       "    </tr>\n",
       "    <tr>\n",
       "      <th>2</th>\n",
       "      <td>0.371968</td>\n",
       "      <td>0.938309</td>\n",
       "      <td>0.559082</td>\n",
       "      <td>0.649536</td>\n",
       "      <td>0.124434</td>\n",
       "      <td>0.701001</td>\n",
       "    </tr>\n",
       "    <tr>\n",
       "      <th>1</th>\n",
       "      <td>0.098983</td>\n",
       "      <td>0.249922</td>\n",
       "      <td>0.687483</td>\n",
       "      <td>0.125248</td>\n",
       "      <td>0.666582</td>\n",
       "      <td>0.227405</td>\n",
       "    </tr>\n",
       "    <tr>\n",
       "      <th>0</th>\n",
       "      <td>0.876393</td>\n",
       "      <td>0.542810</td>\n",
       "      <td>0.982710</td>\n",
       "      <td>0.658837</td>\n",
       "      <td>0.590216</td>\n",
       "      <td>0.580122</td>\n",
       "    </tr>\n",
       "  </tbody>\n",
       "</table>\n",
       "</div>"
      ],
      "text/plain": [
       "          c         d         a         f         b         e\n",
       "8  0.536129  0.140736  0.984705  0.548298  0.713773  0.323464\n",
       "7  0.790196  0.297769  0.670929  0.416600  0.684626  0.914856\n",
       "6  0.022081  0.454180  0.946739  0.573755  0.010548  0.909636\n",
       "5  0.293492  0.992006  0.031340  0.039088  0.643286  0.760822\n",
       "4  0.024600  0.698147  0.582762  0.725091  0.393957  0.474147\n",
       "3  0.106327  0.239245  0.544481  0.286428  0.507504  0.168856\n",
       "2  0.371968  0.938309  0.559082  0.649536  0.124434  0.701001\n",
       "1  0.098983  0.249922  0.687483  0.125248  0.666582  0.227405\n",
       "0  0.876393  0.542810  0.982710  0.658837  0.590216  0.580122"
      ]
     },
     "execution_count": 59,
     "metadata": {},
     "output_type": "execute_result"
    }
   ],
   "source": [
    "# 降序方法\n",
    "data.sort_index(ascending=False)"
   ]
  },
  {
   "cell_type": "markdown",
   "id": "dd599f97-d506-4d5a-a6dc-1121a7a84455",
   "metadata": {},
   "source": [
    "+ **列项升序**"
   ]
  },
  {
   "cell_type": "code",
   "execution_count": 60,
   "id": "741585de-4276-475a-8eb4-8a27407896ab",
   "metadata": {},
   "outputs": [
    {
     "data": {
      "text/html": [
       "<div>\n",
       "<style scoped>\n",
       "    .dataframe tbody tr th:only-of-type {\n",
       "        vertical-align: middle;\n",
       "    }\n",
       "\n",
       "    .dataframe tbody tr th {\n",
       "        vertical-align: top;\n",
       "    }\n",
       "\n",
       "    .dataframe thead th {\n",
       "        text-align: right;\n",
       "    }\n",
       "</style>\n",
       "<table border=\"1\" class=\"dataframe\">\n",
       "  <thead>\n",
       "    <tr style=\"text-align: right;\">\n",
       "      <th></th>\n",
       "      <th>a</th>\n",
       "      <th>b</th>\n",
       "      <th>c</th>\n",
       "      <th>d</th>\n",
       "      <th>e</th>\n",
       "      <th>f</th>\n",
       "    </tr>\n",
       "  </thead>\n",
       "  <tbody>\n",
       "    <tr>\n",
       "      <th>0</th>\n",
       "      <td>0.982710</td>\n",
       "      <td>0.590216</td>\n",
       "      <td>0.876393</td>\n",
       "      <td>0.542810</td>\n",
       "      <td>0.580122</td>\n",
       "      <td>0.658837</td>\n",
       "    </tr>\n",
       "    <tr>\n",
       "      <th>1</th>\n",
       "      <td>0.687483</td>\n",
       "      <td>0.666582</td>\n",
       "      <td>0.098983</td>\n",
       "      <td>0.249922</td>\n",
       "      <td>0.227405</td>\n",
       "      <td>0.125248</td>\n",
       "    </tr>\n",
       "    <tr>\n",
       "      <th>2</th>\n",
       "      <td>0.559082</td>\n",
       "      <td>0.124434</td>\n",
       "      <td>0.371968</td>\n",
       "      <td>0.938309</td>\n",
       "      <td>0.701001</td>\n",
       "      <td>0.649536</td>\n",
       "    </tr>\n",
       "    <tr>\n",
       "      <th>3</th>\n",
       "      <td>0.544481</td>\n",
       "      <td>0.507504</td>\n",
       "      <td>0.106327</td>\n",
       "      <td>0.239245</td>\n",
       "      <td>0.168856</td>\n",
       "      <td>0.286428</td>\n",
       "    </tr>\n",
       "    <tr>\n",
       "      <th>4</th>\n",
       "      <td>0.582762</td>\n",
       "      <td>0.393957</td>\n",
       "      <td>0.024600</td>\n",
       "      <td>0.698147</td>\n",
       "      <td>0.474147</td>\n",
       "      <td>0.725091</td>\n",
       "    </tr>\n",
       "    <tr>\n",
       "      <th>5</th>\n",
       "      <td>0.031340</td>\n",
       "      <td>0.643286</td>\n",
       "      <td>0.293492</td>\n",
       "      <td>0.992006</td>\n",
       "      <td>0.760822</td>\n",
       "      <td>0.039088</td>\n",
       "    </tr>\n",
       "    <tr>\n",
       "      <th>6</th>\n",
       "      <td>0.946739</td>\n",
       "      <td>0.010548</td>\n",
       "      <td>0.022081</td>\n",
       "      <td>0.454180</td>\n",
       "      <td>0.909636</td>\n",
       "      <td>0.573755</td>\n",
       "    </tr>\n",
       "    <tr>\n",
       "      <th>7</th>\n",
       "      <td>0.670929</td>\n",
       "      <td>0.684626</td>\n",
       "      <td>0.790196</td>\n",
       "      <td>0.297769</td>\n",
       "      <td>0.914856</td>\n",
       "      <td>0.416600</td>\n",
       "    </tr>\n",
       "    <tr>\n",
       "      <th>8</th>\n",
       "      <td>0.984705</td>\n",
       "      <td>0.713773</td>\n",
       "      <td>0.536129</td>\n",
       "      <td>0.140736</td>\n",
       "      <td>0.323464</td>\n",
       "      <td>0.548298</td>\n",
       "    </tr>\n",
       "  </tbody>\n",
       "</table>\n",
       "</div>"
      ],
      "text/plain": [
       "          a         b         c         d         e         f\n",
       "0  0.982710  0.590216  0.876393  0.542810  0.580122  0.658837\n",
       "1  0.687483  0.666582  0.098983  0.249922  0.227405  0.125248\n",
       "2  0.559082  0.124434  0.371968  0.938309  0.701001  0.649536\n",
       "3  0.544481  0.507504  0.106327  0.239245  0.168856  0.286428\n",
       "4  0.582762  0.393957  0.024600  0.698147  0.474147  0.725091\n",
       "5  0.031340  0.643286  0.293492  0.992006  0.760822  0.039088\n",
       "6  0.946739  0.010548  0.022081  0.454180  0.909636  0.573755\n",
       "7  0.670929  0.684626  0.790196  0.297769  0.914856  0.416600\n",
       "8  0.984705  0.713773  0.536129  0.140736  0.323464  0.548298"
      ]
     },
     "execution_count": 60,
     "metadata": {},
     "output_type": "execute_result"
    }
   ],
   "source": [
    "data.sort_index(axis=1)"
   ]
  },
  {
   "cell_type": "code",
   "execution_count": 61,
   "id": "200611d5-6729-451e-8a71-d354b6a1f903",
   "metadata": {},
   "outputs": [
    {
     "data": {
      "text/html": [
       "<div>\n",
       "<style scoped>\n",
       "    .dataframe tbody tr th:only-of-type {\n",
       "        vertical-align: middle;\n",
       "    }\n",
       "\n",
       "    .dataframe tbody tr th {\n",
       "        vertical-align: top;\n",
       "    }\n",
       "\n",
       "    .dataframe thead th {\n",
       "        text-align: right;\n",
       "    }\n",
       "</style>\n",
       "<table border=\"1\" class=\"dataframe\">\n",
       "  <thead>\n",
       "    <tr style=\"text-align: right;\">\n",
       "      <th></th>\n",
       "      <th>f</th>\n",
       "      <th>e</th>\n",
       "      <th>d</th>\n",
       "      <th>c</th>\n",
       "      <th>b</th>\n",
       "      <th>a</th>\n",
       "    </tr>\n",
       "  </thead>\n",
       "  <tbody>\n",
       "    <tr>\n",
       "      <th>0</th>\n",
       "      <td>0.658837</td>\n",
       "      <td>0.580122</td>\n",
       "      <td>0.542810</td>\n",
       "      <td>0.876393</td>\n",
       "      <td>0.590216</td>\n",
       "      <td>0.982710</td>\n",
       "    </tr>\n",
       "    <tr>\n",
       "      <th>1</th>\n",
       "      <td>0.125248</td>\n",
       "      <td>0.227405</td>\n",
       "      <td>0.249922</td>\n",
       "      <td>0.098983</td>\n",
       "      <td>0.666582</td>\n",
       "      <td>0.687483</td>\n",
       "    </tr>\n",
       "    <tr>\n",
       "      <th>2</th>\n",
       "      <td>0.649536</td>\n",
       "      <td>0.701001</td>\n",
       "      <td>0.938309</td>\n",
       "      <td>0.371968</td>\n",
       "      <td>0.124434</td>\n",
       "      <td>0.559082</td>\n",
       "    </tr>\n",
       "    <tr>\n",
       "      <th>3</th>\n",
       "      <td>0.286428</td>\n",
       "      <td>0.168856</td>\n",
       "      <td>0.239245</td>\n",
       "      <td>0.106327</td>\n",
       "      <td>0.507504</td>\n",
       "      <td>0.544481</td>\n",
       "    </tr>\n",
       "    <tr>\n",
       "      <th>4</th>\n",
       "      <td>0.725091</td>\n",
       "      <td>0.474147</td>\n",
       "      <td>0.698147</td>\n",
       "      <td>0.024600</td>\n",
       "      <td>0.393957</td>\n",
       "      <td>0.582762</td>\n",
       "    </tr>\n",
       "    <tr>\n",
       "      <th>5</th>\n",
       "      <td>0.039088</td>\n",
       "      <td>0.760822</td>\n",
       "      <td>0.992006</td>\n",
       "      <td>0.293492</td>\n",
       "      <td>0.643286</td>\n",
       "      <td>0.031340</td>\n",
       "    </tr>\n",
       "    <tr>\n",
       "      <th>6</th>\n",
       "      <td>0.573755</td>\n",
       "      <td>0.909636</td>\n",
       "      <td>0.454180</td>\n",
       "      <td>0.022081</td>\n",
       "      <td>0.010548</td>\n",
       "      <td>0.946739</td>\n",
       "    </tr>\n",
       "    <tr>\n",
       "      <th>7</th>\n",
       "      <td>0.416600</td>\n",
       "      <td>0.914856</td>\n",
       "      <td>0.297769</td>\n",
       "      <td>0.790196</td>\n",
       "      <td>0.684626</td>\n",
       "      <td>0.670929</td>\n",
       "    </tr>\n",
       "    <tr>\n",
       "      <th>8</th>\n",
       "      <td>0.548298</td>\n",
       "      <td>0.323464</td>\n",
       "      <td>0.140736</td>\n",
       "      <td>0.536129</td>\n",
       "      <td>0.713773</td>\n",
       "      <td>0.984705</td>\n",
       "    </tr>\n",
       "  </tbody>\n",
       "</table>\n",
       "</div>"
      ],
      "text/plain": [
       "          f         e         d         c         b         a\n",
       "0  0.658837  0.580122  0.542810  0.876393  0.590216  0.982710\n",
       "1  0.125248  0.227405  0.249922  0.098983  0.666582  0.687483\n",
       "2  0.649536  0.701001  0.938309  0.371968  0.124434  0.559082\n",
       "3  0.286428  0.168856  0.239245  0.106327  0.507504  0.544481\n",
       "4  0.725091  0.474147  0.698147  0.024600  0.393957  0.582762\n",
       "5  0.039088  0.760822  0.992006  0.293492  0.643286  0.031340\n",
       "6  0.573755  0.909636  0.454180  0.022081  0.010548  0.946739\n",
       "7  0.416600  0.914856  0.297769  0.790196  0.684626  0.670929\n",
       "8  0.548298  0.323464  0.140736  0.536129  0.713773  0.984705"
      ]
     },
     "execution_count": 61,
     "metadata": {},
     "output_type": "execute_result"
    }
   ],
   "source": [
    "data.sort_index(axis = 1, ascending=False)"
   ]
  },
  {
   "cell_type": "markdown",
   "id": "32fcc100-6177-472a-a1df-3d7a3a88af8d",
   "metadata": {},
   "source": [
    "+ **列排序**"
   ]
  },
  {
   "cell_type": "code",
   "execution_count": 62,
   "id": "af49dbca-a306-417e-8a8e-268fe4ee1f25",
   "metadata": {},
   "outputs": [
    {
     "data": {
      "text/html": [
       "<div>\n",
       "<style scoped>\n",
       "    .dataframe tbody tr th:only-of-type {\n",
       "        vertical-align: middle;\n",
       "    }\n",
       "\n",
       "    .dataframe tbody tr th {\n",
       "        vertical-align: top;\n",
       "    }\n",
       "\n",
       "    .dataframe thead th {\n",
       "        text-align: right;\n",
       "    }\n",
       "</style>\n",
       "<table border=\"1\" class=\"dataframe\">\n",
       "  <thead>\n",
       "    <tr style=\"text-align: right;\">\n",
       "      <th></th>\n",
       "      <th>c</th>\n",
       "      <th>d</th>\n",
       "      <th>a</th>\n",
       "      <th>f</th>\n",
       "      <th>b</th>\n",
       "      <th>e</th>\n",
       "    </tr>\n",
       "  </thead>\n",
       "  <tbody>\n",
       "    <tr>\n",
       "      <th>6</th>\n",
       "      <td>0.022081</td>\n",
       "      <td>0.454180</td>\n",
       "      <td>0.946739</td>\n",
       "      <td>0.573755</td>\n",
       "      <td>0.010548</td>\n",
       "      <td>0.909636</td>\n",
       "    </tr>\n",
       "    <tr>\n",
       "      <th>4</th>\n",
       "      <td>0.024600</td>\n",
       "      <td>0.698147</td>\n",
       "      <td>0.582762</td>\n",
       "      <td>0.725091</td>\n",
       "      <td>0.393957</td>\n",
       "      <td>0.474147</td>\n",
       "    </tr>\n",
       "    <tr>\n",
       "      <th>1</th>\n",
       "      <td>0.098983</td>\n",
       "      <td>0.249922</td>\n",
       "      <td>0.687483</td>\n",
       "      <td>0.125248</td>\n",
       "      <td>0.666582</td>\n",
       "      <td>0.227405</td>\n",
       "    </tr>\n",
       "    <tr>\n",
       "      <th>3</th>\n",
       "      <td>0.106327</td>\n",
       "      <td>0.239245</td>\n",
       "      <td>0.544481</td>\n",
       "      <td>0.286428</td>\n",
       "      <td>0.507504</td>\n",
       "      <td>0.168856</td>\n",
       "    </tr>\n",
       "    <tr>\n",
       "      <th>5</th>\n",
       "      <td>0.293492</td>\n",
       "      <td>0.992006</td>\n",
       "      <td>0.031340</td>\n",
       "      <td>0.039088</td>\n",
       "      <td>0.643286</td>\n",
       "      <td>0.760822</td>\n",
       "    </tr>\n",
       "    <tr>\n",
       "      <th>2</th>\n",
       "      <td>0.371968</td>\n",
       "      <td>0.938309</td>\n",
       "      <td>0.559082</td>\n",
       "      <td>0.649536</td>\n",
       "      <td>0.124434</td>\n",
       "      <td>0.701001</td>\n",
       "    </tr>\n",
       "    <tr>\n",
       "      <th>8</th>\n",
       "      <td>0.536129</td>\n",
       "      <td>0.140736</td>\n",
       "      <td>0.984705</td>\n",
       "      <td>0.548298</td>\n",
       "      <td>0.713773</td>\n",
       "      <td>0.323464</td>\n",
       "    </tr>\n",
       "    <tr>\n",
       "      <th>7</th>\n",
       "      <td>0.790196</td>\n",
       "      <td>0.297769</td>\n",
       "      <td>0.670929</td>\n",
       "      <td>0.416600</td>\n",
       "      <td>0.684626</td>\n",
       "      <td>0.914856</td>\n",
       "    </tr>\n",
       "    <tr>\n",
       "      <th>0</th>\n",
       "      <td>0.876393</td>\n",
       "      <td>0.542810</td>\n",
       "      <td>0.982710</td>\n",
       "      <td>0.658837</td>\n",
       "      <td>0.590216</td>\n",
       "      <td>0.580122</td>\n",
       "    </tr>\n",
       "  </tbody>\n",
       "</table>\n",
       "</div>"
      ],
      "text/plain": [
       "          c         d         a         f         b         e\n",
       "6  0.022081  0.454180  0.946739  0.573755  0.010548  0.909636\n",
       "4  0.024600  0.698147  0.582762  0.725091  0.393957  0.474147\n",
       "1  0.098983  0.249922  0.687483  0.125248  0.666582  0.227405\n",
       "3  0.106327  0.239245  0.544481  0.286428  0.507504  0.168856\n",
       "5  0.293492  0.992006  0.031340  0.039088  0.643286  0.760822\n",
       "2  0.371968  0.938309  0.559082  0.649536  0.124434  0.701001\n",
       "8  0.536129  0.140736  0.984705  0.548298  0.713773  0.323464\n",
       "7  0.790196  0.297769  0.670929  0.416600  0.684626  0.914856\n",
       "0  0.876393  0.542810  0.982710  0.658837  0.590216  0.580122"
      ]
     },
     "execution_count": 62,
     "metadata": {},
     "output_type": "execute_result"
    }
   ],
   "source": [
    "data.sort_values(by = 'c')"
   ]
  },
  {
   "cell_type": "code",
   "execution_count": 63,
   "id": "1f37d549-bfd1-4c69-9a5a-6ec1ce2c11ae",
   "metadata": {},
   "outputs": [
    {
     "data": {
      "text/html": [
       "<div>\n",
       "<style scoped>\n",
       "    .dataframe tbody tr th:only-of-type {\n",
       "        vertical-align: middle;\n",
       "    }\n",
       "\n",
       "    .dataframe tbody tr th {\n",
       "        vertical-align: top;\n",
       "    }\n",
       "\n",
       "    .dataframe thead th {\n",
       "        text-align: right;\n",
       "    }\n",
       "</style>\n",
       "<table border=\"1\" class=\"dataframe\">\n",
       "  <thead>\n",
       "    <tr style=\"text-align: right;\">\n",
       "      <th></th>\n",
       "      <th>c</th>\n",
       "      <th>d</th>\n",
       "      <th>a</th>\n",
       "      <th>f</th>\n",
       "      <th>b</th>\n",
       "      <th>e</th>\n",
       "    </tr>\n",
       "  </thead>\n",
       "  <tbody>\n",
       "    <tr>\n",
       "      <th>6</th>\n",
       "      <td>0.022081</td>\n",
       "      <td>0.454180</td>\n",
       "      <td>0.946739</td>\n",
       "      <td>0.573755</td>\n",
       "      <td>0.010548</td>\n",
       "      <td>0.909636</td>\n",
       "    </tr>\n",
       "    <tr>\n",
       "      <th>4</th>\n",
       "      <td>0.024600</td>\n",
       "      <td>0.698147</td>\n",
       "      <td>0.582762</td>\n",
       "      <td>0.725091</td>\n",
       "      <td>0.393957</td>\n",
       "      <td>0.474147</td>\n",
       "    </tr>\n",
       "    <tr>\n",
       "      <th>1</th>\n",
       "      <td>0.098983</td>\n",
       "      <td>0.249922</td>\n",
       "      <td>0.687483</td>\n",
       "      <td>0.125248</td>\n",
       "      <td>0.666582</td>\n",
       "      <td>0.227405</td>\n",
       "    </tr>\n",
       "    <tr>\n",
       "      <th>3</th>\n",
       "      <td>0.106327</td>\n",
       "      <td>0.239245</td>\n",
       "      <td>0.544481</td>\n",
       "      <td>0.286428</td>\n",
       "      <td>0.507504</td>\n",
       "      <td>0.168856</td>\n",
       "    </tr>\n",
       "    <tr>\n",
       "      <th>5</th>\n",
       "      <td>0.293492</td>\n",
       "      <td>0.992006</td>\n",
       "      <td>0.031340</td>\n",
       "      <td>0.039088</td>\n",
       "      <td>0.643286</td>\n",
       "      <td>0.760822</td>\n",
       "    </tr>\n",
       "    <tr>\n",
       "      <th>2</th>\n",
       "      <td>0.371968</td>\n",
       "      <td>0.938309</td>\n",
       "      <td>0.559082</td>\n",
       "      <td>0.649536</td>\n",
       "      <td>0.124434</td>\n",
       "      <td>0.701001</td>\n",
       "    </tr>\n",
       "    <tr>\n",
       "      <th>8</th>\n",
       "      <td>0.536129</td>\n",
       "      <td>0.140736</td>\n",
       "      <td>0.984705</td>\n",
       "      <td>0.548298</td>\n",
       "      <td>0.713773</td>\n",
       "      <td>0.323464</td>\n",
       "    </tr>\n",
       "    <tr>\n",
       "      <th>7</th>\n",
       "      <td>0.790196</td>\n",
       "      <td>0.297769</td>\n",
       "      <td>0.670929</td>\n",
       "      <td>0.416600</td>\n",
       "      <td>0.684626</td>\n",
       "      <td>0.914856</td>\n",
       "    </tr>\n",
       "    <tr>\n",
       "      <th>0</th>\n",
       "      <td>0.876393</td>\n",
       "      <td>0.542810</td>\n",
       "      <td>0.982710</td>\n",
       "      <td>0.658837</td>\n",
       "      <td>0.590216</td>\n",
       "      <td>0.580122</td>\n",
       "    </tr>\n",
       "  </tbody>\n",
       "</table>\n",
       "</div>"
      ],
      "text/plain": [
       "          c         d         a         f         b         e\n",
       "6  0.022081  0.454180  0.946739  0.573755  0.010548  0.909636\n",
       "4  0.024600  0.698147  0.582762  0.725091  0.393957  0.474147\n",
       "1  0.098983  0.249922  0.687483  0.125248  0.666582  0.227405\n",
       "3  0.106327  0.239245  0.544481  0.286428  0.507504  0.168856\n",
       "5  0.293492  0.992006  0.031340  0.039088  0.643286  0.760822\n",
       "2  0.371968  0.938309  0.559082  0.649536  0.124434  0.701001\n",
       "8  0.536129  0.140736  0.984705  0.548298  0.713773  0.323464\n",
       "7  0.790196  0.297769  0.670929  0.416600  0.684626  0.914856\n",
       "0  0.876393  0.542810  0.982710  0.658837  0.590216  0.580122"
      ]
     },
     "execution_count": 63,
     "metadata": {},
     "output_type": "execute_result"
    }
   ],
   "source": [
    "data.sort_values(by = ['c', 'd'])"
   ]
  },
  {
   "cell_type": "code",
   "execution_count": 64,
   "id": "fd6eafa1-164f-4828-a168-2016d926685e",
   "metadata": {},
   "outputs": [
    {
     "data": {
      "text/plain": [
       "0    7\n",
       "1   -5\n",
       "2    7\n",
       "3    4\n",
       "4    2\n",
       "5    0\n",
       "6    4\n",
       "dtype: int64"
      ]
     },
     "execution_count": 64,
     "metadata": {},
     "output_type": "execute_result"
    }
   ],
   "source": [
    "s = pd.Series([7,-5,7,4,2,0,4])\n",
    "s"
   ]
  },
  {
   "cell_type": "code",
   "execution_count": 65,
   "id": "1b7c5cc3-5481-4ba0-b2e9-c4b9da050c85",
   "metadata": {},
   "outputs": [
    {
     "data": {
      "text/plain": [
       "1   -5\n",
       "5    0\n",
       "4    2\n",
       "3    4\n",
       "6    4\n",
       "0    7\n",
       "2    7\n",
       "dtype: int64"
      ]
     },
     "execution_count": 65,
     "metadata": {},
     "output_type": "execute_result"
    }
   ],
   "source": [
    "s.sort_values()"
   ]
  },
  {
   "cell_type": "code",
   "execution_count": 66,
   "id": "6576e0ee-ea69-4550-859d-7503176b64f5",
   "metadata": {},
   "outputs": [
    {
     "data": {
      "text/plain": [
       "0    6.5\n",
       "1    1.0\n",
       "2    6.5\n",
       "3    4.5\n",
       "4    3.0\n",
       "5    2.0\n",
       "6    4.5\n",
       "dtype: float64"
      ]
     },
     "execution_count": 66,
     "metadata": {},
     "output_type": "execute_result"
    }
   ],
   "source": [
    "s.rank()"
   ]
  },
  {
   "cell_type": "code",
   "execution_count": 67,
   "id": "c759625b-9998-4c4c-9b22-2df001269be5",
   "metadata": {},
   "outputs": [
    {
     "data": {
      "text/plain": [
       "0    6.0\n",
       "1    1.0\n",
       "2    7.0\n",
       "3    4.0\n",
       "4    3.0\n",
       "5    2.0\n",
       "6    5.0\n",
       "dtype: float64"
      ]
     },
     "execution_count": 67,
     "metadata": {},
     "output_type": "execute_result"
    }
   ],
   "source": [
    "s.rank(method = 'first')"
   ]
  },
  {
   "cell_type": "code",
   "execution_count": 68,
   "id": "467c8d64-76c4-4fe4-ae02-7a2bc5de3aa7",
   "metadata": {},
   "outputs": [
    {
     "data": {
      "text/html": [
       "<div>\n",
       "<style scoped>\n",
       "    .dataframe tbody tr th:only-of-type {\n",
       "        vertical-align: middle;\n",
       "    }\n",
       "\n",
       "    .dataframe tbody tr th {\n",
       "        vertical-align: top;\n",
       "    }\n",
       "\n",
       "    .dataframe thead th {\n",
       "        text-align: right;\n",
       "    }\n",
       "</style>\n",
       "<table border=\"1\" class=\"dataframe\">\n",
       "  <thead>\n",
       "    <tr style=\"text-align: right;\">\n",
       "      <th></th>\n",
       "      <th>c</th>\n",
       "      <th>d</th>\n",
       "      <th>a</th>\n",
       "      <th>f</th>\n",
       "      <th>b</th>\n",
       "      <th>e</th>\n",
       "    </tr>\n",
       "  </thead>\n",
       "  <tbody>\n",
       "    <tr>\n",
       "      <th>0</th>\n",
       "      <td>9.0</td>\n",
       "      <td>6.0</td>\n",
       "      <td>8.0</td>\n",
       "      <td>8.0</td>\n",
       "      <td>5.0</td>\n",
       "      <td>5.0</td>\n",
       "    </tr>\n",
       "    <tr>\n",
       "      <th>1</th>\n",
       "      <td>3.0</td>\n",
       "      <td>3.0</td>\n",
       "      <td>6.0</td>\n",
       "      <td>2.0</td>\n",
       "      <td>7.0</td>\n",
       "      <td>2.0</td>\n",
       "    </tr>\n",
       "    <tr>\n",
       "      <th>2</th>\n",
       "      <td>6.0</td>\n",
       "      <td>8.0</td>\n",
       "      <td>3.0</td>\n",
       "      <td>7.0</td>\n",
       "      <td>2.0</td>\n",
       "      <td>6.0</td>\n",
       "    </tr>\n",
       "    <tr>\n",
       "      <th>3</th>\n",
       "      <td>4.0</td>\n",
       "      <td>2.0</td>\n",
       "      <td>2.0</td>\n",
       "      <td>3.0</td>\n",
       "      <td>4.0</td>\n",
       "      <td>1.0</td>\n",
       "    </tr>\n",
       "    <tr>\n",
       "      <th>4</th>\n",
       "      <td>2.0</td>\n",
       "      <td>7.0</td>\n",
       "      <td>4.0</td>\n",
       "      <td>9.0</td>\n",
       "      <td>3.0</td>\n",
       "      <td>4.0</td>\n",
       "    </tr>\n",
       "    <tr>\n",
       "      <th>5</th>\n",
       "      <td>5.0</td>\n",
       "      <td>9.0</td>\n",
       "      <td>1.0</td>\n",
       "      <td>1.0</td>\n",
       "      <td>6.0</td>\n",
       "      <td>7.0</td>\n",
       "    </tr>\n",
       "    <tr>\n",
       "      <th>6</th>\n",
       "      <td>1.0</td>\n",
       "      <td>5.0</td>\n",
       "      <td>7.0</td>\n",
       "      <td>6.0</td>\n",
       "      <td>1.0</td>\n",
       "      <td>8.0</td>\n",
       "    </tr>\n",
       "    <tr>\n",
       "      <th>7</th>\n",
       "      <td>8.0</td>\n",
       "      <td>4.0</td>\n",
       "      <td>5.0</td>\n",
       "      <td>4.0</td>\n",
       "      <td>8.0</td>\n",
       "      <td>9.0</td>\n",
       "    </tr>\n",
       "    <tr>\n",
       "      <th>8</th>\n",
       "      <td>7.0</td>\n",
       "      <td>1.0</td>\n",
       "      <td>9.0</td>\n",
       "      <td>5.0</td>\n",
       "      <td>9.0</td>\n",
       "      <td>3.0</td>\n",
       "    </tr>\n",
       "  </tbody>\n",
       "</table>\n",
       "</div>"
      ],
      "text/plain": [
       "     c    d    a    f    b    e\n",
       "0  9.0  6.0  8.0  8.0  5.0  5.0\n",
       "1  3.0  3.0  6.0  2.0  7.0  2.0\n",
       "2  6.0  8.0  3.0  7.0  2.0  6.0\n",
       "3  4.0  2.0  2.0  3.0  4.0  1.0\n",
       "4  2.0  7.0  4.0  9.0  3.0  4.0\n",
       "5  5.0  9.0  1.0  1.0  6.0  7.0\n",
       "6  1.0  5.0  7.0  6.0  1.0  8.0\n",
       "7  8.0  4.0  5.0  4.0  8.0  9.0\n",
       "8  7.0  1.0  9.0  5.0  9.0  3.0"
      ]
     },
     "execution_count": 68,
     "metadata": {},
     "output_type": "execute_result"
    }
   ],
   "source": [
    "data.rank()"
   ]
  },
  {
   "cell_type": "code",
   "execution_count": 69,
   "id": "2df687ac-70fc-49f1-8267-7dd57f9bdb24",
   "metadata": {},
   "outputs": [
    {
     "data": {
      "text/html": [
       "<div>\n",
       "<style scoped>\n",
       "    .dataframe tbody tr th:only-of-type {\n",
       "        vertical-align: middle;\n",
       "    }\n",
       "\n",
       "    .dataframe tbody tr th {\n",
       "        vertical-align: top;\n",
       "    }\n",
       "\n",
       "    .dataframe thead th {\n",
       "        text-align: right;\n",
       "    }\n",
       "</style>\n",
       "<table border=\"1\" class=\"dataframe\">\n",
       "  <thead>\n",
       "    <tr style=\"text-align: right;\">\n",
       "      <th></th>\n",
       "      <th>c</th>\n",
       "      <th>d</th>\n",
       "      <th>a</th>\n",
       "      <th>f</th>\n",
       "      <th>b</th>\n",
       "      <th>e</th>\n",
       "    </tr>\n",
       "  </thead>\n",
       "  <tbody>\n",
       "    <tr>\n",
       "      <th>0</th>\n",
       "      <td>0.876393</td>\n",
       "      <td>0.542810</td>\n",
       "      <td>0.982710</td>\n",
       "      <td>0.658837</td>\n",
       "      <td>0.590216</td>\n",
       "      <td>0.580122</td>\n",
       "    </tr>\n",
       "    <tr>\n",
       "      <th>1</th>\n",
       "      <td>0.098983</td>\n",
       "      <td>0.249922</td>\n",
       "      <td>0.687483</td>\n",
       "      <td>0.125248</td>\n",
       "      <td>0.666582</td>\n",
       "      <td>0.227405</td>\n",
       "    </tr>\n",
       "    <tr>\n",
       "      <th>2</th>\n",
       "      <td>0.371968</td>\n",
       "      <td>0.938309</td>\n",
       "      <td>0.559082</td>\n",
       "      <td>0.649536</td>\n",
       "      <td>0.124434</td>\n",
       "      <td>0.701001</td>\n",
       "    </tr>\n",
       "    <tr>\n",
       "      <th>3</th>\n",
       "      <td>0.106327</td>\n",
       "      <td>0.239245</td>\n",
       "      <td>0.544481</td>\n",
       "      <td>0.286428</td>\n",
       "      <td>0.507504</td>\n",
       "      <td>0.168856</td>\n",
       "    </tr>\n",
       "    <tr>\n",
       "      <th>4</th>\n",
       "      <td>0.024600</td>\n",
       "      <td>0.698147</td>\n",
       "      <td>0.582762</td>\n",
       "      <td>0.725091</td>\n",
       "      <td>0.393957</td>\n",
       "      <td>0.474147</td>\n",
       "    </tr>\n",
       "    <tr>\n",
       "      <th>5</th>\n",
       "      <td>0.293492</td>\n",
       "      <td>0.992006</td>\n",
       "      <td>0.031340</td>\n",
       "      <td>0.039088</td>\n",
       "      <td>0.643286</td>\n",
       "      <td>0.760822</td>\n",
       "    </tr>\n",
       "    <tr>\n",
       "      <th>6</th>\n",
       "      <td>0.022081</td>\n",
       "      <td>0.454180</td>\n",
       "      <td>0.946739</td>\n",
       "      <td>0.573755</td>\n",
       "      <td>0.010548</td>\n",
       "      <td>0.909636</td>\n",
       "    </tr>\n",
       "    <tr>\n",
       "      <th>7</th>\n",
       "      <td>0.790196</td>\n",
       "      <td>0.297769</td>\n",
       "      <td>0.670929</td>\n",
       "      <td>0.416600</td>\n",
       "      <td>0.684626</td>\n",
       "      <td>0.914856</td>\n",
       "    </tr>\n",
       "    <tr>\n",
       "      <th>8</th>\n",
       "      <td>0.536129</td>\n",
       "      <td>0.140736</td>\n",
       "      <td>0.984705</td>\n",
       "      <td>0.548298</td>\n",
       "      <td>0.713773</td>\n",
       "      <td>0.323464</td>\n",
       "    </tr>\n",
       "  </tbody>\n",
       "</table>\n",
       "</div>"
      ],
      "text/plain": [
       "          c         d         a         f         b         e\n",
       "0  0.876393  0.542810  0.982710  0.658837  0.590216  0.580122\n",
       "1  0.098983  0.249922  0.687483  0.125248  0.666582  0.227405\n",
       "2  0.371968  0.938309  0.559082  0.649536  0.124434  0.701001\n",
       "3  0.106327  0.239245  0.544481  0.286428  0.507504  0.168856\n",
       "4  0.024600  0.698147  0.582762  0.725091  0.393957  0.474147\n",
       "5  0.293492  0.992006  0.031340  0.039088  0.643286  0.760822\n",
       "6  0.022081  0.454180  0.946739  0.573755  0.010548  0.909636\n",
       "7  0.790196  0.297769  0.670929  0.416600  0.684626  0.914856\n",
       "8  0.536129  0.140736  0.984705  0.548298  0.713773  0.323464"
      ]
     },
     "execution_count": 69,
     "metadata": {},
     "output_type": "execute_result"
    }
   ],
   "source": [
    "data"
   ]
  },
  {
   "cell_type": "markdown",
   "id": "b6149b40-253d-4858-8426-cead0ac956bb",
   "metadata": {},
   "source": [
    "+ **重新排序**(列)"
   ]
  },
  {
   "cell_type": "code",
   "execution_count": 70,
   "id": "ff73ee25-c6fc-4c39-bca3-0f79b58d8310",
   "metadata": {},
   "outputs": [
    {
     "data": {
      "text/html": [
       "<div>\n",
       "<style scoped>\n",
       "    .dataframe tbody tr th:only-of-type {\n",
       "        vertical-align: middle;\n",
       "    }\n",
       "\n",
       "    .dataframe tbody tr th {\n",
       "        vertical-align: top;\n",
       "    }\n",
       "\n",
       "    .dataframe thead th {\n",
       "        text-align: right;\n",
       "    }\n",
       "</style>\n",
       "<table border=\"1\" class=\"dataframe\">\n",
       "  <thead>\n",
       "    <tr style=\"text-align: right;\">\n",
       "      <th></th>\n",
       "      <th>a</th>\n",
       "      <th>e</th>\n",
       "      <th>f</th>\n",
       "      <th>d</th>\n",
       "      <th>b</th>\n",
       "      <th>c</th>\n",
       "    </tr>\n",
       "  </thead>\n",
       "  <tbody>\n",
       "    <tr>\n",
       "      <th>0</th>\n",
       "      <td>0.982710</td>\n",
       "      <td>0.580122</td>\n",
       "      <td>0.658837</td>\n",
       "      <td>0.542810</td>\n",
       "      <td>0.590216</td>\n",
       "      <td>0.876393</td>\n",
       "    </tr>\n",
       "    <tr>\n",
       "      <th>1</th>\n",
       "      <td>0.687483</td>\n",
       "      <td>0.227405</td>\n",
       "      <td>0.125248</td>\n",
       "      <td>0.249922</td>\n",
       "      <td>0.666582</td>\n",
       "      <td>0.098983</td>\n",
       "    </tr>\n",
       "    <tr>\n",
       "      <th>2</th>\n",
       "      <td>0.559082</td>\n",
       "      <td>0.701001</td>\n",
       "      <td>0.649536</td>\n",
       "      <td>0.938309</td>\n",
       "      <td>0.124434</td>\n",
       "      <td>0.371968</td>\n",
       "    </tr>\n",
       "    <tr>\n",
       "      <th>3</th>\n",
       "      <td>0.544481</td>\n",
       "      <td>0.168856</td>\n",
       "      <td>0.286428</td>\n",
       "      <td>0.239245</td>\n",
       "      <td>0.507504</td>\n",
       "      <td>0.106327</td>\n",
       "    </tr>\n",
       "    <tr>\n",
       "      <th>4</th>\n",
       "      <td>0.582762</td>\n",
       "      <td>0.474147</td>\n",
       "      <td>0.725091</td>\n",
       "      <td>0.698147</td>\n",
       "      <td>0.393957</td>\n",
       "      <td>0.024600</td>\n",
       "    </tr>\n",
       "    <tr>\n",
       "      <th>5</th>\n",
       "      <td>0.031340</td>\n",
       "      <td>0.760822</td>\n",
       "      <td>0.039088</td>\n",
       "      <td>0.992006</td>\n",
       "      <td>0.643286</td>\n",
       "      <td>0.293492</td>\n",
       "    </tr>\n",
       "    <tr>\n",
       "      <th>6</th>\n",
       "      <td>0.946739</td>\n",
       "      <td>0.909636</td>\n",
       "      <td>0.573755</td>\n",
       "      <td>0.454180</td>\n",
       "      <td>0.010548</td>\n",
       "      <td>0.022081</td>\n",
       "    </tr>\n",
       "    <tr>\n",
       "      <th>7</th>\n",
       "      <td>0.670929</td>\n",
       "      <td>0.914856</td>\n",
       "      <td>0.416600</td>\n",
       "      <td>0.297769</td>\n",
       "      <td>0.684626</td>\n",
       "      <td>0.790196</td>\n",
       "    </tr>\n",
       "    <tr>\n",
       "      <th>8</th>\n",
       "      <td>0.984705</td>\n",
       "      <td>0.323464</td>\n",
       "      <td>0.548298</td>\n",
       "      <td>0.140736</td>\n",
       "      <td>0.713773</td>\n",
       "      <td>0.536129</td>\n",
       "    </tr>\n",
       "  </tbody>\n",
       "</table>\n",
       "</div>"
      ],
      "text/plain": [
       "          a         e         f         d         b         c\n",
       "0  0.982710  0.580122  0.658837  0.542810  0.590216  0.876393\n",
       "1  0.687483  0.227405  0.125248  0.249922  0.666582  0.098983\n",
       "2  0.559082  0.701001  0.649536  0.938309  0.124434  0.371968\n",
       "3  0.544481  0.168856  0.286428  0.239245  0.507504  0.106327\n",
       "4  0.582762  0.474147  0.725091  0.698147  0.393957  0.024600\n",
       "5  0.031340  0.760822  0.039088  0.992006  0.643286  0.293492\n",
       "6  0.946739  0.909636  0.573755  0.454180  0.010548  0.022081\n",
       "7  0.670929  0.914856  0.416600  0.297769  0.684626  0.790196\n",
       "8  0.984705  0.323464  0.548298  0.140736  0.713773  0.536129"
      ]
     },
     "execution_count": 70,
     "metadata": {},
     "output_type": "execute_result"
    }
   ],
   "source": [
    "data.reindex(columns = ['a','e','f','d','b','c'])"
   ]
  },
  {
   "cell_type": "code",
   "execution_count": 71,
   "id": "f9866fb6-afc7-4090-9960-b41cfc84e08f",
   "metadata": {},
   "outputs": [
    {
     "data": {
      "text/html": [
       "<div>\n",
       "<style scoped>\n",
       "    .dataframe tbody tr th:only-of-type {\n",
       "        vertical-align: middle;\n",
       "    }\n",
       "\n",
       "    .dataframe tbody tr th {\n",
       "        vertical-align: top;\n",
       "    }\n",
       "\n",
       "    .dataframe thead th {\n",
       "        text-align: right;\n",
       "    }\n",
       "</style>\n",
       "<table border=\"1\" class=\"dataframe\">\n",
       "  <thead>\n",
       "    <tr style=\"text-align: right;\">\n",
       "      <th></th>\n",
       "      <th>a</th>\n",
       "      <th>e</th>\n",
       "      <th>f</th>\n",
       "      <th>d</th>\n",
       "      <th>r</th>\n",
       "      <th>c</th>\n",
       "    </tr>\n",
       "  </thead>\n",
       "  <tbody>\n",
       "    <tr>\n",
       "      <th>0</th>\n",
       "      <td>0.982710</td>\n",
       "      <td>0.580122</td>\n",
       "      <td>0.658837</td>\n",
       "      <td>0.542810</td>\n",
       "      <td>NaN</td>\n",
       "      <td>0.876393</td>\n",
       "    </tr>\n",
       "    <tr>\n",
       "      <th>1</th>\n",
       "      <td>0.687483</td>\n",
       "      <td>0.227405</td>\n",
       "      <td>0.125248</td>\n",
       "      <td>0.249922</td>\n",
       "      <td>NaN</td>\n",
       "      <td>0.098983</td>\n",
       "    </tr>\n",
       "    <tr>\n",
       "      <th>2</th>\n",
       "      <td>0.559082</td>\n",
       "      <td>0.701001</td>\n",
       "      <td>0.649536</td>\n",
       "      <td>0.938309</td>\n",
       "      <td>NaN</td>\n",
       "      <td>0.371968</td>\n",
       "    </tr>\n",
       "    <tr>\n",
       "      <th>3</th>\n",
       "      <td>0.544481</td>\n",
       "      <td>0.168856</td>\n",
       "      <td>0.286428</td>\n",
       "      <td>0.239245</td>\n",
       "      <td>NaN</td>\n",
       "      <td>0.106327</td>\n",
       "    </tr>\n",
       "    <tr>\n",
       "      <th>4</th>\n",
       "      <td>0.582762</td>\n",
       "      <td>0.474147</td>\n",
       "      <td>0.725091</td>\n",
       "      <td>0.698147</td>\n",
       "      <td>NaN</td>\n",
       "      <td>0.024600</td>\n",
       "    </tr>\n",
       "    <tr>\n",
       "      <th>5</th>\n",
       "      <td>0.031340</td>\n",
       "      <td>0.760822</td>\n",
       "      <td>0.039088</td>\n",
       "      <td>0.992006</td>\n",
       "      <td>NaN</td>\n",
       "      <td>0.293492</td>\n",
       "    </tr>\n",
       "    <tr>\n",
       "      <th>6</th>\n",
       "      <td>0.946739</td>\n",
       "      <td>0.909636</td>\n",
       "      <td>0.573755</td>\n",
       "      <td>0.454180</td>\n",
       "      <td>NaN</td>\n",
       "      <td>0.022081</td>\n",
       "    </tr>\n",
       "    <tr>\n",
       "      <th>7</th>\n",
       "      <td>0.670929</td>\n",
       "      <td>0.914856</td>\n",
       "      <td>0.416600</td>\n",
       "      <td>0.297769</td>\n",
       "      <td>NaN</td>\n",
       "      <td>0.790196</td>\n",
       "    </tr>\n",
       "    <tr>\n",
       "      <th>8</th>\n",
       "      <td>0.984705</td>\n",
       "      <td>0.323464</td>\n",
       "      <td>0.548298</td>\n",
       "      <td>0.140736</td>\n",
       "      <td>NaN</td>\n",
       "      <td>0.536129</td>\n",
       "    </tr>\n",
       "  </tbody>\n",
       "</table>\n",
       "</div>"
      ],
      "text/plain": [
       "          a         e         f         d   r         c\n",
       "0  0.982710  0.580122  0.658837  0.542810 NaN  0.876393\n",
       "1  0.687483  0.227405  0.125248  0.249922 NaN  0.098983\n",
       "2  0.559082  0.701001  0.649536  0.938309 NaN  0.371968\n",
       "3  0.544481  0.168856  0.286428  0.239245 NaN  0.106327\n",
       "4  0.582762  0.474147  0.725091  0.698147 NaN  0.024600\n",
       "5  0.031340  0.760822  0.039088  0.992006 NaN  0.293492\n",
       "6  0.946739  0.909636  0.573755  0.454180 NaN  0.022081\n",
       "7  0.670929  0.914856  0.416600  0.297769 NaN  0.790196\n",
       "8  0.984705  0.323464  0.548298  0.140736 NaN  0.536129"
      ]
     },
     "execution_count": 71,
     "metadata": {},
     "output_type": "execute_result"
    }
   ],
   "source": [
    "data.reindex(columns = ['a','e','f','d','r','c'])"
   ]
  },
  {
   "cell_type": "code",
   "execution_count": 72,
   "id": "125018e3-2459-426d-a049-bf20e2c037b4",
   "metadata": {},
   "outputs": [
    {
     "data": {
      "text/html": [
       "<div>\n",
       "<style scoped>\n",
       "    .dataframe tbody tr th:only-of-type {\n",
       "        vertical-align: middle;\n",
       "    }\n",
       "\n",
       "    .dataframe tbody tr th {\n",
       "        vertical-align: top;\n",
       "    }\n",
       "\n",
       "    .dataframe thead th {\n",
       "        text-align: right;\n",
       "    }\n",
       "</style>\n",
       "<table border=\"1\" class=\"dataframe\">\n",
       "  <thead>\n",
       "    <tr style=\"text-align: right;\">\n",
       "      <th></th>\n",
       "      <th>c</th>\n",
       "      <th>d</th>\n",
       "      <th>a</th>\n",
       "      <th>f</th>\n",
       "      <th>b</th>\n",
       "      <th>e</th>\n",
       "    </tr>\n",
       "  </thead>\n",
       "  <tbody>\n",
       "    <tr>\n",
       "      <th>1</th>\n",
       "      <td>0.098983</td>\n",
       "      <td>0.249922</td>\n",
       "      <td>0.687483</td>\n",
       "      <td>0.125248</td>\n",
       "      <td>0.666582</td>\n",
       "      <td>0.227405</td>\n",
       "    </tr>\n",
       "    <tr>\n",
       "      <th>2</th>\n",
       "      <td>0.371968</td>\n",
       "      <td>0.938309</td>\n",
       "      <td>0.559082</td>\n",
       "      <td>0.649536</td>\n",
       "      <td>0.124434</td>\n",
       "      <td>0.701001</td>\n",
       "    </tr>\n",
       "    <tr>\n",
       "      <th>4</th>\n",
       "      <td>0.024600</td>\n",
       "      <td>0.698147</td>\n",
       "      <td>0.582762</td>\n",
       "      <td>0.725091</td>\n",
       "      <td>0.393957</td>\n",
       "      <td>0.474147</td>\n",
       "    </tr>\n",
       "    <tr>\n",
       "      <th>3</th>\n",
       "      <td>0.106327</td>\n",
       "      <td>0.239245</td>\n",
       "      <td>0.544481</td>\n",
       "      <td>0.286428</td>\n",
       "      <td>0.507504</td>\n",
       "      <td>0.168856</td>\n",
       "    </tr>\n",
       "    <tr>\n",
       "      <th>5</th>\n",
       "      <td>0.293492</td>\n",
       "      <td>0.992006</td>\n",
       "      <td>0.031340</td>\n",
       "      <td>0.039088</td>\n",
       "      <td>0.643286</td>\n",
       "      <td>0.760822</td>\n",
       "    </tr>\n",
       "    <tr>\n",
       "      <th>6</th>\n",
       "      <td>0.022081</td>\n",
       "      <td>0.454180</td>\n",
       "      <td>0.946739</td>\n",
       "      <td>0.573755</td>\n",
       "      <td>0.010548</td>\n",
       "      <td>0.909636</td>\n",
       "    </tr>\n",
       "    <tr>\n",
       "      <th>0</th>\n",
       "      <td>0.876393</td>\n",
       "      <td>0.542810</td>\n",
       "      <td>0.982710</td>\n",
       "      <td>0.658837</td>\n",
       "      <td>0.590216</td>\n",
       "      <td>0.580122</td>\n",
       "    </tr>\n",
       "    <tr>\n",
       "      <th>7</th>\n",
       "      <td>0.790196</td>\n",
       "      <td>0.297769</td>\n",
       "      <td>0.670929</td>\n",
       "      <td>0.416600</td>\n",
       "      <td>0.684626</td>\n",
       "      <td>0.914856</td>\n",
       "    </tr>\n",
       "    <tr>\n",
       "      <th>8</th>\n",
       "      <td>0.536129</td>\n",
       "      <td>0.140736</td>\n",
       "      <td>0.984705</td>\n",
       "      <td>0.548298</td>\n",
       "      <td>0.713773</td>\n",
       "      <td>0.323464</td>\n",
       "    </tr>\n",
       "  </tbody>\n",
       "</table>\n",
       "</div>"
      ],
      "text/plain": [
       "          c         d         a         f         b         e\n",
       "1  0.098983  0.249922  0.687483  0.125248  0.666582  0.227405\n",
       "2  0.371968  0.938309  0.559082  0.649536  0.124434  0.701001\n",
       "4  0.024600  0.698147  0.582762  0.725091  0.393957  0.474147\n",
       "3  0.106327  0.239245  0.544481  0.286428  0.507504  0.168856\n",
       "5  0.293492  0.992006  0.031340  0.039088  0.643286  0.760822\n",
       "6  0.022081  0.454180  0.946739  0.573755  0.010548  0.909636\n",
       "0  0.876393  0.542810  0.982710  0.658837  0.590216  0.580122\n",
       "7  0.790196  0.297769  0.670929  0.416600  0.684626  0.914856\n",
       "8  0.536129  0.140736  0.984705  0.548298  0.713773  0.323464"
      ]
     },
     "execution_count": 72,
     "metadata": {},
     "output_type": "execute_result"
    }
   ],
   "source": [
    "data.reindex(index = [1,2,4,3,5,6,0,7,8])"
   ]
  },
  {
   "cell_type": "markdown",
   "id": "1406e1c1-9733-438b-a8c3-b997e7372c7a",
   "metadata": {},
   "source": [
    "+ **重新排序**(行)"
   ]
  },
  {
   "cell_type": "code",
   "execution_count": 73,
   "id": "645792e6-4789-4475-9e48-7e922546cc14",
   "metadata": {},
   "outputs": [
    {
     "data": {
      "text/html": [
       "<div>\n",
       "<style scoped>\n",
       "    .dataframe tbody tr th:only-of-type {\n",
       "        vertical-align: middle;\n",
       "    }\n",
       "\n",
       "    .dataframe tbody tr th {\n",
       "        vertical-align: top;\n",
       "    }\n",
       "\n",
       "    .dataframe thead th {\n",
       "        text-align: right;\n",
       "    }\n",
       "</style>\n",
       "<table border=\"1\" class=\"dataframe\">\n",
       "  <thead>\n",
       "    <tr style=\"text-align: right;\">\n",
       "      <th></th>\n",
       "      <th>c</th>\n",
       "      <th>d</th>\n",
       "      <th>a</th>\n",
       "      <th>f</th>\n",
       "      <th>b</th>\n",
       "      <th>e</th>\n",
       "    </tr>\n",
       "  </thead>\n",
       "  <tbody>\n",
       "    <tr>\n",
       "      <th>1</th>\n",
       "      <td>0.098983</td>\n",
       "      <td>0.249922</td>\n",
       "      <td>0.687483</td>\n",
       "      <td>0.125248</td>\n",
       "      <td>0.666582</td>\n",
       "      <td>0.227405</td>\n",
       "    </tr>\n",
       "    <tr>\n",
       "      <th>8</th>\n",
       "      <td>0.536129</td>\n",
       "      <td>0.140736</td>\n",
       "      <td>0.984705</td>\n",
       "      <td>0.548298</td>\n",
       "      <td>0.713773</td>\n",
       "      <td>0.323464</td>\n",
       "    </tr>\n",
       "  </tbody>\n",
       "</table>\n",
       "</div>"
      ],
      "text/plain": [
       "          c         d         a         f         b         e\n",
       "1  0.098983  0.249922  0.687483  0.125248  0.666582  0.227405\n",
       "8  0.536129  0.140736  0.984705  0.548298  0.713773  0.323464"
      ]
     },
     "execution_count": 73,
     "metadata": {},
     "output_type": "execute_result"
    }
   ],
   "source": [
    "data.reindex(index = [1,8])"
   ]
  },
  {
   "cell_type": "markdown",
   "id": "0ccec79f-91e9-4329-96f1-284e66b98f63",
   "metadata": {},
   "source": [
    "##### **4.5 数据观察和汇总统计方法**"
   ]
  },
  {
   "cell_type": "code",
   "execution_count": 74,
   "id": "f29f4f00-d2ed-4221-bbf7-28df6ad3b557",
   "metadata": {},
   "outputs": [
    {
     "data": {
      "text/html": [
       "<div>\n",
       "<style scoped>\n",
       "    .dataframe tbody tr th:only-of-type {\n",
       "        vertical-align: middle;\n",
       "    }\n",
       "\n",
       "    .dataframe tbody tr th {\n",
       "        vertical-align: top;\n",
       "    }\n",
       "\n",
       "    .dataframe thead th {\n",
       "        text-align: right;\n",
       "    }\n",
       "</style>\n",
       "<table border=\"1\" class=\"dataframe\">\n",
       "  <thead>\n",
       "    <tr style=\"text-align: right;\">\n",
       "      <th></th>\n",
       "      <th>a</th>\n",
       "      <th>b</th>\n",
       "      <th>c</th>\n",
       "      <th>d</th>\n",
       "      <th>e</th>\n",
       "      <th>f</th>\n",
       "    </tr>\n",
       "  </thead>\n",
       "  <tbody>\n",
       "    <tr>\n",
       "      <th>0</th>\n",
       "      <td>0.375853</td>\n",
       "      <td>1.519108</td>\n",
       "      <td>-1.173355</td>\n",
       "      <td>0.640436</td>\n",
       "      <td>-0.741248</td>\n",
       "      <td>0.736781</td>\n",
       "    </tr>\n",
       "    <tr>\n",
       "      <th>1</th>\n",
       "      <td>0.324085</td>\n",
       "      <td>-0.739253</td>\n",
       "      <td>-0.517197</td>\n",
       "      <td>-1.032798</td>\n",
       "      <td>-0.134372</td>\n",
       "      <td>0.178032</td>\n",
       "    </tr>\n",
       "    <tr>\n",
       "      <th>2</th>\n",
       "      <td>-1.606432</td>\n",
       "      <td>0.062452</td>\n",
       "      <td>0.776455</td>\n",
       "      <td>0.455097</td>\n",
       "      <td>-0.619261</td>\n",
       "      <td>-0.541645</td>\n",
       "    </tr>\n",
       "    <tr>\n",
       "      <th>3</th>\n",
       "      <td>0.195133</td>\n",
       "      <td>-0.474277</td>\n",
       "      <td>0.368004</td>\n",
       "      <td>-0.629071</td>\n",
       "      <td>0.200340</td>\n",
       "      <td>1.993811</td>\n",
       "    </tr>\n",
       "    <tr>\n",
       "      <th>4</th>\n",
       "      <td>-1.096395</td>\n",
       "      <td>-0.747987</td>\n",
       "      <td>-0.821300</td>\n",
       "      <td>0.527070</td>\n",
       "      <td>0.248423</td>\n",
       "      <td>-1.502304</td>\n",
       "    </tr>\n",
       "    <tr>\n",
       "      <th>5</th>\n",
       "      <td>0.659788</td>\n",
       "      <td>-1.185040</td>\n",
       "      <td>-0.531651</td>\n",
       "      <td>-1.125096</td>\n",
       "      <td>0.204715</td>\n",
       "      <td>-2.043513</td>\n",
       "    </tr>\n",
       "    <tr>\n",
       "      <th>6</th>\n",
       "      <td>-0.654908</td>\n",
       "      <td>0.434679</td>\n",
       "      <td>0.069856</td>\n",
       "      <td>0.297033</td>\n",
       "      <td>1.800932</td>\n",
       "      <td>1.383466</td>\n",
       "    </tr>\n",
       "    <tr>\n",
       "      <th>7</th>\n",
       "      <td>-0.660408</td>\n",
       "      <td>-0.463925</td>\n",
       "      <td>0.304483</td>\n",
       "      <td>-0.169458</td>\n",
       "      <td>2.071162</td>\n",
       "      <td>-0.265542</td>\n",
       "    </tr>\n",
       "    <tr>\n",
       "      <th>8</th>\n",
       "      <td>-0.468856</td>\n",
       "      <td>0.503494</td>\n",
       "      <td>-1.296672</td>\n",
       "      <td>-1.249136</td>\n",
       "      <td>1.273611</td>\n",
       "      <td>1.349171</td>\n",
       "    </tr>\n",
       "  </tbody>\n",
       "</table>\n",
       "</div>"
      ],
      "text/plain": [
       "          a         b         c         d         e         f\n",
       "0  0.375853  1.519108 -1.173355  0.640436 -0.741248  0.736781\n",
       "1  0.324085 -0.739253 -0.517197 -1.032798 -0.134372  0.178032\n",
       "2 -1.606432  0.062452  0.776455  0.455097 -0.619261 -0.541645\n",
       "3  0.195133 -0.474277  0.368004 -0.629071  0.200340  1.993811\n",
       "4 -1.096395 -0.747987 -0.821300  0.527070  0.248423 -1.502304\n",
       "5  0.659788 -1.185040 -0.531651 -1.125096  0.204715 -2.043513\n",
       "6 -0.654908  0.434679  0.069856  0.297033  1.800932  1.383466\n",
       "7 -0.660408 -0.463925  0.304483 -0.169458  2.071162 -0.265542\n",
       "8 -0.468856  0.503494 -1.296672 -1.249136  1.273611  1.349171"
      ]
     },
     "execution_count": 74,
     "metadata": {},
     "output_type": "execute_result"
    }
   ],
   "source": [
    "data = pd.DataFrame(np.random.randn(9,6), columns = list('abcdef'))\n",
    "data"
   ]
  },
  {
   "cell_type": "markdown",
   "id": "941f74eb-c470-4278-b2ff-dc40ce392d43",
   "metadata": {},
   "source": [
    "+ **只看部分数据**"
   ]
  },
  {
   "cell_type": "code",
   "execution_count": 75,
   "id": "157e632d-a0dc-4563-b1ab-f4d796549949",
   "metadata": {},
   "outputs": [
    {
     "data": {
      "text/html": [
       "<div>\n",
       "<style scoped>\n",
       "    .dataframe tbody tr th:only-of-type {\n",
       "        vertical-align: middle;\n",
       "    }\n",
       "\n",
       "    .dataframe tbody tr th {\n",
       "        vertical-align: top;\n",
       "    }\n",
       "\n",
       "    .dataframe thead th {\n",
       "        text-align: right;\n",
       "    }\n",
       "</style>\n",
       "<table border=\"1\" class=\"dataframe\">\n",
       "  <thead>\n",
       "    <tr style=\"text-align: right;\">\n",
       "      <th></th>\n",
       "      <th>a</th>\n",
       "      <th>b</th>\n",
       "      <th>c</th>\n",
       "      <th>d</th>\n",
       "      <th>e</th>\n",
       "      <th>f</th>\n",
       "    </tr>\n",
       "  </thead>\n",
       "  <tbody>\n",
       "    <tr>\n",
       "      <th>0</th>\n",
       "      <td>0.375853</td>\n",
       "      <td>1.519108</td>\n",
       "      <td>-1.173355</td>\n",
       "      <td>0.640436</td>\n",
       "      <td>-0.741248</td>\n",
       "      <td>0.736781</td>\n",
       "    </tr>\n",
       "    <tr>\n",
       "      <th>1</th>\n",
       "      <td>0.324085</td>\n",
       "      <td>-0.739253</td>\n",
       "      <td>-0.517197</td>\n",
       "      <td>-1.032798</td>\n",
       "      <td>-0.134372</td>\n",
       "      <td>0.178032</td>\n",
       "    </tr>\n",
       "    <tr>\n",
       "      <th>2</th>\n",
       "      <td>-1.606432</td>\n",
       "      <td>0.062452</td>\n",
       "      <td>0.776455</td>\n",
       "      <td>0.455097</td>\n",
       "      <td>-0.619261</td>\n",
       "      <td>-0.541645</td>\n",
       "    </tr>\n",
       "  </tbody>\n",
       "</table>\n",
       "</div>"
      ],
      "text/plain": [
       "          a         b         c         d         e         f\n",
       "0  0.375853  1.519108 -1.173355  0.640436 -0.741248  0.736781\n",
       "1  0.324085 -0.739253 -0.517197 -1.032798 -0.134372  0.178032\n",
       "2 -1.606432  0.062452  0.776455  0.455097 -0.619261 -0.541645"
      ]
     },
     "execution_count": 75,
     "metadata": {},
     "output_type": "execute_result"
    }
   ],
   "source": [
    "data.head(3)"
   ]
  },
  {
   "cell_type": "code",
   "execution_count": 76,
   "id": "1476c89b-a4de-4c24-8e06-aa030d741237",
   "metadata": {},
   "outputs": [
    {
     "data": {
      "text/html": [
       "<div>\n",
       "<style scoped>\n",
       "    .dataframe tbody tr th:only-of-type {\n",
       "        vertical-align: middle;\n",
       "    }\n",
       "\n",
       "    .dataframe tbody tr th {\n",
       "        vertical-align: top;\n",
       "    }\n",
       "\n",
       "    .dataframe thead th {\n",
       "        text-align: right;\n",
       "    }\n",
       "</style>\n",
       "<table border=\"1\" class=\"dataframe\">\n",
       "  <thead>\n",
       "    <tr style=\"text-align: right;\">\n",
       "      <th></th>\n",
       "      <th>a</th>\n",
       "      <th>b</th>\n",
       "      <th>c</th>\n",
       "      <th>d</th>\n",
       "      <th>e</th>\n",
       "      <th>f</th>\n",
       "    </tr>\n",
       "  </thead>\n",
       "  <tbody>\n",
       "    <tr>\n",
       "      <th>4</th>\n",
       "      <td>-1.096395</td>\n",
       "      <td>-0.747987</td>\n",
       "      <td>-0.821300</td>\n",
       "      <td>0.527070</td>\n",
       "      <td>0.248423</td>\n",
       "      <td>-1.502304</td>\n",
       "    </tr>\n",
       "    <tr>\n",
       "      <th>5</th>\n",
       "      <td>0.659788</td>\n",
       "      <td>-1.185040</td>\n",
       "      <td>-0.531651</td>\n",
       "      <td>-1.125096</td>\n",
       "      <td>0.204715</td>\n",
       "      <td>-2.043513</td>\n",
       "    </tr>\n",
       "    <tr>\n",
       "      <th>6</th>\n",
       "      <td>-0.654908</td>\n",
       "      <td>0.434679</td>\n",
       "      <td>0.069856</td>\n",
       "      <td>0.297033</td>\n",
       "      <td>1.800932</td>\n",
       "      <td>1.383466</td>\n",
       "    </tr>\n",
       "    <tr>\n",
       "      <th>7</th>\n",
       "      <td>-0.660408</td>\n",
       "      <td>-0.463925</td>\n",
       "      <td>0.304483</td>\n",
       "      <td>-0.169458</td>\n",
       "      <td>2.071162</td>\n",
       "      <td>-0.265542</td>\n",
       "    </tr>\n",
       "    <tr>\n",
       "      <th>8</th>\n",
       "      <td>-0.468856</td>\n",
       "      <td>0.503494</td>\n",
       "      <td>-1.296672</td>\n",
       "      <td>-1.249136</td>\n",
       "      <td>1.273611</td>\n",
       "      <td>1.349171</td>\n",
       "    </tr>\n",
       "  </tbody>\n",
       "</table>\n",
       "</div>"
      ],
      "text/plain": [
       "          a         b         c         d         e         f\n",
       "4 -1.096395 -0.747987 -0.821300  0.527070  0.248423 -1.502304\n",
       "5  0.659788 -1.185040 -0.531651 -1.125096  0.204715 -2.043513\n",
       "6 -0.654908  0.434679  0.069856  0.297033  1.800932  1.383466\n",
       "7 -0.660408 -0.463925  0.304483 -0.169458  2.071162 -0.265542\n",
       "8 -0.468856  0.503494 -1.296672 -1.249136  1.273611  1.349171"
      ]
     },
     "execution_count": 76,
     "metadata": {},
     "output_type": "execute_result"
    }
   ],
   "source": [
    "data.tail() #默认5行"
   ]
  },
  {
   "cell_type": "code",
   "execution_count": 77,
   "id": "1d3a947b-f103-4df2-82da-435d1d20de19",
   "metadata": {},
   "outputs": [
    {
     "data": {
      "text/html": [
       "<div>\n",
       "<style scoped>\n",
       "    .dataframe tbody tr th:only-of-type {\n",
       "        vertical-align: middle;\n",
       "    }\n",
       "\n",
       "    .dataframe tbody tr th {\n",
       "        vertical-align: top;\n",
       "    }\n",
       "\n",
       "    .dataframe thead th {\n",
       "        text-align: right;\n",
       "    }\n",
       "</style>\n",
       "<table border=\"1\" class=\"dataframe\">\n",
       "  <thead>\n",
       "    <tr style=\"text-align: right;\">\n",
       "      <th></th>\n",
       "      <th>a</th>\n",
       "      <th>b</th>\n",
       "      <th>c</th>\n",
       "      <th>d</th>\n",
       "      <th>e</th>\n",
       "      <th>f</th>\n",
       "    </tr>\n",
       "  </thead>\n",
       "  <tbody>\n",
       "    <tr>\n",
       "      <th>count</th>\n",
       "      <td>9.000000</td>\n",
       "      <td>9.000000</td>\n",
       "      <td>9.000000</td>\n",
       "      <td>9.000000</td>\n",
       "      <td>9.000000</td>\n",
       "      <td>9.000000</td>\n",
       "    </tr>\n",
       "    <tr>\n",
       "      <th>mean</th>\n",
       "      <td>-0.325793</td>\n",
       "      <td>-0.121194</td>\n",
       "      <td>-0.313486</td>\n",
       "      <td>-0.253992</td>\n",
       "      <td>0.478256</td>\n",
       "      <td>0.143140</td>\n",
       "    </tr>\n",
       "    <tr>\n",
       "      <th>std</th>\n",
       "      <td>0.760920</td>\n",
       "      <td>0.834589</td>\n",
       "      <td>0.727516</td>\n",
       "      <td>0.768114</td>\n",
       "      <td>1.011888</td>\n",
       "      <td>1.364570</td>\n",
       "    </tr>\n",
       "    <tr>\n",
       "      <th>min</th>\n",
       "      <td>-1.606432</td>\n",
       "      <td>-1.185040</td>\n",
       "      <td>-1.296672</td>\n",
       "      <td>-1.249136</td>\n",
       "      <td>-0.741248</td>\n",
       "      <td>-2.043513</td>\n",
       "    </tr>\n",
       "    <tr>\n",
       "      <th>25%</th>\n",
       "      <td>-0.660408</td>\n",
       "      <td>-0.739253</td>\n",
       "      <td>-0.821300</td>\n",
       "      <td>-1.032798</td>\n",
       "      <td>-0.134372</td>\n",
       "      <td>-0.541645</td>\n",
       "    </tr>\n",
       "    <tr>\n",
       "      <th>50%</th>\n",
       "      <td>-0.468856</td>\n",
       "      <td>-0.463925</td>\n",
       "      <td>-0.517197</td>\n",
       "      <td>-0.169458</td>\n",
       "      <td>0.204715</td>\n",
       "      <td>0.178032</td>\n",
       "    </tr>\n",
       "    <tr>\n",
       "      <th>75%</th>\n",
       "      <td>0.324085</td>\n",
       "      <td>0.434679</td>\n",
       "      <td>0.304483</td>\n",
       "      <td>0.455097</td>\n",
       "      <td>1.273611</td>\n",
       "      <td>1.349171</td>\n",
       "    </tr>\n",
       "    <tr>\n",
       "      <th>max</th>\n",
       "      <td>0.659788</td>\n",
       "      <td>1.519108</td>\n",
       "      <td>0.776455</td>\n",
       "      <td>0.640436</td>\n",
       "      <td>2.071162</td>\n",
       "      <td>1.993811</td>\n",
       "    </tr>\n",
       "  </tbody>\n",
       "</table>\n",
       "</div>"
      ],
      "text/plain": [
       "              a         b         c         d         e         f\n",
       "count  9.000000  9.000000  9.000000  9.000000  9.000000  9.000000\n",
       "mean  -0.325793 -0.121194 -0.313486 -0.253992  0.478256  0.143140\n",
       "std    0.760920  0.834589  0.727516  0.768114  1.011888  1.364570\n",
       "min   -1.606432 -1.185040 -1.296672 -1.249136 -0.741248 -2.043513\n",
       "25%   -0.660408 -0.739253 -0.821300 -1.032798 -0.134372 -0.541645\n",
       "50%   -0.468856 -0.463925 -0.517197 -0.169458  0.204715  0.178032\n",
       "75%    0.324085  0.434679  0.304483  0.455097  1.273611  1.349171\n",
       "max    0.659788  1.519108  0.776455  0.640436  2.071162  1.993811"
      ]
     },
     "execution_count": 77,
     "metadata": {},
     "output_type": "execute_result"
    }
   ],
   "source": [
    "data.describe()"
   ]
  },
  {
   "cell_type": "markdown",
   "id": "6c6b37b8-1cc4-41f1-b8f1-e3dde6d2bcd1",
   "metadata": {},
   "source": [
    "+ **按行求和**"
   ]
  },
  {
   "cell_type": "code",
   "execution_count": 78,
   "id": "c6c0d3fd-14d5-43b1-afca-d423dfa7cb1f",
   "metadata": {},
   "outputs": [
    {
     "data": {
      "text/plain": [
       "a   -2.932141\n",
       "b   -1.090749\n",
       "c   -2.821377\n",
       "d   -2.285924\n",
       "e    4.304303\n",
       "f    1.288258\n",
       "dtype: float64"
      ]
     },
     "execution_count": 78,
     "metadata": {},
     "output_type": "execute_result"
    }
   ],
   "source": [
    "data.sum() # 默认在行进行统计"
   ]
  },
  {
   "cell_type": "markdown",
   "id": "bcf5df73-6a92-4e66-8a1d-dc3b25d5cbf7",
   "metadata": {},
   "source": [
    "+ **按列求和**"
   ]
  },
  {
   "cell_type": "code",
   "execution_count": 79,
   "id": "bea61004-15bc-4328-ac30-68933e5981a6",
   "metadata": {},
   "outputs": [
    {
     "data": {
      "text/plain": [
       "0    1.357576\n",
       "1   -1.921505\n",
       "2   -1.473333\n",
       "3    1.653940\n",
       "4   -3.392493\n",
       "5   -4.020796\n",
       "6    3.331057\n",
       "7    0.816313\n",
       "8    0.111612\n",
       "dtype: float64"
      ]
     },
     "execution_count": 79,
     "metadata": {},
     "output_type": "execute_result"
    }
   ],
   "source": [
    "data.sum(axis = 1)"
   ]
  },
  {
   "cell_type": "code",
   "execution_count": 80,
   "id": "cd6711ea-fb2a-4185-b2a1-d501b676765b",
   "metadata": {},
   "outputs": [
    {
     "data": {
      "text/plain": [
       "0    0.226263\n",
       "1   -0.320251\n",
       "2   -0.245556\n",
       "3    0.275657\n",
       "4   -0.565416\n",
       "5   -0.670133\n",
       "6    0.555176\n",
       "7    0.136052\n",
       "8    0.018602\n",
       "dtype: float64"
      ]
     },
     "execution_count": 80,
     "metadata": {},
     "output_type": "execute_result"
    }
   ],
   "source": [
    "data.mean(1)"
   ]
  },
  {
   "cell_type": "code",
   "execution_count": 81,
   "id": "7d3a30b7-e90d-444a-814a-df27eac4296e",
   "metadata": {},
   "outputs": [
    {
     "data": {
      "text/plain": [
       "a    5\n",
       "b    0\n",
       "c    2\n",
       "d    0\n",
       "e    7\n",
       "f    3\n",
       "dtype: int64"
      ]
     },
     "execution_count": 81,
     "metadata": {},
     "output_type": "execute_result"
    }
   ],
   "source": [
    "data.idxmax() # 返回每一列最大值的索引"
   ]
  },
  {
   "cell_type": "code",
   "execution_count": 82,
   "id": "329cc36e-bfe6-4ac3-9c56-364fdedb1f7f",
   "metadata": {},
   "outputs": [
    {
     "data": {
      "text/plain": [
       "0    c\n",
       "1    d\n",
       "2    a\n",
       "3    d\n",
       "4    f\n",
       "5    f\n",
       "6    a\n",
       "7    a\n",
       "8    c\n",
       "dtype: object"
      ]
     },
     "execution_count": 82,
     "metadata": {},
     "output_type": "execute_result"
    }
   ],
   "source": [
    "data.idxmin(1) # 返回每一行最小值的索引"
   ]
  },
  {
   "cell_type": "code",
   "execution_count": 83,
   "id": "f0e111af-e1c1-4f74-8f1f-fa840cb796a0",
   "metadata": {},
   "outputs": [
    {
     "data": {
      "text/html": [
       "<div>\n",
       "<style scoped>\n",
       "    .dataframe tbody tr th:only-of-type {\n",
       "        vertical-align: middle;\n",
       "    }\n",
       "\n",
       "    .dataframe tbody tr th {\n",
       "        vertical-align: top;\n",
       "    }\n",
       "\n",
       "    .dataframe thead th {\n",
       "        text-align: right;\n",
       "    }\n",
       "</style>\n",
       "<table border=\"1\" class=\"dataframe\">\n",
       "  <thead>\n",
       "    <tr style=\"text-align: right;\">\n",
       "      <th></th>\n",
       "      <th>a</th>\n",
       "      <th>b</th>\n",
       "      <th>c</th>\n",
       "      <th>d</th>\n",
       "      <th>e</th>\n",
       "      <th>f</th>\n",
       "    </tr>\n",
       "  </thead>\n",
       "  <tbody>\n",
       "    <tr>\n",
       "      <th>0</th>\n",
       "      <td>7</td>\n",
       "      <td>9</td>\n",
       "      <td>9</td>\n",
       "      <td>7</td>\n",
       "      <td>5</td>\n",
       "      <td>7</td>\n",
       "    </tr>\n",
       "    <tr>\n",
       "      <th>1</th>\n",
       "      <td>8</td>\n",
       "      <td>7</td>\n",
       "      <td>8</td>\n",
       "      <td>6</td>\n",
       "      <td>8</td>\n",
       "      <td>5</td>\n",
       "    </tr>\n",
       "    <tr>\n",
       "      <th>2</th>\n",
       "      <td>6</td>\n",
       "      <td>8</td>\n",
       "      <td>8</td>\n",
       "      <td>7</td>\n",
       "      <td>8</td>\n",
       "      <td>7</td>\n",
       "    </tr>\n",
       "    <tr>\n",
       "      <th>3</th>\n",
       "      <td>9</td>\n",
       "      <td>5</td>\n",
       "      <td>5</td>\n",
       "      <td>9</td>\n",
       "      <td>8</td>\n",
       "      <td>7</td>\n",
       "    </tr>\n",
       "    <tr>\n",
       "      <th>4</th>\n",
       "      <td>8</td>\n",
       "      <td>9</td>\n",
       "      <td>7</td>\n",
       "      <td>8</td>\n",
       "      <td>9</td>\n",
       "      <td>5</td>\n",
       "    </tr>\n",
       "  </tbody>\n",
       "</table>\n",
       "</div>"
      ],
      "text/plain": [
       "   a  b  c  d  e  f\n",
       "0  7  9  9  7  5  7\n",
       "1  8  7  8  6  8  5\n",
       "2  6  8  8  7  8  7\n",
       "3  9  5  5  9  8  7\n",
       "4  8  9  7  8  9  5"
      ]
     },
     "execution_count": 83,
     "metadata": {},
     "output_type": "execute_result"
    }
   ],
   "source": [
    "data = pd.DataFrame(np.random.randint(5,10,(5,6)), columns = list('abcdef'))\n",
    "data"
   ]
  },
  {
   "cell_type": "code",
   "execution_count": 84,
   "id": "c248196b-2c8e-48e9-9240-3c9ac8aaa493",
   "metadata": {},
   "outputs": [
    {
     "data": {
      "text/plain": [
       "0    7\n",
       "1    8\n",
       "2    6\n",
       "3    9\n",
       "4    8\n",
       "Name: a, dtype: int32"
      ]
     },
     "execution_count": 84,
     "metadata": {},
     "output_type": "execute_result"
    }
   ],
   "source": [
    "data.a"
   ]
  },
  {
   "cell_type": "markdown",
   "id": "5c5009cf-728b-4b99-98ba-140938019953",
   "metadata": {},
   "source": [
    "+ **a列有几个值**"
   ]
  },
  {
   "cell_type": "code",
   "execution_count": 85,
   "id": "034fa6c3-5df8-405e-ae2a-251a0c5dfc58",
   "metadata": {},
   "outputs": [
    {
     "data": {
      "text/plain": [
       "array([7, 8, 6, 9])"
      ]
     },
     "execution_count": 85,
     "metadata": {},
     "output_type": "execute_result"
    }
   ],
   "source": [
    "data.a.unique()"
   ]
  },
  {
   "cell_type": "code",
   "execution_count": 86,
   "id": "bbe750e2-67ef-4920-a94c-921eec8ac824",
   "metadata": {},
   "outputs": [
    {
     "data": {
      "text/plain": [
       "8    2\n",
       "7    1\n",
       "6    1\n",
       "9    1\n",
       "Name: a, dtype: int64"
      ]
     },
     "execution_count": 86,
     "metadata": {},
     "output_type": "execute_result"
    }
   ],
   "source": [
    "data.a.value_counts() # 值的个数"
   ]
  },
  {
   "cell_type": "code",
   "execution_count": 87,
   "id": "c19f879e-f14b-49d0-99ed-68fdb6efeb65",
   "metadata": {},
   "outputs": [
    {
     "data": {
      "text/html": [
       "<div>\n",
       "<style scoped>\n",
       "    .dataframe tbody tr th:only-of-type {\n",
       "        vertical-align: middle;\n",
       "    }\n",
       "\n",
       "    .dataframe tbody tr th {\n",
       "        vertical-align: top;\n",
       "    }\n",
       "\n",
       "    .dataframe thead th {\n",
       "        text-align: right;\n",
       "    }\n",
       "</style>\n",
       "<table border=\"1\" class=\"dataframe\">\n",
       "  <thead>\n",
       "    <tr style=\"text-align: right;\">\n",
       "      <th></th>\n",
       "      <th>a</th>\n",
       "      <th>b</th>\n",
       "      <th>c</th>\n",
       "      <th>d</th>\n",
       "      <th>e</th>\n",
       "      <th>f</th>\n",
       "    </tr>\n",
       "  </thead>\n",
       "  <tbody>\n",
       "    <tr>\n",
       "      <th>0</th>\n",
       "      <td>0.315330</td>\n",
       "      <td>-0.150083</td>\n",
       "      <td>-0.873070</td>\n",
       "      <td>1.607490</td>\n",
       "      <td>-0.122311</td>\n",
       "      <td>-0.861971</td>\n",
       "    </tr>\n",
       "    <tr>\n",
       "      <th>1</th>\n",
       "      <td>0.515654</td>\n",
       "      <td>-0.265971</td>\n",
       "      <td>1.304478</td>\n",
       "      <td>0.396496</td>\n",
       "      <td>-1.929169</td>\n",
       "      <td>0.144007</td>\n",
       "    </tr>\n",
       "    <tr>\n",
       "      <th>2</th>\n",
       "      <td>1.385082</td>\n",
       "      <td>-0.198583</td>\n",
       "      <td>0.772750</td>\n",
       "      <td>0.295520</td>\n",
       "      <td>1.916530</td>\n",
       "      <td>-0.003821</td>\n",
       "    </tr>\n",
       "    <tr>\n",
       "      <th>3</th>\n",
       "      <td>-1.407186</td>\n",
       "      <td>-0.140876</td>\n",
       "      <td>-0.329780</td>\n",
       "      <td>-1.156591</td>\n",
       "      <td>1.454377</td>\n",
       "      <td>0.492252</td>\n",
       "    </tr>\n",
       "    <tr>\n",
       "      <th>4</th>\n",
       "      <td>0.059937</td>\n",
       "      <td>0.675811</td>\n",
       "      <td>-0.461315</td>\n",
       "      <td>-0.585324</td>\n",
       "      <td>-0.499242</td>\n",
       "      <td>1.251045</td>\n",
       "    </tr>\n",
       "    <tr>\n",
       "      <th>5</th>\n",
       "      <td>-1.400392</td>\n",
       "      <td>-0.639974</td>\n",
       "      <td>0.339780</td>\n",
       "      <td>-0.730997</td>\n",
       "      <td>0.562519</td>\n",
       "      <td>2.049195</td>\n",
       "    </tr>\n",
       "    <tr>\n",
       "      <th>6</th>\n",
       "      <td>0.269825</td>\n",
       "      <td>-2.164703</td>\n",
       "      <td>0.972167</td>\n",
       "      <td>1.346113</td>\n",
       "      <td>0.769610</td>\n",
       "      <td>0.126224</td>\n",
       "    </tr>\n",
       "    <tr>\n",
       "      <th>7</th>\n",
       "      <td>-1.605936</td>\n",
       "      <td>0.690875</td>\n",
       "      <td>0.795151</td>\n",
       "      <td>0.250970</td>\n",
       "      <td>-1.187519</td>\n",
       "      <td>-1.024107</td>\n",
       "    </tr>\n",
       "    <tr>\n",
       "      <th>8</th>\n",
       "      <td>-1.203418</td>\n",
       "      <td>-1.627366</td>\n",
       "      <td>0.067820</td>\n",
       "      <td>-2.052462</td>\n",
       "      <td>0.935621</td>\n",
       "      <td>0.071090</td>\n",
       "    </tr>\n",
       "  </tbody>\n",
       "</table>\n",
       "</div>"
      ],
      "text/plain": [
       "          a         b         c         d         e         f\n",
       "0  0.315330 -0.150083 -0.873070  1.607490 -0.122311 -0.861971\n",
       "1  0.515654 -0.265971  1.304478  0.396496 -1.929169  0.144007\n",
       "2  1.385082 -0.198583  0.772750  0.295520  1.916530 -0.003821\n",
       "3 -1.407186 -0.140876 -0.329780 -1.156591  1.454377  0.492252\n",
       "4  0.059937  0.675811 -0.461315 -0.585324 -0.499242  1.251045\n",
       "5 -1.400392 -0.639974  0.339780 -0.730997  0.562519  2.049195\n",
       "6  0.269825 -2.164703  0.972167  1.346113  0.769610  0.126224\n",
       "7 -1.605936  0.690875  0.795151  0.250970 -1.187519 -1.024107\n",
       "8 -1.203418 -1.627366  0.067820 -2.052462  0.935621  0.071090"
      ]
     },
     "execution_count": 87,
     "metadata": {},
     "output_type": "execute_result"
    }
   ],
   "source": [
    "data = pd.DataFrame(np.random.randn(9,6), columns = list('abcdef'))\n",
    "data"
   ]
  },
  {
   "cell_type": "markdown",
   "id": "81d9f7fb-b323-4b68-964e-b908ef69f930",
   "metadata": {},
   "source": [
    "+ **后一行相对于前一行的百分比变化**"
   ]
  },
  {
   "cell_type": "code",
   "execution_count": 88,
   "id": "0d0b1d21-98dc-4a20-b437-828c96ab648b",
   "metadata": {},
   "outputs": [
    {
     "data": {
      "text/html": [
       "<div>\n",
       "<style scoped>\n",
       "    .dataframe tbody tr th:only-of-type {\n",
       "        vertical-align: middle;\n",
       "    }\n",
       "\n",
       "    .dataframe tbody tr th {\n",
       "        vertical-align: top;\n",
       "    }\n",
       "\n",
       "    .dataframe thead th {\n",
       "        text-align: right;\n",
       "    }\n",
       "</style>\n",
       "<table border=\"1\" class=\"dataframe\">\n",
       "  <thead>\n",
       "    <tr style=\"text-align: right;\">\n",
       "      <th></th>\n",
       "      <th>a</th>\n",
       "      <th>b</th>\n",
       "      <th>c</th>\n",
       "      <th>d</th>\n",
       "      <th>e</th>\n",
       "      <th>f</th>\n",
       "    </tr>\n",
       "  </thead>\n",
       "  <tbody>\n",
       "    <tr>\n",
       "      <th>0</th>\n",
       "      <td>NaN</td>\n",
       "      <td>NaN</td>\n",
       "      <td>NaN</td>\n",
       "      <td>NaN</td>\n",
       "      <td>NaN</td>\n",
       "      <td>NaN</td>\n",
       "    </tr>\n",
       "    <tr>\n",
       "      <th>1</th>\n",
       "      <td>0.635283</td>\n",
       "      <td>0.772159</td>\n",
       "      <td>-2.494129</td>\n",
       "      <td>-0.753345</td>\n",
       "      <td>14.772594</td>\n",
       "      <td>-1.167067</td>\n",
       "    </tr>\n",
       "    <tr>\n",
       "      <th>2</th>\n",
       "      <td>1.686067</td>\n",
       "      <td>-0.253365</td>\n",
       "      <td>-0.407618</td>\n",
       "      <td>-0.254671</td>\n",
       "      <td>-1.993449</td>\n",
       "      <td>-1.026533</td>\n",
       "    </tr>\n",
       "    <tr>\n",
       "      <th>3</th>\n",
       "      <td>-2.015959</td>\n",
       "      <td>-0.290593</td>\n",
       "      <td>-1.426762</td>\n",
       "      <td>-4.913749</td>\n",
       "      <td>-0.241141</td>\n",
       "      <td>-129.828430</td>\n",
       "    </tr>\n",
       "    <tr>\n",
       "      <th>4</th>\n",
       "      <td>-1.042593</td>\n",
       "      <td>-5.797201</td>\n",
       "      <td>0.398855</td>\n",
       "      <td>-0.493924</td>\n",
       "      <td>-1.343269</td>\n",
       "      <td>1.541474</td>\n",
       "    </tr>\n",
       "    <tr>\n",
       "      <th>5</th>\n",
       "      <td>-24.364497</td>\n",
       "      <td>-1.946972</td>\n",
       "      <td>-1.736548</td>\n",
       "      <td>0.248878</td>\n",
       "      <td>-2.126746</td>\n",
       "      <td>0.637987</td>\n",
       "    </tr>\n",
       "    <tr>\n",
       "      <th>6</th>\n",
       "      <td>-1.192679</td>\n",
       "      <td>2.382487</td>\n",
       "      <td>1.861164</td>\n",
       "      <td>-2.841474</td>\n",
       "      <td>0.368149</td>\n",
       "      <td>-0.938403</td>\n",
       "    </tr>\n",
       "    <tr>\n",
       "      <th>7</th>\n",
       "      <td>-6.951759</td>\n",
       "      <td>-1.319155</td>\n",
       "      <td>-0.182084</td>\n",
       "      <td>-0.813559</td>\n",
       "      <td>-2.543014</td>\n",
       "      <td>-9.113385</td>\n",
       "    </tr>\n",
       "    <tr>\n",
       "      <th>8</th>\n",
       "      <td>-0.250644</td>\n",
       "      <td>-3.355513</td>\n",
       "      <td>-0.914708</td>\n",
       "      <td>-9.178103</td>\n",
       "      <td>-1.787878</td>\n",
       "      <td>-1.069416</td>\n",
       "    </tr>\n",
       "  </tbody>\n",
       "</table>\n",
       "</div>"
      ],
      "text/plain": [
       "           a         b         c         d          e           f\n",
       "0        NaN       NaN       NaN       NaN        NaN         NaN\n",
       "1   0.635283  0.772159 -2.494129 -0.753345  14.772594   -1.167067\n",
       "2   1.686067 -0.253365 -0.407618 -0.254671  -1.993449   -1.026533\n",
       "3  -2.015959 -0.290593 -1.426762 -4.913749  -0.241141 -129.828430\n",
       "4  -1.042593 -5.797201  0.398855 -0.493924  -1.343269    1.541474\n",
       "5 -24.364497 -1.946972 -1.736548  0.248878  -2.126746    0.637987\n",
       "6  -1.192679  2.382487  1.861164 -2.841474   0.368149   -0.938403\n",
       "7  -6.951759 -1.319155 -0.182084 -0.813559  -2.543014   -9.113385\n",
       "8  -0.250644 -3.355513 -0.914708 -9.178103  -1.787878   -1.069416"
      ]
     },
     "execution_count": 88,
     "metadata": {},
     "output_type": "execute_result"
    }
   ],
   "source": [
    "data.pct_change() "
   ]
  },
  {
   "cell_type": "markdown",
   "id": "a655fb1a-3ff2-4db8-b23c-3a43c836110f",
   "metadata": {},
   "source": [
    "+ **累加**"
   ]
  },
  {
   "cell_type": "code",
   "execution_count": 89,
   "id": "abe1ebd3-3b32-4cfe-8584-f73636655668",
   "metadata": {
    "tags": []
   },
   "outputs": [
    {
     "data": {
      "text/html": [
       "<div>\n",
       "<style scoped>\n",
       "    .dataframe tbody tr th:only-of-type {\n",
       "        vertical-align: middle;\n",
       "    }\n",
       "\n",
       "    .dataframe tbody tr th {\n",
       "        vertical-align: top;\n",
       "    }\n",
       "\n",
       "    .dataframe thead th {\n",
       "        text-align: right;\n",
       "    }\n",
       "</style>\n",
       "<table border=\"1\" class=\"dataframe\">\n",
       "  <thead>\n",
       "    <tr style=\"text-align: right;\">\n",
       "      <th></th>\n",
       "      <th>a</th>\n",
       "      <th>b</th>\n",
       "      <th>c</th>\n",
       "      <th>d</th>\n",
       "      <th>e</th>\n",
       "      <th>f</th>\n",
       "    </tr>\n",
       "  </thead>\n",
       "  <tbody>\n",
       "    <tr>\n",
       "      <th>0</th>\n",
       "      <td>0.315330</td>\n",
       "      <td>-0.150083</td>\n",
       "      <td>-0.873070</td>\n",
       "      <td>1.607490</td>\n",
       "      <td>-0.122311</td>\n",
       "      <td>-0.861971</td>\n",
       "    </tr>\n",
       "    <tr>\n",
       "      <th>1</th>\n",
       "      <td>0.830984</td>\n",
       "      <td>-0.416053</td>\n",
       "      <td>0.431409</td>\n",
       "      <td>2.003986</td>\n",
       "      <td>-2.051480</td>\n",
       "      <td>-0.717964</td>\n",
       "    </tr>\n",
       "    <tr>\n",
       "      <th>2</th>\n",
       "      <td>2.216066</td>\n",
       "      <td>-0.614636</td>\n",
       "      <td>1.204158</td>\n",
       "      <td>2.299506</td>\n",
       "      <td>-0.134950</td>\n",
       "      <td>-0.721785</td>\n",
       "    </tr>\n",
       "    <tr>\n",
       "      <th>3</th>\n",
       "      <td>0.808880</td>\n",
       "      <td>-0.755512</td>\n",
       "      <td>0.874378</td>\n",
       "      <td>1.142915</td>\n",
       "      <td>1.319427</td>\n",
       "      <td>-0.229533</td>\n",
       "    </tr>\n",
       "    <tr>\n",
       "      <th>4</th>\n",
       "      <td>0.868817</td>\n",
       "      <td>-0.079702</td>\n",
       "      <td>0.413063</td>\n",
       "      <td>0.557591</td>\n",
       "      <td>0.820185</td>\n",
       "      <td>1.021511</td>\n",
       "    </tr>\n",
       "    <tr>\n",
       "      <th>5</th>\n",
       "      <td>-0.531575</td>\n",
       "      <td>-0.719675</td>\n",
       "      <td>0.752843</td>\n",
       "      <td>-0.173406</td>\n",
       "      <td>1.382704</td>\n",
       "      <td>3.070706</td>\n",
       "    </tr>\n",
       "    <tr>\n",
       "      <th>6</th>\n",
       "      <td>-0.261750</td>\n",
       "      <td>-2.884378</td>\n",
       "      <td>1.725011</td>\n",
       "      <td>1.172706</td>\n",
       "      <td>2.152314</td>\n",
       "      <td>3.196931</td>\n",
       "    </tr>\n",
       "    <tr>\n",
       "      <th>7</th>\n",
       "      <td>-1.867686</td>\n",
       "      <td>-2.193503</td>\n",
       "      <td>2.520162</td>\n",
       "      <td>1.423677</td>\n",
       "      <td>0.964794</td>\n",
       "      <td>2.172824</td>\n",
       "    </tr>\n",
       "    <tr>\n",
       "      <th>8</th>\n",
       "      <td>-3.071104</td>\n",
       "      <td>-3.820869</td>\n",
       "      <td>2.587982</td>\n",
       "      <td>-0.628786</td>\n",
       "      <td>1.900415</td>\n",
       "      <td>2.243913</td>\n",
       "    </tr>\n",
       "  </tbody>\n",
       "</table>\n",
       "</div>"
      ],
      "text/plain": [
       "          a         b         c         d         e         f\n",
       "0  0.315330 -0.150083 -0.873070  1.607490 -0.122311 -0.861971\n",
       "1  0.830984 -0.416053  0.431409  2.003986 -2.051480 -0.717964\n",
       "2  2.216066 -0.614636  1.204158  2.299506 -0.134950 -0.721785\n",
       "3  0.808880 -0.755512  0.874378  1.142915  1.319427 -0.229533\n",
       "4  0.868817 -0.079702  0.413063  0.557591  0.820185  1.021511\n",
       "5 -0.531575 -0.719675  0.752843 -0.173406  1.382704  3.070706\n",
       "6 -0.261750 -2.884378  1.725011  1.172706  2.152314  3.196931\n",
       "7 -1.867686 -2.193503  2.520162  1.423677  0.964794  2.172824\n",
       "8 -3.071104 -3.820869  2.587982 -0.628786  1.900415  2.243913"
      ]
     },
     "execution_count": 89,
     "metadata": {},
     "output_type": "execute_result"
    }
   ],
   "source": [
    "data.cumsum()"
   ]
  },
  {
   "cell_type": "markdown",
   "id": "63dac8a1-7225-4fbe-993a-e40fb8de5331",
   "metadata": {},
   "source": [
    "+ **相关系数**"
   ]
  },
  {
   "cell_type": "code",
   "execution_count": 90,
   "id": "984279a9-edc0-4961-a108-6a9d82b14d9b",
   "metadata": {},
   "outputs": [
    {
     "data": {
      "text/html": [
       "<div>\n",
       "<style scoped>\n",
       "    .dataframe tbody tr th:only-of-type {\n",
       "        vertical-align: middle;\n",
       "    }\n",
       "\n",
       "    .dataframe tbody tr th {\n",
       "        vertical-align: top;\n",
       "    }\n",
       "\n",
       "    .dataframe thead th {\n",
       "        text-align: right;\n",
       "    }\n",
       "</style>\n",
       "<table border=\"1\" class=\"dataframe\">\n",
       "  <thead>\n",
       "    <tr style=\"text-align: right;\">\n",
       "      <th></th>\n",
       "      <th>a</th>\n",
       "      <th>b</th>\n",
       "      <th>c</th>\n",
       "      <th>d</th>\n",
       "      <th>e</th>\n",
       "      <th>f</th>\n",
       "    </tr>\n",
       "  </thead>\n",
       "  <tbody>\n",
       "    <tr>\n",
       "      <th>a</th>\n",
       "      <td>1.000000</td>\n",
       "      <td>-0.044451</td>\n",
       "      <td>0.191551</td>\n",
       "      <td>0.586806</td>\n",
       "      <td>0.036504</td>\n",
       "      <td>-0.161964</td>\n",
       "    </tr>\n",
       "    <tr>\n",
       "      <th>b</th>\n",
       "      <td>-0.044451</td>\n",
       "      <td>1.000000</td>\n",
       "      <td>-0.253803</td>\n",
       "      <td>0.018167</td>\n",
       "      <td>-0.415392</td>\n",
       "      <td>-0.081071</td>\n",
       "    </tr>\n",
       "    <tr>\n",
       "      <th>c</th>\n",
       "      <td>0.191551</td>\n",
       "      <td>-0.253803</td>\n",
       "      <td>1.000000</td>\n",
       "      <td>0.186780</td>\n",
       "      <td>-0.225699</td>\n",
       "      <td>-0.077913</td>\n",
       "    </tr>\n",
       "    <tr>\n",
       "      <th>d</th>\n",
       "      <td>0.586806</td>\n",
       "      <td>0.018167</td>\n",
       "      <td>0.186780</td>\n",
       "      <td>1.000000</td>\n",
       "      <td>-0.274982</td>\n",
       "      <td>-0.468080</td>\n",
       "    </tr>\n",
       "    <tr>\n",
       "      <th>e</th>\n",
       "      <td>0.036504</td>\n",
       "      <td>-0.415392</td>\n",
       "      <td>-0.225699</td>\n",
       "      <td>-0.274982</td>\n",
       "      <td>1.000000</td>\n",
       "      <td>0.205984</td>\n",
       "    </tr>\n",
       "    <tr>\n",
       "      <th>f</th>\n",
       "      <td>-0.161964</td>\n",
       "      <td>-0.081071</td>\n",
       "      <td>-0.077913</td>\n",
       "      <td>-0.468080</td>\n",
       "      <td>0.205984</td>\n",
       "      <td>1.000000</td>\n",
       "    </tr>\n",
       "  </tbody>\n",
       "</table>\n",
       "</div>"
      ],
      "text/plain": [
       "          a         b         c         d         e         f\n",
       "a  1.000000 -0.044451  0.191551  0.586806  0.036504 -0.161964\n",
       "b -0.044451  1.000000 -0.253803  0.018167 -0.415392 -0.081071\n",
       "c  0.191551 -0.253803  1.000000  0.186780 -0.225699 -0.077913\n",
       "d  0.586806  0.018167  0.186780  1.000000 -0.274982 -0.468080\n",
       "e  0.036504 -0.415392 -0.225699 -0.274982  1.000000  0.205984\n",
       "f -0.161964 -0.081071 -0.077913 -0.468080  0.205984  1.000000"
      ]
     },
     "execution_count": 90,
     "metadata": {},
     "output_type": "execute_result"
    }
   ],
   "source": [
    "data.corr()"
   ]
  },
  {
   "cell_type": "markdown",
   "id": "0a3123dd-e35f-413e-be93-e009bc736940",
   "metadata": {},
   "source": [
    "+ **某一列的相关系数**"
   ]
  },
  {
   "cell_type": "code",
   "execution_count": 91,
   "id": "78350be2-bf92-485c-ac34-a288247794f9",
   "metadata": {},
   "outputs": [
    {
     "data": {
      "text/plain": [
       "a    1.000000\n",
       "b   -0.044451\n",
       "c    0.191551\n",
       "d    0.586806\n",
       "e    0.036504\n",
       "f   -0.161964\n",
       "dtype: float64"
      ]
     },
     "execution_count": 91,
     "metadata": {},
     "output_type": "execute_result"
    }
   ],
   "source": [
    "data.corrwith(data.a)"
   ]
  },
  {
   "cell_type": "markdown",
   "id": "8931945c-87e0-4c2e-988e-6870c644a9a6",
   "metadata": {},
   "source": [
    "+ **协方差**"
   ]
  },
  {
   "cell_type": "code",
   "execution_count": 92,
   "id": "29fad056-af87-43c8-ae47-bc25d8908311",
   "metadata": {},
   "outputs": [
    {
     "data": {
      "text/html": [
       "<div>\n",
       "<style scoped>\n",
       "    .dataframe tbody tr th:only-of-type {\n",
       "        vertical-align: middle;\n",
       "    }\n",
       "\n",
       "    .dataframe tbody tr th {\n",
       "        vertical-align: top;\n",
       "    }\n",
       "\n",
       "    .dataframe thead th {\n",
       "        text-align: right;\n",
       "    }\n",
       "</style>\n",
       "<table border=\"1\" class=\"dataframe\">\n",
       "  <thead>\n",
       "    <tr style=\"text-align: right;\">\n",
       "      <th></th>\n",
       "      <th>a</th>\n",
       "      <th>b</th>\n",
       "      <th>c</th>\n",
       "      <th>d</th>\n",
       "      <th>e</th>\n",
       "      <th>f</th>\n",
       "    </tr>\n",
       "  </thead>\n",
       "  <tbody>\n",
       "    <tr>\n",
       "      <th>a</th>\n",
       "      <td>1.160092</td>\n",
       "      <td>-0.045446</td>\n",
       "      <td>0.151888</td>\n",
       "      <td>0.744048</td>\n",
       "      <td>0.049279</td>\n",
       "      <td>-0.166421</td>\n",
       "    </tr>\n",
       "    <tr>\n",
       "      <th>b</th>\n",
       "      <td>-0.045446</td>\n",
       "      <td>0.901036</td>\n",
       "      <td>-0.177362</td>\n",
       "      <td>0.020301</td>\n",
       "      <td>-0.494201</td>\n",
       "      <td>-0.073414</td>\n",
       "    </tr>\n",
       "    <tr>\n",
       "      <th>c</th>\n",
       "      <td>0.151888</td>\n",
       "      <td>-0.177362</td>\n",
       "      <td>0.541983</td>\n",
       "      <td>0.161877</td>\n",
       "      <td>-0.208256</td>\n",
       "      <td>-0.054719</td>\n",
       "    </tr>\n",
       "    <tr>\n",
       "      <th>d</th>\n",
       "      <td>0.744048</td>\n",
       "      <td>0.020301</td>\n",
       "      <td>0.161877</td>\n",
       "      <td>1.385863</td>\n",
       "      <td>-0.405732</td>\n",
       "      <td>-0.525680</td>\n",
       "    </tr>\n",
       "    <tr>\n",
       "      <th>e</th>\n",
       "      <td>0.049279</td>\n",
       "      <td>-0.494201</td>\n",
       "      <td>-0.208256</td>\n",
       "      <td>-0.405732</td>\n",
       "      <td>1.570903</td>\n",
       "      <td>0.246292</td>\n",
       "    </tr>\n",
       "    <tr>\n",
       "      <th>f</th>\n",
       "      <td>-0.166421</td>\n",
       "      <td>-0.073414</td>\n",
       "      <td>-0.054719</td>\n",
       "      <td>-0.525680</td>\n",
       "      <td>0.246292</td>\n",
       "      <td>0.910086</td>\n",
       "    </tr>\n",
       "  </tbody>\n",
       "</table>\n",
       "</div>"
      ],
      "text/plain": [
       "          a         b         c         d         e         f\n",
       "a  1.160092 -0.045446  0.151888  0.744048  0.049279 -0.166421\n",
       "b -0.045446  0.901036 -0.177362  0.020301 -0.494201 -0.073414\n",
       "c  0.151888 -0.177362  0.541983  0.161877 -0.208256 -0.054719\n",
       "d  0.744048  0.020301  0.161877  1.385863 -0.405732 -0.525680\n",
       "e  0.049279 -0.494201 -0.208256 -0.405732  1.570903  0.246292\n",
       "f -0.166421 -0.073414 -0.054719 -0.525680  0.246292  0.910086"
      ]
     },
     "execution_count": 92,
     "metadata": {},
     "output_type": "execute_result"
    }
   ],
   "source": [
    "data.cov()"
   ]
  },
  {
   "cell_type": "markdown",
   "id": "547f9287-6489-4b71-9678-1f26ed118b82",
   "metadata": {},
   "source": [
    "##### **4.6 数据的加载与存储**\n",
    "+ **读取数据**"
   ]
  },
  {
   "cell_type": "code",
   "execution_count": 93,
   "id": "dce68f9f-517b-40b2-9d95-4289b547621f",
   "metadata": {},
   "outputs": [
    {
     "data": {
      "text/html": [
       "<div>\n",
       "<style scoped>\n",
       "    .dataframe tbody tr th:only-of-type {\n",
       "        vertical-align: middle;\n",
       "    }\n",
       "\n",
       "    .dataframe tbody tr th {\n",
       "        vertical-align: top;\n",
       "    }\n",
       "\n",
       "    .dataframe thead th {\n",
       "        text-align: right;\n",
       "    }\n",
       "</style>\n",
       "<table border=\"1\" class=\"dataframe\">\n",
       "  <thead>\n",
       "    <tr style=\"text-align: right;\">\n",
       "      <th></th>\n",
       "      <th>Data</th>\n",
       "      <th>a1</th>\n",
       "      <th>a2</th>\n",
       "      <th>a3</th>\n",
       "      <th>a4</th>\n",
       "      <th>a5</th>\n",
       "      <th>a6</th>\n",
       "      <th>a7</th>\n",
       "    </tr>\n",
       "  </thead>\n",
       "  <tbody>\n",
       "    <tr>\n",
       "      <th>0</th>\n",
       "      <td>b1</td>\n",
       "      <td>1</td>\n",
       "      <td>2</td>\n",
       "      <td>3</td>\n",
       "      <td>4</td>\n",
       "      <td>5</td>\n",
       "      <td>6</td>\n",
       "      <td>7</td>\n",
       "    </tr>\n",
       "    <tr>\n",
       "      <th>1</th>\n",
       "      <td>b2</td>\n",
       "      <td>11</td>\n",
       "      <td>22</td>\n",
       "      <td>33</td>\n",
       "      <td>44</td>\n",
       "      <td>55</td>\n",
       "      <td>66</td>\n",
       "      <td>77</td>\n",
       "    </tr>\n",
       "    <tr>\n",
       "      <th>2</th>\n",
       "      <td>b3</td>\n",
       "      <td>12</td>\n",
       "      <td>13</td>\n",
       "      <td>14</td>\n",
       "      <td>15</td>\n",
       "      <td>16</td>\n",
       "      <td>17</td>\n",
       "      <td>18</td>\n",
       "    </tr>\n",
       "    <tr>\n",
       "      <th>3</th>\n",
       "      <td>b4</td>\n",
       "      <td>13</td>\n",
       "      <td>23</td>\n",
       "      <td>33</td>\n",
       "      <td>43</td>\n",
       "      <td>53</td>\n",
       "      <td>63</td>\n",
       "      <td>73</td>\n",
       "    </tr>\n",
       "    <tr>\n",
       "      <th>4</th>\n",
       "      <td>b5</td>\n",
       "      <td>14</td>\n",
       "      <td>24</td>\n",
       "      <td>34</td>\n",
       "      <td>44</td>\n",
       "      <td>54</td>\n",
       "      <td>64</td>\n",
       "      <td>74</td>\n",
       "    </tr>\n",
       "  </tbody>\n",
       "</table>\n",
       "</div>"
      ],
      "text/plain": [
       "  Data  a1  a2  a3  a4  a5  a6  a7\n",
       "0   b1   1   2   3   4   5   6   7\n",
       "1   b2  11  22  33  44  55  66  77\n",
       "2   b3  12  13  14  15  16  17  18\n",
       "3   b4  13  23  33  43  53  63  73\n",
       "4   b5  14  24  34  44  54  64  74"
      ]
     },
     "execution_count": 93,
     "metadata": {},
     "output_type": "execute_result"
    }
   ],
   "source": [
    "data = pd.read_csv('E:\\Anaconda\\datacsv1.csv')\n",
    "data.head()"
   ]
  },
  {
   "cell_type": "code",
   "execution_count": 94,
   "id": "5ae6e79a-3179-4fdd-b1cc-8509bfd3fd5d",
   "metadata": {},
   "outputs": [
    {
     "data": {
      "text/html": [
       "<div>\n",
       "<style scoped>\n",
       "    .dataframe tbody tr th:only-of-type {\n",
       "        vertical-align: middle;\n",
       "    }\n",
       "\n",
       "    .dataframe tbody tr th {\n",
       "        vertical-align: top;\n",
       "    }\n",
       "\n",
       "    .dataframe thead th {\n",
       "        text-align: right;\n",
       "    }\n",
       "</style>\n",
       "<table border=\"1\" class=\"dataframe\">\n",
       "  <thead>\n",
       "    <tr style=\"text-align: right;\">\n",
       "      <th></th>\n",
       "      <th>a1</th>\n",
       "      <th>a2</th>\n",
       "      <th>a3</th>\n",
       "      <th>a4</th>\n",
       "      <th>a5</th>\n",
       "      <th>a6</th>\n",
       "      <th>a7</th>\n",
       "    </tr>\n",
       "  </thead>\n",
       "  <tbody>\n",
       "    <tr>\n",
       "      <th>count</th>\n",
       "      <td>11.000000</td>\n",
       "      <td>11.000000</td>\n",
       "      <td>11.000000</td>\n",
       "      <td>11.000000</td>\n",
       "      <td>11.000000</td>\n",
       "      <td>11.000000</td>\n",
       "      <td>11.000000</td>\n",
       "    </tr>\n",
       "    <tr>\n",
       "      <th>mean</th>\n",
       "      <td>14.181818</td>\n",
       "      <td>22.727273</td>\n",
       "      <td>31.272727</td>\n",
       "      <td>39.818182</td>\n",
       "      <td>48.363636</td>\n",
       "      <td>56.909091</td>\n",
       "      <td>65.454545</td>\n",
       "    </tr>\n",
       "    <tr>\n",
       "      <th>std</th>\n",
       "      <td>5.231026</td>\n",
       "      <td>10.882012</td>\n",
       "      <td>18.044894</td>\n",
       "      <td>25.474765</td>\n",
       "      <td>32.991735</td>\n",
       "      <td>40.547391</td>\n",
       "      <td>48.123515</td>\n",
       "    </tr>\n",
       "    <tr>\n",
       "      <th>min</th>\n",
       "      <td>1.000000</td>\n",
       "      <td>2.000000</td>\n",
       "      <td>3.000000</td>\n",
       "      <td>3.000000</td>\n",
       "      <td>-2.000000</td>\n",
       "      <td>-7.000000</td>\n",
       "      <td>-12.000000</td>\n",
       "    </tr>\n",
       "    <tr>\n",
       "      <th>25%</th>\n",
       "      <td>12.500000</td>\n",
       "      <td>17.500000</td>\n",
       "      <td>22.000000</td>\n",
       "      <td>26.000000</td>\n",
       "      <td>30.000000</td>\n",
       "      <td>34.000000</td>\n",
       "      <td>38.000000</td>\n",
       "    </tr>\n",
       "    <tr>\n",
       "      <th>50%</th>\n",
       "      <td>15.000000</td>\n",
       "      <td>23.000000</td>\n",
       "      <td>33.000000</td>\n",
       "      <td>43.000000</td>\n",
       "      <td>53.000000</td>\n",
       "      <td>63.000000</td>\n",
       "      <td>73.000000</td>\n",
       "    </tr>\n",
       "    <tr>\n",
       "      <th>75%</th>\n",
       "      <td>17.500000</td>\n",
       "      <td>28.000000</td>\n",
       "      <td>40.000000</td>\n",
       "      <td>51.500000</td>\n",
       "      <td>63.500000</td>\n",
       "      <td>75.500000</td>\n",
       "      <td>87.500000</td>\n",
       "    </tr>\n",
       "    <tr>\n",
       "      <th>max</th>\n",
       "      <td>20.000000</td>\n",
       "      <td>42.000000</td>\n",
       "      <td>65.000000</td>\n",
       "      <td>88.000000</td>\n",
       "      <td>111.000000</td>\n",
       "      <td>134.000000</td>\n",
       "      <td>157.000000</td>\n",
       "    </tr>\n",
       "  </tbody>\n",
       "</table>\n",
       "</div>"
      ],
      "text/plain": [
       "              a1         a2         a3         a4          a5          a6  \\\n",
       "count  11.000000  11.000000  11.000000  11.000000   11.000000   11.000000   \n",
       "mean   14.181818  22.727273  31.272727  39.818182   48.363636   56.909091   \n",
       "std     5.231026  10.882012  18.044894  25.474765   32.991735   40.547391   \n",
       "min     1.000000   2.000000   3.000000   3.000000   -2.000000   -7.000000   \n",
       "25%    12.500000  17.500000  22.000000  26.000000   30.000000   34.000000   \n",
       "50%    15.000000  23.000000  33.000000  43.000000   53.000000   63.000000   \n",
       "75%    17.500000  28.000000  40.000000  51.500000   63.500000   75.500000   \n",
       "max    20.000000  42.000000  65.000000  88.000000  111.000000  134.000000   \n",
       "\n",
       "               a7  \n",
       "count   11.000000  \n",
       "mean    65.454545  \n",
       "std     48.123515  \n",
       "min    -12.000000  \n",
       "25%     38.000000  \n",
       "50%     73.000000  \n",
       "75%     87.500000  \n",
       "max    157.000000  "
      ]
     },
     "execution_count": 94,
     "metadata": {},
     "output_type": "execute_result"
    }
   ],
   "source": [
    "data.describe()"
   ]
  },
  {
   "cell_type": "code",
   "execution_count": 95,
   "id": "286b601c-feff-4ef0-a0e0-410a4848e37c",
   "metadata": {},
   "outputs": [
    {
     "data": {
      "text/html": [
       "<div>\n",
       "<style scoped>\n",
       "    .dataframe tbody tr th:only-of-type {\n",
       "        vertical-align: middle;\n",
       "    }\n",
       "\n",
       "    .dataframe tbody tr th {\n",
       "        vertical-align: top;\n",
       "    }\n",
       "\n",
       "    .dataframe thead th {\n",
       "        text-align: right;\n",
       "    }\n",
       "</style>\n",
       "<table border=\"1\" class=\"dataframe\">\n",
       "  <thead>\n",
       "    <tr style=\"text-align: right;\">\n",
       "      <th></th>\n",
       "      <th>Data</th>\n",
       "      <th>a1</th>\n",
       "      <th>a2</th>\n",
       "      <th>a3</th>\n",
       "      <th>a4</th>\n",
       "      <th>a5</th>\n",
       "      <th>a6</th>\n",
       "      <th>a7</th>\n",
       "    </tr>\n",
       "  </thead>\n",
       "  <tbody>\n",
       "    <tr>\n",
       "      <th>0</th>\n",
       "      <td>b1</td>\n",
       "      <td>1</td>\n",
       "      <td>2</td>\n",
       "      <td>3</td>\n",
       "      <td>4</td>\n",
       "      <td>5</td>\n",
       "      <td>6</td>\n",
       "      <td>7</td>\n",
       "    </tr>\n",
       "    <tr>\n",
       "      <th>1</th>\n",
       "      <td>b2</td>\n",
       "      <td>11</td>\n",
       "      <td>22</td>\n",
       "      <td>33</td>\n",
       "      <td>44</td>\n",
       "      <td>55</td>\n",
       "      <td>66</td>\n",
       "      <td>77</td>\n",
       "    </tr>\n",
       "  </tbody>\n",
       "</table>\n",
       "</div>"
      ],
      "text/plain": [
       "  Data  a1  a2  a3  a4  a5  a6  a7\n",
       "0   b1   1   2   3   4   5   6   7\n",
       "1   b2  11  22  33  44  55  66  77"
      ]
     },
     "execution_count": 95,
     "metadata": {},
     "output_type": "execute_result"
    }
   ],
   "source": [
    "data = pd.read_table('E:\\Anaconda\\datacsv1.csv', sep=',')\n",
    "data.head(2)"
   ]
  },
  {
   "cell_type": "code",
   "execution_count": 96,
   "id": "e82e0fa0-ac2c-4d8b-9ee4-44c87df77f81",
   "metadata": {},
   "outputs": [],
   "source": [
    "# data = pd.read_csv('E:\\Anaconda\\datacsv1.csv', header = None) "
   ]
  },
  {
   "cell_type": "code",
   "execution_count": 97,
   "id": "220429e1-f9cd-490c-9801-060f399ce400",
   "metadata": {},
   "outputs": [
    {
     "data": {
      "text/plain": [
       "Index(['Data', 'a1', 'a2', 'a3', 'a4', 'a5', 'a6', 'a7'], dtype='object')"
      ]
     },
     "execution_count": 97,
     "metadata": {},
     "output_type": "execute_result"
    }
   ],
   "source": [
    "names = data.columns # name = data.index\n",
    "names"
   ]
  },
  {
   "cell_type": "code",
   "execution_count": 98,
   "id": "bb119c7e-849e-4c56-9087-6a51aa616d9c",
   "metadata": {},
   "outputs": [
    {
     "data": {
      "text/html": [
       "<div>\n",
       "<style scoped>\n",
       "    .dataframe tbody tr th:only-of-type {\n",
       "        vertical-align: middle;\n",
       "    }\n",
       "\n",
       "    .dataframe tbody tr th {\n",
       "        vertical-align: top;\n",
       "    }\n",
       "\n",
       "    .dataframe thead th {\n",
       "        text-align: right;\n",
       "    }\n",
       "</style>\n",
       "<table border=\"1\" class=\"dataframe\">\n",
       "  <thead>\n",
       "    <tr style=\"text-align: right;\">\n",
       "      <th></th>\n",
       "      <th>Data</th>\n",
       "      <th>a1</th>\n",
       "      <th>a2</th>\n",
       "      <th>a3</th>\n",
       "      <th>a4</th>\n",
       "      <th>a5</th>\n",
       "      <th>a6</th>\n",
       "      <th>a7</th>\n",
       "    </tr>\n",
       "  </thead>\n",
       "  <tbody>\n",
       "    <tr>\n",
       "      <th>0</th>\n",
       "      <td>Data</td>\n",
       "      <td>a1</td>\n",
       "      <td>a2</td>\n",
       "      <td>a3</td>\n",
       "      <td>a4</td>\n",
       "      <td>a5</td>\n",
       "      <td>a6</td>\n",
       "      <td>a7</td>\n",
       "    </tr>\n",
       "    <tr>\n",
       "      <th>1</th>\n",
       "      <td>b1</td>\n",
       "      <td>1</td>\n",
       "      <td>2</td>\n",
       "      <td>3</td>\n",
       "      <td>4</td>\n",
       "      <td>5</td>\n",
       "      <td>6</td>\n",
       "      <td>7</td>\n",
       "    </tr>\n",
       "  </tbody>\n",
       "</table>\n",
       "</div>"
      ],
      "text/plain": [
       "   Data  a1  a2  a3  a4  a5  a6  a7\n",
       "0  Data  a1  a2  a3  a4  a5  a6  a7\n",
       "1    b1   1   2   3   4   5   6   7"
      ]
     },
     "execution_count": 98,
     "metadata": {},
     "output_type": "execute_result"
    }
   ],
   "source": [
    "data = pd.read_table('E:\\Anaconda\\datacsv1.csv', sep=',', names = names)\n",
    "data.head(2)"
   ]
  },
  {
   "cell_type": "code",
   "execution_count": 99,
   "id": "adefd07a-2f11-4a4a-81a1-7852807bc9e6",
   "metadata": {},
   "outputs": [],
   "source": [
    "# data = pd.read_table('E:\\Anaconda\\datacsv1.csv', index_col = 'Location')"
   ]
  },
  {
   "cell_type": "code",
   "execution_count": 100,
   "id": "b6c94325-446a-461b-971a-a2de78f5f26e",
   "metadata": {},
   "outputs": [
    {
     "data": {
      "text/html": [
       "<div>\n",
       "<style scoped>\n",
       "    .dataframe tbody tr th:only-of-type {\n",
       "        vertical-align: middle;\n",
       "    }\n",
       "\n",
       "    .dataframe tbody tr th {\n",
       "        vertical-align: top;\n",
       "    }\n",
       "\n",
       "    .dataframe thead th {\n",
       "        text-align: right;\n",
       "    }\n",
       "</style>\n",
       "<table border=\"1\" class=\"dataframe\">\n",
       "  <thead>\n",
       "    <tr style=\"text-align: right;\">\n",
       "      <th></th>\n",
       "      <th>Data,a1,a2,a3,a4,a5,a6,a7</th>\n",
       "    </tr>\n",
       "  </thead>\n",
       "  <tbody>\n",
       "    <tr>\n",
       "      <th>0</th>\n",
       "      <td>b1,1,2,3,4,5,6,7</td>\n",
       "    </tr>\n",
       "    <tr>\n",
       "      <th>1</th>\n",
       "      <td>b2,11,22,33,44,55,66,77</td>\n",
       "    </tr>\n",
       "    <tr>\n",
       "      <th>2</th>\n",
       "      <td>b3,12,13,14,15,16,17,18</td>\n",
       "    </tr>\n",
       "  </tbody>\n",
       "</table>\n",
       "</div>"
      ],
      "text/plain": [
       "  Data,a1,a2,a3,a4,a5,a6,a7\n",
       "0          b1,1,2,3,4,5,6,7\n",
       "1   b2,11,22,33,44,55,66,77\n",
       "2   b3,12,13,14,15,16,17,18"
      ]
     },
     "execution_count": 100,
     "metadata": {},
     "output_type": "execute_result"
    }
   ],
   "source": [
    "data = pd.read_table('E:\\Anaconda\\datacsv1.csv', nrows = 3)\n",
    "data"
   ]
  },
  {
   "cell_type": "markdown",
   "id": "238d1458-c644-4f76-acf8-5fdcf98bc481",
   "metadata": {},
   "source": [
    "+ **保存新的文件**"
   ]
  },
  {
   "cell_type": "code",
   "execution_count": 101,
   "id": "9baaeb26-0918-4465-9676-79e989754e62",
   "metadata": {},
   "outputs": [],
   "source": [
    "# data.to_csv('datacsv2.csv', index = False)"
   ]
  },
  {
   "cell_type": "code",
   "execution_count": 102,
   "id": "b78005ac-e60d-4740-91c9-aaf74c651fe8",
   "metadata": {},
   "outputs": [
    {
     "data": {
      "text/html": [
       "<div>\n",
       "<style scoped>\n",
       "    .dataframe tbody tr th:only-of-type {\n",
       "        vertical-align: middle;\n",
       "    }\n",
       "\n",
       "    .dataframe tbody tr th {\n",
       "        vertical-align: top;\n",
       "    }\n",
       "\n",
       "    .dataframe thead th {\n",
       "        text-align: right;\n",
       "    }\n",
       "</style>\n",
       "<table border=\"1\" class=\"dataframe\">\n",
       "  <thead>\n",
       "    <tr style=\"text-align: right;\">\n",
       "      <th></th>\n",
       "      <th>Data</th>\n",
       "      <th>a1</th>\n",
       "      <th>a2</th>\n",
       "      <th>a3</th>\n",
       "      <th>a4</th>\n",
       "      <th>a5</th>\n",
       "      <th>a6</th>\n",
       "      <th>a7</th>\n",
       "    </tr>\n",
       "  </thead>\n",
       "  <tbody>\n",
       "    <tr>\n",
       "      <th>0</th>\n",
       "      <td>b1</td>\n",
       "      <td>1</td>\n",
       "      <td>2</td>\n",
       "      <td>3</td>\n",
       "      <td>4</td>\n",
       "      <td>5</td>\n",
       "      <td>6</td>\n",
       "      <td>7</td>\n",
       "    </tr>\n",
       "    <tr>\n",
       "      <th>1</th>\n",
       "      <td>b2</td>\n",
       "      <td>11</td>\n",
       "      <td>22</td>\n",
       "      <td>33</td>\n",
       "      <td>44</td>\n",
       "      <td>55</td>\n",
       "      <td>66</td>\n",
       "      <td>77</td>\n",
       "    </tr>\n",
       "    <tr>\n",
       "      <th>2</th>\n",
       "      <td>b3</td>\n",
       "      <td>12</td>\n",
       "      <td>13</td>\n",
       "      <td>14</td>\n",
       "      <td>15</td>\n",
       "      <td>16</td>\n",
       "      <td>17</td>\n",
       "      <td>18</td>\n",
       "    </tr>\n",
       "    <tr>\n",
       "      <th>3</th>\n",
       "      <td>b4</td>\n",
       "      <td>13</td>\n",
       "      <td>23</td>\n",
       "      <td>33</td>\n",
       "      <td>43</td>\n",
       "      <td>53</td>\n",
       "      <td>63</td>\n",
       "      <td>73</td>\n",
       "    </tr>\n",
       "    <tr>\n",
       "      <th>4</th>\n",
       "      <td>b5</td>\n",
       "      <td>14</td>\n",
       "      <td>24</td>\n",
       "      <td>34</td>\n",
       "      <td>44</td>\n",
       "      <td>54</td>\n",
       "      <td>64</td>\n",
       "      <td>74</td>\n",
       "    </tr>\n",
       "  </tbody>\n",
       "</table>\n",
       "</div>"
      ],
      "text/plain": [
       "  Data  a1  a2  a3  a4  a5  a6  a7\n",
       "0   b1   1   2   3   4   5   6   7\n",
       "1   b2  11  22  33  44  55  66  77\n",
       "2   b3  12  13  14  15  16  17  18\n",
       "3   b4  13  23  33  43  53  63  73\n",
       "4   b5  14  24  34  44  54  64  74"
      ]
     },
     "execution_count": 102,
     "metadata": {},
     "output_type": "execute_result"
    }
   ],
   "source": [
    "data = pd.read_excel('E:\\Anaconda\\dataxlsx1.xlsx')\n",
    "data.head()"
   ]
  },
  {
   "cell_type": "code",
   "execution_count": 103,
   "id": "dd5e7719-440d-48d4-b62b-75caaeb00acb",
   "metadata": {},
   "outputs": [],
   "source": [
    "# data = pd.read_excel('E:\\Anaconda\\dataxlsx1.xlsx', sheet_name = 'sheet_1')"
   ]
  },
  {
   "cell_type": "code",
   "execution_count": 104,
   "id": "6a624184-ba01-411a-9756-2fa21ffda5e6",
   "metadata": {},
   "outputs": [],
   "source": [
    "# data.to_excel('E:\\Anaconda\\dataxlsx2.xlsx')"
   ]
  },
  {
   "cell_type": "code",
   "execution_count": 105,
   "id": "d20cbadf-c746-4c75-ad58-bb0c692ef5d4",
   "metadata": {},
   "outputs": [
    {
     "data": {
      "text/plain": [
       "1"
      ]
     },
     "execution_count": 105,
     "metadata": {},
     "output_type": "execute_result"
    }
   ],
   "source": [
    "pd.read_pickle\n",
    "pd.read_json\n",
    "1"
   ]
  },
  {
   "cell_type": "markdown",
   "id": "1adb49d5-3e29-487e-ada5-a9009db537f4",
   "metadata": {},
   "source": [
    "##### **4.7 合并数据集**"
   ]
  },
  {
   "cell_type": "code",
   "execution_count": 106,
   "id": "4628f6a7-96ca-45f3-8bcd-412a9f53c24b",
   "metadata": {},
   "outputs": [
    {
     "data": {
      "text/html": [
       "<div>\n",
       "<style scoped>\n",
       "    .dataframe tbody tr th:only-of-type {\n",
       "        vertical-align: middle;\n",
       "    }\n",
       "\n",
       "    .dataframe tbody tr th {\n",
       "        vertical-align: top;\n",
       "    }\n",
       "\n",
       "    .dataframe thead th {\n",
       "        text-align: right;\n",
       "    }\n",
       "</style>\n",
       "<table border=\"1\" class=\"dataframe\">\n",
       "  <thead>\n",
       "    <tr style=\"text-align: right;\">\n",
       "      <th></th>\n",
       "      <th>one</th>\n",
       "      <th>twol</th>\n",
       "    </tr>\n",
       "  </thead>\n",
       "  <tbody>\n",
       "    <tr>\n",
       "      <th>0</th>\n",
       "      <td>a</td>\n",
       "      <td>0</td>\n",
       "    </tr>\n",
       "    <tr>\n",
       "      <th>1</th>\n",
       "      <td>b</td>\n",
       "      <td>1</td>\n",
       "    </tr>\n",
       "    <tr>\n",
       "      <th>2</th>\n",
       "      <td>a</td>\n",
       "      <td>2</td>\n",
       "    </tr>\n",
       "    <tr>\n",
       "      <th>3</th>\n",
       "      <td>a</td>\n",
       "      <td>3</td>\n",
       "    </tr>\n",
       "    <tr>\n",
       "      <th>4</th>\n",
       "      <td>c</td>\n",
       "      <td>4</td>\n",
       "    </tr>\n",
       "    <tr>\n",
       "      <th>5</th>\n",
       "      <td>b</td>\n",
       "      <td>5</td>\n",
       "    </tr>\n",
       "  </tbody>\n",
       "</table>\n",
       "</div>"
      ],
      "text/plain": [
       "  one  twol\n",
       "0   a     0\n",
       "1   b     1\n",
       "2   a     2\n",
       "3   a     3\n",
       "4   c     4\n",
       "5   b     5"
      ]
     },
     "execution_count": 106,
     "metadata": {},
     "output_type": "execute_result"
    }
   ],
   "source": [
    "data_1 = pd.DataFrame(\n",
    "    {'one':['a','b','a','a','c','b'], \n",
    "     'twol':range(6)\n",
    "    }\n",
    ")\n",
    "data_2 = pd.DataFrame(\n",
    "    {'one':['a','b','c','d'], \n",
    "     'two2':range(10,14)\n",
    "    }\n",
    ")\n",
    "data_1"
   ]
  },
  {
   "cell_type": "code",
   "execution_count": 107,
   "id": "8fb62992-9b86-4a91-8fb7-da1b7f40a112",
   "metadata": {},
   "outputs": [
    {
     "data": {
      "text/html": [
       "<div>\n",
       "<style scoped>\n",
       "    .dataframe tbody tr th:only-of-type {\n",
       "        vertical-align: middle;\n",
       "    }\n",
       "\n",
       "    .dataframe tbody tr th {\n",
       "        vertical-align: top;\n",
       "    }\n",
       "\n",
       "    .dataframe thead th {\n",
       "        text-align: right;\n",
       "    }\n",
       "</style>\n",
       "<table border=\"1\" class=\"dataframe\">\n",
       "  <thead>\n",
       "    <tr style=\"text-align: right;\">\n",
       "      <th></th>\n",
       "      <th>one</th>\n",
       "      <th>two2</th>\n",
       "    </tr>\n",
       "  </thead>\n",
       "  <tbody>\n",
       "    <tr>\n",
       "      <th>0</th>\n",
       "      <td>a</td>\n",
       "      <td>10</td>\n",
       "    </tr>\n",
       "    <tr>\n",
       "      <th>1</th>\n",
       "      <td>b</td>\n",
       "      <td>11</td>\n",
       "    </tr>\n",
       "    <tr>\n",
       "      <th>2</th>\n",
       "      <td>c</td>\n",
       "      <td>12</td>\n",
       "    </tr>\n",
       "    <tr>\n",
       "      <th>3</th>\n",
       "      <td>d</td>\n",
       "      <td>13</td>\n",
       "    </tr>\n",
       "  </tbody>\n",
       "</table>\n",
       "</div>"
      ],
      "text/plain": [
       "  one  two2\n",
       "0   a    10\n",
       "1   b    11\n",
       "2   c    12\n",
       "3   d    13"
      ]
     },
     "execution_count": 107,
     "metadata": {},
     "output_type": "execute_result"
    }
   ],
   "source": [
    "data_2"
   ]
  },
  {
   "cell_type": "code",
   "execution_count": 108,
   "id": "248ddbfd-8937-4eb0-92da-2fa90620046d",
   "metadata": {},
   "outputs": [
    {
     "data": {
      "text/html": [
       "<div>\n",
       "<style scoped>\n",
       "    .dataframe tbody tr th:only-of-type {\n",
       "        vertical-align: middle;\n",
       "    }\n",
       "\n",
       "    .dataframe tbody tr th {\n",
       "        vertical-align: top;\n",
       "    }\n",
       "\n",
       "    .dataframe thead th {\n",
       "        text-align: right;\n",
       "    }\n",
       "</style>\n",
       "<table border=\"1\" class=\"dataframe\">\n",
       "  <thead>\n",
       "    <tr style=\"text-align: right;\">\n",
       "      <th></th>\n",
       "      <th>one</th>\n",
       "      <th>twol</th>\n",
       "      <th>two2</th>\n",
       "    </tr>\n",
       "  </thead>\n",
       "  <tbody>\n",
       "    <tr>\n",
       "      <th>0</th>\n",
       "      <td>a</td>\n",
       "      <td>0</td>\n",
       "      <td>10</td>\n",
       "    </tr>\n",
       "    <tr>\n",
       "      <th>1</th>\n",
       "      <td>a</td>\n",
       "      <td>2</td>\n",
       "      <td>10</td>\n",
       "    </tr>\n",
       "    <tr>\n",
       "      <th>2</th>\n",
       "      <td>a</td>\n",
       "      <td>3</td>\n",
       "      <td>10</td>\n",
       "    </tr>\n",
       "    <tr>\n",
       "      <th>3</th>\n",
       "      <td>b</td>\n",
       "      <td>1</td>\n",
       "      <td>11</td>\n",
       "    </tr>\n",
       "    <tr>\n",
       "      <th>4</th>\n",
       "      <td>b</td>\n",
       "      <td>5</td>\n",
       "      <td>11</td>\n",
       "    </tr>\n",
       "    <tr>\n",
       "      <th>5</th>\n",
       "      <td>c</td>\n",
       "      <td>4</td>\n",
       "      <td>12</td>\n",
       "    </tr>\n",
       "  </tbody>\n",
       "</table>\n",
       "</div>"
      ],
      "text/plain": [
       "  one  twol  two2\n",
       "0   a     0    10\n",
       "1   a     2    10\n",
       "2   a     3    10\n",
       "3   b     1    11\n",
       "4   b     5    11\n",
       "5   c     4    12"
      ]
     },
     "execution_count": 108,
     "metadata": {},
     "output_type": "execute_result"
    }
   ],
   "source": [
    "pd.merge(data_1,data_2)"
   ]
  },
  {
   "cell_type": "code",
   "execution_count": 109,
   "id": "39b0b1c8-ac46-4275-872b-bce3e8c87a44",
   "metadata": {},
   "outputs": [],
   "source": [
    "data_1 = pd.DataFrame(\n",
    "    {'one':['a','b','a','a','c','b'], \n",
    "     'two':range(6)\n",
    "    }\n",
    ")\n",
    "data_2 = pd.DataFrame(\n",
    "    {'one':['a','b','c','d'], \n",
    "     'two':range(10,14)\n",
    "    }\n",
    ")"
   ]
  },
  {
   "cell_type": "code",
   "execution_count": 110,
   "id": "de115910-ca2b-43e5-a27a-76eb5b5b68f2",
   "metadata": {},
   "outputs": [
    {
     "data": {
      "text/html": [
       "<div>\n",
       "<style scoped>\n",
       "    .dataframe tbody tr th:only-of-type {\n",
       "        vertical-align: middle;\n",
       "    }\n",
       "\n",
       "    .dataframe tbody tr th {\n",
       "        vertical-align: top;\n",
       "    }\n",
       "\n",
       "    .dataframe thead th {\n",
       "        text-align: right;\n",
       "    }\n",
       "</style>\n",
       "<table border=\"1\" class=\"dataframe\">\n",
       "  <thead>\n",
       "    <tr style=\"text-align: right;\">\n",
       "      <th></th>\n",
       "      <th>one</th>\n",
       "      <th>two_x</th>\n",
       "      <th>two_y</th>\n",
       "    </tr>\n",
       "  </thead>\n",
       "  <tbody>\n",
       "    <tr>\n",
       "      <th>0</th>\n",
       "      <td>a</td>\n",
       "      <td>0</td>\n",
       "      <td>10</td>\n",
       "    </tr>\n",
       "    <tr>\n",
       "      <th>1</th>\n",
       "      <td>a</td>\n",
       "      <td>2</td>\n",
       "      <td>10</td>\n",
       "    </tr>\n",
       "    <tr>\n",
       "      <th>2</th>\n",
       "      <td>a</td>\n",
       "      <td>3</td>\n",
       "      <td>10</td>\n",
       "    </tr>\n",
       "    <tr>\n",
       "      <th>3</th>\n",
       "      <td>b</td>\n",
       "      <td>1</td>\n",
       "      <td>11</td>\n",
       "    </tr>\n",
       "    <tr>\n",
       "      <th>4</th>\n",
       "      <td>b</td>\n",
       "      <td>5</td>\n",
       "      <td>11</td>\n",
       "    </tr>\n",
       "    <tr>\n",
       "      <th>5</th>\n",
       "      <td>c</td>\n",
       "      <td>4</td>\n",
       "      <td>12</td>\n",
       "    </tr>\n",
       "  </tbody>\n",
       "</table>\n",
       "</div>"
      ],
      "text/plain": [
       "  one  two_x  two_y\n",
       "0   a      0     10\n",
       "1   a      2     10\n",
       "2   a      3     10\n",
       "3   b      1     11\n",
       "4   b      5     11\n",
       "5   c      4     12"
      ]
     },
     "execution_count": 110,
     "metadata": {},
     "output_type": "execute_result"
    }
   ],
   "source": [
    "pd.merge(data_1,data_2,on = 'one')"
   ]
  },
  {
   "cell_type": "code",
   "execution_count": 111,
   "id": "4f143f5f-f709-4cd0-a6ca-e4007c0e00df",
   "metadata": {},
   "outputs": [],
   "source": [
    "data_1 = pd.DataFrame(\n",
    "    {'one1':['a','b','a','a','c','b'], \n",
    "     'two1':range(6)\n",
    "    }\n",
    ")\n",
    "data_2 = pd.DataFrame(\n",
    "    {'one2':['a','b','c','d'], \n",
    "     'two2':range(10,14)\n",
    "    }\n",
    ")"
   ]
  },
  {
   "cell_type": "code",
   "execution_count": 112,
   "id": "d1f712b4-caf3-40bb-add0-73a6bf5c834d",
   "metadata": {},
   "outputs": [
    {
     "data": {
      "text/html": [
       "<div>\n",
       "<style scoped>\n",
       "    .dataframe tbody tr th:only-of-type {\n",
       "        vertical-align: middle;\n",
       "    }\n",
       "\n",
       "    .dataframe tbody tr th {\n",
       "        vertical-align: top;\n",
       "    }\n",
       "\n",
       "    .dataframe thead th {\n",
       "        text-align: right;\n",
       "    }\n",
       "</style>\n",
       "<table border=\"1\" class=\"dataframe\">\n",
       "  <thead>\n",
       "    <tr style=\"text-align: right;\">\n",
       "      <th></th>\n",
       "      <th>one1</th>\n",
       "      <th>two1</th>\n",
       "      <th>one2</th>\n",
       "      <th>two2</th>\n",
       "    </tr>\n",
       "  </thead>\n",
       "  <tbody>\n",
       "    <tr>\n",
       "      <th>0</th>\n",
       "      <td>a</td>\n",
       "      <td>0</td>\n",
       "      <td>a</td>\n",
       "      <td>10</td>\n",
       "    </tr>\n",
       "    <tr>\n",
       "      <th>1</th>\n",
       "      <td>a</td>\n",
       "      <td>2</td>\n",
       "      <td>a</td>\n",
       "      <td>10</td>\n",
       "    </tr>\n",
       "    <tr>\n",
       "      <th>2</th>\n",
       "      <td>a</td>\n",
       "      <td>3</td>\n",
       "      <td>a</td>\n",
       "      <td>10</td>\n",
       "    </tr>\n",
       "    <tr>\n",
       "      <th>3</th>\n",
       "      <td>b</td>\n",
       "      <td>1</td>\n",
       "      <td>b</td>\n",
       "      <td>11</td>\n",
       "    </tr>\n",
       "    <tr>\n",
       "      <th>4</th>\n",
       "      <td>b</td>\n",
       "      <td>5</td>\n",
       "      <td>b</td>\n",
       "      <td>11</td>\n",
       "    </tr>\n",
       "    <tr>\n",
       "      <th>5</th>\n",
       "      <td>c</td>\n",
       "      <td>4</td>\n",
       "      <td>c</td>\n",
       "      <td>12</td>\n",
       "    </tr>\n",
       "  </tbody>\n",
       "</table>\n",
       "</div>"
      ],
      "text/plain": [
       "  one1  two1 one2  two2\n",
       "0    a     0    a    10\n",
       "1    a     2    a    10\n",
       "2    a     3    a    10\n",
       "3    b     1    b    11\n",
       "4    b     5    b    11\n",
       "5    c     4    c    12"
      ]
     },
     "execution_count": 112,
     "metadata": {},
     "output_type": "execute_result"
    }
   ],
   "source": [
    "pd.merge(data_1,data_2, left_on = 'one1', right_on = 'one2')"
   ]
  },
  {
   "cell_type": "code",
   "execution_count": 113,
   "id": "120fd719-1fb0-4f4f-896a-7de45bee01fe",
   "metadata": {},
   "outputs": [
    {
     "data": {
      "text/html": [
       "<div>\n",
       "<style scoped>\n",
       "    .dataframe tbody tr th:only-of-type {\n",
       "        vertical-align: middle;\n",
       "    }\n",
       "\n",
       "    .dataframe tbody tr th {\n",
       "        vertical-align: top;\n",
       "    }\n",
       "\n",
       "    .dataframe thead th {\n",
       "        text-align: right;\n",
       "    }\n",
       "</style>\n",
       "<table border=\"1\" class=\"dataframe\">\n",
       "  <thead>\n",
       "    <tr style=\"text-align: right;\">\n",
       "      <th></th>\n",
       "      <th>one</th>\n",
       "      <th>two1</th>\n",
       "    </tr>\n",
       "  </thead>\n",
       "  <tbody>\n",
       "    <tr>\n",
       "      <th>0</th>\n",
       "      <td>a</td>\n",
       "      <td>0</td>\n",
       "    </tr>\n",
       "    <tr>\n",
       "      <th>1</th>\n",
       "      <td>b</td>\n",
       "      <td>1</td>\n",
       "    </tr>\n",
       "    <tr>\n",
       "      <th>2</th>\n",
       "      <td>a</td>\n",
       "      <td>2</td>\n",
       "    </tr>\n",
       "    <tr>\n",
       "      <th>3</th>\n",
       "      <td>a</td>\n",
       "      <td>3</td>\n",
       "    </tr>\n",
       "    <tr>\n",
       "      <th>4</th>\n",
       "      <td>e</td>\n",
       "      <td>4</td>\n",
       "    </tr>\n",
       "  </tbody>\n",
       "</table>\n",
       "</div>"
      ],
      "text/plain": [
       "  one  two1\n",
       "0   a     0\n",
       "1   b     1\n",
       "2   a     2\n",
       "3   a     3\n",
       "4   e     4"
      ]
     },
     "execution_count": 113,
     "metadata": {},
     "output_type": "execute_result"
    }
   ],
   "source": [
    "data_1 = pd.DataFrame(\n",
    "    {'one':['a','b','a','a','e'], \n",
    "     'two1':range(5)\n",
    "    }\n",
    ")\n",
    "data_2 = pd.DataFrame(\n",
    "    {'one':['a','b','c','d'], \n",
    "     'two2':range(10,14)\n",
    "    }\n",
    ")\n",
    "data_1"
   ]
  },
  {
   "cell_type": "code",
   "execution_count": 114,
   "id": "7e4ceb7d-5dfe-4281-8dba-ef8a2505b2a8",
   "metadata": {},
   "outputs": [
    {
     "data": {
      "text/html": [
       "<div>\n",
       "<style scoped>\n",
       "    .dataframe tbody tr th:only-of-type {\n",
       "        vertical-align: middle;\n",
       "    }\n",
       "\n",
       "    .dataframe tbody tr th {\n",
       "        vertical-align: top;\n",
       "    }\n",
       "\n",
       "    .dataframe thead th {\n",
       "        text-align: right;\n",
       "    }\n",
       "</style>\n",
       "<table border=\"1\" class=\"dataframe\">\n",
       "  <thead>\n",
       "    <tr style=\"text-align: right;\">\n",
       "      <th></th>\n",
       "      <th>one</th>\n",
       "      <th>two2</th>\n",
       "    </tr>\n",
       "  </thead>\n",
       "  <tbody>\n",
       "    <tr>\n",
       "      <th>0</th>\n",
       "      <td>a</td>\n",
       "      <td>10</td>\n",
       "    </tr>\n",
       "    <tr>\n",
       "      <th>1</th>\n",
       "      <td>b</td>\n",
       "      <td>11</td>\n",
       "    </tr>\n",
       "    <tr>\n",
       "      <th>2</th>\n",
       "      <td>c</td>\n",
       "      <td>12</td>\n",
       "    </tr>\n",
       "    <tr>\n",
       "      <th>3</th>\n",
       "      <td>d</td>\n",
       "      <td>13</td>\n",
       "    </tr>\n",
       "  </tbody>\n",
       "</table>\n",
       "</div>"
      ],
      "text/plain": [
       "  one  two2\n",
       "0   a    10\n",
       "1   b    11\n",
       "2   c    12\n",
       "3   d    13"
      ]
     },
     "execution_count": 114,
     "metadata": {},
     "output_type": "execute_result"
    }
   ],
   "source": [
    "data_2"
   ]
  },
  {
   "cell_type": "code",
   "execution_count": 115,
   "id": "b78f0c71-780d-41fe-8cce-0af79484f832",
   "metadata": {},
   "outputs": [
    {
     "data": {
      "text/html": [
       "<div>\n",
       "<style scoped>\n",
       "    .dataframe tbody tr th:only-of-type {\n",
       "        vertical-align: middle;\n",
       "    }\n",
       "\n",
       "    .dataframe tbody tr th {\n",
       "        vertical-align: top;\n",
       "    }\n",
       "\n",
       "    .dataframe thead th {\n",
       "        text-align: right;\n",
       "    }\n",
       "</style>\n",
       "<table border=\"1\" class=\"dataframe\">\n",
       "  <thead>\n",
       "    <tr style=\"text-align: right;\">\n",
       "      <th></th>\n",
       "      <th>one</th>\n",
       "      <th>two1</th>\n",
       "      <th>two2</th>\n",
       "    </tr>\n",
       "  </thead>\n",
       "  <tbody>\n",
       "    <tr>\n",
       "      <th>0</th>\n",
       "      <td>a</td>\n",
       "      <td>0</td>\n",
       "      <td>10</td>\n",
       "    </tr>\n",
       "    <tr>\n",
       "      <th>1</th>\n",
       "      <td>a</td>\n",
       "      <td>2</td>\n",
       "      <td>10</td>\n",
       "    </tr>\n",
       "    <tr>\n",
       "      <th>2</th>\n",
       "      <td>a</td>\n",
       "      <td>3</td>\n",
       "      <td>10</td>\n",
       "    </tr>\n",
       "    <tr>\n",
       "      <th>3</th>\n",
       "      <td>b</td>\n",
       "      <td>1</td>\n",
       "      <td>11</td>\n",
       "    </tr>\n",
       "  </tbody>\n",
       "</table>\n",
       "</div>"
      ],
      "text/plain": [
       "  one  two1  two2\n",
       "0   a     0    10\n",
       "1   a     2    10\n",
       "2   a     3    10\n",
       "3   b     1    11"
      ]
     },
     "execution_count": 115,
     "metadata": {},
     "output_type": "execute_result"
    }
   ],
   "source": [
    "pd.merge(data_1,data_2)"
   ]
  },
  {
   "cell_type": "code",
   "execution_count": 116,
   "id": "af8fa215-eb90-44d6-97e8-ae86b237e0ba",
   "metadata": {},
   "outputs": [
    {
     "data": {
      "text/html": [
       "<div>\n",
       "<style scoped>\n",
       "    .dataframe tbody tr th:only-of-type {\n",
       "        vertical-align: middle;\n",
       "    }\n",
       "\n",
       "    .dataframe tbody tr th {\n",
       "        vertical-align: top;\n",
       "    }\n",
       "\n",
       "    .dataframe thead th {\n",
       "        text-align: right;\n",
       "    }\n",
       "</style>\n",
       "<table border=\"1\" class=\"dataframe\">\n",
       "  <thead>\n",
       "    <tr style=\"text-align: right;\">\n",
       "      <th></th>\n",
       "      <th>one</th>\n",
       "      <th>two1</th>\n",
       "      <th>two2</th>\n",
       "    </tr>\n",
       "  </thead>\n",
       "  <tbody>\n",
       "    <tr>\n",
       "      <th>0</th>\n",
       "      <td>a</td>\n",
       "      <td>0</td>\n",
       "      <td>10</td>\n",
       "    </tr>\n",
       "    <tr>\n",
       "      <th>1</th>\n",
       "      <td>a</td>\n",
       "      <td>2</td>\n",
       "      <td>10</td>\n",
       "    </tr>\n",
       "    <tr>\n",
       "      <th>2</th>\n",
       "      <td>a</td>\n",
       "      <td>3</td>\n",
       "      <td>10</td>\n",
       "    </tr>\n",
       "    <tr>\n",
       "      <th>3</th>\n",
       "      <td>b</td>\n",
       "      <td>1</td>\n",
       "      <td>11</td>\n",
       "    </tr>\n",
       "  </tbody>\n",
       "</table>\n",
       "</div>"
      ],
      "text/plain": [
       "  one  two1  two2\n",
       "0   a     0    10\n",
       "1   a     2    10\n",
       "2   a     3    10\n",
       "3   b     1    11"
      ]
     },
     "execution_count": 116,
     "metadata": {},
     "output_type": "execute_result"
    }
   ],
   "source": [
    "pd.merge(data_1,data_2, how = 'inner')"
   ]
  },
  {
   "cell_type": "code",
   "execution_count": 117,
   "id": "5a862b13-849e-4474-9b1f-d4bd3d7a3e65",
   "metadata": {},
   "outputs": [
    {
     "data": {
      "text/html": [
       "<div>\n",
       "<style scoped>\n",
       "    .dataframe tbody tr th:only-of-type {\n",
       "        vertical-align: middle;\n",
       "    }\n",
       "\n",
       "    .dataframe tbody tr th {\n",
       "        vertical-align: top;\n",
       "    }\n",
       "\n",
       "    .dataframe thead th {\n",
       "        text-align: right;\n",
       "    }\n",
       "</style>\n",
       "<table border=\"1\" class=\"dataframe\">\n",
       "  <thead>\n",
       "    <tr style=\"text-align: right;\">\n",
       "      <th></th>\n",
       "      <th>one</th>\n",
       "      <th>two1</th>\n",
       "      <th>two2</th>\n",
       "    </tr>\n",
       "  </thead>\n",
       "  <tbody>\n",
       "    <tr>\n",
       "      <th>0</th>\n",
       "      <td>a</td>\n",
       "      <td>0.0</td>\n",
       "      <td>10.0</td>\n",
       "    </tr>\n",
       "    <tr>\n",
       "      <th>1</th>\n",
       "      <td>a</td>\n",
       "      <td>2.0</td>\n",
       "      <td>10.0</td>\n",
       "    </tr>\n",
       "    <tr>\n",
       "      <th>2</th>\n",
       "      <td>a</td>\n",
       "      <td>3.0</td>\n",
       "      <td>10.0</td>\n",
       "    </tr>\n",
       "    <tr>\n",
       "      <th>3</th>\n",
       "      <td>b</td>\n",
       "      <td>1.0</td>\n",
       "      <td>11.0</td>\n",
       "    </tr>\n",
       "    <tr>\n",
       "      <th>4</th>\n",
       "      <td>e</td>\n",
       "      <td>4.0</td>\n",
       "      <td>NaN</td>\n",
       "    </tr>\n",
       "    <tr>\n",
       "      <th>5</th>\n",
       "      <td>c</td>\n",
       "      <td>NaN</td>\n",
       "      <td>12.0</td>\n",
       "    </tr>\n",
       "    <tr>\n",
       "      <th>6</th>\n",
       "      <td>d</td>\n",
       "      <td>NaN</td>\n",
       "      <td>13.0</td>\n",
       "    </tr>\n",
       "  </tbody>\n",
       "</table>\n",
       "</div>"
      ],
      "text/plain": [
       "  one  two1  two2\n",
       "0   a   0.0  10.0\n",
       "1   a   2.0  10.0\n",
       "2   a   3.0  10.0\n",
       "3   b   1.0  11.0\n",
       "4   e   4.0   NaN\n",
       "5   c   NaN  12.0\n",
       "6   d   NaN  13.0"
      ]
     },
     "execution_count": 117,
     "metadata": {},
     "output_type": "execute_result"
    }
   ],
   "source": [
    "pd.merge(data_1,data_2, how = 'outer')"
   ]
  },
  {
   "cell_type": "code",
   "execution_count": 118,
   "id": "5b812f1c-063d-4644-ab23-277b561c25b9",
   "metadata": {},
   "outputs": [
    {
     "data": {
      "text/html": [
       "<div>\n",
       "<style scoped>\n",
       "    .dataframe tbody tr th:only-of-type {\n",
       "        vertical-align: middle;\n",
       "    }\n",
       "\n",
       "    .dataframe tbody tr th {\n",
       "        vertical-align: top;\n",
       "    }\n",
       "\n",
       "    .dataframe thead th {\n",
       "        text-align: right;\n",
       "    }\n",
       "</style>\n",
       "<table border=\"1\" class=\"dataframe\">\n",
       "  <thead>\n",
       "    <tr style=\"text-align: right;\">\n",
       "      <th></th>\n",
       "      <th>one</th>\n",
       "      <th>two1</th>\n",
       "      <th>two2</th>\n",
       "    </tr>\n",
       "  </thead>\n",
       "  <tbody>\n",
       "    <tr>\n",
       "      <th>0</th>\n",
       "      <td>a</td>\n",
       "      <td>0.0</td>\n",
       "      <td>10</td>\n",
       "    </tr>\n",
       "    <tr>\n",
       "      <th>1</th>\n",
       "      <td>a</td>\n",
       "      <td>2.0</td>\n",
       "      <td>10</td>\n",
       "    </tr>\n",
       "    <tr>\n",
       "      <th>2</th>\n",
       "      <td>a</td>\n",
       "      <td>3.0</td>\n",
       "      <td>10</td>\n",
       "    </tr>\n",
       "    <tr>\n",
       "      <th>3</th>\n",
       "      <td>b</td>\n",
       "      <td>1.0</td>\n",
       "      <td>11</td>\n",
       "    </tr>\n",
       "    <tr>\n",
       "      <th>4</th>\n",
       "      <td>c</td>\n",
       "      <td>NaN</td>\n",
       "      <td>12</td>\n",
       "    </tr>\n",
       "    <tr>\n",
       "      <th>5</th>\n",
       "      <td>d</td>\n",
       "      <td>NaN</td>\n",
       "      <td>13</td>\n",
       "    </tr>\n",
       "  </tbody>\n",
       "</table>\n",
       "</div>"
      ],
      "text/plain": [
       "  one  two1  two2\n",
       "0   a   0.0    10\n",
       "1   a   2.0    10\n",
       "2   a   3.0    10\n",
       "3   b   1.0    11\n",
       "4   c   NaN    12\n",
       "5   d   NaN    13"
      ]
     },
     "execution_count": 118,
     "metadata": {},
     "output_type": "execute_result"
    }
   ],
   "source": [
    "pd.merge(data_1,data_2, how = 'right')"
   ]
  },
  {
   "cell_type": "code",
   "execution_count": 119,
   "id": "1f13e281-4338-48b4-b7c0-0b85dd78bd9f",
   "metadata": {},
   "outputs": [
    {
     "data": {
      "text/html": [
       "<div>\n",
       "<style scoped>\n",
       "    .dataframe tbody tr th:only-of-type {\n",
       "        vertical-align: middle;\n",
       "    }\n",
       "\n",
       "    .dataframe tbody tr th {\n",
       "        vertical-align: top;\n",
       "    }\n",
       "\n",
       "    .dataframe thead th {\n",
       "        text-align: right;\n",
       "    }\n",
       "</style>\n",
       "<table border=\"1\" class=\"dataframe\">\n",
       "  <thead>\n",
       "    <tr style=\"text-align: right;\">\n",
       "      <th></th>\n",
       "      <th>one</th>\n",
       "      <th>two1</th>\n",
       "      <th>two2</th>\n",
       "    </tr>\n",
       "  </thead>\n",
       "  <tbody>\n",
       "    <tr>\n",
       "      <th>0</th>\n",
       "      <td>a</td>\n",
       "      <td>0</td>\n",
       "      <td>10.0</td>\n",
       "    </tr>\n",
       "    <tr>\n",
       "      <th>1</th>\n",
       "      <td>b</td>\n",
       "      <td>1</td>\n",
       "      <td>11.0</td>\n",
       "    </tr>\n",
       "    <tr>\n",
       "      <th>2</th>\n",
       "      <td>a</td>\n",
       "      <td>2</td>\n",
       "      <td>10.0</td>\n",
       "    </tr>\n",
       "    <tr>\n",
       "      <th>3</th>\n",
       "      <td>a</td>\n",
       "      <td>3</td>\n",
       "      <td>10.0</td>\n",
       "    </tr>\n",
       "    <tr>\n",
       "      <th>4</th>\n",
       "      <td>e</td>\n",
       "      <td>4</td>\n",
       "      <td>NaN</td>\n",
       "    </tr>\n",
       "  </tbody>\n",
       "</table>\n",
       "</div>"
      ],
      "text/plain": [
       "  one  two1  two2\n",
       "0   a     0  10.0\n",
       "1   b     1  11.0\n",
       "2   a     2  10.0\n",
       "3   a     3  10.0\n",
       "4   e     4   NaN"
      ]
     },
     "execution_count": 119,
     "metadata": {},
     "output_type": "execute_result"
    }
   ],
   "source": [
    "pd.merge(data_1,data_2, how = 'left')"
   ]
  },
  {
   "cell_type": "code",
   "execution_count": 120,
   "id": "9ce1cf6a-8603-426d-88b5-f9fd80b908e2",
   "metadata": {},
   "outputs": [
    {
     "data": {
      "text/html": [
       "<div>\n",
       "<style scoped>\n",
       "    .dataframe tbody tr th:only-of-type {\n",
       "        vertical-align: middle;\n",
       "    }\n",
       "\n",
       "    .dataframe tbody tr th {\n",
       "        vertical-align: top;\n",
       "    }\n",
       "\n",
       "    .dataframe thead th {\n",
       "        text-align: right;\n",
       "    }\n",
       "</style>\n",
       "<table border=\"1\" class=\"dataframe\">\n",
       "  <thead>\n",
       "    <tr style=\"text-align: right;\">\n",
       "      <th></th>\n",
       "      <th>one_x</th>\n",
       "      <th>two1</th>\n",
       "      <th>one_y</th>\n",
       "      <th>two2</th>\n",
       "    </tr>\n",
       "  </thead>\n",
       "  <tbody>\n",
       "    <tr>\n",
       "      <th>0</th>\n",
       "      <td>a</td>\n",
       "      <td>0</td>\n",
       "      <td>a</td>\n",
       "      <td>10.0</td>\n",
       "    </tr>\n",
       "    <tr>\n",
       "      <th>1</th>\n",
       "      <td>b</td>\n",
       "      <td>1</td>\n",
       "      <td>b</td>\n",
       "      <td>11.0</td>\n",
       "    </tr>\n",
       "    <tr>\n",
       "      <th>2</th>\n",
       "      <td>a</td>\n",
       "      <td>2</td>\n",
       "      <td>c</td>\n",
       "      <td>12.0</td>\n",
       "    </tr>\n",
       "    <tr>\n",
       "      <th>3</th>\n",
       "      <td>a</td>\n",
       "      <td>3</td>\n",
       "      <td>d</td>\n",
       "      <td>13.0</td>\n",
       "    </tr>\n",
       "    <tr>\n",
       "      <th>4</th>\n",
       "      <td>e</td>\n",
       "      <td>4</td>\n",
       "      <td>NaN</td>\n",
       "      <td>NaN</td>\n",
       "    </tr>\n",
       "  </tbody>\n",
       "</table>\n",
       "</div>"
      ],
      "text/plain": [
       "  one_x  two1 one_y  two2\n",
       "0     a     0     a  10.0\n",
       "1     b     1     b  11.0\n",
       "2     a     2     c  12.0\n",
       "3     a     3     d  13.0\n",
       "4     e     4   NaN   NaN"
      ]
     },
     "execution_count": 120,
     "metadata": {},
     "output_type": "execute_result"
    }
   ],
   "source": [
    "pd.merge(data_1,data_2, left_index=True, right_index=True, how = 'outer')"
   ]
  },
  {
   "cell_type": "markdown",
   "id": "52af5c69-6c96-47b8-b539-aa62a65c68d2",
   "metadata": {},
   "source": [
    "+ DataFrame有一个便利的join实例，可以直接用index来连接。这个也可以用于其他DataFrame进行连接，要有一样的index但不能有重叠的列"
   ]
  },
  {
   "cell_type": "code",
   "execution_count": 121,
   "id": "9902a3ae-3d9c-4c52-96a6-d619f4ff90b9",
   "metadata": {},
   "outputs": [
    {
     "data": {
      "text/html": [
       "<div>\n",
       "<style scoped>\n",
       "    .dataframe tbody tr th:only-of-type {\n",
       "        vertical-align: middle;\n",
       "    }\n",
       "\n",
       "    .dataframe tbody tr th {\n",
       "        vertical-align: top;\n",
       "    }\n",
       "\n",
       "    .dataframe thead th {\n",
       "        text-align: right;\n",
       "    }\n",
       "</style>\n",
       "<table border=\"1\" class=\"dataframe\">\n",
       "  <thead>\n",
       "    <tr style=\"text-align: right;\">\n",
       "      <th></th>\n",
       "      <th>three</th>\n",
       "      <th>four</th>\n",
       "    </tr>\n",
       "  </thead>\n",
       "  <tbody>\n",
       "    <tr>\n",
       "      <th>0</th>\n",
       "      <td>f</td>\n",
       "      <td>16</td>\n",
       "    </tr>\n",
       "    <tr>\n",
       "      <th>1</th>\n",
       "      <td>g</td>\n",
       "      <td>17</td>\n",
       "    </tr>\n",
       "    <tr>\n",
       "      <th>2</th>\n",
       "      <td>h</td>\n",
       "      <td>18</td>\n",
       "    </tr>\n",
       "    <tr>\n",
       "      <th>3</th>\n",
       "      <td>j</td>\n",
       "      <td>19</td>\n",
       "    </tr>\n",
       "  </tbody>\n",
       "</table>\n",
       "</div>"
      ],
      "text/plain": [
       "  three  four\n",
       "0     f    16\n",
       "1     g    17\n",
       "2     h    18\n",
       "3     j    19"
      ]
     },
     "execution_count": 121,
     "metadata": {},
     "output_type": "execute_result"
    }
   ],
   "source": [
    "data_3 = pd.DataFrame(\n",
    "    {'three': ['f','g','h','j'],\n",
    "     'four':range(16,20)\n",
    "    }\n",
    ")\n",
    "data_3"
   ]
  },
  {
   "cell_type": "code",
   "execution_count": 122,
   "id": "4c06940b-2639-4b1a-a4bb-4760482c7f8c",
   "metadata": {},
   "outputs": [
    {
     "data": {
      "text/html": [
       "<div>\n",
       "<style scoped>\n",
       "    .dataframe tbody tr th:only-of-type {\n",
       "        vertical-align: middle;\n",
       "    }\n",
       "\n",
       "    .dataframe tbody tr th {\n",
       "        vertical-align: top;\n",
       "    }\n",
       "\n",
       "    .dataframe thead th {\n",
       "        text-align: right;\n",
       "    }\n",
       "</style>\n",
       "<table border=\"1\" class=\"dataframe\">\n",
       "  <thead>\n",
       "    <tr style=\"text-align: right;\">\n",
       "      <th></th>\n",
       "      <th>one</th>\n",
       "      <th>two1</th>\n",
       "      <th>three</th>\n",
       "      <th>four</th>\n",
       "    </tr>\n",
       "  </thead>\n",
       "  <tbody>\n",
       "    <tr>\n",
       "      <th>0</th>\n",
       "      <td>a</td>\n",
       "      <td>0</td>\n",
       "      <td>f</td>\n",
       "      <td>16.0</td>\n",
       "    </tr>\n",
       "    <tr>\n",
       "      <th>1</th>\n",
       "      <td>b</td>\n",
       "      <td>1</td>\n",
       "      <td>g</td>\n",
       "      <td>17.0</td>\n",
       "    </tr>\n",
       "    <tr>\n",
       "      <th>2</th>\n",
       "      <td>a</td>\n",
       "      <td>2</td>\n",
       "      <td>h</td>\n",
       "      <td>18.0</td>\n",
       "    </tr>\n",
       "    <tr>\n",
       "      <th>3</th>\n",
       "      <td>a</td>\n",
       "      <td>3</td>\n",
       "      <td>j</td>\n",
       "      <td>19.0</td>\n",
       "    </tr>\n",
       "    <tr>\n",
       "      <th>4</th>\n",
       "      <td>e</td>\n",
       "      <td>4</td>\n",
       "      <td>NaN</td>\n",
       "      <td>NaN</td>\n",
       "    </tr>\n",
       "  </tbody>\n",
       "</table>\n",
       "</div>"
      ],
      "text/plain": [
       "  one  two1 three  four\n",
       "0   a     0     f  16.0\n",
       "1   b     1     g  17.0\n",
       "2   a     2     h  18.0\n",
       "3   a     3     j  19.0\n",
       "4   e     4   NaN   NaN"
      ]
     },
     "execution_count": 122,
     "metadata": {},
     "output_type": "execute_result"
    }
   ],
   "source": [
    "data_1.join(data_3)"
   ]
  },
  {
   "cell_type": "code",
   "execution_count": 123,
   "id": "f1bebfbc-a7fa-4180-a809-5889e47b25d1",
   "metadata": {},
   "outputs": [
    {
     "data": {
      "text/html": [
       "<div>\n",
       "<style scoped>\n",
       "    .dataframe tbody tr th:only-of-type {\n",
       "        vertical-align: middle;\n",
       "    }\n",
       "\n",
       "    .dataframe tbody tr th {\n",
       "        vertical-align: top;\n",
       "    }\n",
       "\n",
       "    .dataframe thead th {\n",
       "        text-align: right;\n",
       "    }\n",
       "</style>\n",
       "<table border=\"1\" class=\"dataframe\">\n",
       "  <thead>\n",
       "    <tr style=\"text-align: right;\">\n",
       "      <th></th>\n",
       "      <th>one</th>\n",
       "      <th>two1</th>\n",
       "    </tr>\n",
       "  </thead>\n",
       "  <tbody>\n",
       "    <tr>\n",
       "      <th>0</th>\n",
       "      <td>a</td>\n",
       "      <td>0</td>\n",
       "    </tr>\n",
       "    <tr>\n",
       "      <th>1</th>\n",
       "      <td>b</td>\n",
       "      <td>1</td>\n",
       "    </tr>\n",
       "    <tr>\n",
       "      <th>2</th>\n",
       "      <td>a</td>\n",
       "      <td>2</td>\n",
       "    </tr>\n",
       "    <tr>\n",
       "      <th>3</th>\n",
       "      <td>a</td>\n",
       "      <td>3</td>\n",
       "    </tr>\n",
       "    <tr>\n",
       "      <th>4</th>\n",
       "      <td>e</td>\n",
       "      <td>4</td>\n",
       "    </tr>\n",
       "  </tbody>\n",
       "</table>\n",
       "</div>"
      ],
      "text/plain": [
       "  one  two1\n",
       "0   a     0\n",
       "1   b     1\n",
       "2   a     2\n",
       "3   a     3\n",
       "4   e     4"
      ]
     },
     "execution_count": 123,
     "metadata": {},
     "output_type": "execute_result"
    }
   ],
   "source": [
    "data_1"
   ]
  },
  {
   "cell_type": "code",
   "execution_count": 124,
   "id": "3c45bdeb-de5b-4d49-91a0-65e8e00d9d40",
   "metadata": {},
   "outputs": [
    {
     "data": {
      "text/html": [
       "<div>\n",
       "<style scoped>\n",
       "    .dataframe tbody tr th:only-of-type {\n",
       "        vertical-align: middle;\n",
       "    }\n",
       "\n",
       "    .dataframe tbody tr th {\n",
       "        vertical-align: top;\n",
       "    }\n",
       "\n",
       "    .dataframe thead th {\n",
       "        text-align: right;\n",
       "    }\n",
       "</style>\n",
       "<table border=\"1\" class=\"dataframe\">\n",
       "  <thead>\n",
       "    <tr style=\"text-align: right;\">\n",
       "      <th></th>\n",
       "      <th>one</th>\n",
       "      <th>two1</th>\n",
       "      <th>three</th>\n",
       "    </tr>\n",
       "  </thead>\n",
       "  <tbody>\n",
       "    <tr>\n",
       "      <th>0</th>\n",
       "      <td>a</td>\n",
       "      <td>0</td>\n",
       "      <td>0</td>\n",
       "    </tr>\n",
       "    <tr>\n",
       "      <th>1</th>\n",
       "      <td>b</td>\n",
       "      <td>1</td>\n",
       "      <td>1</td>\n",
       "    </tr>\n",
       "    <tr>\n",
       "      <th>2</th>\n",
       "      <td>a</td>\n",
       "      <td>2</td>\n",
       "      <td>2</td>\n",
       "    </tr>\n",
       "    <tr>\n",
       "      <th>3</th>\n",
       "      <td>a</td>\n",
       "      <td>3</td>\n",
       "      <td>3</td>\n",
       "    </tr>\n",
       "    <tr>\n",
       "      <th>4</th>\n",
       "      <td>e</td>\n",
       "      <td>4</td>\n",
       "      <td>4</td>\n",
       "    </tr>\n",
       "  </tbody>\n",
       "</table>\n",
       "</div>"
      ],
      "text/plain": [
       "  one  two1  three\n",
       "0   a     0      0\n",
       "1   b     1      1\n",
       "2   a     2      2\n",
       "3   a     3      3\n",
       "4   e     4      4"
      ]
     },
     "execution_count": 124,
     "metadata": {},
     "output_type": "execute_result"
    }
   ],
   "source": [
    "# 增加一列\n",
    "data_1.assign(three = np.arange(5)) # data_1['three'] = np.arange(5)"
   ]
  },
  {
   "cell_type": "code",
   "execution_count": 125,
   "id": "6750826d-ab83-4507-8321-a5665674232c",
   "metadata": {},
   "outputs": [
    {
     "data": {
      "text/html": [
       "<div>\n",
       "<style scoped>\n",
       "    .dataframe tbody tr th:only-of-type {\n",
       "        vertical-align: middle;\n",
       "    }\n",
       "\n",
       "    .dataframe tbody tr th {\n",
       "        vertical-align: top;\n",
       "    }\n",
       "\n",
       "    .dataframe thead th {\n",
       "        text-align: right;\n",
       "    }\n",
       "</style>\n",
       "<table border=\"1\" class=\"dataframe\">\n",
       "  <thead>\n",
       "    <tr style=\"text-align: right;\">\n",
       "      <th></th>\n",
       "      <th>a</th>\n",
       "      <th>b</th>\n",
       "      <th>c</th>\n",
       "      <th>d</th>\n",
       "    </tr>\n",
       "  </thead>\n",
       "  <tbody>\n",
       "    <tr>\n",
       "      <th>0</th>\n",
       "      <td>0.761900</td>\n",
       "      <td>1.018355</td>\n",
       "      <td>-0.439297</td>\n",
       "      <td>-0.103125</td>\n",
       "    </tr>\n",
       "    <tr>\n",
       "      <th>1</th>\n",
       "      <td>0.381727</td>\n",
       "      <td>-0.929038</td>\n",
       "      <td>0.662066</td>\n",
       "      <td>1.987563</td>\n",
       "    </tr>\n",
       "    <tr>\n",
       "      <th>2</th>\n",
       "      <td>0.266130</td>\n",
       "      <td>-0.879227</td>\n",
       "      <td>0.826640</td>\n",
       "      <td>-0.943479</td>\n",
       "    </tr>\n",
       "  </tbody>\n",
       "</table>\n",
       "</div>"
      ],
      "text/plain": [
       "          a         b         c         d\n",
       "0  0.761900  1.018355 -0.439297 -0.103125\n",
       "1  0.381727 -0.929038  0.662066  1.987563\n",
       "2  0.266130 -0.879227  0.826640 -0.943479"
      ]
     },
     "execution_count": 125,
     "metadata": {},
     "output_type": "execute_result"
    }
   ],
   "source": [
    "data_1 = pd.DataFrame(np.random.randn(3,4), columns = ['a','b','c','d'])\n",
    "data_2 = pd.DataFrame(np.random.randn(2,3), columns = ['b','d','a'])\n",
    "data_1  "
   ]
  },
  {
   "cell_type": "code",
   "execution_count": 126,
   "id": "24203aa1-9f97-49ae-a0da-b61eb62a3f89",
   "metadata": {},
   "outputs": [
    {
     "data": {
      "text/html": [
       "<div>\n",
       "<style scoped>\n",
       "    .dataframe tbody tr th:only-of-type {\n",
       "        vertical-align: middle;\n",
       "    }\n",
       "\n",
       "    .dataframe tbody tr th {\n",
       "        vertical-align: top;\n",
       "    }\n",
       "\n",
       "    .dataframe thead th {\n",
       "        text-align: right;\n",
       "    }\n",
       "</style>\n",
       "<table border=\"1\" class=\"dataframe\">\n",
       "  <thead>\n",
       "    <tr style=\"text-align: right;\">\n",
       "      <th></th>\n",
       "      <th>b</th>\n",
       "      <th>d</th>\n",
       "      <th>a</th>\n",
       "    </tr>\n",
       "  </thead>\n",
       "  <tbody>\n",
       "    <tr>\n",
       "      <th>0</th>\n",
       "      <td>0.109148</td>\n",
       "      <td>-0.255545</td>\n",
       "      <td>-0.328583</td>\n",
       "    </tr>\n",
       "    <tr>\n",
       "      <th>1</th>\n",
       "      <td>0.377998</td>\n",
       "      <td>0.419273</td>\n",
       "      <td>0.368986</td>\n",
       "    </tr>\n",
       "  </tbody>\n",
       "</table>\n",
       "</div>"
      ],
      "text/plain": [
       "          b         d         a\n",
       "0  0.109148 -0.255545 -0.328583\n",
       "1  0.377998  0.419273  0.368986"
      ]
     },
     "execution_count": 126,
     "metadata": {},
     "output_type": "execute_result"
    }
   ],
   "source": [
    "data_2"
   ]
  },
  {
   "cell_type": "markdown",
   "id": "a7909ca3-c1a9-4a0b-9d31-a17bcd54516a",
   "metadata": {},
   "source": [
    "+ **用concat连接列表**"
   ]
  },
  {
   "cell_type": "code",
   "execution_count": 127,
   "id": "8523d11a-c945-45d9-aad4-3882d2e62487",
   "metadata": {},
   "outputs": [
    {
     "data": {
      "text/html": [
       "<div>\n",
       "<style scoped>\n",
       "    .dataframe tbody tr th:only-of-type {\n",
       "        vertical-align: middle;\n",
       "    }\n",
       "\n",
       "    .dataframe tbody tr th {\n",
       "        vertical-align: top;\n",
       "    }\n",
       "\n",
       "    .dataframe thead th {\n",
       "        text-align: right;\n",
       "    }\n",
       "</style>\n",
       "<table border=\"1\" class=\"dataframe\">\n",
       "  <thead>\n",
       "    <tr style=\"text-align: right;\">\n",
       "      <th></th>\n",
       "      <th>a</th>\n",
       "      <th>b</th>\n",
       "      <th>c</th>\n",
       "      <th>d</th>\n",
       "    </tr>\n",
       "  </thead>\n",
       "  <tbody>\n",
       "    <tr>\n",
       "      <th>0</th>\n",
       "      <td>0.761900</td>\n",
       "      <td>1.018355</td>\n",
       "      <td>-0.439297</td>\n",
       "      <td>-0.103125</td>\n",
       "    </tr>\n",
       "    <tr>\n",
       "      <th>1</th>\n",
       "      <td>0.381727</td>\n",
       "      <td>-0.929038</td>\n",
       "      <td>0.662066</td>\n",
       "      <td>1.987563</td>\n",
       "    </tr>\n",
       "    <tr>\n",
       "      <th>2</th>\n",
       "      <td>0.266130</td>\n",
       "      <td>-0.879227</td>\n",
       "      <td>0.826640</td>\n",
       "      <td>-0.943479</td>\n",
       "    </tr>\n",
       "    <tr>\n",
       "      <th>3</th>\n",
       "      <td>-0.328583</td>\n",
       "      <td>0.109148</td>\n",
       "      <td>NaN</td>\n",
       "      <td>-0.255545</td>\n",
       "    </tr>\n",
       "    <tr>\n",
       "      <th>4</th>\n",
       "      <td>0.368986</td>\n",
       "      <td>0.377998</td>\n",
       "      <td>NaN</td>\n",
       "      <td>0.419273</td>\n",
       "    </tr>\n",
       "  </tbody>\n",
       "</table>\n",
       "</div>"
      ],
      "text/plain": [
       "          a         b         c         d\n",
       "0  0.761900  1.018355 -0.439297 -0.103125\n",
       "1  0.381727 -0.929038  0.662066  1.987563\n",
       "2  0.266130 -0.879227  0.826640 -0.943479\n",
       "3 -0.328583  0.109148       NaN -0.255545\n",
       "4  0.368986  0.377998       NaN  0.419273"
      ]
     },
     "execution_count": 127,
     "metadata": {},
     "output_type": "execute_result"
    }
   ],
   "source": [
    "pd.concat([data_1, data_2], ignore_index = True)"
   ]
  },
  {
   "cell_type": "markdown",
   "id": "e6630936-8422-4aa8-8859-c66449ba0ee8",
   "metadata": {},
   "source": [
    "##### **4.8 数据清理**"
   ]
  },
  {
   "cell_type": "code",
   "execution_count": 128,
   "id": "ada07fd3-7323-423a-8a10-9a8205201b36",
   "metadata": {},
   "outputs": [
    {
     "data": {
      "text/html": [
       "<div>\n",
       "<style scoped>\n",
       "    .dataframe tbody tr th:only-of-type {\n",
       "        vertical-align: middle;\n",
       "    }\n",
       "\n",
       "    .dataframe tbody tr th {\n",
       "        vertical-align: top;\n",
       "    }\n",
       "\n",
       "    .dataframe thead th {\n",
       "        text-align: right;\n",
       "    }\n",
       "</style>\n",
       "<table border=\"1\" class=\"dataframe\">\n",
       "  <thead>\n",
       "    <tr style=\"text-align: right;\">\n",
       "      <th></th>\n",
       "      <th>k1</th>\n",
       "      <th>k2</th>\n",
       "    </tr>\n",
       "  </thead>\n",
       "  <tbody>\n",
       "    <tr>\n",
       "      <th>0</th>\n",
       "      <td>one</td>\n",
       "      <td>1</td>\n",
       "    </tr>\n",
       "    <tr>\n",
       "      <th>1</th>\n",
       "      <td>one</td>\n",
       "      <td>1</td>\n",
       "    </tr>\n",
       "    <tr>\n",
       "      <th>2</th>\n",
       "      <td>one</td>\n",
       "      <td>2</td>\n",
       "    </tr>\n",
       "    <tr>\n",
       "      <th>3</th>\n",
       "      <td>two</td>\n",
       "      <td>3</td>\n",
       "    </tr>\n",
       "    <tr>\n",
       "      <th>4</th>\n",
       "      <td>two</td>\n",
       "      <td>3</td>\n",
       "    </tr>\n",
       "  </tbody>\n",
       "</table>\n",
       "</div>"
      ],
      "text/plain": [
       "    k1  k2\n",
       "0  one   1\n",
       "1  one   1\n",
       "2  one   2\n",
       "3  two   3\n",
       "4  two   3"
      ]
     },
     "execution_count": 128,
     "metadata": {},
     "output_type": "execute_result"
    }
   ],
   "source": [
    "data = pd.DataFrame(\n",
    "    {'k1': ['one'] * 3 + ['two'] * 2,\n",
    "     'k2' : [1,1,2,3,3]\n",
    "    }\n",
    ")\n",
    "data"
   ]
  },
  {
   "cell_type": "code",
   "execution_count": 129,
   "id": "3f32752e-a04d-493f-b472-57bada2af69b",
   "metadata": {},
   "outputs": [
    {
     "data": {
      "text/plain": [
       "0    False\n",
       "1     True\n",
       "2    False\n",
       "3    False\n",
       "4     True\n",
       "dtype: bool"
      ]
     },
     "execution_count": 129,
     "metadata": {},
     "output_type": "execute_result"
    }
   ],
   "source": [
    "# 显示是否重复\n",
    "data.duplicated()"
   ]
  },
  {
   "cell_type": "markdown",
   "id": "fb25ce52-2584-46bc-bedf-40b5a9c8e3fe",
   "metadata": {},
   "source": [
    "+ **显示重复的数据**"
   ]
  },
  {
   "cell_type": "code",
   "execution_count": 130,
   "id": "078373e5-1bb2-4353-82c6-ececdd43760b",
   "metadata": {
    "tags": []
   },
   "outputs": [
    {
     "data": {
      "text/html": [
       "<div>\n",
       "<style scoped>\n",
       "    .dataframe tbody tr th:only-of-type {\n",
       "        vertical-align: middle;\n",
       "    }\n",
       "\n",
       "    .dataframe tbody tr th {\n",
       "        vertical-align: top;\n",
       "    }\n",
       "\n",
       "    .dataframe thead th {\n",
       "        text-align: right;\n",
       "    }\n",
       "</style>\n",
       "<table border=\"1\" class=\"dataframe\">\n",
       "  <thead>\n",
       "    <tr style=\"text-align: right;\">\n",
       "      <th></th>\n",
       "      <th>k1</th>\n",
       "      <th>k2</th>\n",
       "    </tr>\n",
       "  </thead>\n",
       "  <tbody>\n",
       "    <tr>\n",
       "      <th>1</th>\n",
       "      <td>one</td>\n",
       "      <td>1</td>\n",
       "    </tr>\n",
       "    <tr>\n",
       "      <th>4</th>\n",
       "      <td>two</td>\n",
       "      <td>3</td>\n",
       "    </tr>\n",
       "  </tbody>\n",
       "</table>\n",
       "</div>"
      ],
      "text/plain": [
       "    k1  k2\n",
       "1  one   1\n",
       "4  two   3"
      ]
     },
     "execution_count": 130,
     "metadata": {},
     "output_type": "execute_result"
    }
   ],
   "source": [
    "data[data.duplicated()]"
   ]
  },
  {
   "cell_type": "markdown",
   "id": "95199b5f-2ce9-41e6-a9d8-778fa4d40a56",
   "metadata": {},
   "source": [
    "+ **显示不重复的数据**"
   ]
  },
  {
   "cell_type": "code",
   "execution_count": 131,
   "id": "234c5f5b-fd09-4397-8c5d-b4fe12929f7a",
   "metadata": {},
   "outputs": [
    {
     "data": {
      "text/html": [
       "<div>\n",
       "<style scoped>\n",
       "    .dataframe tbody tr th:only-of-type {\n",
       "        vertical-align: middle;\n",
       "    }\n",
       "\n",
       "    .dataframe tbody tr th {\n",
       "        vertical-align: top;\n",
       "    }\n",
       "\n",
       "    .dataframe thead th {\n",
       "        text-align: right;\n",
       "    }\n",
       "</style>\n",
       "<table border=\"1\" class=\"dataframe\">\n",
       "  <thead>\n",
       "    <tr style=\"text-align: right;\">\n",
       "      <th></th>\n",
       "      <th>k1</th>\n",
       "      <th>k2</th>\n",
       "    </tr>\n",
       "  </thead>\n",
       "  <tbody>\n",
       "    <tr>\n",
       "      <th>0</th>\n",
       "      <td>one</td>\n",
       "      <td>1</td>\n",
       "    </tr>\n",
       "    <tr>\n",
       "      <th>2</th>\n",
       "      <td>one</td>\n",
       "      <td>2</td>\n",
       "    </tr>\n",
       "    <tr>\n",
       "      <th>3</th>\n",
       "      <td>two</td>\n",
       "      <td>3</td>\n",
       "    </tr>\n",
       "  </tbody>\n",
       "</table>\n",
       "</div>"
      ],
      "text/plain": [
       "    k1  k2\n",
       "0  one   1\n",
       "2  one   2\n",
       "3  two   3"
      ]
     },
     "execution_count": 131,
     "metadata": {},
     "output_type": "execute_result"
    }
   ],
   "source": [
    "data[~data.duplicated()]"
   ]
  },
  {
   "cell_type": "markdown",
   "id": "39847474-21a4-44bd-ad3d-ec2206b111c7",
   "metadata": {},
   "source": [
    "+ **删除重复值**"
   ]
  },
  {
   "cell_type": "code",
   "execution_count": 132,
   "id": "902fe28c-be55-43eb-94a8-57ddb3ddacf2",
   "metadata": {},
   "outputs": [
    {
     "data": {
      "text/html": [
       "<div>\n",
       "<style scoped>\n",
       "    .dataframe tbody tr th:only-of-type {\n",
       "        vertical-align: middle;\n",
       "    }\n",
       "\n",
       "    .dataframe tbody tr th {\n",
       "        vertical-align: top;\n",
       "    }\n",
       "\n",
       "    .dataframe thead th {\n",
       "        text-align: right;\n",
       "    }\n",
       "</style>\n",
       "<table border=\"1\" class=\"dataframe\">\n",
       "  <thead>\n",
       "    <tr style=\"text-align: right;\">\n",
       "      <th></th>\n",
       "      <th>k1</th>\n",
       "      <th>k2</th>\n",
       "    </tr>\n",
       "  </thead>\n",
       "  <tbody>\n",
       "    <tr>\n",
       "      <th>0</th>\n",
       "      <td>one</td>\n",
       "      <td>1</td>\n",
       "    </tr>\n",
       "    <tr>\n",
       "      <th>2</th>\n",
       "      <td>one</td>\n",
       "      <td>2</td>\n",
       "    </tr>\n",
       "    <tr>\n",
       "      <th>3</th>\n",
       "      <td>two</td>\n",
       "      <td>3</td>\n",
       "    </tr>\n",
       "  </tbody>\n",
       "</table>\n",
       "</div>"
      ],
      "text/plain": [
       "    k1  k2\n",
       "0  one   1\n",
       "2  one   2\n",
       "3  two   3"
      ]
     },
     "execution_count": 132,
     "metadata": {},
     "output_type": "execute_result"
    }
   ],
   "source": [
    "data.drop_duplicates()"
   ]
  },
  {
   "cell_type": "code",
   "execution_count": 133,
   "id": "859b1d2f-1c16-4128-acb6-2d2a81e41392",
   "metadata": {},
   "outputs": [
    {
     "data": {
      "text/html": [
       "<div>\n",
       "<style scoped>\n",
       "    .dataframe tbody tr th:only-of-type {\n",
       "        vertical-align: middle;\n",
       "    }\n",
       "\n",
       "    .dataframe tbody tr th {\n",
       "        vertical-align: top;\n",
       "    }\n",
       "\n",
       "    .dataframe thead th {\n",
       "        text-align: right;\n",
       "    }\n",
       "</style>\n",
       "<table border=\"1\" class=\"dataframe\">\n",
       "  <thead>\n",
       "    <tr style=\"text-align: right;\">\n",
       "      <th></th>\n",
       "      <th>k1</th>\n",
       "      <th>k2</th>\n",
       "      <th>k3</th>\n",
       "    </tr>\n",
       "  </thead>\n",
       "  <tbody>\n",
       "    <tr>\n",
       "      <th>0</th>\n",
       "      <td>one</td>\n",
       "      <td>1</td>\n",
       "      <td>1</td>\n",
       "    </tr>\n",
       "    <tr>\n",
       "      <th>1</th>\n",
       "      <td>one</td>\n",
       "      <td>1</td>\n",
       "      <td>1</td>\n",
       "    </tr>\n",
       "    <tr>\n",
       "      <th>2</th>\n",
       "      <td>one</td>\n",
       "      <td>2</td>\n",
       "      <td>1</td>\n",
       "    </tr>\n",
       "    <tr>\n",
       "      <th>3</th>\n",
       "      <td>two</td>\n",
       "      <td>3</td>\n",
       "      <td>1</td>\n",
       "    </tr>\n",
       "    <tr>\n",
       "      <th>4</th>\n",
       "      <td>two</td>\n",
       "      <td>3</td>\n",
       "      <td>1</td>\n",
       "    </tr>\n",
       "  </tbody>\n",
       "</table>\n",
       "</div>"
      ],
      "text/plain": [
       "    k1  k2  k3\n",
       "0  one   1   1\n",
       "1  one   1   1\n",
       "2  one   2   1\n",
       "3  two   3   1\n",
       "4  two   3   1"
      ]
     },
     "execution_count": 133,
     "metadata": {},
     "output_type": "execute_result"
    }
   ],
   "source": [
    "data['k3'] = 1\n",
    "data"
   ]
  },
  {
   "cell_type": "markdown",
   "id": "311ae8cd-4769-4bd4-8b31-2b304ee17d5c",
   "metadata": {},
   "source": [
    "+ **指定删除某些数据**"
   ]
  },
  {
   "cell_type": "code",
   "execution_count": 134,
   "id": "eff32fc5-80ac-4883-b389-3eda78403a2f",
   "metadata": {},
   "outputs": [
    {
     "data": {
      "text/html": [
       "<div>\n",
       "<style scoped>\n",
       "    .dataframe tbody tr th:only-of-type {\n",
       "        vertical-align: middle;\n",
       "    }\n",
       "\n",
       "    .dataframe tbody tr th {\n",
       "        vertical-align: top;\n",
       "    }\n",
       "\n",
       "    .dataframe thead th {\n",
       "        text-align: right;\n",
       "    }\n",
       "</style>\n",
       "<table border=\"1\" class=\"dataframe\">\n",
       "  <thead>\n",
       "    <tr style=\"text-align: right;\">\n",
       "      <th></th>\n",
       "      <th>k1</th>\n",
       "      <th>k2</th>\n",
       "      <th>k3</th>\n",
       "    </tr>\n",
       "  </thead>\n",
       "  <tbody>\n",
       "    <tr>\n",
       "      <th>0</th>\n",
       "      <td>one</td>\n",
       "      <td>1</td>\n",
       "      <td>1</td>\n",
       "    </tr>\n",
       "    <tr>\n",
       "      <th>2</th>\n",
       "      <td>one</td>\n",
       "      <td>2</td>\n",
       "      <td>1</td>\n",
       "    </tr>\n",
       "    <tr>\n",
       "      <th>3</th>\n",
       "      <td>two</td>\n",
       "      <td>3</td>\n",
       "      <td>1</td>\n",
       "    </tr>\n",
       "  </tbody>\n",
       "</table>\n",
       "</div>"
      ],
      "text/plain": [
       "    k1  k2  k3\n",
       "0  one   1   1\n",
       "2  one   2   1\n",
       "3  two   3   1"
      ]
     },
     "execution_count": 134,
     "metadata": {},
     "output_type": "execute_result"
    }
   ],
   "source": [
    "data.drop_duplicates(['k2','k3'])"
   ]
  },
  {
   "cell_type": "code",
   "execution_count": 135,
   "id": "970c319e-35da-4428-bf1c-22d7313faa85",
   "metadata": {},
   "outputs": [
    {
     "data": {
      "text/html": [
       "<div>\n",
       "<style scoped>\n",
       "    .dataframe tbody tr th:only-of-type {\n",
       "        vertical-align: middle;\n",
       "    }\n",
       "\n",
       "    .dataframe tbody tr th {\n",
       "        vertical-align: top;\n",
       "    }\n",
       "\n",
       "    .dataframe thead th {\n",
       "        text-align: right;\n",
       "    }\n",
       "</style>\n",
       "<table border=\"1\" class=\"dataframe\">\n",
       "  <thead>\n",
       "    <tr style=\"text-align: right;\">\n",
       "      <th></th>\n",
       "      <th>k1</th>\n",
       "      <th>k2</th>\n",
       "      <th>k3</th>\n",
       "    </tr>\n",
       "  </thead>\n",
       "  <tbody>\n",
       "    <tr>\n",
       "      <th>0</th>\n",
       "      <td>one</td>\n",
       "      <td>1.0</td>\n",
       "      <td>1</td>\n",
       "    </tr>\n",
       "    <tr>\n",
       "      <th>1</th>\n",
       "      <td>one</td>\n",
       "      <td>1.0</td>\n",
       "      <td>1</td>\n",
       "    </tr>\n",
       "    <tr>\n",
       "      <th>2</th>\n",
       "      <td>one</td>\n",
       "      <td>2.0</td>\n",
       "      <td>1</td>\n",
       "    </tr>\n",
       "    <tr>\n",
       "      <th>3</th>\n",
       "      <td>two</td>\n",
       "      <td>NaN</td>\n",
       "      <td>1</td>\n",
       "    </tr>\n",
       "    <tr>\n",
       "      <th>4</th>\n",
       "      <td>two</td>\n",
       "      <td>NaN</td>\n",
       "      <td>1</td>\n",
       "    </tr>\n",
       "  </tbody>\n",
       "</table>\n",
       "</div>"
      ],
      "text/plain": [
       "    k1   k2  k3\n",
       "0  one  1.0   1\n",
       "1  one  1.0   1\n",
       "2  one  2.0   1\n",
       "3  two  NaN   1\n",
       "4  two  NaN   1"
      ]
     },
     "execution_count": 135,
     "metadata": {},
     "output_type": "execute_result"
    }
   ],
   "source": [
    "# 替换\n",
    "data.replace(3, np.nan)"
   ]
  },
  {
   "cell_type": "markdown",
   "id": "665e7b00-57de-4be6-b72f-ebfeabdbedab",
   "metadata": {},
   "source": [
    "+ **对多个值处理就生成List[]**"
   ]
  },
  {
   "cell_type": "code",
   "execution_count": 136,
   "id": "4ffbc0cc-1bcf-45f7-9ce8-5d29c116d2a6",
   "metadata": {},
   "outputs": [
    {
     "data": {
      "text/html": [
       "<div>\n",
       "<style scoped>\n",
       "    .dataframe tbody tr th:only-of-type {\n",
       "        vertical-align: middle;\n",
       "    }\n",
       "\n",
       "    .dataframe tbody tr th {\n",
       "        vertical-align: top;\n",
       "    }\n",
       "\n",
       "    .dataframe thead th {\n",
       "        text-align: right;\n",
       "    }\n",
       "</style>\n",
       "<table border=\"1\" class=\"dataframe\">\n",
       "  <thead>\n",
       "    <tr style=\"text-align: right;\">\n",
       "      <th></th>\n",
       "      <th>k1</th>\n",
       "      <th>k2</th>\n",
       "      <th>k3</th>\n",
       "    </tr>\n",
       "  </thead>\n",
       "  <tbody>\n",
       "    <tr>\n",
       "      <th>0</th>\n",
       "      <td>one</td>\n",
       "      <td>1.0</td>\n",
       "      <td>1.0</td>\n",
       "    </tr>\n",
       "    <tr>\n",
       "      <th>1</th>\n",
       "      <td>one</td>\n",
       "      <td>1.0</td>\n",
       "      <td>1.0</td>\n",
       "    </tr>\n",
       "    <tr>\n",
       "      <th>2</th>\n",
       "      <td>one</td>\n",
       "      <td>NaN</td>\n",
       "      <td>1.0</td>\n",
       "    </tr>\n",
       "    <tr>\n",
       "      <th>3</th>\n",
       "      <td>two</td>\n",
       "      <td>NaN</td>\n",
       "      <td>1.0</td>\n",
       "    </tr>\n",
       "    <tr>\n",
       "      <th>4</th>\n",
       "      <td>two</td>\n",
       "      <td>NaN</td>\n",
       "      <td>1.0</td>\n",
       "    </tr>\n",
       "  </tbody>\n",
       "</table>\n",
       "</div>"
      ],
      "text/plain": [
       "    k1   k2   k3\n",
       "0  one  1.0  1.0\n",
       "1  one  1.0  1.0\n",
       "2  one  NaN  1.0\n",
       "3  two  NaN  1.0\n",
       "4  two  NaN  1.0"
      ]
     },
     "execution_count": 136,
     "metadata": {},
     "output_type": "execute_result"
    }
   ],
   "source": [
    "data.replace([3,2], np.nan)"
   ]
  },
  {
   "cell_type": "code",
   "execution_count": 137,
   "id": "6473dcee-517a-44b5-abea-67540aeec53f",
   "metadata": {},
   "outputs": [
    {
     "data": {
      "text/html": [
       "<div>\n",
       "<style scoped>\n",
       "    .dataframe tbody tr th:only-of-type {\n",
       "        vertical-align: middle;\n",
       "    }\n",
       "\n",
       "    .dataframe tbody tr th {\n",
       "        vertical-align: top;\n",
       "    }\n",
       "\n",
       "    .dataframe thead th {\n",
       "        text-align: right;\n",
       "    }\n",
       "</style>\n",
       "<table border=\"1\" class=\"dataframe\">\n",
       "  <thead>\n",
       "    <tr style=\"text-align: right;\">\n",
       "      <th></th>\n",
       "      <th>k1</th>\n",
       "      <th>k2</th>\n",
       "      <th>k3</th>\n",
       "    </tr>\n",
       "  </thead>\n",
       "  <tbody>\n",
       "    <tr>\n",
       "      <th>0</th>\n",
       "      <td>one</td>\n",
       "      <td>1.0</td>\n",
       "      <td>1.0</td>\n",
       "    </tr>\n",
       "    <tr>\n",
       "      <th>1</th>\n",
       "      <td>one</td>\n",
       "      <td>1.0</td>\n",
       "      <td>1.0</td>\n",
       "    </tr>\n",
       "    <tr>\n",
       "      <th>2</th>\n",
       "      <td>one</td>\n",
       "      <td>100.0</td>\n",
       "      <td>1.0</td>\n",
       "    </tr>\n",
       "    <tr>\n",
       "      <th>3</th>\n",
       "      <td>two</td>\n",
       "      <td>NaN</td>\n",
       "      <td>1.0</td>\n",
       "    </tr>\n",
       "    <tr>\n",
       "      <th>4</th>\n",
       "      <td>two</td>\n",
       "      <td>NaN</td>\n",
       "      <td>1.0</td>\n",
       "    </tr>\n",
       "  </tbody>\n",
       "</table>\n",
       "</div>"
      ],
      "text/plain": [
       "    k1     k2   k3\n",
       "0  one    1.0  1.0\n",
       "1  one    1.0  1.0\n",
       "2  one  100.0  1.0\n",
       "3  two    NaN  1.0\n",
       "4  two    NaN  1.0"
      ]
     },
     "execution_count": 137,
     "metadata": {},
     "output_type": "execute_result"
    }
   ],
   "source": [
    "data.replace({3:np.nan, 2:100})"
   ]
  },
  {
   "cell_type": "code",
   "execution_count": 138,
   "id": "b3ba4e59-c550-4f52-ac29-51f2a78c8be4",
   "metadata": {},
   "outputs": [
    {
     "data": {
      "text/plain": [
       "0    2.0\n",
       "1    3.0\n",
       "2    NaN\n",
       "3    3.0\n",
       "4    6.0\n",
       "5    NaN\n",
       "dtype: float64"
      ]
     },
     "execution_count": 138,
     "metadata": {},
     "output_type": "execute_result"
    }
   ],
   "source": [
    "# 处理缺失值\n",
    "data = pd.Series([2,3,np.nan,3,6,np.nan])\n",
    "data"
   ]
  },
  {
   "cell_type": "code",
   "execution_count": 139,
   "id": "b6dcdd35-8fbb-4e75-82a5-0862dd8089dd",
   "metadata": {},
   "outputs": [
    {
     "data": {
      "text/plain": [
       "0    False\n",
       "1    False\n",
       "2     True\n",
       "3    False\n",
       "4    False\n",
       "5     True\n",
       "dtype: bool"
      ]
     },
     "execution_count": 139,
     "metadata": {},
     "output_type": "execute_result"
    }
   ],
   "source": [
    "data.isnull()"
   ]
  },
  {
   "cell_type": "code",
   "execution_count": 140,
   "id": "44d31a71-39ab-496c-8828-d81961964e9a",
   "metadata": {},
   "outputs": [
    {
     "data": {
      "text/plain": [
       "0    2.0\n",
       "1    3.0\n",
       "3    3.0\n",
       "4    6.0\n",
       "dtype: float64"
      ]
     },
     "execution_count": 140,
     "metadata": {},
     "output_type": "execute_result"
    }
   ],
   "source": [
    "data.dropna()"
   ]
  },
  {
   "cell_type": "code",
   "execution_count": 141,
   "id": "3885015e-a814-4c65-b7ca-36e07842d784",
   "metadata": {},
   "outputs": [
    {
     "data": {
      "text/html": [
       "<div>\n",
       "<style scoped>\n",
       "    .dataframe tbody tr th:only-of-type {\n",
       "        vertical-align: middle;\n",
       "    }\n",
       "\n",
       "    .dataframe tbody tr th {\n",
       "        vertical-align: top;\n",
       "    }\n",
       "\n",
       "    .dataframe thead th {\n",
       "        text-align: right;\n",
       "    }\n",
       "</style>\n",
       "<table border=\"1\" class=\"dataframe\">\n",
       "  <thead>\n",
       "    <tr style=\"text-align: right;\">\n",
       "      <th></th>\n",
       "      <th>a</th>\n",
       "      <th>b</th>\n",
       "      <th>c</th>\n",
       "      <th>d</th>\n",
       "    </tr>\n",
       "  </thead>\n",
       "  <tbody>\n",
       "    <tr>\n",
       "      <th>0</th>\n",
       "      <td>0.956458</td>\n",
       "      <td>-0.790999</td>\n",
       "      <td>-0.172711</td>\n",
       "      <td>-0.825370</td>\n",
       "    </tr>\n",
       "    <tr>\n",
       "      <th>1</th>\n",
       "      <td>0.488571</td>\n",
       "      <td>1.245915</td>\n",
       "      <td>-0.429009</td>\n",
       "      <td>0.967415</td>\n",
       "    </tr>\n",
       "    <tr>\n",
       "      <th>2</th>\n",
       "      <td>-0.555147</td>\n",
       "      <td>0.096853</td>\n",
       "      <td>0.468003</td>\n",
       "      <td>1.021349</td>\n",
       "    </tr>\n",
       "    <tr>\n",
       "      <th>3</th>\n",
       "      <td>-1.666561</td>\n",
       "      <td>0.946213</td>\n",
       "      <td>-0.546106</td>\n",
       "      <td>1.277561</td>\n",
       "    </tr>\n",
       "    <tr>\n",
       "      <th>4</th>\n",
       "      <td>-0.037715</td>\n",
       "      <td>-0.190239</td>\n",
       "      <td>-0.616897</td>\n",
       "      <td>0.450158</td>\n",
       "    </tr>\n",
       "  </tbody>\n",
       "</table>\n",
       "</div>"
      ],
      "text/plain": [
       "          a         b         c         d\n",
       "0  0.956458 -0.790999 -0.172711 -0.825370\n",
       "1  0.488571  1.245915 -0.429009  0.967415\n",
       "2 -0.555147  0.096853  0.468003  1.021349\n",
       "3 -1.666561  0.946213 -0.546106  1.277561\n",
       "4 -0.037715 -0.190239 -0.616897  0.450158"
      ]
     },
     "execution_count": 141,
     "metadata": {},
     "output_type": "execute_result"
    }
   ],
   "source": [
    "data = pd.DataFrame(np.random.randn(5,4), columns = list('abcd'))\n",
    "data"
   ]
  },
  {
   "cell_type": "code",
   "execution_count": 142,
   "id": "c28c264d-65ae-4273-93d1-a5682b0efe34",
   "metadata": {},
   "outputs": [
    {
     "data": {
      "text/html": [
       "<div>\n",
       "<style scoped>\n",
       "    .dataframe tbody tr th:only-of-type {\n",
       "        vertical-align: middle;\n",
       "    }\n",
       "\n",
       "    .dataframe tbody tr th {\n",
       "        vertical-align: top;\n",
       "    }\n",
       "\n",
       "    .dataframe thead th {\n",
       "        text-align: right;\n",
       "    }\n",
       "</style>\n",
       "<table border=\"1\" class=\"dataframe\">\n",
       "  <thead>\n",
       "    <tr style=\"text-align: right;\">\n",
       "      <th></th>\n",
       "      <th>a</th>\n",
       "      <th>b</th>\n",
       "      <th>c</th>\n",
       "      <th>d</th>\n",
       "    </tr>\n",
       "  </thead>\n",
       "  <tbody>\n",
       "    <tr>\n",
       "      <th>0</th>\n",
       "      <td>0.956458</td>\n",
       "      <td>NaN</td>\n",
       "      <td>-0.172711</td>\n",
       "      <td>-0.825370</td>\n",
       "    </tr>\n",
       "    <tr>\n",
       "      <th>1</th>\n",
       "      <td>NaN</td>\n",
       "      <td>NaN</td>\n",
       "      <td>NaN</td>\n",
       "      <td>NaN</td>\n",
       "    </tr>\n",
       "    <tr>\n",
       "      <th>2</th>\n",
       "      <td>-0.555147</td>\n",
       "      <td>1.0</td>\n",
       "      <td>0.468003</td>\n",
       "      <td>1.021349</td>\n",
       "    </tr>\n",
       "    <tr>\n",
       "      <th>3</th>\n",
       "      <td>-1.666561</td>\n",
       "      <td>NaN</td>\n",
       "      <td>-0.546106</td>\n",
       "      <td>1.277561</td>\n",
       "    </tr>\n",
       "    <tr>\n",
       "      <th>4</th>\n",
       "      <td>-0.037715</td>\n",
       "      <td>NaN</td>\n",
       "      <td>-0.616897</td>\n",
       "      <td>0.450158</td>\n",
       "    </tr>\n",
       "  </tbody>\n",
       "</table>\n",
       "</div>"
      ],
      "text/plain": [
       "          a    b         c         d\n",
       "0  0.956458  NaN -0.172711 -0.825370\n",
       "1       NaN  NaN       NaN       NaN\n",
       "2 -0.555147  1.0  0.468003  1.021349\n",
       "3 -1.666561  NaN -0.546106  1.277561\n",
       "4 -0.037715  NaN -0.616897  0.450158"
      ]
     },
     "execution_count": 142,
     "metadata": {},
     "output_type": "execute_result"
    }
   ],
   "source": [
    "data.iloc[1] = np.nan\n",
    "data['b'] = np.nan\n",
    "data.iloc[2,1] = 1\n",
    "data"
   ]
  },
  {
   "cell_type": "code",
   "execution_count": 143,
   "id": "51c7a80c-9c03-4783-a626-21f191c6aeb0",
   "metadata": {},
   "outputs": [
    {
     "data": {
      "text/html": [
       "<div>\n",
       "<style scoped>\n",
       "    .dataframe tbody tr th:only-of-type {\n",
       "        vertical-align: middle;\n",
       "    }\n",
       "\n",
       "    .dataframe tbody tr th {\n",
       "        vertical-align: top;\n",
       "    }\n",
       "\n",
       "    .dataframe thead th {\n",
       "        text-align: right;\n",
       "    }\n",
       "</style>\n",
       "<table border=\"1\" class=\"dataframe\">\n",
       "  <thead>\n",
       "    <tr style=\"text-align: right;\">\n",
       "      <th></th>\n",
       "      <th>a</th>\n",
       "      <th>b</th>\n",
       "      <th>c</th>\n",
       "      <th>d</th>\n",
       "    </tr>\n",
       "  </thead>\n",
       "  <tbody>\n",
       "    <tr>\n",
       "      <th>2</th>\n",
       "      <td>-0.555147</td>\n",
       "      <td>1.0</td>\n",
       "      <td>0.468003</td>\n",
       "      <td>1.021349</td>\n",
       "    </tr>\n",
       "  </tbody>\n",
       "</table>\n",
       "</div>"
      ],
      "text/plain": [
       "          a    b         c         d\n",
       "2 -0.555147  1.0  0.468003  1.021349"
      ]
     },
     "execution_count": 143,
     "metadata": {},
     "output_type": "execute_result"
    }
   ],
   "source": [
    "# 删除所有包含nan值\n",
    "data.dropna() "
   ]
  },
  {
   "cell_type": "code",
   "execution_count": 144,
   "id": "671f846c-2e3a-49a0-a82f-3963aba2c16c",
   "metadata": {},
   "outputs": [
    {
     "data": {
      "text/html": [
       "<div>\n",
       "<style scoped>\n",
       "    .dataframe tbody tr th:only-of-type {\n",
       "        vertical-align: middle;\n",
       "    }\n",
       "\n",
       "    .dataframe tbody tr th {\n",
       "        vertical-align: top;\n",
       "    }\n",
       "\n",
       "    .dataframe thead th {\n",
       "        text-align: right;\n",
       "    }\n",
       "</style>\n",
       "<table border=\"1\" class=\"dataframe\">\n",
       "  <thead>\n",
       "    <tr style=\"text-align: right;\">\n",
       "      <th></th>\n",
       "      <th>a</th>\n",
       "      <th>b</th>\n",
       "      <th>c</th>\n",
       "      <th>d</th>\n",
       "    </tr>\n",
       "  </thead>\n",
       "  <tbody>\n",
       "    <tr>\n",
       "      <th>0</th>\n",
       "      <td>0.956458</td>\n",
       "      <td>NaN</td>\n",
       "      <td>-0.172711</td>\n",
       "      <td>-0.825370</td>\n",
       "    </tr>\n",
       "    <tr>\n",
       "      <th>2</th>\n",
       "      <td>-0.555147</td>\n",
       "      <td>1.0</td>\n",
       "      <td>0.468003</td>\n",
       "      <td>1.021349</td>\n",
       "    </tr>\n",
       "    <tr>\n",
       "      <th>3</th>\n",
       "      <td>-1.666561</td>\n",
       "      <td>NaN</td>\n",
       "      <td>-0.546106</td>\n",
       "      <td>1.277561</td>\n",
       "    </tr>\n",
       "    <tr>\n",
       "      <th>4</th>\n",
       "      <td>-0.037715</td>\n",
       "      <td>NaN</td>\n",
       "      <td>-0.616897</td>\n",
       "      <td>0.450158</td>\n",
       "    </tr>\n",
       "  </tbody>\n",
       "</table>\n",
       "</div>"
      ],
      "text/plain": [
       "          a    b         c         d\n",
       "0  0.956458  NaN -0.172711 -0.825370\n",
       "2 -0.555147  1.0  0.468003  1.021349\n",
       "3 -1.666561  NaN -0.546106  1.277561\n",
       "4 -0.037715  NaN -0.616897  0.450158"
      ]
     },
     "execution_count": 144,
     "metadata": {},
     "output_type": "execute_result"
    }
   ],
   "source": [
    "# 全部是nan的值删掉\n",
    "data.dropna(how = 'all') "
   ]
  },
  {
   "cell_type": "code",
   "execution_count": 145,
   "id": "bc383c9f-acd7-4fd7-af0c-41bc9ee92079",
   "metadata": {},
   "outputs": [
    {
     "data": {
      "text/html": [
       "<div>\n",
       "<style scoped>\n",
       "    .dataframe tbody tr th:only-of-type {\n",
       "        vertical-align: middle;\n",
       "    }\n",
       "\n",
       "    .dataframe tbody tr th {\n",
       "        vertical-align: top;\n",
       "    }\n",
       "\n",
       "    .dataframe thead th {\n",
       "        text-align: right;\n",
       "    }\n",
       "</style>\n",
       "<table border=\"1\" class=\"dataframe\">\n",
       "  <thead>\n",
       "    <tr style=\"text-align: right;\">\n",
       "      <th></th>\n",
       "      <th>a</th>\n",
       "      <th>b</th>\n",
       "      <th>c</th>\n",
       "      <th>d</th>\n",
       "    </tr>\n",
       "  </thead>\n",
       "  <tbody>\n",
       "    <tr>\n",
       "      <th>0</th>\n",
       "      <td>0.956458</td>\n",
       "      <td>NaN</td>\n",
       "      <td>-0.172711</td>\n",
       "      <td>-0.825370</td>\n",
       "    </tr>\n",
       "    <tr>\n",
       "      <th>1</th>\n",
       "      <td>NaN</td>\n",
       "      <td>NaN</td>\n",
       "      <td>NaN</td>\n",
       "      <td>NaN</td>\n",
       "    </tr>\n",
       "    <tr>\n",
       "      <th>2</th>\n",
       "      <td>-0.555147</td>\n",
       "      <td>1.0</td>\n",
       "      <td>0.468003</td>\n",
       "      <td>1.021349</td>\n",
       "    </tr>\n",
       "    <tr>\n",
       "      <th>3</th>\n",
       "      <td>-1.666561</td>\n",
       "      <td>NaN</td>\n",
       "      <td>-0.546106</td>\n",
       "      <td>1.277561</td>\n",
       "    </tr>\n",
       "    <tr>\n",
       "      <th>4</th>\n",
       "      <td>-0.037715</td>\n",
       "      <td>NaN</td>\n",
       "      <td>-0.616897</td>\n",
       "      <td>0.450158</td>\n",
       "    </tr>\n",
       "  </tbody>\n",
       "</table>\n",
       "</div>"
      ],
      "text/plain": [
       "          a    b         c         d\n",
       "0  0.956458  NaN -0.172711 -0.825370\n",
       "1       NaN  NaN       NaN       NaN\n",
       "2 -0.555147  1.0  0.468003  1.021349\n",
       "3 -1.666561  NaN -0.546106  1.277561\n",
       "4 -0.037715  NaN -0.616897  0.450158"
      ]
     },
     "execution_count": 145,
     "metadata": {},
     "output_type": "execute_result"
    }
   ],
   "source": [
    "data.dropna(how = 'all', axis = 1) "
   ]
  },
  {
   "cell_type": "code",
   "execution_count": 146,
   "id": "f2b8c736-95ed-47c2-96ba-33622b08ed4c",
   "metadata": {},
   "outputs": [
    {
     "data": {
      "text/html": [
       "<div>\n",
       "<style scoped>\n",
       "    .dataframe tbody tr th:only-of-type {\n",
       "        vertical-align: middle;\n",
       "    }\n",
       "\n",
       "    .dataframe tbody tr th {\n",
       "        vertical-align: top;\n",
       "    }\n",
       "\n",
       "    .dataframe thead th {\n",
       "        text-align: right;\n",
       "    }\n",
       "</style>\n",
       "<table border=\"1\" class=\"dataframe\">\n",
       "  <thead>\n",
       "    <tr style=\"text-align: right;\">\n",
       "      <th></th>\n",
       "      <th>a</th>\n",
       "      <th>b</th>\n",
       "      <th>c</th>\n",
       "      <th>d</th>\n",
       "    </tr>\n",
       "  </thead>\n",
       "  <tbody>\n",
       "    <tr>\n",
       "      <th>0</th>\n",
       "      <td>0.956458</td>\n",
       "      <td>0.0</td>\n",
       "      <td>-0.172711</td>\n",
       "      <td>-0.825370</td>\n",
       "    </tr>\n",
       "    <tr>\n",
       "      <th>1</th>\n",
       "      <td>0.000000</td>\n",
       "      <td>0.0</td>\n",
       "      <td>0.000000</td>\n",
       "      <td>0.000000</td>\n",
       "    </tr>\n",
       "    <tr>\n",
       "      <th>2</th>\n",
       "      <td>-0.555147</td>\n",
       "      <td>1.0</td>\n",
       "      <td>0.468003</td>\n",
       "      <td>1.021349</td>\n",
       "    </tr>\n",
       "    <tr>\n",
       "      <th>3</th>\n",
       "      <td>-1.666561</td>\n",
       "      <td>0.0</td>\n",
       "      <td>-0.546106</td>\n",
       "      <td>1.277561</td>\n",
       "    </tr>\n",
       "    <tr>\n",
       "      <th>4</th>\n",
       "      <td>-0.037715</td>\n",
       "      <td>0.0</td>\n",
       "      <td>-0.616897</td>\n",
       "      <td>0.450158</td>\n",
       "    </tr>\n",
       "  </tbody>\n",
       "</table>\n",
       "</div>"
      ],
      "text/plain": [
       "          a    b         c         d\n",
       "0  0.956458  0.0 -0.172711 -0.825370\n",
       "1  0.000000  0.0  0.000000  0.000000\n",
       "2 -0.555147  1.0  0.468003  1.021349\n",
       "3 -1.666561  0.0 -0.546106  1.277561\n",
       "4 -0.037715  0.0 -0.616897  0.450158"
      ]
     },
     "execution_count": 146,
     "metadata": {},
     "output_type": "execute_result"
    }
   ],
   "source": [
    "# 填充nan值\n",
    "data.fillna(0)"
   ]
  },
  {
   "cell_type": "code",
   "execution_count": 147,
   "id": "01c515a3-5441-4d9b-a2aa-1f3225d2d77e",
   "metadata": {},
   "outputs": [
    {
     "data": {
      "text/html": [
       "<div>\n",
       "<style scoped>\n",
       "    .dataframe tbody tr th:only-of-type {\n",
       "        vertical-align: middle;\n",
       "    }\n",
       "\n",
       "    .dataframe tbody tr th {\n",
       "        vertical-align: top;\n",
       "    }\n",
       "\n",
       "    .dataframe thead th {\n",
       "        text-align: right;\n",
       "    }\n",
       "</style>\n",
       "<table border=\"1\" class=\"dataframe\">\n",
       "  <thead>\n",
       "    <tr style=\"text-align: right;\">\n",
       "      <th></th>\n",
       "      <th>a</th>\n",
       "      <th>b</th>\n",
       "      <th>c</th>\n",
       "      <th>d</th>\n",
       "    </tr>\n",
       "  </thead>\n",
       "  <tbody>\n",
       "    <tr>\n",
       "      <th>0</th>\n",
       "      <td>0.956458</td>\n",
       "      <td>10.0</td>\n",
       "      <td>-0.172711</td>\n",
       "      <td>-0.825370</td>\n",
       "    </tr>\n",
       "    <tr>\n",
       "      <th>1</th>\n",
       "      <td>1.000000</td>\n",
       "      <td>10.0</td>\n",
       "      <td>100.000000</td>\n",
       "      <td>1000.000000</td>\n",
       "    </tr>\n",
       "    <tr>\n",
       "      <th>2</th>\n",
       "      <td>-0.555147</td>\n",
       "      <td>1.0</td>\n",
       "      <td>0.468003</td>\n",
       "      <td>1.021349</td>\n",
       "    </tr>\n",
       "    <tr>\n",
       "      <th>3</th>\n",
       "      <td>-1.666561</td>\n",
       "      <td>10.0</td>\n",
       "      <td>-0.546106</td>\n",
       "      <td>1.277561</td>\n",
       "    </tr>\n",
       "    <tr>\n",
       "      <th>4</th>\n",
       "      <td>-0.037715</td>\n",
       "      <td>10.0</td>\n",
       "      <td>-0.616897</td>\n",
       "      <td>0.450158</td>\n",
       "    </tr>\n",
       "  </tbody>\n",
       "</table>\n",
       "</div>"
      ],
      "text/plain": [
       "          a     b           c            d\n",
       "0  0.956458  10.0   -0.172711    -0.825370\n",
       "1  1.000000  10.0  100.000000  1000.000000\n",
       "2 -0.555147   1.0    0.468003     1.021349\n",
       "3 -1.666561  10.0   -0.546106     1.277561\n",
       "4 -0.037715  10.0   -0.616897     0.450158"
      ]
     },
     "execution_count": 147,
     "metadata": {},
     "output_type": "execute_result"
    }
   ],
   "source": [
    "data.fillna(\n",
    "    {\n",
    "        'a':1,\n",
    "        'b':10,\n",
    "        'c':100,\n",
    "        'd':1000\n",
    "    }\n",
    ")"
   ]
  },
  {
   "cell_type": "markdown",
   "id": "5481104a-cf32-43d9-942d-32332b9d85c1",
   "metadata": {},
   "source": [
    "+ **inplace = True改变源文件**"
   ]
  },
  {
   "cell_type": "code",
   "execution_count": 148,
   "id": "4d954cb3-9df0-4011-aae0-6f3ac491b78c",
   "metadata": {},
   "outputs": [
    {
     "data": {
      "text/plain": [
       "0    0.956458\n",
       "1   -0.325741\n",
       "2   -0.555147\n",
       "3   -1.666561\n",
       "4   -0.037715\n",
       "Name: a, dtype: float64"
      ]
     },
     "execution_count": 148,
     "metadata": {},
     "output_type": "execute_result"
    }
   ],
   "source": [
    "data.a.fillna(data.a.mean())"
   ]
  },
  {
   "cell_type": "markdown",
   "id": "31c0c1a3-255f-4f0c-9841-51e6dabefee2",
   "metadata": {},
   "source": [
    "##### **4.9 字符串操作**"
   ]
  },
  {
   "cell_type": "code",
   "execution_count": 149,
   "id": "6b527294-b2a4-487d-946b-856020bfd4ae",
   "metadata": {},
   "outputs": [
    {
     "data": {
      "text/html": [
       "<div>\n",
       "<style scoped>\n",
       "    .dataframe tbody tr th:only-of-type {\n",
       "        vertical-align: middle;\n",
       "    }\n",
       "\n",
       "    .dataframe tbody tr th {\n",
       "        vertical-align: top;\n",
       "    }\n",
       "\n",
       "    .dataframe thead th {\n",
       "        text-align: right;\n",
       "    }\n",
       "</style>\n",
       "<table border=\"1\" class=\"dataframe\">\n",
       "  <thead>\n",
       "    <tr style=\"text-align: right;\">\n",
       "      <th></th>\n",
       "      <th>k1</th>\n",
       "      <th>k2</th>\n",
       "    </tr>\n",
       "  </thead>\n",
       "  <tbody>\n",
       "    <tr>\n",
       "      <th>0</th>\n",
       "      <td>beijing,haidian,chushou</td>\n",
       "      <td>beijing,xicheng,chuzu</td>\n",
       "    </tr>\n",
       "    <tr>\n",
       "      <th>1</th>\n",
       "      <td>beijing,chaoyang,chushou</td>\n",
       "      <td>beijing,shijingshan,chushou</td>\n",
       "    </tr>\n",
       "    <tr>\n",
       "      <th>2</th>\n",
       "      <td>beijing,fengtai,chuzu</td>\n",
       "      <td>NaN</td>\n",
       "    </tr>\n",
       "  </tbody>\n",
       "</table>\n",
       "</div>"
      ],
      "text/plain": [
       "                         k1                           k2\n",
       "0   beijing,haidian,chushou        beijing,xicheng,chuzu\n",
       "1  beijing,chaoyang,chushou  beijing,shijingshan,chushou\n",
       "2     beijing,fengtai,chuzu                          NaN"
      ]
     },
     "execution_count": 149,
     "metadata": {},
     "output_type": "execute_result"
    }
   ],
   "source": [
    "data = pd.DataFrame(\n",
    "    {\n",
    "        'k1': ['beijing,haidian,chushou', 'beijing,chaoyang,chushou', 'beijing,fengtai,chuzu'],\n",
    "        'k2': ['beijing,xicheng,chuzu', 'beijing,shijingshan,chushou', np.nan]\n",
    "    }\n",
    ")\n",
    "data"
   ]
  },
  {
   "cell_type": "code",
   "execution_count": 150,
   "id": "f878d44c-ce45-4a0b-8c3f-85916673b19d",
   "metadata": {},
   "outputs": [
    {
     "data": {
      "text/plain": [
       "0     shanghai,haidian,chushou\n",
       "1    shanghai,chaoyang,chushou\n",
       "2       shanghai,fengtai,chuzu\n",
       "Name: k1, dtype: object"
      ]
     },
     "execution_count": 150,
     "metadata": {},
     "output_type": "execute_result"
    }
   ],
   "source": [
    "data.k1.str.replace('beijing', 'shanghai')"
   ]
  },
  {
   "cell_type": "code",
   "execution_count": 151,
   "id": "0bdecfeb-00d5-4e52-9859-92d9a75bc46f",
   "metadata": {},
   "outputs": [
    {
     "data": {
      "text/plain": [
       "0     True\n",
       "1     True\n",
       "2    False\n",
       "Name: k1, dtype: bool"
      ]
     },
     "execution_count": 151,
     "metadata": {},
     "output_type": "execute_result"
    }
   ],
   "source": [
    "data.k1.str.contains('chushou')"
   ]
  },
  {
   "cell_type": "markdown",
   "id": "729ab976-ccd7-468b-b585-2a1226d67aaf",
   "metadata": {},
   "source": [
    "+ **读取存在的数据**"
   ]
  },
  {
   "cell_type": "code",
   "execution_count": 152,
   "id": "508e5de1-7619-4117-9c5f-948557ef2193",
   "metadata": {},
   "outputs": [
    {
     "data": {
      "text/html": [
       "<div>\n",
       "<style scoped>\n",
       "    .dataframe tbody tr th:only-of-type {\n",
       "        vertical-align: middle;\n",
       "    }\n",
       "\n",
       "    .dataframe tbody tr th {\n",
       "        vertical-align: top;\n",
       "    }\n",
       "\n",
       "    .dataframe thead th {\n",
       "        text-align: right;\n",
       "    }\n",
       "</style>\n",
       "<table border=\"1\" class=\"dataframe\">\n",
       "  <thead>\n",
       "    <tr style=\"text-align: right;\">\n",
       "      <th></th>\n",
       "      <th>k1</th>\n",
       "      <th>k2</th>\n",
       "    </tr>\n",
       "  </thead>\n",
       "  <tbody>\n",
       "    <tr>\n",
       "      <th>0</th>\n",
       "      <td>beijing,haidian,chushou</td>\n",
       "      <td>beijing,xicheng,chuzu</td>\n",
       "    </tr>\n",
       "    <tr>\n",
       "      <th>1</th>\n",
       "      <td>beijing,chaoyang,chushou</td>\n",
       "      <td>beijing,shijingshan,chushou</td>\n",
       "    </tr>\n",
       "  </tbody>\n",
       "</table>\n",
       "</div>"
      ],
      "text/plain": [
       "                         k1                           k2\n",
       "0   beijing,haidian,chushou        beijing,xicheng,chuzu\n",
       "1  beijing,chaoyang,chushou  beijing,shijingshan,chushou"
      ]
     },
     "execution_count": 152,
     "metadata": {},
     "output_type": "execute_result"
    }
   ],
   "source": [
    "data[data.k1.str.contains('chushou')]"
   ]
  },
  {
   "cell_type": "code",
   "execution_count": 153,
   "id": "881305be-2c91-4028-95ce-f497eb2b4bac",
   "metadata": {},
   "outputs": [
    {
     "data": {
      "text/plain": [
       "0     BEIJING,HAIDIAN,CHUSHOU\n",
       "1    BEIJING,CHAOYANG,CHUSHOU\n",
       "2       BEIJING,FENGTAI,CHUZU\n",
       "Name: k1, dtype: object"
      ]
     },
     "execution_count": 153,
     "metadata": {},
     "output_type": "execute_result"
    }
   ],
   "source": [
    "data.k1.str.upper()"
   ]
  },
  {
   "cell_type": "code",
   "execution_count": 154,
   "id": "5da528c1-45ac-49da-b9b5-1c9ee381c7a9",
   "metadata": {},
   "outputs": [
    {
     "data": {
      "text/plain": [
       "0     [beijing, haidian, chushou]\n",
       "1    [beijing, chaoyang, chushou]\n",
       "2       [beijing, fengtai, chuzu]\n",
       "Name: k1, dtype: object"
      ]
     },
     "execution_count": 154,
     "metadata": {},
     "output_type": "execute_result"
    }
   ],
   "source": [
    "data.k1.str.split(',')"
   ]
  },
  {
   "cell_type": "markdown",
   "id": "090cbbb7-0ca4-48a3-974f-8d72cfcb423b",
   "metadata": {},
   "source": [
    "##### **函数映射进行转换**\n",
    "+ 用于series的map方法接受一个函数，或是一个字典，包含着映射关系，但这里有一个小问题，有大写和小写。因此我们先用str.lower把所有的专辑变成小写"
   ]
  },
  {
   "cell_type": "code",
   "execution_count": 155,
   "id": "6aec54f8-344f-49d8-819a-14545a889728",
   "metadata": {},
   "outputs": [],
   "source": [
    "quyu_to_chengshi = {\n",
    "        'chaoyang': 'beijing',\n",
    "        'huangpu': 'shanghai',\n",
    "        'jingan': 'shanghai',\n",
    "        'haidian': 'beijing',\n",
    "        'fengtai': 'beijing',\n",
    "        'tongzhou': 'beijing',\n",
    "    }"
   ]
  },
  {
   "cell_type": "code",
   "execution_count": 156,
   "id": "fb5ba931-4742-411e-949a-ef73d5438cd1",
   "metadata": {},
   "outputs": [
    {
     "data": {
      "text/plain": [
       "0    chaoyang\n",
       "1      jingan\n",
       "2     huangpu\n",
       "3     fengtai\n",
       "4      jingan\n",
       "5    tongzhou\n",
       "6     haidian\n",
       "7      jingan\n",
       "dtype: object"
      ]
     },
     "execution_count": 156,
     "metadata": {},
     "output_type": "execute_result"
    }
   ],
   "source": [
    "data = pd.Series(['chaoyang', 'jingan', 'huangpu', 'fengtai', 'jingan', 'tongzhou', 'haidian', 'jingan'])\n",
    "data"
   ]
  },
  {
   "cell_type": "code",
   "execution_count": 157,
   "id": "2e66d640-c487-4baa-afca-21ea72de40e9",
   "metadata": {},
   "outputs": [
    {
     "data": {
      "text/plain": [
       "0     beijing\n",
       "1    shanghai\n",
       "2    shanghai\n",
       "3     beijing\n",
       "4    shanghai\n",
       "5     beijing\n",
       "6     beijing\n",
       "7    shanghai\n",
       "dtype: object"
      ]
     },
     "execution_count": 157,
     "metadata": {},
     "output_type": "execute_result"
    }
   ],
   "source": [
    "data.map(quyu_to_chengshi)"
   ]
  },
  {
   "cell_type": "code",
   "execution_count": 158,
   "id": "b2a4d182-4f5a-4cda-bb4e-9fcdb2026b3e",
   "metadata": {},
   "outputs": [
    {
     "data": {
      "text/plain": [
       "0    CHAOYANG\n",
       "1      JINGAN\n",
       "2     HUANGPU\n",
       "3     FENGTAI\n",
       "4      JINGAN\n",
       "5    TONGZHOU\n",
       "6     HAIDIAN\n",
       "7      JINGAN\n",
       "dtype: object"
      ]
     },
     "execution_count": 158,
     "metadata": {},
     "output_type": "execute_result"
    }
   ],
   "source": [
    "data.map(lambda x:x.upper())"
   ]
  },
  {
   "cell_type": "code",
   "execution_count": 159,
   "id": "0cdb41e0-3bc7-452e-8c04-6dc3cfca226d",
   "metadata": {},
   "outputs": [
    {
     "data": {
      "text/html": [
       "<div>\n",
       "<style scoped>\n",
       "    .dataframe tbody tr th:only-of-type {\n",
       "        vertical-align: middle;\n",
       "    }\n",
       "\n",
       "    .dataframe tbody tr th {\n",
       "        vertical-align: top;\n",
       "    }\n",
       "\n",
       "    .dataframe thead th {\n",
       "        text-align: right;\n",
       "    }\n",
       "</style>\n",
       "<table border=\"1\" class=\"dataframe\">\n",
       "  <thead>\n",
       "    <tr style=\"text-align: right;\">\n",
       "      <th></th>\n",
       "      <th>a</th>\n",
       "      <th>b</th>\n",
       "      <th>c</th>\n",
       "      <th>d</th>\n",
       "    </tr>\n",
       "  </thead>\n",
       "  <tbody>\n",
       "    <tr>\n",
       "      <th>0</th>\n",
       "      <td>-0.257741</td>\n",
       "      <td>0.463781</td>\n",
       "      <td>-0.282075</td>\n",
       "      <td>-0.525324</td>\n",
       "    </tr>\n",
       "    <tr>\n",
       "      <th>1</th>\n",
       "      <td>0.056909</td>\n",
       "      <td>-0.996802</td>\n",
       "      <td>0.140049</td>\n",
       "      <td>0.822730</td>\n",
       "    </tr>\n",
       "    <tr>\n",
       "      <th>2</th>\n",
       "      <td>-0.233450</td>\n",
       "      <td>-1.028876</td>\n",
       "      <td>-1.844041</td>\n",
       "      <td>-0.426963</td>\n",
       "    </tr>\n",
       "    <tr>\n",
       "      <th>3</th>\n",
       "      <td>-0.026272</td>\n",
       "      <td>0.341861</td>\n",
       "      <td>-0.947586</td>\n",
       "      <td>-0.061488</td>\n",
       "    </tr>\n",
       "    <tr>\n",
       "      <th>4</th>\n",
       "      <td>1.981544</td>\n",
       "      <td>-0.658793</td>\n",
       "      <td>0.236423</td>\n",
       "      <td>1.636182</td>\n",
       "    </tr>\n",
       "  </tbody>\n",
       "</table>\n",
       "</div>"
      ],
      "text/plain": [
       "          a         b         c         d\n",
       "0 -0.257741  0.463781 -0.282075 -0.525324\n",
       "1  0.056909 -0.996802  0.140049  0.822730\n",
       "2 -0.233450 -1.028876 -1.844041 -0.426963\n",
       "3 -0.026272  0.341861 -0.947586 -0.061488\n",
       "4  1.981544 -0.658793  0.236423  1.636182"
      ]
     },
     "execution_count": 159,
     "metadata": {},
     "output_type": "execute_result"
    }
   ],
   "source": [
    "data = pd.DataFrame(np.random.randn(5,4), columns = list('abcd'))\n",
    "data"
   ]
  },
  {
   "cell_type": "code",
   "execution_count": 160,
   "id": "49758b9d-b24a-45a5-acf0-e7f71cf41c9b",
   "metadata": {},
   "outputs": [
    {
     "data": {
      "text/html": [
       "<div>\n",
       "<style scoped>\n",
       "    .dataframe tbody tr th:only-of-type {\n",
       "        vertical-align: middle;\n",
       "    }\n",
       "\n",
       "    .dataframe tbody tr th {\n",
       "        vertical-align: top;\n",
       "    }\n",
       "\n",
       "    .dataframe thead th {\n",
       "        text-align: right;\n",
       "    }\n",
       "</style>\n",
       "<table border=\"1\" class=\"dataframe\">\n",
       "  <thead>\n",
       "    <tr style=\"text-align: right;\">\n",
       "      <th></th>\n",
       "      <th>a</th>\n",
       "      <th>b</th>\n",
       "      <th>c</th>\n",
       "      <th>d</th>\n",
       "    </tr>\n",
       "  </thead>\n",
       "  <tbody>\n",
       "    <tr>\n",
       "      <th>0</th>\n",
       "      <td>-0.257741</td>\n",
       "      <td>0.206040</td>\n",
       "      <td>-0.076036</td>\n",
       "      <td>-0.601360</td>\n",
       "    </tr>\n",
       "    <tr>\n",
       "      <th>1</th>\n",
       "      <td>0.056909</td>\n",
       "      <td>-0.939893</td>\n",
       "      <td>-0.799844</td>\n",
       "      <td>0.022886</td>\n",
       "    </tr>\n",
       "    <tr>\n",
       "      <th>2</th>\n",
       "      <td>-0.233450</td>\n",
       "      <td>-1.262326</td>\n",
       "      <td>-3.106367</td>\n",
       "      <td>-3.533330</td>\n",
       "    </tr>\n",
       "    <tr>\n",
       "      <th>3</th>\n",
       "      <td>-0.026272</td>\n",
       "      <td>0.315589</td>\n",
       "      <td>-0.631997</td>\n",
       "      <td>-0.693484</td>\n",
       "    </tr>\n",
       "    <tr>\n",
       "      <th>4</th>\n",
       "      <td>1.981544</td>\n",
       "      <td>1.322751</td>\n",
       "      <td>1.559175</td>\n",
       "      <td>3.195357</td>\n",
       "    </tr>\n",
       "  </tbody>\n",
       "</table>\n",
       "</div>"
      ],
      "text/plain": [
       "          a         b         c         d\n",
       "0 -0.257741  0.206040 -0.076036 -0.601360\n",
       "1  0.056909 -0.939893 -0.799844  0.022886\n",
       "2 -0.233450 -1.262326 -3.106367 -3.533330\n",
       "3 -0.026272  0.315589 -0.631997 -0.693484\n",
       "4  1.981544  1.322751  1.559175  3.195357"
      ]
     },
     "execution_count": 160,
     "metadata": {},
     "output_type": "execute_result"
    }
   ],
   "source": [
    "data.apply(np.cumsum, axis = 1)"
   ]
  },
  {
   "cell_type": "code",
   "execution_count": 161,
   "id": "277ce572-a56b-4b1c-bb59-241252f8397f",
   "metadata": {},
   "outputs": [
    {
     "data": {
      "text/plain": [
       "a    2.239285\n",
       "b    1.492657\n",
       "c    2.080465\n",
       "d    2.161506\n",
       "dtype: float64"
      ]
     },
     "execution_count": 161,
     "metadata": {},
     "output_type": "execute_result"
    }
   ],
   "source": [
    "data.apply(lambda x:(x.max() - x.min()))"
   ]
  },
  {
   "cell_type": "markdown",
   "id": "6f2e664d-dcd4-4fbe-b658-d6e02f36c774",
   "metadata": {},
   "source": [
    "+ **每个元素都要执行函数**"
   ]
  },
  {
   "cell_type": "code",
   "execution_count": 162,
   "id": "b014cb38-8718-430f-84b7-9d8201a9f03a",
   "metadata": {},
   "outputs": [
    {
     "data": {
      "text/html": [
       "<div>\n",
       "<style scoped>\n",
       "    .dataframe tbody tr th:only-of-type {\n",
       "        vertical-align: middle;\n",
       "    }\n",
       "\n",
       "    .dataframe tbody tr th {\n",
       "        vertical-align: top;\n",
       "    }\n",
       "\n",
       "    .dataframe thead th {\n",
       "        text-align: right;\n",
       "    }\n",
       "</style>\n",
       "<table border=\"1\" class=\"dataframe\">\n",
       "  <thead>\n",
       "    <tr style=\"text-align: right;\">\n",
       "      <th></th>\n",
       "      <th>a</th>\n",
       "      <th>b</th>\n",
       "      <th>c</th>\n",
       "      <th>d</th>\n",
       "    </tr>\n",
       "  </thead>\n",
       "  <tbody>\n",
       "    <tr>\n",
       "      <th>0</th>\n",
       "      <td>0.257741</td>\n",
       "      <td>0.463781</td>\n",
       "      <td>0.282075</td>\n",
       "      <td>0.525324</td>\n",
       "    </tr>\n",
       "    <tr>\n",
       "      <th>1</th>\n",
       "      <td>0.056909</td>\n",
       "      <td>0.996802</td>\n",
       "      <td>0.140049</td>\n",
       "      <td>0.822730</td>\n",
       "    </tr>\n",
       "    <tr>\n",
       "      <th>2</th>\n",
       "      <td>0.233450</td>\n",
       "      <td>1.028876</td>\n",
       "      <td>1.844041</td>\n",
       "      <td>0.426963</td>\n",
       "    </tr>\n",
       "    <tr>\n",
       "      <th>3</th>\n",
       "      <td>0.026272</td>\n",
       "      <td>0.341861</td>\n",
       "      <td>0.947586</td>\n",
       "      <td>0.061488</td>\n",
       "    </tr>\n",
       "    <tr>\n",
       "      <th>4</th>\n",
       "      <td>1.981544</td>\n",
       "      <td>0.658793</td>\n",
       "      <td>0.236423</td>\n",
       "      <td>1.636182</td>\n",
       "    </tr>\n",
       "  </tbody>\n",
       "</table>\n",
       "</div>"
      ],
      "text/plain": [
       "          a         b         c         d\n",
       "0  0.257741  0.463781  0.282075  0.525324\n",
       "1  0.056909  0.996802  0.140049  0.822730\n",
       "2  0.233450  1.028876  1.844041  0.426963\n",
       "3  0.026272  0.341861  0.947586  0.061488\n",
       "4  1.981544  0.658793  0.236423  1.636182"
      ]
     },
     "execution_count": 162,
     "metadata": {},
     "output_type": "execute_result"
    }
   ],
   "source": [
    "data.applymap(lambda x:abs(x))"
   ]
  },
  {
   "cell_type": "markdown",
   "id": "31409519-702e-4d14-bfc7-444b7945ff8f",
   "metadata": {},
   "source": [
    "##### **4.10 布尔过滤和数据离散化**\n",
    "+ **布尔过滤**"
   ]
  },
  {
   "cell_type": "code",
   "execution_count": 163,
   "id": "08848f8c-e09e-4f67-ad89-e019822cca56",
   "metadata": {},
   "outputs": [
    {
     "data": {
      "text/html": [
       "<div>\n",
       "<style scoped>\n",
       "    .dataframe tbody tr th:only-of-type {\n",
       "        vertical-align: middle;\n",
       "    }\n",
       "\n",
       "    .dataframe tbody tr th {\n",
       "        vertical-align: top;\n",
       "    }\n",
       "\n",
       "    .dataframe thead th {\n",
       "        text-align: right;\n",
       "    }\n",
       "</style>\n",
       "<table border=\"1\" class=\"dataframe\">\n",
       "  <thead>\n",
       "    <tr style=\"text-align: right;\">\n",
       "      <th></th>\n",
       "      <th>0</th>\n",
       "      <th>1</th>\n",
       "      <th>2</th>\n",
       "      <th>3</th>\n",
       "    </tr>\n",
       "  </thead>\n",
       "  <tbody>\n",
       "    <tr>\n",
       "      <th>count</th>\n",
       "      <td>1000.000000</td>\n",
       "      <td>1000.000000</td>\n",
       "      <td>1000.000000</td>\n",
       "      <td>1000.000000</td>\n",
       "    </tr>\n",
       "    <tr>\n",
       "      <th>mean</th>\n",
       "      <td>0.012739</td>\n",
       "      <td>0.019706</td>\n",
       "      <td>0.070009</td>\n",
       "      <td>0.018053</td>\n",
       "    </tr>\n",
       "    <tr>\n",
       "      <th>std</th>\n",
       "      <td>1.009751</td>\n",
       "      <td>1.014088</td>\n",
       "      <td>0.996462</td>\n",
       "      <td>1.009740</td>\n",
       "    </tr>\n",
       "    <tr>\n",
       "      <th>min</th>\n",
       "      <td>-3.222693</td>\n",
       "      <td>-3.407585</td>\n",
       "      <td>-3.088817</td>\n",
       "      <td>-3.279026</td>\n",
       "    </tr>\n",
       "    <tr>\n",
       "      <th>25%</th>\n",
       "      <td>-0.701659</td>\n",
       "      <td>-0.685717</td>\n",
       "      <td>-0.589546</td>\n",
       "      <td>-0.671986</td>\n",
       "    </tr>\n",
       "    <tr>\n",
       "      <th>50%</th>\n",
       "      <td>0.014487</td>\n",
       "      <td>0.037067</td>\n",
       "      <td>0.107358</td>\n",
       "      <td>-0.015491</td>\n",
       "    </tr>\n",
       "    <tr>\n",
       "      <th>75%</th>\n",
       "      <td>0.677529</td>\n",
       "      <td>0.680672</td>\n",
       "      <td>0.774175</td>\n",
       "      <td>0.681268</td>\n",
       "    </tr>\n",
       "    <tr>\n",
       "      <th>max</th>\n",
       "      <td>3.289598</td>\n",
       "      <td>3.274027</td>\n",
       "      <td>3.116336</td>\n",
       "      <td>3.275321</td>\n",
       "    </tr>\n",
       "  </tbody>\n",
       "</table>\n",
       "</div>"
      ],
      "text/plain": [
       "                 0            1            2            3\n",
       "count  1000.000000  1000.000000  1000.000000  1000.000000\n",
       "mean      0.012739     0.019706     0.070009     0.018053\n",
       "std       1.009751     1.014088     0.996462     1.009740\n",
       "min      -3.222693    -3.407585    -3.088817    -3.279026\n",
       "25%      -0.701659    -0.685717    -0.589546    -0.671986\n",
       "50%       0.014487     0.037067     0.107358    -0.015491\n",
       "75%       0.677529     0.680672     0.774175     0.681268\n",
       "max       3.289598     3.274027     3.116336     3.275321"
      ]
     },
     "execution_count": 163,
     "metadata": {},
     "output_type": "execute_result"
    }
   ],
   "source": [
    "data = pd.DataFrame(np.random.randn(1000,4))\n",
    "data.describe()"
   ]
  },
  {
   "cell_type": "markdown",
   "id": "4cc23781-3225-441f-9361-09e662195ae2",
   "metadata": {},
   "source": [
    "+ **取出限定条件下的值**"
   ]
  },
  {
   "cell_type": "code",
   "execution_count": 164,
   "id": "6ddf7d83-6d75-4432-bb74-8baf7cfef50c",
   "metadata": {},
   "outputs": [
    {
     "data": {
      "text/html": [
       "<div>\n",
       "<style scoped>\n",
       "    .dataframe tbody tr th:only-of-type {\n",
       "        vertical-align: middle;\n",
       "    }\n",
       "\n",
       "    .dataframe tbody tr th {\n",
       "        vertical-align: top;\n",
       "    }\n",
       "\n",
       "    .dataframe thead th {\n",
       "        text-align: right;\n",
       "    }\n",
       "</style>\n",
       "<table border=\"1\" class=\"dataframe\">\n",
       "  <thead>\n",
       "    <tr style=\"text-align: right;\">\n",
       "      <th></th>\n",
       "      <th>0</th>\n",
       "      <th>1</th>\n",
       "      <th>2</th>\n",
       "      <th>3</th>\n",
       "    </tr>\n",
       "  </thead>\n",
       "  <tbody>\n",
       "    <tr>\n",
       "      <th>0</th>\n",
       "      <td>NaN</td>\n",
       "      <td>NaN</td>\n",
       "      <td>0.890595</td>\n",
       "      <td>0.668613</td>\n",
       "    </tr>\n",
       "    <tr>\n",
       "      <th>1</th>\n",
       "      <td>NaN</td>\n",
       "      <td>NaN</td>\n",
       "      <td>1.292895</td>\n",
       "      <td>1.628188</td>\n",
       "    </tr>\n",
       "    <tr>\n",
       "      <th>2</th>\n",
       "      <td>0.394068</td>\n",
       "      <td>NaN</td>\n",
       "      <td>NaN</td>\n",
       "      <td>NaN</td>\n",
       "    </tr>\n",
       "    <tr>\n",
       "      <th>3</th>\n",
       "      <td>NaN</td>\n",
       "      <td>NaN</td>\n",
       "      <td>0.340578</td>\n",
       "      <td>0.312677</td>\n",
       "    </tr>\n",
       "    <tr>\n",
       "      <th>4</th>\n",
       "      <td>NaN</td>\n",
       "      <td>1.347691</td>\n",
       "      <td>1.022296</td>\n",
       "      <td>NaN</td>\n",
       "    </tr>\n",
       "    <tr>\n",
       "      <th>...</th>\n",
       "      <td>...</td>\n",
       "      <td>...</td>\n",
       "      <td>...</td>\n",
       "      <td>...</td>\n",
       "    </tr>\n",
       "    <tr>\n",
       "      <th>995</th>\n",
       "      <td>0.602890</td>\n",
       "      <td>NaN</td>\n",
       "      <td>1.067090</td>\n",
       "      <td>0.526788</td>\n",
       "    </tr>\n",
       "    <tr>\n",
       "      <th>996</th>\n",
       "      <td>0.690798</td>\n",
       "      <td>NaN</td>\n",
       "      <td>NaN</td>\n",
       "      <td>0.426609</td>\n",
       "    </tr>\n",
       "    <tr>\n",
       "      <th>997</th>\n",
       "      <td>NaN</td>\n",
       "      <td>0.643783</td>\n",
       "      <td>1.612917</td>\n",
       "      <td>1.254385</td>\n",
       "    </tr>\n",
       "    <tr>\n",
       "      <th>998</th>\n",
       "      <td>NaN</td>\n",
       "      <td>1.223273</td>\n",
       "      <td>0.944837</td>\n",
       "      <td>NaN</td>\n",
       "    </tr>\n",
       "    <tr>\n",
       "      <th>999</th>\n",
       "      <td>NaN</td>\n",
       "      <td>1.023968</td>\n",
       "      <td>0.587197</td>\n",
       "      <td>NaN</td>\n",
       "    </tr>\n",
       "  </tbody>\n",
       "</table>\n",
       "<p>1000 rows × 4 columns</p>\n",
       "</div>"
      ],
      "text/plain": [
       "            0         1         2         3\n",
       "0         NaN       NaN  0.890595  0.668613\n",
       "1         NaN       NaN  1.292895  1.628188\n",
       "2    0.394068       NaN       NaN       NaN\n",
       "3         NaN       NaN  0.340578  0.312677\n",
       "4         NaN  1.347691  1.022296       NaN\n",
       "..        ...       ...       ...       ...\n",
       "995  0.602890       NaN  1.067090  0.526788\n",
       "996  0.690798       NaN       NaN  0.426609\n",
       "997       NaN  0.643783  1.612917  1.254385\n",
       "998       NaN  1.223273  0.944837       NaN\n",
       "999       NaN  1.023968  0.587197       NaN\n",
       "\n",
       "[1000 rows x 4 columns]"
      ]
     },
     "execution_count": 164,
     "metadata": {},
     "output_type": "execute_result"
    }
   ],
   "source": [
    "data[data > 0]"
   ]
  },
  {
   "cell_type": "code",
   "execution_count": 165,
   "id": "2930fa04-7d64-42c9-b746-87a057a29980",
   "metadata": {},
   "outputs": [
    {
     "data": {
      "text/html": [
       "<div>\n",
       "<style scoped>\n",
       "    .dataframe tbody tr th:only-of-type {\n",
       "        vertical-align: middle;\n",
       "    }\n",
       "\n",
       "    .dataframe tbody tr th {\n",
       "        vertical-align: top;\n",
       "    }\n",
       "\n",
       "    .dataframe thead th {\n",
       "        text-align: right;\n",
       "    }\n",
       "</style>\n",
       "<table border=\"1\" class=\"dataframe\">\n",
       "  <thead>\n",
       "    <tr style=\"text-align: right;\">\n",
       "      <th></th>\n",
       "      <th>0</th>\n",
       "      <th>1</th>\n",
       "      <th>2</th>\n",
       "      <th>3</th>\n",
       "    </tr>\n",
       "  </thead>\n",
       "  <tbody>\n",
       "    <tr>\n",
       "      <th>0</th>\n",
       "      <td>NaN</td>\n",
       "      <td>NaN</td>\n",
       "      <td>0.890595</td>\n",
       "      <td>0.668613</td>\n",
       "    </tr>\n",
       "    <tr>\n",
       "      <th>1</th>\n",
       "      <td>NaN</td>\n",
       "      <td>NaN</td>\n",
       "      <td>1.292895</td>\n",
       "      <td>1.628188</td>\n",
       "    </tr>\n",
       "    <tr>\n",
       "      <th>2</th>\n",
       "      <td>0.394068</td>\n",
       "      <td>NaN</td>\n",
       "      <td>NaN</td>\n",
       "      <td>NaN</td>\n",
       "    </tr>\n",
       "    <tr>\n",
       "      <th>3</th>\n",
       "      <td>NaN</td>\n",
       "      <td>NaN</td>\n",
       "      <td>0.340578</td>\n",
       "      <td>0.312677</td>\n",
       "    </tr>\n",
       "    <tr>\n",
       "      <th>4</th>\n",
       "      <td>NaN</td>\n",
       "      <td>1.347691</td>\n",
       "      <td>1.022296</td>\n",
       "      <td>NaN</td>\n",
       "    </tr>\n",
       "    <tr>\n",
       "      <th>...</th>\n",
       "      <td>...</td>\n",
       "      <td>...</td>\n",
       "      <td>...</td>\n",
       "      <td>...</td>\n",
       "    </tr>\n",
       "    <tr>\n",
       "      <th>995</th>\n",
       "      <td>0.602890</td>\n",
       "      <td>NaN</td>\n",
       "      <td>1.067090</td>\n",
       "      <td>0.526788</td>\n",
       "    </tr>\n",
       "    <tr>\n",
       "      <th>996</th>\n",
       "      <td>0.690798</td>\n",
       "      <td>NaN</td>\n",
       "      <td>NaN</td>\n",
       "      <td>0.426609</td>\n",
       "    </tr>\n",
       "    <tr>\n",
       "      <th>997</th>\n",
       "      <td>NaN</td>\n",
       "      <td>0.643783</td>\n",
       "      <td>1.612917</td>\n",
       "      <td>1.254385</td>\n",
       "    </tr>\n",
       "    <tr>\n",
       "      <th>998</th>\n",
       "      <td>NaN</td>\n",
       "      <td>1.223273</td>\n",
       "      <td>0.944837</td>\n",
       "      <td>NaN</td>\n",
       "    </tr>\n",
       "    <tr>\n",
       "      <th>999</th>\n",
       "      <td>NaN</td>\n",
       "      <td>1.023968</td>\n",
       "      <td>0.587197</td>\n",
       "      <td>NaN</td>\n",
       "    </tr>\n",
       "  </tbody>\n",
       "</table>\n",
       "<p>945 rows × 4 columns</p>\n",
       "</div>"
      ],
      "text/plain": [
       "            0         1         2         3\n",
       "0         NaN       NaN  0.890595  0.668613\n",
       "1         NaN       NaN  1.292895  1.628188\n",
       "2    0.394068       NaN       NaN       NaN\n",
       "3         NaN       NaN  0.340578  0.312677\n",
       "4         NaN  1.347691  1.022296       NaN\n",
       "..        ...       ...       ...       ...\n",
       "995  0.602890       NaN  1.067090  0.526788\n",
       "996  0.690798       NaN       NaN  0.426609\n",
       "997       NaN  0.643783  1.612917  1.254385\n",
       "998       NaN  1.223273  0.944837       NaN\n",
       "999       NaN  1.023968  0.587197       NaN\n",
       "\n",
       "[945 rows x 4 columns]"
      ]
     },
     "execution_count": 165,
     "metadata": {},
     "output_type": "execute_result"
    }
   ],
   "source": [
    "data[data>0].dropna(how = 'all')"
   ]
  },
  {
   "cell_type": "code",
   "execution_count": 166,
   "id": "11ef1596-00d3-43f8-82c8-8329fb18a853",
   "metadata": {},
   "outputs": [
    {
     "data": {
      "text/html": [
       "<div>\n",
       "<style scoped>\n",
       "    .dataframe tbody tr th:only-of-type {\n",
       "        vertical-align: middle;\n",
       "    }\n",
       "\n",
       "    .dataframe tbody tr th {\n",
       "        vertical-align: top;\n",
       "    }\n",
       "\n",
       "    .dataframe thead th {\n",
       "        text-align: right;\n",
       "    }\n",
       "</style>\n",
       "<table border=\"1\" class=\"dataframe\">\n",
       "  <thead>\n",
       "    <tr style=\"text-align: right;\">\n",
       "      <th></th>\n",
       "      <th>0</th>\n",
       "      <th>1</th>\n",
       "      <th>2</th>\n",
       "      <th>3</th>\n",
       "    </tr>\n",
       "  </thead>\n",
       "  <tbody>\n",
       "    <tr>\n",
       "      <th>67</th>\n",
       "      <td>NaN</td>\n",
       "      <td>NaN</td>\n",
       "      <td>NaN</td>\n",
       "      <td>3.275321</td>\n",
       "    </tr>\n",
       "    <tr>\n",
       "      <th>152</th>\n",
       "      <td>NaN</td>\n",
       "      <td>NaN</td>\n",
       "      <td>3.021404</td>\n",
       "      <td>NaN</td>\n",
       "    </tr>\n",
       "    <tr>\n",
       "      <th>204</th>\n",
       "      <td>NaN</td>\n",
       "      <td>-3.407585</td>\n",
       "      <td>NaN</td>\n",
       "      <td>NaN</td>\n",
       "    </tr>\n",
       "    <tr>\n",
       "      <th>336</th>\n",
       "      <td>NaN</td>\n",
       "      <td>NaN</td>\n",
       "      <td>NaN</td>\n",
       "      <td>3.151348</td>\n",
       "    </tr>\n",
       "    <tr>\n",
       "      <th>486</th>\n",
       "      <td>-3.067049</td>\n",
       "      <td>NaN</td>\n",
       "      <td>NaN</td>\n",
       "      <td>NaN</td>\n",
       "    </tr>\n",
       "    <tr>\n",
       "      <th>502</th>\n",
       "      <td>3.149893</td>\n",
       "      <td>NaN</td>\n",
       "      <td>NaN</td>\n",
       "      <td>NaN</td>\n",
       "    </tr>\n",
       "    <tr>\n",
       "      <th>597</th>\n",
       "      <td>NaN</td>\n",
       "      <td>NaN</td>\n",
       "      <td>NaN</td>\n",
       "      <td>-3.034803</td>\n",
       "    </tr>\n",
       "    <tr>\n",
       "      <th>706</th>\n",
       "      <td>NaN</td>\n",
       "      <td>3.274027</td>\n",
       "      <td>NaN</td>\n",
       "      <td>NaN</td>\n",
       "    </tr>\n",
       "    <tr>\n",
       "      <th>713</th>\n",
       "      <td>NaN</td>\n",
       "      <td>NaN</td>\n",
       "      <td>NaN</td>\n",
       "      <td>-3.279026</td>\n",
       "    </tr>\n",
       "    <tr>\n",
       "      <th>734</th>\n",
       "      <td>3.085688</td>\n",
       "      <td>NaN</td>\n",
       "      <td>NaN</td>\n",
       "      <td>NaN</td>\n",
       "    </tr>\n",
       "    <tr>\n",
       "      <th>783</th>\n",
       "      <td>3.289598</td>\n",
       "      <td>NaN</td>\n",
       "      <td>NaN</td>\n",
       "      <td>NaN</td>\n",
       "    </tr>\n",
       "    <tr>\n",
       "      <th>813</th>\n",
       "      <td>NaN</td>\n",
       "      <td>NaN</td>\n",
       "      <td>-3.088817</td>\n",
       "      <td>NaN</td>\n",
       "    </tr>\n",
       "    <tr>\n",
       "      <th>821</th>\n",
       "      <td>NaN</td>\n",
       "      <td>3.138745</td>\n",
       "      <td>NaN</td>\n",
       "      <td>NaN</td>\n",
       "    </tr>\n",
       "    <tr>\n",
       "      <th>865</th>\n",
       "      <td>NaN</td>\n",
       "      <td>NaN</td>\n",
       "      <td>3.116336</td>\n",
       "      <td>NaN</td>\n",
       "    </tr>\n",
       "    <tr>\n",
       "      <th>912</th>\n",
       "      <td>-3.222693</td>\n",
       "      <td>NaN</td>\n",
       "      <td>NaN</td>\n",
       "      <td>NaN</td>\n",
       "    </tr>\n",
       "  </tbody>\n",
       "</table>\n",
       "</div>"
      ],
      "text/plain": [
       "            0         1         2         3\n",
       "67        NaN       NaN       NaN  3.275321\n",
       "152       NaN       NaN  3.021404       NaN\n",
       "204       NaN -3.407585       NaN       NaN\n",
       "336       NaN       NaN       NaN  3.151348\n",
       "486 -3.067049       NaN       NaN       NaN\n",
       "502  3.149893       NaN       NaN       NaN\n",
       "597       NaN       NaN       NaN -3.034803\n",
       "706       NaN  3.274027       NaN       NaN\n",
       "713       NaN       NaN       NaN -3.279026\n",
       "734  3.085688       NaN       NaN       NaN\n",
       "783  3.289598       NaN       NaN       NaN\n",
       "813       NaN       NaN -3.088817       NaN\n",
       "821       NaN  3.138745       NaN       NaN\n",
       "865       NaN       NaN  3.116336       NaN\n",
       "912 -3.222693       NaN       NaN       NaN"
      ]
     },
     "execution_count": 166,
     "metadata": {},
     "output_type": "execute_result"
    }
   ],
   "source": [
    "data[np.abs(data)>3].dropna(how = 'all')"
   ]
  },
  {
   "cell_type": "markdown",
   "id": "0a69c90b-3344-4a2a-9ceb-8f6f24175a91",
   "metadata": {},
   "source": [
    "+ **数据的离散化**"
   ]
  },
  {
   "cell_type": "code",
   "execution_count": 167,
   "id": "79e0f077-a8f1-4ccb-b60f-4f92ef12ae7f",
   "metadata": {},
   "outputs": [
    {
     "data": {
      "text/plain": [
       "0     37\n",
       "1     28\n",
       "2     34\n",
       "3     10\n",
       "4     49\n",
       "5     33\n",
       "6     46\n",
       "7     29\n",
       "8     30\n",
       "9     36\n",
       "10    30\n",
       "11    14\n",
       "12    15\n",
       "13     1\n",
       "14    38\n",
       "15    33\n",
       "16    13\n",
       "17    32\n",
       "18     4\n",
       "19    14\n",
       "Name: k1, dtype: int32"
      ]
     },
     "execution_count": 167,
     "metadata": {},
     "output_type": "execute_result"
    }
   ],
   "source": [
    "data = pd.DataFrame(np.random.randint(1,50,(20,2)), columns = ['k1','k2'])\n",
    "data.k1"
   ]
  },
  {
   "cell_type": "code",
   "execution_count": 168,
   "id": "ca121554-24e1-4c8a-9783-70d177d38abe",
   "metadata": {},
   "outputs": [
    {
     "data": {
      "text/plain": [
       "0     (30, 40]\n",
       "1     (20, 30]\n",
       "2     (30, 40]\n",
       "3      (0, 10]\n",
       "4     (40, 50]\n",
       "5     (30, 40]\n",
       "6     (40, 50]\n",
       "7     (20, 30]\n",
       "8     (20, 30]\n",
       "9     (30, 40]\n",
       "10    (20, 30]\n",
       "11    (10, 20]\n",
       "12    (10, 20]\n",
       "13     (0, 10]\n",
       "14    (30, 40]\n",
       "15    (30, 40]\n",
       "16    (10, 20]\n",
       "17    (30, 40]\n",
       "18     (0, 10]\n",
       "19    (10, 20]\n",
       "Name: k1, dtype: category\n",
       "Categories (5, interval[int64, right]): [(0, 10] < (10, 20] < (20, 30] < (30, 40] < (40, 50]]"
      ]
     },
     "execution_count": 168,
     "metadata": {},
     "output_type": "execute_result"
    }
   ],
   "source": [
    "bins = [0,10,20,30,40,50]\n",
    "pd.cut(data.k1, bins)"
   ]
  },
  {
   "cell_type": "markdown",
   "id": "34899a7e-6e23-487f-898e-e4f8b581e94d",
   "metadata": {},
   "source": [
    "+ **离散数据的分散个数**"
   ]
  },
  {
   "cell_type": "code",
   "execution_count": 169,
   "id": "d65b125e-dcc6-4b59-b03c-a006aa05975b",
   "metadata": {},
   "outputs": [
    {
     "data": {
      "text/plain": [
       "(40, 50]    6\n",
       "(30, 40]    5\n",
       "(0, 10]     3\n",
       "(10, 20]    3\n",
       "(20, 30]    3\n",
       "Name: k2, dtype: int64"
      ]
     },
     "execution_count": 169,
     "metadata": {},
     "output_type": "execute_result"
    }
   ],
   "source": [
    "pd.cut(data.k2, bins).value_counts()"
   ]
  },
  {
   "cell_type": "code",
   "execution_count": 170,
   "id": "d4369b0c-bac0-45a0-9e53-e8cdd01a5f21",
   "metadata": {},
   "outputs": [
    {
     "data": {
      "text/plain": [
       "(-2.993, -1.332]     96\n",
       "(-1.332, 0.323]     545\n",
       "(0.323, 1.978]      344\n",
       "(1.978, 3.633]       15\n",
       "dtype: int64"
      ]
     },
     "execution_count": 170,
     "metadata": {},
     "output_type": "execute_result"
    }
   ],
   "source": [
    "data = np.random.randn(1000)\n",
    "pd.cut(data,4).value_counts()"
   ]
  },
  {
   "cell_type": "code",
   "execution_count": 171,
   "id": "ed70c34d-9bea-43e6-86d0-45f93e55fc1d",
   "metadata": {},
   "outputs": [
    {
     "data": {
      "text/plain": [
       "(-2.987, -0.775]     250\n",
       "(-0.775, -0.0358]    250\n",
       "(-0.0358, 0.614]     250\n",
       "(0.614, 3.633]       250\n",
       "dtype: int64"
      ]
     },
     "execution_count": 171,
     "metadata": {},
     "output_type": "execute_result"
    }
   ],
   "source": [
    "pd.qcut(data,4).value_counts()"
   ]
  },
  {
   "cell_type": "markdown",
   "id": "03083655-3d4a-4b5c-8034-f277a37284b7",
   "metadata": {},
   "source": [
    "+ **左闭右开**"
   ]
  },
  {
   "cell_type": "code",
   "execution_count": 172,
   "id": "a526c651-761e-4ef2-a522-a9b7e4e69f5d",
   "metadata": {},
   "outputs": [
    {
     "data": {
      "text/plain": [
       "[-2.986, -1.332)     96\n",
       "[-1.332, 0.323)     545\n",
       "[0.323, 1.978)      344\n",
       "[1.978, 3.64)        15\n",
       "dtype: int64"
      ]
     },
     "execution_count": 172,
     "metadata": {},
     "output_type": "execute_result"
    }
   ],
   "source": [
    "pd.cut(data,4, right = False).value_counts()"
   ]
  }
 ],
 "metadata": {
  "kernelspec": {
   "display_name": "Python 3 (ipykernel)",
   "language": "python",
   "name": "python3"
  },
  "language_info": {
   "codemirror_mode": {
    "name": "ipython",
    "version": 3
   },
   "file_extension": ".py",
   "mimetype": "text/x-python",
   "name": "python",
   "nbconvert_exporter": "python",
   "pygments_lexer": "ipython3",
   "version": "3.9.7"
  }
 },
 "nbformat": 4,
 "nbformat_minor": 5
}
