{
 "cells": [
  {
   "cell_type": "markdown",
   "id": "dbcc9e27-a6cd-4afd-9610-4fdb8e24e430",
   "metadata": {},
   "source": [
    "#### **1.课程知识体系及搭建运行环境**\n",
    "##### **1.1 课程知识体系以及Anaconda的安装**\n",
    "##### **1.2 Jupyter Notebook使用介绍**"
   ]
  },
  {
   "cell_type": "code",
   "execution_count": 1,
   "id": "c1199b79-f373-4f3c-8e49-6af9f84a70d9",
   "metadata": {},
   "outputs": [],
   "source": [
    "import matplotlib.pyplot as plt\n",
    "import numpy as np\n",
    "import pandas as pd"
   ]
  },
  {
   "cell_type": "code",
   "execution_count": 2,
   "id": "ac5b3c71-a4f2-45f5-a017-f24f2a8d9944",
   "metadata": {},
   "outputs": [
    {
     "data": {
      "text/plain": [
       "array([ 0,  1,  4,  9, 16, 25, 36, 49, 64, 81], dtype=int32)"
      ]
     },
     "execution_count": 2,
     "metadata": {},
     "output_type": "execute_result"
    }
   ],
   "source": [
    "x = np.arange(10)\n",
    "y = x ** 2\n",
    "y"
   ]
  },
  {
   "cell_type": "code",
   "execution_count": 3,
   "id": "22166fac-8d20-4c18-b48f-543fc4a9f011",
   "metadata": {},
   "outputs": [],
   "source": [
    "%matplotlib inline"
   ]
  },
  {
   "cell_type": "code",
   "execution_count": 4,
   "id": "13c8a800-5892-4d32-9239-44811bd69f4d",
   "metadata": {},
   "outputs": [
    {
     "data": {
      "text/plain": [
       "[<matplotlib.lines.Line2D at 0x23f11691eb0>]"
      ]
     },
     "execution_count": 4,
     "metadata": {},
     "output_type": "execute_result"
    },
    {
     "data": {
      "image/png": "[encoded data removed]",
      "text/plain": [
       "<Figure size 432x288 with 1 Axes>"
      ]
     },
     "metadata": {
      "needs_background": "light"
     },
     "output_type": "display_data"
    }
   ],
   "source": [
    "plt.plot(x,y)"
   ]
  },
  {
   "cell_type": "markdown",
   "id": "5b73b08e-cd6d-4741-a1e5-09fc383ae9a5",
   "metadata": {},
   "source": [
    "* **Tab键自动补全**\n",
    "    * 变量自动找出\n",
    "    * 方法自动补全\n",
    "    * 查找模块方法以及属性"
   ]
  },
  {
   "cell_type": "markdown",
   "id": "8b59283f-b9b7-44c2-a4d3-da65e62e51e9",
   "metadata": {},
   "source": [
    "* **内省**\n",
    "    + 在变量的前面或后面加上一个问号?,就可以将有关通用信息显示出来\n",
    "    + 使用??还能显示出该函数的源代码"
   ]
  },
  {
   "cell_type": "code",
   "execution_count": 5,
   "id": "1953f110-ab0a-4423-96c6-39d2bc7f2449",
   "metadata": {},
   "outputs": [
    {
     "data": {
      "text/plain": [
       "\u001b[1;31mType:\u001b[0m        module\n",
       "\u001b[1;31mString form:\u001b[0m <module 'matplotlib.pyplot' from 'C:\\\\Users\\\\panfe\\\\anaconda3\\\\lib\\\\site-packages\\\\matplotlib\\\\pyplot.py'>\n",
       "\u001b[1;31mFile:\u001b[0m        c:\\users\\panfe\\anaconda3\\lib\\site-packages\\matplotlib\\pyplot.py\n",
       "\u001b[1;31mDocstring:\u001b[0m  \n",
       "`matplotlib.pyplot` is a state-based interface to matplotlib. It provides\n",
       "a MATLAB-like way of plotting.\n",
       "\n",
       "pyplot is mainly intended for interactive plots and simple cases of\n",
       "programmatic plot generation::\n",
       "\n",
       "    import numpy as np\n",
       "    import matplotlib.pyplot as plt\n",
       "\n",
       "    x = np.arange(0, 5, 0.1)\n",
       "    y = np.sin(x)\n",
       "    plt.plot(x, y)\n",
       "\n",
       "The object-oriented API is recommended for more complex plots.\n"
      ]
     },
     "metadata": {},
     "output_type": "display_data"
    }
   ],
   "source": [
    "plt?"
   ]
  },
  {
   "cell_type": "markdown",
   "id": "08f0d04e-db2f-46fb-ac56-e81a739404e2",
   "metadata": {},
   "source": [
    "* **魔术命令**\n",
    "    + **%run** python文件\n",
    "    + **%timeit** 检测任意python语句的执行语句\n",
    "    + **%matplotlib inline**"
   ]
  },
  {
   "cell_type": "code",
   "execution_count": 6,
   "id": "f4ce6c66-de9f-48c2-992c-10385fe6d6d8",
   "metadata": {},
   "outputs": [
    {
     "name": "stdout",
     "output_type": "stream",
     "text": [
      "2.42 µs ± 28.8 ns per loop (mean ± std. dev. of 7 runs, 100000 loops each)\n"
     ]
    }
   ],
   "source": [
    "%timeit [x ** 9 for x in range(10)]"
   ]
  },
  {
   "cell_type": "markdown",
   "id": "0aeb244e-d81f-4e15-974d-2d5f30e2e337",
   "metadata": {},
   "source": [
    "#### **2.Python科学计算基础--Numpy**\n",
    "##### **2.1 Ndarray数组的建立**\n",
    "* **运用np.array()传入序列类型的对象(列表,元组),创建数组**"
   ]
  },
  {
   "cell_type": "code",
   "execution_count": 7,
   "id": "858daebf-3c0e-404e-b11f-70eaaf160e54",
   "metadata": {},
   "outputs": [
    {
     "data": {
      "text/plain": [
       "array([1, 2, 3])"
      ]
     },
     "execution_count": 7,
     "metadata": {},
     "output_type": "execute_result"
    }
   ],
   "source": [
    "a = np.array([1,2,3])\n",
    "a"
   ]
  },
  {
   "cell_type": "markdown",
   "id": "3f1b0a30-66c8-4a47-8ef0-e6f0ac4c012a",
   "metadata": {},
   "source": [
    "* **输入嵌套数组np.array([1,2], [3,4])**"
   ]
  },
  {
   "cell_type": "code",
   "execution_count": 8,
   "id": "bc4ee444-a15f-4eae-9d52-b45d3626885c",
   "metadata": {},
   "outputs": [
    {
     "data": {
      "text/plain": [
       "array([[1, 2, 3],\n",
       "       [4, 5, 6]])"
      ]
     },
     "execution_count": 8,
     "metadata": {},
     "output_type": "execute_result"
    }
   ],
   "source": [
    "b = np.array([[1,2,3], \n",
    "              [4,5,6]])\n",
    "b"
   ]
  },
  {
   "cell_type": "markdown",
   "id": "c4d0fd01-7d16-4ed3-8d52-eda4ec266ceb",
   "metadata": {},
   "source": [
    "* **查看数组的维度**"
   ]
  },
  {
   "cell_type": "code",
   "execution_count": 9,
   "id": "c9688836-3d60-407d-92dd-65129ea34dc0",
   "metadata": {},
   "outputs": [
    {
     "data": {
      "text/plain": [
       "2"
      ]
     },
     "execution_count": 9,
     "metadata": {},
     "output_type": "execute_result"
    }
   ],
   "source": [
    "b.ndim"
   ]
  },
  {
   "cell_type": "markdown",
   "id": "f06fc667-198c-45db-a3cb-7a3cc1a8b826",
   "metadata": {},
   "source": [
    "* **查看数组的维度**:(m,n)有m个n维数组,即m行n列"
   ]
  },
  {
   "cell_type": "code",
   "execution_count": 10,
   "id": "66d11337-2950-45ad-a12b-531ec95c382c",
   "metadata": {},
   "outputs": [
    {
     "data": {
      "text/plain": [
       "(2, 3)"
      ]
     },
     "execution_count": 10,
     "metadata": {},
     "output_type": "execute_result"
    }
   ],
   "source": [
    "b.shape"
   ]
  },
  {
   "cell_type": "code",
   "execution_count": 11,
   "id": "e1e54ad0-e706-4cb3-8438-6b7e6db91e61",
   "metadata": {},
   "outputs": [
    {
     "data": {
      "text/plain": [
       "array([1, 2, 3])"
      ]
     },
     "execution_count": 11,
     "metadata": {},
     "output_type": "execute_result"
    }
   ],
   "source": [
    "a = np.array((1,2,3))\n",
    "a"
   ]
  },
  {
   "cell_type": "markdown",
   "id": "228615dd-d7b1-492b-b1a9-a959d6003f63",
   "metadata": {},
   "source": [
    "+ **输入一个全为0的数组**"
   ]
  },
  {
   "cell_type": "code",
   "execution_count": 12,
   "id": "abde2336-738e-457d-8bae-e23ecc2ad0a5",
   "metadata": {},
   "outputs": [
    {
     "data": {
      "text/plain": [
       "array([0., 0., 0., 0., 0., 0., 0., 0., 0., 0.])"
      ]
     },
     "execution_count": 12,
     "metadata": {},
     "output_type": "execute_result"
    }
   ],
   "source": [
    "np.zeros(10)"
   ]
  },
  {
   "cell_type": "markdown",
   "id": "2d7af983-9ebe-4af2-b8e2-d2b98b063f1e",
   "metadata": {},
   "source": [
    "* **生成(m,n) m行n列的全0数组**"
   ]
  },
  {
   "cell_type": "code",
   "execution_count": 13,
   "id": "7e31aed1-e3aa-4115-9b15-39b6f38bc5a8",
   "metadata": {
    "jupyter": {
     "source_hidden": true
    },
    "tags": []
   },
   "outputs": [
    {
     "data": {
      "text/plain": [
       "array([[0., 0., 0., 0., 0.],\n",
       "       [0., 0., 0., 0., 0.]])"
      ]
     },
     "execution_count": 13,
     "metadata": {},
     "output_type": "execute_result"
    }
   ],
   "source": [
    "np.zeros((2, 5))"
   ]
  },
  {
   "cell_type": "markdown",
   "id": "9cd8546d-913a-439d-9743-328ce282bb0d",
   "metadata": {},
   "source": [
    "* **生成全为1的数组(m,n,k) m个n行k列的三维数组**"
   ]
  },
  {
   "cell_type": "code",
   "execution_count": 14,
   "id": "4b60cbcb-f817-4b66-8277-22ae7b76de17",
   "metadata": {},
   "outputs": [
    {
     "data": {
      "text/plain": [
       "array([[[1., 1., 1., 1.],\n",
       "        [1., 1., 1., 1.],\n",
       "        [1., 1., 1., 1.]],\n",
       "\n",
       "       [[1., 1., 1., 1.],\n",
       "        [1., 1., 1., 1.],\n",
       "        [1., 1., 1., 1.]]])"
      ]
     },
     "execution_count": 14,
     "metadata": {},
     "output_type": "execute_result"
    }
   ],
   "source": [
    "c = np.ones((2,3,4))\n",
    "c"
   ]
  },
  {
   "cell_type": "code",
   "execution_count": 15,
   "id": "6138bebf-9c86-4e7e-b980-1c8f7465249e",
   "metadata": {
    "tags": []
   },
   "outputs": [
    {
     "data": {
      "text/plain": [
       "3"
      ]
     },
     "execution_count": 15,
     "metadata": {},
     "output_type": "execute_result"
    }
   ],
   "source": [
    "c.ndim"
   ]
  },
  {
   "cell_type": "markdown",
   "id": "9cde7eaa-c98c-49eb-97a9-0fcebd6eee12",
   "metadata": {},
   "source": [
    "+ 生成m个n行k列的随机数组"
   ]
  },
  {
   "cell_type": "code",
   "execution_count": 16,
   "id": "1e8c458b-1c47-4efd-8e9d-5c2cde1e8143",
   "metadata": {
    "tags": []
   },
   "outputs": [
    {
     "data": {
      "text/plain": [
       "array([[1., 0., 0.],\n",
       "       [0., 1., 0.],\n",
       "       [0., 0., 1.]])"
      ]
     },
     "execution_count": 16,
     "metadata": {},
     "output_type": "execute_result"
    }
   ],
   "source": [
    "d = np.empty((3, 3))\n",
    "d"
   ]
  },
  {
   "cell_type": "markdown",
   "id": "c88fd488-e9bc-4466-89a0-7b6064e1e65e",
   "metadata": {},
   "source": [
    "+ 生成长度为几的序列"
   ]
  },
  {
   "cell_type": "code",
   "execution_count": 17,
   "id": "8982efc6-409d-4b6e-a8d2-ba2ddd7ff53f",
   "metadata": {},
   "outputs": [
    {
     "data": {
      "text/plain": [
       "array([0, 1, 2, 3, 4, 5, 6, 7, 8, 9])"
      ]
     },
     "execution_count": 17,
     "metadata": {},
     "output_type": "execute_result"
    }
   ],
   "source": [
    "np.arange(10)"
   ]
  },
  {
   "cell_type": "markdown",
   "id": "5cadb0df-b83d-4647-a7a8-777a4a7cc571",
   "metadata": {},
   "source": [
    "* **np.arange(m,n,k): m到n的步长k**"
   ]
  },
  {
   "cell_type": "code",
   "execution_count": 18,
   "id": "b4ecfa39-76b3-4a91-8e8c-103c377eb5c6",
   "metadata": {},
   "outputs": [
    {
     "data": {
      "text/plain": [
       "array([10, 13, 16, 19, 22, 25, 28])"
      ]
     },
     "execution_count": 18,
     "metadata": {},
     "output_type": "execute_result"
    }
   ],
   "source": [
    "np.arange(10,30,3)"
   ]
  },
  {
   "cell_type": "markdown",
   "id": "5239b6b9-82a6-4e36-b05c-0cb7af2e140f",
   "metadata": {},
   "source": [
    "+ **用reshape把数组生成其他维度数组**"
   ]
  },
  {
   "cell_type": "code",
   "execution_count": 19,
   "id": "49ad41e9-c7b1-4a06-a5da-cc77f46baf38",
   "metadata": {},
   "outputs": [
    {
     "data": {
      "text/plain": [
       "array([[0, 1, 2, 3, 4],\n",
       "       [5, 6, 7, 8, 9]])"
      ]
     },
     "execution_count": 19,
     "metadata": {},
     "output_type": "execute_result"
    }
   ],
   "source": [
    "np.arange(10).reshape(2, 5)"
   ]
  },
  {
   "cell_type": "code",
   "execution_count": 20,
   "id": "b64bae3b-962f-428d-86dd-b35e54b8af0d",
   "metadata": {},
   "outputs": [
    {
     "data": {
      "text/plain": [
       "array([[[ 0,  1,  2,  3],\n",
       "        [ 4,  5,  6,  7],\n",
       "        [ 8,  9, 10, 11]],\n",
       "\n",
       "       [[12, 13, 14, 15],\n",
       "        [16, 17, 18, 19],\n",
       "        [20, 21, 22, 23]]])"
      ]
     },
     "execution_count": 20,
     "metadata": {},
     "output_type": "execute_result"
    }
   ],
   "source": [
    "np.arange(24).reshape((2,3,4))"
   ]
  },
  {
   "cell_type": "markdown",
   "id": "a7742060-6e0c-45bc-a9d7-190efbada132",
   "metadata": {},
   "source": [
    "* **在m到n之间均匀的生成k个数**"
   ]
  },
  {
   "cell_type": "code",
   "execution_count": 21,
   "id": "d7e020af-4553-4901-b4f6-a82a6ba3064f",
   "metadata": {},
   "outputs": [
    {
     "data": {
      "text/plain": [
       "array([10., 12., 14., 16., 18., 20., 22., 24., 26., 28., 30.])"
      ]
     },
     "execution_count": 21,
     "metadata": {},
     "output_type": "execute_result"
    }
   ],
   "source": [
    "np.linspace(10,30,11)"
   ]
  },
  {
   "cell_type": "markdown",
   "id": "e0eb329d-b410-48bc-80c7-9ea930b6a5dd",
   "metadata": {},
   "source": [
    "##### **2.2 Numpy的数据类型**\n",
    "* bool/int/uint/float/complex\n",
    "* **dtype**：查询数组的类型\n",
    "* **astype**: 改变数组的类型"
   ]
  },
  {
   "cell_type": "code",
   "execution_count": 22,
   "id": "8c06954b-bc28-4c71-9f4c-8a9fccf4b1c3",
   "metadata": {},
   "outputs": [],
   "source": [
    "import numpy as np"
   ]
  },
  {
   "cell_type": "code",
   "execution_count": 23,
   "id": "5d9dd2b1-9674-449f-a4e8-9b9fadf3097f",
   "metadata": {},
   "outputs": [
    {
     "data": {
      "text/plain": [
       "array([1, 2, 3])"
      ]
     },
     "execution_count": 23,
     "metadata": {},
     "output_type": "execute_result"
    }
   ],
   "source": [
    "np.array([1,2,3])\n",
    "a"
   ]
  },
  {
   "cell_type": "code",
   "execution_count": 24,
   "id": "aaf09ab4-5258-470c-a615-0999ec73b5b5",
   "metadata": {},
   "outputs": [
    {
     "data": {
      "text/plain": [
       "dtype('int32')"
      ]
     },
     "execution_count": 24,
     "metadata": {},
     "output_type": "execute_result"
    }
   ],
   "source": [
    "a.dtype"
   ]
  },
  {
   "cell_type": "code",
   "execution_count": 25,
   "id": "e886b407-0bb0-44b9-af89-b298aaf0391d",
   "metadata": {},
   "outputs": [
    {
     "data": {
      "text/plain": [
       "array([1., 2., 3.], dtype=float32)"
      ]
     },
     "execution_count": 25,
     "metadata": {},
     "output_type": "execute_result"
    }
   ],
   "source": [
    "a = np.array([1,2,3], dtype='float32')\n",
    "a"
   ]
  },
  {
   "cell_type": "markdown",
   "id": "39213843-ea7d-4d16-b79f-7da98fd4bdf7",
   "metadata": {},
   "source": [
    "* **bool** 数组是bool型"
   ]
  },
  {
   "cell_type": "code",
   "execution_count": 26,
   "id": "480c1624-5bf1-41a3-8498-596941b13a51",
   "metadata": {},
   "outputs": [
    {
     "data": {
      "text/plain": [
       "dtype('bool')"
      ]
     },
     "execution_count": 26,
     "metadata": {},
     "output_type": "execute_result"
    }
   ],
   "source": [
    "a = np.array([True,False,True])\n",
    "a.dtype"
   ]
  },
  {
   "cell_type": "code",
   "execution_count": 27,
   "id": "a1b79cfd-7848-4345-856d-4309b4228852",
   "metadata": {},
   "outputs": [
    {
     "data": {
      "text/plain": [
       "array([1., 0., 1.], dtype=float32)"
      ]
     },
     "execution_count": 27,
     "metadata": {},
     "output_type": "execute_result"
    }
   ],
   "source": [
    "a.astype('float32')"
   ]
  },
  {
   "cell_type": "code",
   "execution_count": 28,
   "id": "98e5efdd-0fa9-4dd8-8c81-4a401eb19baa",
   "metadata": {},
   "outputs": [
    {
     "data": {
      "text/plain": [
       "array([1, 0, 1])"
      ]
     },
     "execution_count": 28,
     "metadata": {},
     "output_type": "execute_result"
    }
   ],
   "source": [
    "a.astype('int32')"
   ]
  },
  {
   "cell_type": "code",
   "execution_count": 29,
   "id": "e843d91f-52c3-4cf8-aa8e-87f2e2562a8e",
   "metadata": {},
   "outputs": [
    {
     "data": {
      "text/plain": [
       "dtype('float64')"
      ]
     },
     "execution_count": 29,
     "metadata": {},
     "output_type": "execute_result"
    }
   ],
   "source": [
    "a = np.array([1.2,2.45,5.78])\n",
    "a.dtype"
   ]
  },
  {
   "cell_type": "code",
   "execution_count": 30,
   "id": "c748d61c-5790-4304-a523-5a08b3c9fc58",
   "metadata": {},
   "outputs": [
    {
     "data": {
      "text/plain": [
       "array([1, 2, 5])"
      ]
     },
     "execution_count": 30,
     "metadata": {},
     "output_type": "execute_result"
    }
   ],
   "source": [
    "a.astype('int32')"
   ]
  },
  {
   "cell_type": "markdown",
   "id": "90371d24-6920-4af2-b528-716e2e42cf56",
   "metadata": {},
   "source": [
    "* **round**:四舍五入数组的数值"
   ]
  },
  {
   "cell_type": "code",
   "execution_count": 31,
   "id": "e6fa7285-073e-44e2-97df-ca2f0049b8c4",
   "metadata": {},
   "outputs": [
    {
     "data": {
      "text/plain": [
       "array([1.2, 2.4, 5.8])"
      ]
     },
     "execution_count": 31,
     "metadata": {},
     "output_type": "execute_result"
    }
   ],
   "source": [
    "a.round(1)"
   ]
  },
  {
   "cell_type": "code",
   "execution_count": 32,
   "id": "e864c7e9-28ad-4019-977e-870169342741",
   "metadata": {},
   "outputs": [
    {
     "data": {
      "text/plain": [
       "array([1., 2., 6.])"
      ]
     },
     "execution_count": 32,
     "metadata": {},
     "output_type": "execute_result"
    }
   ],
   "source": [
    "a.round(0)"
   ]
  },
  {
   "cell_type": "markdown",
   "id": "215bbb91-ec1f-45e5-8a68-85842c85c5e5",
   "metadata": {},
   "source": [
    "##### **2.3 数组的切片的索引**"
   ]
  },
  {
   "cell_type": "code",
   "execution_count": 33,
   "id": "34acfd06-122b-4d5e-9620-80871901bef5",
   "metadata": {},
   "outputs": [
    {
     "data": {
      "text/plain": [
       "array([0, 1, 2, 3, 4, 5, 6, 7, 8, 9])"
      ]
     },
     "execution_count": 33,
     "metadata": {},
     "output_type": "execute_result"
    }
   ],
   "source": [
    "a = np.arange(10)\n",
    "a"
   ]
  },
  {
   "cell_type": "markdown",
   "id": "3cbfe7af-42da-4c9d-b5e2-64bd21e89615",
   "metadata": {},
   "source": [
    "* **切片**：前包括后不包括"
   ]
  },
  {
   "cell_type": "code",
   "execution_count": 34,
   "id": "98fadbe5-46a8-4fb6-8d95-d09736aade88",
   "metadata": {},
   "outputs": [
    {
     "data": {
      "text/plain": [
       "array([5, 6, 7])"
      ]
     },
     "execution_count": 34,
     "metadata": {},
     "output_type": "execute_result"
    }
   ],
   "source": [
    "a[5:8]"
   ]
  },
  {
   "cell_type": "code",
   "execution_count": 35,
   "id": "47d4781c-201f-46da-9637-944a0498b2e7",
   "metadata": {},
   "outputs": [
    {
     "data": {
      "text/plain": [
       "array([0, 1, 2, 3, 4, 5, 6, 7, 8, 9])"
      ]
     },
     "execution_count": 35,
     "metadata": {},
     "output_type": "execute_result"
    }
   ],
   "source": [
    "a"
   ]
  },
  {
   "cell_type": "code",
   "execution_count": 36,
   "id": "5459298b-1c97-494d-a4fc-39e22cf119f6",
   "metadata": {},
   "outputs": [
    {
     "data": {
      "text/plain": [
       "array([ 0,  1,  2,  3,  4, 10, 10, 10,  8,  9])"
      ]
     },
     "execution_count": 36,
     "metadata": {},
     "output_type": "execute_result"
    }
   ],
   "source": [
    "a[5:8] = 10\n",
    "a"
   ]
  },
  {
   "cell_type": "code",
   "execution_count": 37,
   "id": "0319c790-7c89-46e9-a25c-204ee3073650",
   "metadata": {},
   "outputs": [
    {
     "data": {
      "text/plain": [
       "array([0, 1, 2, 3, 4])"
      ]
     },
     "execution_count": 37,
     "metadata": {},
     "output_type": "execute_result"
    }
   ],
   "source": [
    "a[:5]"
   ]
  },
  {
   "cell_type": "code",
   "execution_count": 38,
   "id": "5d89325d-fcad-4159-83dc-db5ff35c1fb3",
   "metadata": {},
   "outputs": [
    {
     "data": {
      "text/plain": [
       "array([ 0,  2,  4, 10])"
      ]
     },
     "execution_count": 38,
     "metadata": {},
     "output_type": "execute_result"
    }
   ],
   "source": [
    "a[:7:2]"
   ]
  },
  {
   "cell_type": "code",
   "execution_count": 39,
   "id": "466c31a9-9b2f-4c86-be67-43f4290b821d",
   "metadata": {},
   "outputs": [
    {
     "data": {
      "text/plain": [
       "array([ 3,  4, 10, 10, 10,  8,  9])"
      ]
     },
     "execution_count": 39,
     "metadata": {},
     "output_type": "execute_result"
    }
   ],
   "source": [
    "a[3:]"
   ]
  },
  {
   "cell_type": "code",
   "execution_count": 40,
   "id": "3732456e-e1d4-461c-8f6a-d57ec007497c",
   "metadata": {},
   "outputs": [
    {
     "data": {
      "text/plain": [
       "array([ 3, 10, 10,  9])"
      ]
     },
     "execution_count": 40,
     "metadata": {},
     "output_type": "execute_result"
    }
   ],
   "source": [
    "a[3::2]"
   ]
  },
  {
   "cell_type": "code",
   "execution_count": 41,
   "id": "e647e6b8-7023-4b0f-930b-c2c456db07d7",
   "metadata": {},
   "outputs": [
    {
     "data": {
      "text/plain": [
       "array([ 0,  2,  4, 10,  8])"
      ]
     },
     "execution_count": 41,
     "metadata": {},
     "output_type": "execute_result"
    }
   ],
   "source": [
    "a[::2]"
   ]
  },
  {
   "cell_type": "code",
   "execution_count": 42,
   "id": "e7227cb5-3317-4af6-9812-69ef9c3fa57c",
   "metadata": {},
   "outputs": [
    {
     "data": {
      "text/plain": [
       "array([ 9,  8, 10, 10, 10,  4,  3,  2,  1,  0])"
      ]
     },
     "execution_count": 42,
     "metadata": {},
     "output_type": "execute_result"
    }
   ],
   "source": [
    "a[::-1]"
   ]
  },
  {
   "cell_type": "code",
   "execution_count": 43,
   "id": "04064761-eff6-49f4-b70a-c93dfdd98954",
   "metadata": {},
   "outputs": [
    {
     "data": {
      "text/plain": [
       "array([ 0,  1,  2,  3,  4, 10])"
      ]
     },
     "execution_count": 43,
     "metadata": {},
     "output_type": "execute_result"
    }
   ],
   "source": [
    "a[:-4]"
   ]
  },
  {
   "cell_type": "markdown",
   "id": "fb82696e-a542-4b42-97a9-1ea62a926c3b",
   "metadata": {},
   "source": [
    "* **高维数组的创建和切片和索引**"
   ]
  },
  {
   "cell_type": "code",
   "execution_count": 44,
   "id": "f31be289-069a-44d6-a53f-56ee216b1666",
   "metadata": {},
   "outputs": [
    {
     "data": {
      "text/plain": [
       "array([[[ 0,  1,  2,  3],\n",
       "        [ 4,  5,  6,  7],\n",
       "        [ 8,  9, 10, 11]],\n",
       "\n",
       "       [[12, 13, 14, 15],\n",
       "        [16, 17, 18, 19],\n",
       "        [20, 21, 22, 23]]])"
      ]
     },
     "execution_count": 44,
     "metadata": {},
     "output_type": "execute_result"
    }
   ],
   "source": [
    "a = np.arange(24).reshape(2,3,4)\n",
    "a"
   ]
  },
  {
   "cell_type": "code",
   "execution_count": 45,
   "id": "5310f48e-befa-46c4-a9bd-5d2b86c92518",
   "metadata": {},
   "outputs": [
    {
     "data": {
      "text/plain": [
       "array([[ 0,  1,  2,  3],\n",
       "       [ 4,  5,  6,  7],\n",
       "       [ 8,  9, 10, 11]])"
      ]
     },
     "execution_count": 45,
     "metadata": {},
     "output_type": "execute_result"
    }
   ],
   "source": [
    "a[0]"
   ]
  },
  {
   "cell_type": "code",
   "execution_count": 46,
   "id": "c0f179c2-58a3-4724-a7de-98513d321277",
   "metadata": {},
   "outputs": [
    {
     "data": {
      "text/plain": [
       "array([[12, 13, 14, 15],\n",
       "       [16, 17, 18, 19],\n",
       "       [20, 21, 22, 23]])"
      ]
     },
     "execution_count": 46,
     "metadata": {},
     "output_type": "execute_result"
    }
   ],
   "source": [
    "a[1]"
   ]
  },
  {
   "cell_type": "code",
   "execution_count": 47,
   "id": "84196fb7-895b-4947-9ff0-422b198d9e3d",
   "metadata": {},
   "outputs": [
    {
     "data": {
      "text/plain": [
       "13"
      ]
     },
     "execution_count": 47,
     "metadata": {},
     "output_type": "execute_result"
    }
   ],
   "source": [
    "a[1][0][1]"
   ]
  },
  {
   "cell_type": "code",
   "execution_count": 48,
   "id": "8d85e2a8-6edc-4c42-a50a-b6de40c02ead",
   "metadata": {},
   "outputs": [
    {
     "data": {
      "text/plain": [
       "13"
      ]
     },
     "execution_count": 48,
     "metadata": {},
     "output_type": "execute_result"
    }
   ],
   "source": [
    "a[1,0,1]"
   ]
  },
  {
   "cell_type": "code",
   "execution_count": 49,
   "id": "481048b7-045e-4b7b-a24a-8185f555480e",
   "metadata": {},
   "outputs": [
    {
     "data": {
      "text/plain": [
       "18"
      ]
     },
     "execution_count": 49,
     "metadata": {},
     "output_type": "execute_result"
    }
   ],
   "source": [
    "a[1,1,2]"
   ]
  },
  {
   "cell_type": "code",
   "execution_count": 50,
   "id": "e7695b29-0360-4bd7-aef6-39ce906c2d35",
   "metadata": {},
   "outputs": [
    {
     "data": {
      "text/plain": [
       "array([[12, 13],\n",
       "       [16, 17]])"
      ]
     },
     "execution_count": 50,
     "metadata": {},
     "output_type": "execute_result"
    }
   ],
   "source": [
    "a[1,:2,:2]"
   ]
  },
  {
   "cell_type": "code",
   "execution_count": 51,
   "id": "b32e5a3f-0958-4861-ab6e-3082cfa6dfe5",
   "metadata": {},
   "outputs": [
    {
     "data": {
      "text/plain": [
       "array([[[False, False, False, False],\n",
       "        [False, False, False, False],\n",
       "        [False, False, False, False]],\n",
       "\n",
       "       [[False, False,  True,  True],\n",
       "        [ True,  True,  True,  True],\n",
       "        [ True,  True,  True,  True]]])"
      ]
     },
     "execution_count": 51,
     "metadata": {},
     "output_type": "execute_result"
    }
   ],
   "source": [
    "a>13"
   ]
  },
  {
   "cell_type": "markdown",
   "id": "17748b0d-ce78-4a28-a0e2-330c6b9b10a3",
   "metadata": {},
   "source": [
    "* **bool索引**"
   ]
  },
  {
   "cell_type": "code",
   "execution_count": 52,
   "id": "c61e134a-91f0-4352-88c1-2e86bc73af7a",
   "metadata": {},
   "outputs": [
    {
     "data": {
      "text/plain": [
       "array([14, 15, 16, 17, 18, 19, 20, 21, 22, 23])"
      ]
     },
     "execution_count": 52,
     "metadata": {},
     "output_type": "execute_result"
    }
   ],
   "source": [
    "a[a>13]"
   ]
  },
  {
   "cell_type": "code",
   "execution_count": 53,
   "id": "43c97db3-d619-41df-806c-7cfa684ccdda",
   "metadata": {},
   "outputs": [
    {
     "data": {
      "text/plain": [
       "array([[[ True,  True,  True,  True],\n",
       "        [ True,  True,  True,  True],\n",
       "        [ True,  True,  True,  True]],\n",
       "\n",
       "       [[ True,  True,  True, False],\n",
       "        [ True,  True,  True,  True],\n",
       "        [ True,  True,  True,  True]]])"
      ]
     },
     "execution_count": 53,
     "metadata": {},
     "output_type": "execute_result"
    }
   ],
   "source": [
    "a!=15 # a不等于15"
   ]
  },
  {
   "cell_type": "code",
   "execution_count": 54,
   "id": "6fe5bfd1-4aff-4156-a647-b0ae6c412d87",
   "metadata": {},
   "outputs": [
    {
     "data": {
      "text/plain": [
       "array([ 0,  1,  2,  3,  4,  5,  6,  7,  8,  9, 10, 11, 12, 13, 14, 16, 17,\n",
       "       18, 19, 20, 21, 22, 23])"
      ]
     },
     "execution_count": 54,
     "metadata": {},
     "output_type": "execute_result"
    }
   ],
   "source": [
    "a[a!=15]"
   ]
  },
  {
   "cell_type": "code",
   "execution_count": 55,
   "id": "bb1d1968-c430-4aee-ae99-6f99cd1ebca2",
   "metadata": {},
   "outputs": [
    {
     "data": {
      "text/plain": [
       "array([11, 12, 13, 14, 15, 16, 17, 18, 19])"
      ]
     },
     "execution_count": 55,
     "metadata": {},
     "output_type": "execute_result"
    }
   ],
   "source": [
    "a[(a>10) & (a<20)]"
   ]
  },
  {
   "cell_type": "code",
   "execution_count": 56,
   "id": "5d98dcbe-c5ac-4c99-a68f-f83460b639f1",
   "metadata": {},
   "outputs": [
    {
     "data": {
      "text/plain": [
       "array([[[100, 100, 100, 100],\n",
       "        [100, 100, 100, 100],\n",
       "        [100, 100,  10,  11]],\n",
       "\n",
       "       [[ 12,  13,  14,  15],\n",
       "        [ 16,  17,  18,  19],\n",
       "        [ 20,  21,  22,  23]]])"
      ]
     },
     "execution_count": 56,
     "metadata": {},
     "output_type": "execute_result"
    }
   ],
   "source": [
    "a[a<10] = 100\n",
    "a"
   ]
  },
  {
   "cell_type": "markdown",
   "id": "ec35d158-c6ba-4d97-abef-a4d2e531146a",
   "metadata": {},
   "source": [
    "##### **2.4 numpy广播与数组操作**\n"
   ]
  },
  {
   "cell_type": "code",
   "execution_count": 57,
   "id": "abc5a435-6ddc-4f3b-af13-3423b63765b3",
   "metadata": {},
   "outputs": [
    {
     "data": {
      "text/plain": [
       "array([[0, 1, 2, 3, 4],\n",
       "       [5, 6, 7, 8, 9]])"
      ]
     },
     "execution_count": 57,
     "metadata": {},
     "output_type": "execute_result"
    }
   ],
   "source": [
    "a = np.arange(10).reshape(2,5)\n",
    "a"
   ]
  },
  {
   "cell_type": "markdown",
   "id": "2a3c169d-8283-4c22-b44e-2ac7510d6723",
   "metadata": {},
   "source": [
    "* **数组的广播操作**"
   ]
  },
  {
   "cell_type": "code",
   "execution_count": 58,
   "id": "506bc568-9e25-4f23-8ea7-ca2876d80b5e",
   "metadata": {},
   "outputs": [
    {
     "data": {
      "text/plain": [
       "array([[10, 11, 12, 13, 14],\n",
       "       [15, 16, 17, 18, 19]])"
      ]
     },
     "execution_count": 58,
     "metadata": {},
     "output_type": "execute_result"
    }
   ],
   "source": [
    "a + 10"
   ]
  },
  {
   "cell_type": "code",
   "execution_count": 59,
   "id": "ad6760c7-a4df-46a1-a6cd-1df0afd6129d",
   "metadata": {},
   "outputs": [
    {
     "data": {
      "text/plain": [
       "array([[ 0, 10, 20, 30, 40],\n",
       "       [50, 60, 70, 80, 90]])"
      ]
     },
     "execution_count": 59,
     "metadata": {},
     "output_type": "execute_result"
    }
   ],
   "source": [
    "a*10"
   ]
  },
  {
   "cell_type": "code",
   "execution_count": 60,
   "id": "e0b84e5b-ded3-4d16-bc97-030152c35f06",
   "metadata": {},
   "outputs": [
    {
     "data": {
      "text/plain": [
       "array([[ 0,  2,  4,  6,  8],\n",
       "       [10, 12, 14, 16, 18]])"
      ]
     },
     "execution_count": 60,
     "metadata": {},
     "output_type": "execute_result"
    }
   ],
   "source": [
    "a + a"
   ]
  },
  {
   "cell_type": "code",
   "execution_count": 61,
   "id": "e75813dc-b01a-47f7-b9bf-d065e24adeb4",
   "metadata": {},
   "outputs": [
    {
     "data": {
      "text/plain": [
       "array([[ 0,  1,  4,  9, 16],\n",
       "       [25, 36, 49, 64, 81]])"
      ]
     },
     "execution_count": 61,
     "metadata": {},
     "output_type": "execute_result"
    }
   ],
   "source": [
    "a * a"
   ]
  },
  {
   "cell_type": "code",
   "execution_count": 62,
   "id": "c2b8adaf-58a0-4e64-ab4d-032e6ae1a1b2",
   "metadata": {},
   "outputs": [
    {
     "data": {
      "text/plain": [
       "array([10, 11, 12, 13, 14])"
      ]
     },
     "execution_count": 62,
     "metadata": {},
     "output_type": "execute_result"
    }
   ],
   "source": [
    "a1 = np.arange(10,15)\n",
    "a1"
   ]
  },
  {
   "cell_type": "code",
   "execution_count": 63,
   "id": "d4db18e1-8d0a-4432-87b6-2af11b8668bd",
   "metadata": {},
   "outputs": [
    {
     "data": {
      "text/plain": [
       "array([[0, 1, 2, 3, 4],\n",
       "       [5, 6, 7, 8, 9]])"
      ]
     },
     "execution_count": 63,
     "metadata": {},
     "output_type": "execute_result"
    }
   ],
   "source": [
    "a"
   ]
  },
  {
   "cell_type": "code",
   "execution_count": 64,
   "id": "ad8ab811-b3ec-4c45-8d34-03393d8f35b3",
   "metadata": {},
   "outputs": [
    {
     "data": {
      "text/plain": [
       "array([[10, 12, 14, 16, 18],\n",
       "       [15, 17, 19, 21, 23]])"
      ]
     },
     "execution_count": 64,
     "metadata": {},
     "output_type": "execute_result"
    }
   ],
   "source": [
    "a + a1"
   ]
  },
  {
   "cell_type": "code",
   "execution_count": 65,
   "id": "b17319d0-5962-4c47-a633-83ae4bcb7a5b",
   "metadata": {},
   "outputs": [
    {
     "data": {
      "text/plain": [
       "(2, 5)"
      ]
     },
     "execution_count": 65,
     "metadata": {},
     "output_type": "execute_result"
    }
   ],
   "source": [
    "a.shape"
   ]
  },
  {
   "cell_type": "markdown",
   "id": "5ca4f598-f85c-43ae-8bab-545b383d8e75",
   "metadata": {},
   "source": [
    "* **转置形状**"
   ]
  },
  {
   "cell_type": "code",
   "execution_count": 66,
   "id": "a1daadc9-2666-4b9a-b9d5-42244a7d6e9e",
   "metadata": {},
   "outputs": [
    {
     "data": {
      "text/plain": [
       "array([[0, 5],\n",
       "       [1, 6],\n",
       "       [2, 7],\n",
       "       [3, 8],\n",
       "       [4, 9]])"
      ]
     },
     "execution_count": 66,
     "metadata": {},
     "output_type": "execute_result"
    }
   ],
   "source": [
    "a.T"
   ]
  },
  {
   "cell_type": "code",
   "execution_count": 67,
   "id": "5d56a593-bfa1-4c0b-b810-d2cf110c7e7a",
   "metadata": {},
   "outputs": [
    {
     "data": {
      "text/plain": [
       "array([[ 30,  80],\n",
       "       [ 80, 255]])"
      ]
     },
     "execution_count": 67,
     "metadata": {},
     "output_type": "execute_result"
    }
   ],
   "source": [
    "# 矩阵相乘\n",
    "np.dot(a, a.T)"
   ]
  },
  {
   "cell_type": "code",
   "execution_count": 68,
   "id": "98f0e610-0504-4b31-8694-a7915d1695fa",
   "metadata": {},
   "outputs": [
    {
     "data": {
      "text/plain": [
       "array([[0, 5],\n",
       "       [1, 6],\n",
       "       [2, 7],\n",
       "       [3, 8],\n",
       "       [4, 9]])"
      ]
     },
     "execution_count": 68,
     "metadata": {},
     "output_type": "execute_result"
    }
   ],
   "source": [
    "# 高位数组转置\n",
    "a.transpose()"
   ]
  },
  {
   "cell_type": "code",
   "execution_count": 69,
   "id": "6ec7f755-167e-48a4-bac0-6c0b74567d74",
   "metadata": {},
   "outputs": [
    {
     "data": {
      "text/plain": [
       "array([[0, 1, 2, 3, 4],\n",
       "       [5, 6, 7, 8, 9]])"
      ]
     },
     "execution_count": 69,
     "metadata": {},
     "output_type": "execute_result"
    }
   ],
   "source": [
    "a"
   ]
  },
  {
   "cell_type": "code",
   "execution_count": 70,
   "id": "5f81b391-118c-423e-90f3-9e0a32853c5f",
   "metadata": {},
   "outputs": [
    {
     "data": {
      "text/plain": [
       "<numpy.flatiter at 0x23f0d973bc0>"
      ]
     },
     "execution_count": 70,
     "metadata": {},
     "output_type": "execute_result"
    }
   ],
   "source": [
    "# 迭代器\n",
    "a.flat"
   ]
  },
  {
   "cell_type": "code",
   "execution_count": 71,
   "id": "d1557025-fd9e-4136-bfa7-570af84e2f75",
   "metadata": {},
   "outputs": [
    {
     "name": "stdout",
     "output_type": "stream",
     "text": [
      "[0 1 2 3 4]\n",
      "[5 6 7 8 9]\n"
     ]
    }
   ],
   "source": [
    "for x in a:\n",
    "    print(x)"
   ]
  },
  {
   "cell_type": "code",
   "execution_count": 72,
   "id": "1c49960a-1dd3-4975-bcf3-067d4fa1cca0",
   "metadata": {},
   "outputs": [
    {
     "name": "stdout",
     "output_type": "stream",
     "text": [
      "0\n",
      "1\n",
      "2\n",
      "3\n",
      "4\n",
      "5\n",
      "6\n",
      "7\n",
      "8\n",
      "9\n"
     ]
    }
   ],
   "source": [
    "for x in a.flat:\n",
    "    print(x)"
   ]
  },
  {
   "cell_type": "code",
   "execution_count": 73,
   "id": "b4447f2d-0168-4b56-a948-30a531d82283",
   "metadata": {},
   "outputs": [
    {
     "data": {
      "text/plain": [
       "array([0, 1, 2, 3, 4, 5, 6, 7, 8, 9])"
      ]
     },
     "execution_count": 73,
     "metadata": {},
     "output_type": "execute_result"
    }
   ],
   "source": [
    "b = a.flatten()\n",
    "b"
   ]
  },
  {
   "cell_type": "code",
   "execution_count": 74,
   "id": "be432903-d69a-4124-8da8-cea3a83841da",
   "metadata": {},
   "outputs": [
    {
     "name": "stderr",
     "output_type": "stream",
     "text": [
      "C:\\Users\\panfe\\AppData\\Local\\Temp/ipykernel_19564/3436361216.py:1: DeprecationWarning: elementwise comparison failed; this will raise an error in the future.\n",
      "  b == a\n"
     ]
    },
    {
     "data": {
      "text/plain": [
       "False"
      ]
     },
     "execution_count": 74,
     "metadata": {},
     "output_type": "execute_result"
    }
   ],
   "source": [
    "b == a"
   ]
  },
  {
   "cell_type": "markdown",
   "id": "96e12719-bb2b-47fc-82d2-e7fd3faae9cd",
   "metadata": {},
   "source": [
    "* **扁平化**"
   ]
  },
  {
   "cell_type": "code",
   "execution_count": 75,
   "id": "4c5ec094-0509-43b6-b4f2-9dd550203abe",
   "metadata": {},
   "outputs": [],
   "source": [
    "c = a.ravel()"
   ]
  },
  {
   "cell_type": "code",
   "execution_count": 76,
   "id": "ccdf10d0-2e05-4e9f-96f8-278b252f892a",
   "metadata": {},
   "outputs": [],
   "source": [
    "c[5] = 1000"
   ]
  },
  {
   "cell_type": "code",
   "execution_count": 77,
   "id": "4eb7a022-a9cc-4c8c-b083-621f08426441",
   "metadata": {},
   "outputs": [
    {
     "data": {
      "text/plain": [
       "array([[   0,    1,    2,    3,    4],\n",
       "       [1000,    6,    7,    8,    9]])"
      ]
     },
     "execution_count": 77,
     "metadata": {},
     "output_type": "execute_result"
    }
   ],
   "source": [
    "a"
   ]
  },
  {
   "cell_type": "code",
   "execution_count": 78,
   "id": "8bcc434c-67bf-4ad2-a7a3-f7433bbfaf22",
   "metadata": {},
   "outputs": [
    {
     "data": {
      "text/plain": [
       "array([[   0,    1,    2,    3,    4],\n",
       "       [1000,    6,    7,    8,    9]])"
      ]
     },
     "execution_count": 78,
     "metadata": {},
     "output_type": "execute_result"
    }
   ],
   "source": [
    "b[3] = 1000\n",
    "a"
   ]
  },
  {
   "cell_type": "markdown",
   "id": "edc05930-92ee-4499-a22a-9a5bfaf48e51",
   "metadata": {},
   "source": [
    "##### **2.5 数组合并与通用函数**"
   ]
  },
  {
   "cell_type": "code",
   "execution_count": 79,
   "id": "ce9b00e0-e903-4610-94eb-0a693dc97f7c",
   "metadata": {},
   "outputs": [
    {
     "data": {
      "text/plain": [
       "array([[1, 2],\n",
       "       [3, 4]])"
      ]
     },
     "execution_count": 79,
     "metadata": {},
     "output_type": "execute_result"
    }
   ],
   "source": [
    "a = np.array([[1,2],[3,4]])\n",
    "b = np.array([[5,6],[7,8]])\n",
    "a"
   ]
  },
  {
   "cell_type": "code",
   "execution_count": 80,
   "id": "e31e4563-6291-4a11-be64-2258cd8b131b",
   "metadata": {
    "tags": []
   },
   "outputs": [
    {
     "data": {
      "text/plain": [
       "array([[5, 6],\n",
       "       [7, 8]])"
      ]
     },
     "execution_count": 80,
     "metadata": {},
     "output_type": "execute_result"
    }
   ],
   "source": [
    "b"
   ]
  },
  {
   "cell_type": "markdown",
   "id": "536e473a-d2b5-4f5e-9753-c5fcad2ed5a2",
   "metadata": {},
   "source": [
    "**合并数组**"
   ]
  },
  {
   "cell_type": "code",
   "execution_count": 81,
   "id": "8be6174c-6404-4ea9-8b96-5a4acd61aa71",
   "metadata": {},
   "outputs": [
    {
     "data": {
      "text/plain": [
       "array([[1, 2],\n",
       "       [3, 4],\n",
       "       [5, 6],\n",
       "       [7, 8]])"
      ]
     },
     "execution_count": 81,
     "metadata": {},
     "output_type": "execute_result"
    }
   ],
   "source": [
    "# 把数组以列表形式输入\n",
    "np.concatenate([a,b])"
   ]
  },
  {
   "cell_type": "code",
   "execution_count": 82,
   "id": "9c00daea-9e5f-4444-acc5-4e3e8f65bc50",
   "metadata": {},
   "outputs": [
    {
     "data": {
      "text/plain": [
       "array([[1, 2, 5, 6],\n",
       "       [3, 4, 7, 8]])"
      ]
     },
     "execution_count": 82,
     "metadata": {},
     "output_type": "execute_result"
    }
   ],
   "source": [
    "np.concatenate([a,b], axis=1)"
   ]
  },
  {
   "cell_type": "markdown",
   "id": "46318c46-fde5-41f0-bbd2-398bfe367860",
   "metadata": {},
   "source": [
    "**数组堆叠**"
   ]
  },
  {
   "cell_type": "code",
   "execution_count": 83,
   "id": "0ff9d266-ff4f-4f65-b212-46117926ed28",
   "metadata": {},
   "outputs": [],
   "source": [
    "a = np.array([1,2,3,4])\n",
    "b = np.array([5,6,7,8])"
   ]
  },
  {
   "cell_type": "code",
   "execution_count": 84,
   "id": "49e8448b-abc9-4cc6-87c9-8c57aa597048",
   "metadata": {},
   "outputs": [
    {
     "data": {
      "text/plain": [
       "array([[1, 2, 3, 4],\n",
       "       [5, 6, 7, 8]])"
      ]
     },
     "execution_count": 84,
     "metadata": {},
     "output_type": "execute_result"
    }
   ],
   "source": [
    "np.stack([a,b])"
   ]
  },
  {
   "cell_type": "code",
   "execution_count": 85,
   "id": "a97a7514-7638-4171-8ca5-8ae44cbd2028",
   "metadata": {},
   "outputs": [
    {
     "data": {
      "text/plain": [
       "array([1, 2, 4, 5, 6])"
      ]
     },
     "execution_count": 85,
     "metadata": {},
     "output_type": "execute_result"
    }
   ],
   "source": [
    "a = np.array([1,2,1,2,1,4,5,6,4,5])\n",
    "np.unique(a)"
   ]
  },
  {
   "cell_type": "code",
   "execution_count": 86,
   "id": "a70f1bd4-d53a-4646-ab78-3c6e288f32df",
   "metadata": {},
   "outputs": [
    {
     "data": {
      "text/plain": [
       "array([1.        , 1.41421356, 1.        , 1.41421356, 1.        ,\n",
       "       2.        , 2.23606798, 2.44948974, 2.        , 2.23606798])"
      ]
     },
     "execution_count": 86,
     "metadata": {},
     "output_type": "execute_result"
    }
   ],
   "source": [
    "np.sqrt(a)"
   ]
  },
  {
   "cell_type": "code",
   "execution_count": 87,
   "id": "bf95ebca-d44f-47ca-ae2b-6f32bb2bf99e",
   "metadata": {},
   "outputs": [
    {
     "data": {
      "text/plain": [
       "array([ 0.84147098,  0.90929743,  0.84147098,  0.90929743,  0.84147098,\n",
       "       -0.7568025 , -0.95892427, -0.2794155 , -0.7568025 , -0.95892427])"
      ]
     },
     "execution_count": 87,
     "metadata": {},
     "output_type": "execute_result"
    }
   ],
   "source": [
    "np.sin(a)"
   ]
  },
  {
   "cell_type": "code",
   "execution_count": 88,
   "id": "40c4a36b-33f3-4a67-8fce-d3aea5356f3d",
   "metadata": {},
   "outputs": [
    {
     "data": {
      "text/plain": [
       "array([ 0.54030231, -0.41614684,  0.54030231, -0.41614684,  0.54030231,\n",
       "       -0.65364362,  0.28366219,  0.96017029, -0.65364362,  0.28366219])"
      ]
     },
     "execution_count": 88,
     "metadata": {},
     "output_type": "execute_result"
    }
   ],
   "source": [
    "np.cos(a)"
   ]
  },
  {
   "cell_type": "code",
   "execution_count": 89,
   "id": "5842b2e5-2f70-4814-bdf7-22a50d6c1f1c",
   "metadata": {},
   "outputs": [
    {
     "data": {
      "text/plain": [
       "array([ 6,  8, 10, 12])"
      ]
     },
     "execution_count": 89,
     "metadata": {},
     "output_type": "execute_result"
    }
   ],
   "source": [
    "a = np.array([1,2,3,4])\n",
    "b = np.array([5,6,7,8])\n",
    "a + b"
   ]
  },
  {
   "cell_type": "code",
   "execution_count": 90,
   "id": "54e950a5-c532-4005-be5f-ac9b38d62961",
   "metadata": {},
   "outputs": [
    {
     "data": {
      "text/plain": [
       "array([ 6,  8, 10, 12])"
      ]
     },
     "execution_count": 90,
     "metadata": {},
     "output_type": "execute_result"
    }
   ],
   "source": [
    "np.add(a,b)"
   ]
  },
  {
   "cell_type": "code",
   "execution_count": 91,
   "id": "e7e1b4a2-8bb3-4125-a734-2fc2d64d28fe",
   "metadata": {},
   "outputs": [
    {
     "data": {
      "text/plain": [
       "array([ 5, 12, 21, 32])"
      ]
     },
     "execution_count": 91,
     "metadata": {},
     "output_type": "execute_result"
    }
   ],
   "source": [
    "a * b"
   ]
  },
  {
   "cell_type": "code",
   "execution_count": 92,
   "id": "c48ffef5-32e2-42e8-8d09-aec088ac9eef",
   "metadata": {},
   "outputs": [
    {
     "data": {
      "text/plain": [
       "array([0, 0, 1, 0], dtype=int32)"
      ]
     },
     "execution_count": 92,
     "metadata": {},
     "output_type": "execute_result"
    }
   ],
   "source": [
    "np.mod(b,a)"
   ]
  },
  {
   "cell_type": "code",
   "execution_count": 93,
   "id": "dfaaff78-6410-4ad0-b2f7-77ccc5ffdcca",
   "metadata": {},
   "outputs": [
    {
     "data": {
      "text/plain": [
       "array([5, 3, 2, 2], dtype=int32)"
      ]
     },
     "execution_count": 93,
     "metadata": {},
     "output_type": "execute_result"
    }
   ],
   "source": [
    "b // a"
   ]
  },
  {
   "cell_type": "code",
   "execution_count": 94,
   "id": "cb9c525c-05b9-44a6-bdae-070ce9be8c49",
   "metadata": {},
   "outputs": [
    {
     "data": {
      "text/plain": [
       "array([0, 0, 1, 0], dtype=int32)"
      ]
     },
     "execution_count": 94,
     "metadata": {},
     "output_type": "execute_result"
    }
   ],
   "source": [
    "b % a"
   ]
  },
  {
   "cell_type": "code",
   "execution_count": 95,
   "id": "5246cbf5-555a-42d0-9771-bfb9455d0474",
   "metadata": {},
   "outputs": [
    {
     "data": {
      "text/plain": [
       "array([False, False, False, False])"
      ]
     },
     "execution_count": 95,
     "metadata": {},
     "output_type": "execute_result"
    }
   ],
   "source": [
    "a == b"
   ]
  },
  {
   "cell_type": "code",
   "execution_count": 96,
   "id": "d6d1d9b3-3011-4534-b6a3-4833725de04f",
   "metadata": {},
   "outputs": [
    {
     "data": {
      "text/plain": [
       "array([ True,  True,  True,  True])"
      ]
     },
     "execution_count": 96,
     "metadata": {},
     "output_type": "execute_result"
    }
   ],
   "source": [
    "b > a"
   ]
  },
  {
   "cell_type": "code",
   "execution_count": 97,
   "id": "cb175a68-b177-4749-8482-9a79b95de1c3",
   "metadata": {},
   "outputs": [
    {
     "data": {
      "text/plain": [
       "array([False, False, False, False])"
      ]
     },
     "execution_count": 97,
     "metadata": {},
     "output_type": "execute_result"
    }
   ],
   "source": [
    "a > b"
   ]
  },
  {
   "cell_type": "code",
   "execution_count": 98,
   "id": "8a46e10c-8fc2-4cbf-ac08-da86d3d3766b",
   "metadata": {},
   "outputs": [
    {
     "data": {
      "text/plain": [
       "array([False, False, False, False])"
      ]
     },
     "execution_count": 98,
     "metadata": {},
     "output_type": "execute_result"
    }
   ],
   "source": [
    "a >= b "
   ]
  },
  {
   "cell_type": "code",
   "execution_count": 99,
   "id": "64b4652b-d3c6-48fc-a081-e3e3ac5b74cb",
   "metadata": {},
   "outputs": [
    {
     "data": {
      "text/plain": [
       "array([ True,  True,  True,  True])"
      ]
     },
     "execution_count": 99,
     "metadata": {},
     "output_type": "execute_result"
    }
   ],
   "source": [
    "b >= a"
   ]
  },
  {
   "cell_type": "code",
   "execution_count": 100,
   "id": "ff998ce7-9238-40b5-98c7-64f4a68a37db",
   "metadata": {},
   "outputs": [],
   "source": [
    "a = np.array([1,3,4,8])\n",
    "b = np.array([5,6,7,8])"
   ]
  },
  {
   "cell_type": "markdown",
   "id": "d7ee19b0-0b0b-4440-987a-f6fa7448cc76",
   "metadata": {},
   "source": [
    "**对布尔值取反**"
   ]
  },
  {
   "cell_type": "code",
   "execution_count": 101,
   "id": "65253f97-aeb7-48de-901e-497864bd6757",
   "metadata": {},
   "outputs": [
    {
     "data": {
      "text/plain": [
       "array([False, False, False,  True])"
      ]
     },
     "execution_count": 101,
     "metadata": {},
     "output_type": "execute_result"
    }
   ],
   "source": [
    "~ (b > a)"
   ]
  },
  {
   "cell_type": "markdown",
   "id": "39a124dd-595e-4b6c-a54c-6e9909b9daba",
   "metadata": {},
   "source": [
    "##### **2.6 numpy的统计函数**"
   ]
  },
  {
   "cell_type": "code",
   "execution_count": 102,
   "id": "cd09740c-77af-4d0a-a83b-25a4b72d7ad2",
   "metadata": {},
   "outputs": [
    {
     "data": {
      "text/plain": [
       "array([[ 0.15639408, -2.49039514,  0.7163149 , -1.45060705],\n",
       "       [-1.177267  ,  0.55889476, -1.25892545, -0.47830839],\n",
       "       [-1.38153173,  1.37067266, -0.51493505, -0.13816982],\n",
       "       [-1.54795619, -0.35342024, -1.25029964,  0.20110703],\n",
       "       [ 2.1541684 , -1.13470287, -2.10225198,  1.56500697]])"
      ]
     },
     "execution_count": 102,
     "metadata": {},
     "output_type": "execute_result"
    }
   ],
   "source": [
    "a = np.random.randn(5,4)\n",
    "a"
   ]
  },
  {
   "cell_type": "code",
   "execution_count": 103,
   "id": "c304ae29-aa6a-43e4-b63a-c36ba25be11a",
   "metadata": {},
   "outputs": [
    {
     "data": {
      "text/plain": [
       "-0.4278105865527676"
      ]
     },
     "execution_count": 103,
     "metadata": {},
     "output_type": "execute_result"
    }
   ],
   "source": [
    "# 求均值\n",
    "a.mean()"
   ]
  },
  {
   "cell_type": "code",
   "execution_count": 104,
   "id": "1f3a38cd-a15f-44d1-8ef7-c79e9034cf50",
   "metadata": {},
   "outputs": [
    {
     "data": {
      "text/plain": [
       "-0.4278105865527676"
      ]
     },
     "execution_count": 104,
     "metadata": {},
     "output_type": "execute_result"
    }
   ],
   "source": [
    "np.mean(a)"
   ]
  },
  {
   "cell_type": "code",
   "execution_count": 105,
   "id": "067f0ba6-44f6-48d9-9152-a9f55cfb5b9e",
   "metadata": {},
   "outputs": [
    {
     "data": {
      "text/plain": [
       "-8.556211731055352"
      ]
     },
     "execution_count": 105,
     "metadata": {},
     "output_type": "execute_result"
    }
   ],
   "source": [
    "# 求和\n",
    "a.sum()"
   ]
  },
  {
   "cell_type": "code",
   "execution_count": 106,
   "id": "f8612ab7-51f7-4d54-b6e2-21d5e62d40c4",
   "metadata": {},
   "outputs": [
    {
     "data": {
      "text/plain": [
       "array([-3.06829321, -2.35560607, -0.66396394, -2.95056903,  0.48222052])"
      ]
     },
     "execution_count": 106,
     "metadata": {},
     "output_type": "execute_result"
    }
   ],
   "source": [
    "# 每一行相加\n",
    "a.sum(axis = 1)"
   ]
  },
  {
   "cell_type": "code",
   "execution_count": 107,
   "id": "2ba99bb5-c58c-403e-8531-4153797b732a",
   "metadata": {},
   "outputs": [
    {
     "data": {
      "text/plain": [
       "array([-1.79619243, -2.04895082, -4.41009723, -0.30097125])"
      ]
     },
     "execution_count": 107,
     "metadata": {},
     "output_type": "execute_result"
    }
   ],
   "source": [
    "# 每一列相加\n",
    "a.sum(0)"
   ]
  },
  {
   "cell_type": "code",
   "execution_count": 108,
   "id": "d2838f50-8ff4-44f8-9382-7257c35a0d96",
   "metadata": {},
   "outputs": [
    {
     "data": {
      "text/plain": [
       "2.154168398543741"
      ]
     },
     "execution_count": 108,
     "metadata": {},
     "output_type": "execute_result"
    }
   ],
   "source": [
    "a.max()"
   ]
  },
  {
   "cell_type": "code",
   "execution_count": 109,
   "id": "76a7b03b-030f-4118-8fcb-0d6f40e04390",
   "metadata": {},
   "outputs": [
    {
     "data": {
      "text/plain": [
       "array([0.7163149 , 0.55889476, 1.37067266, 0.20110703, 2.1541684 ])"
      ]
     },
     "execution_count": 109,
     "metadata": {},
     "output_type": "execute_result"
    }
   ],
   "source": [
    "a.max(1)"
   ]
  },
  {
   "cell_type": "code",
   "execution_count": 110,
   "id": "67b33fd5-5a52-4b1e-8108-a29fbf712642",
   "metadata": {},
   "outputs": [
    {
     "data": {
      "text/plain": [
       "array([1.39358495, 1.33910354, 0.94404232, 0.98221227])"
      ]
     },
     "execution_count": 110,
     "metadata": {},
     "output_type": "execute_result"
    }
   ],
   "source": [
    "# 标准差\n",
    "a.std(0)"
   ]
  },
  {
   "cell_type": "code",
   "execution_count": 111,
   "id": "3f89ff19-7387-49c3-90b2-9cb4ed6dd626",
   "metadata": {},
   "outputs": [
    {
     "data": {
      "text/plain": [
       "-0.4966217186939158"
      ]
     },
     "execution_count": 111,
     "metadata": {},
     "output_type": "execute_result"
    }
   ],
   "source": [
    "# 中间值\n",
    "np.median(a)"
   ]
  },
  {
   "cell_type": "code",
   "execution_count": 112,
   "id": "031aa5a7-4cf9-4ab2-a241-2de6da61f496",
   "metadata": {},
   "outputs": [
    {
     "data": {
      "text/plain": [
       "array([[ 0.15639408, -2.49039514,  0.7163149 , -1.45060705],\n",
       "       [-1.02087291, -1.93150037, -0.54261056, -1.92891544],\n",
       "       [-2.40240464, -0.56082772, -1.05754561, -2.06708525],\n",
       "       [-3.95036083, -0.91424795, -2.30784524, -1.86597822],\n",
       "       [-1.79619243, -2.04895082, -4.41009723, -0.30097125]])"
      ]
     },
     "execution_count": 112,
     "metadata": {},
     "output_type": "execute_result"
    }
   ],
   "source": [
    "# 每一列累加\n",
    "a.cumsum(0)"
   ]
  },
  {
   "cell_type": "code",
   "execution_count": 113,
   "id": "55cff320-4d9d-4664-b7d8-16e7403555a0",
   "metadata": {},
   "outputs": [
    {
     "data": {
      "text/plain": [
       "array([[ 0.15639408, -0.38948306, -0.27899252,  0.40470851],\n",
       "       [-1.177267  , -0.65796836,  0.82833311, -0.39619867],\n",
       "       [-1.38153173, -1.89362776,  0.97509531, -0.13472874],\n",
       "       [-1.54795619,  0.54707904, -0.68401273, -0.13755977],\n",
       "       [ 2.1541684 , -2.44434107,  5.13862086,  8.04197748]])"
      ]
     },
     "execution_count": 113,
     "metadata": {},
     "output_type": "execute_result"
    }
   ],
   "source": [
    "# 每一行累乘\n",
    "a.cumprod(1)"
   ]
  },
  {
   "cell_type": "code",
   "execution_count": 114,
   "id": "0361ecf6-c40a-463b-b65c-e83b6af63c91",
   "metadata": {},
   "outputs": [
    {
     "data": {
      "text/plain": [
       "array([2, 2, 1, 2])"
      ]
     },
     "execution_count": 114,
     "metadata": {},
     "output_type": "execute_result"
    }
   ],
   "source": [
    "sum(a > 0)"
   ]
  },
  {
   "cell_type": "code",
   "execution_count": 115,
   "id": "a1ed5a43-22e3-4ed5-a74b-4816d4ebfb67",
   "metadata": {},
   "outputs": [
    {
     "data": {
      "text/plain": [
       "7"
      ]
     },
     "execution_count": 115,
     "metadata": {},
     "output_type": "execute_result"
    }
   ],
   "source": [
    "np.sum(a > 0)"
   ]
  },
  {
   "cell_type": "markdown",
   "id": "ee0254c3-5455-433a-b016-73594b10aab5",
   "metadata": {},
   "source": [
    "* **对a每一列排序**"
   ]
  },
  {
   "cell_type": "code",
   "execution_count": 116,
   "id": "575dcb68-0f37-4757-b186-a0d7098933ee",
   "metadata": {},
   "outputs": [
    {
     "data": {
      "text/plain": [
       "array([[-1.54795619, -2.49039514, -2.10225198, -1.45060705],\n",
       "       [-1.38153173, -1.13470287, -1.25892545, -0.47830839],\n",
       "       [-1.177267  , -0.35342024, -1.25029964, -0.13816982],\n",
       "       [ 0.15639408,  0.55889476, -0.51493505,  0.20110703],\n",
       "       [ 2.1541684 ,  1.37067266,  0.7163149 ,  1.56500697]])"
      ]
     },
     "execution_count": 116,
     "metadata": {},
     "output_type": "execute_result"
    }
   ],
   "source": [
    "a.sort(0)\n",
    "a"
   ]
  },
  {
   "cell_type": "markdown",
   "id": "c8ae97a5-4c28-47fd-ac10-d62ba56bcd67",
   "metadata": {},
   "source": [
    "* **对每一行进行排序**"
   ]
  },
  {
   "cell_type": "code",
   "execution_count": 117,
   "id": "a066449a-233c-49ee-b7e9-a35f9cb97529",
   "metadata": {},
   "outputs": [
    {
     "data": {
      "text/plain": [
       "array([[-2.49039514, -2.10225198, -1.54795619, -1.45060705],\n",
       "       [-1.38153173, -1.25892545, -1.13470287, -0.47830839],\n",
       "       [-1.25029964, -1.177267  , -0.35342024, -0.13816982],\n",
       "       [-0.51493505,  0.15639408,  0.20110703,  0.55889476],\n",
       "       [ 0.7163149 ,  1.37067266,  1.56500697,  2.1541684 ]])"
      ]
     },
     "execution_count": 117,
     "metadata": {},
     "output_type": "execute_result"
    }
   ],
   "source": [
    "a.sort(1)\n",
    "a"
   ]
  },
  {
   "cell_type": "code",
   "execution_count": 118,
   "id": "0ede27a1-b4ce-4c2d-8cfb-17d80af02d16",
   "metadata": {},
   "outputs": [
    {
     "data": {
      "text/plain": [
       "array([[-2.49039514, -2.10225198, -1.54795619, -1.45060705],\n",
       "       [-1.38153173, -1.25892545, -1.13470287, -0.47830839],\n",
       "       [-1.25029964, -1.177267  , -0.35342024, -0.13816982],\n",
       "       [-0.51493505,  0.15639408,  0.20110703,  0.55889476],\n",
       "       [ 0.7163149 ,  1.37067266,  1.56500697,  2.1541684 ]])"
      ]
     },
     "execution_count": 118,
     "metadata": {},
     "output_type": "execute_result"
    }
   ],
   "source": [
    "# 返回副本\n",
    "np.sort(a)"
   ]
  },
  {
   "cell_type": "code",
   "execution_count": 119,
   "id": "02d5b2bf-23dd-4244-ad4c-c732ef7abb81",
   "metadata": {},
   "outputs": [
    {
     "data": {
      "text/plain": [
       "array([0, 2, 1, 3], dtype=int64)"
      ]
     },
     "execution_count": 119,
     "metadata": {},
     "output_type": "execute_result"
    }
   ],
   "source": [
    "# 排序的索引\n",
    "a = np.array([1,4,3,6])\n",
    "a.argsort()"
   ]
  },
  {
   "cell_type": "code",
   "execution_count": 120,
   "id": "2b4f26a7-4db0-418a-8700-12eb63b18be3",
   "metadata": {},
   "outputs": [
    {
     "data": {
      "text/plain": [
       "array([1, 3, 4, 6])"
      ]
     },
     "execution_count": 120,
     "metadata": {},
     "output_type": "execute_result"
    }
   ],
   "source": [
    "a[a.argsort()]"
   ]
  },
  {
   "cell_type": "code",
   "execution_count": 121,
   "id": "a8bbc603-77cb-4e30-9a0a-8d455858593b",
   "metadata": {},
   "outputs": [
    {
     "data": {
      "text/plain": [
       "0"
      ]
     },
     "execution_count": 121,
     "metadata": {},
     "output_type": "execute_result"
    }
   ],
   "source": [
    "a.argmin()"
   ]
  },
  {
   "cell_type": "code",
   "execution_count": 122,
   "id": "959544f3-2f8f-43db-bb13-125913c42013",
   "metadata": {},
   "outputs": [
    {
     "data": {
      "text/plain": [
       "3"
      ]
     },
     "execution_count": 122,
     "metadata": {},
     "output_type": "execute_result"
    }
   ],
   "source": [
    "a.argmax()"
   ]
  },
  {
   "cell_type": "markdown",
   "id": "b8bfd370-fefa-46ed-8b8a-5d507a44c0ce",
   "metadata": {},
   "source": [
    "##### **2.7 Numpy随机数、逻辑运算与数据存取**"
   ]
  },
  {
   "cell_type": "markdown",
   "id": "96ed9404-204b-4a4d-beab-8a9786731358",
   "metadata": {},
   "source": [
    "* **随机数和随机数组**"
   ]
  },
  {
   "cell_type": "code",
   "execution_count": 123,
   "id": "8fe8ef7d-d8db-4e73-8a50-c93f6af294d2",
   "metadata": {},
   "outputs": [
    {
     "data": {
      "text/plain": [
       "array([[-0.31592937, -0.57375359, -0.28716551, -0.14636248, -1.28281298],\n",
       "       [-0.19025153, -0.69603647, -0.69490847, -0.22037179, -0.95495862],\n",
       "       [-0.78395602, -0.46581957,  0.36207491, -0.31817445,  0.07435866]])"
      ]
     },
     "execution_count": 123,
     "metadata": {},
     "output_type": "execute_result"
    }
   ],
   "source": [
    "np.random.normal(size=(3,5))"
   ]
  },
  {
   "cell_type": "code",
   "execution_count": 124,
   "id": "a5bac89e-651d-4c6f-9ab5-2f341cd9608b",
   "metadata": {
    "tags": []
   },
   "outputs": [
    {
     "data": {
      "text/plain": [
       "array([-0.91393471, -1.20917558,  0.44754926, -0.05825631,  0.77009503,\n",
       "       -0.40619431,  0.86295956,  0.81629521,  0.308969  ,  0.51359703])"
      ]
     },
     "execution_count": 124,
     "metadata": {},
     "output_type": "execute_result"
    }
   ],
   "source": [
    "np.random.randn(10)"
   ]
  },
  {
   "cell_type": "code",
   "execution_count": 125,
   "id": "4987dfa1-3c80-46ee-9d81-90fbe6dab91a",
   "metadata": {},
   "outputs": [
    {
     "data": {
      "text/plain": [
       "array([[ 0.56097149,  0.74583447, -0.32824381, -0.84892631],\n",
       "       [ 0.56210107,  0.29451053, -1.72665897, -0.35105283],\n",
       "       [-0.59076035, -2.00647011,  1.69374066, -0.3646274 ]])"
      ]
     },
     "execution_count": 125,
     "metadata": {},
     "output_type": "execute_result"
    }
   ],
   "source": [
    "np.random.randn(3,4)"
   ]
  },
  {
   "cell_type": "code",
   "execution_count": 126,
   "id": "f8ff0495-4ba2-4aa5-999c-9dae3d9907bd",
   "metadata": {},
   "outputs": [
    {
     "data": {
      "text/plain": [
       "array([[7, 3, 1, 6],\n",
       "       [9, 2, 6, 5],\n",
       "       [5, 1, 5, 8]])"
      ]
     },
     "execution_count": 126,
     "metadata": {},
     "output_type": "execute_result"
    }
   ],
   "source": [
    "np.random.randint(1,10,(3,4)) # randint(最小值，最大值，(行数，列数))"
   ]
  },
  {
   "cell_type": "code",
   "execution_count": 127,
   "id": "84b25418-fed2-486c-b98e-df5f55467842",
   "metadata": {},
   "outputs": [
    {
     "data": {
      "text/plain": [
       "5"
      ]
     },
     "execution_count": 127,
     "metadata": {},
     "output_type": "execute_result"
    }
   ],
   "source": [
    "np.random.choice([1,2,3,4,5])"
   ]
  },
  {
   "cell_type": "code",
   "execution_count": 128,
   "id": "324cebbf-0122-4485-812c-3618a471bc8c",
   "metadata": {},
   "outputs": [
    {
     "data": {
      "text/plain": [
       "3"
      ]
     },
     "execution_count": 128,
     "metadata": {},
     "output_type": "execute_result"
    }
   ],
   "source": [
    "np.random.choice([1,2,3,4,5])"
   ]
  },
  {
   "cell_type": "code",
   "execution_count": 129,
   "id": "4490f1be-bdfc-498d-9a6b-51e515016cec",
   "metadata": {},
   "outputs": [
    {
     "data": {
      "text/plain": [
       "array([0, 1, 2, 3, 4, 5, 6, 7, 8, 9])"
      ]
     },
     "execution_count": 129,
     "metadata": {},
     "output_type": "execute_result"
    }
   ],
   "source": [
    "a = np.arange(10)\n",
    "a"
   ]
  },
  {
   "cell_type": "code",
   "execution_count": 130,
   "id": "b8fcf5eb-01c7-411a-b9f6-c441fcce1216",
   "metadata": {},
   "outputs": [
    {
     "data": {
      "text/plain": [
       "array([4, 0, 6, 5, 1, 8, 2, 3, 7, 9])"
      ]
     },
     "execution_count": 130,
     "metadata": {},
     "output_type": "execute_result"
    }
   ],
   "source": [
    "# 乱序数组\n",
    "np.random.permutation(a)"
   ]
  },
  {
   "cell_type": "markdown",
   "id": "1cc14414-8297-42ee-a47f-4538262ed464",
   "metadata": {},
   "source": [
    "+ **生成索引**"
   ]
  },
  {
   "cell_type": "code",
   "execution_count": 131,
   "id": "85777bfc-8afb-4abc-ba0c-dfed1422299f",
   "metadata": {},
   "outputs": [
    {
     "data": {
      "text/plain": [
       "array([ 1.59198445,  1.25436414, -1.58632839, -1.5115279 ,  1.02953738,\n",
       "        0.56967255, -1.88607326, -1.09774826,  0.59801976,  0.88811379])"
      ]
     },
     "execution_count": 131,
     "metadata": {},
     "output_type": "execute_result"
    }
   ],
   "source": [
    "a = np.random.randn(10)\n",
    "a"
   ]
  },
  {
   "cell_type": "code",
   "execution_count": 132,
   "id": "92ad9749-ddf2-43b3-898b-c7a83501fe7d",
   "metadata": {},
   "outputs": [
    {
     "data": {
      "text/plain": [
       "array([3, 4, 0, 8, 7, 1, 6, 9, 5, 2])"
      ]
     },
     "execution_count": 132,
     "metadata": {},
     "output_type": "execute_result"
    }
   ],
   "source": [
    "index = np.random.permutation(len(a))\n",
    "index"
   ]
  },
  {
   "cell_type": "code",
   "execution_count": 133,
   "id": "25a16e58-7125-4377-a4a7-9f0f46f9457f",
   "metadata": {},
   "outputs": [
    {
     "data": {
      "text/plain": [
       "array([-1.5115279 ,  1.02953738,  1.59198445,  0.59801976, -1.09774826,\n",
       "        1.25436414, -1.88607326,  0.88811379,  0.56967255, -1.58632839])"
      ]
     },
     "execution_count": 133,
     "metadata": {},
     "output_type": "execute_result"
    }
   ],
   "source": [
    "a[index]"
   ]
  },
  {
   "cell_type": "code",
   "execution_count": 134,
   "id": "69e62b9f-0db8-4174-ba92-dffe46261577",
   "metadata": {},
   "outputs": [],
   "source": [
    "np.random.seed(12)"
   ]
  },
  {
   "cell_type": "code",
   "execution_count": 135,
   "id": "40d2edb2-4fdf-4e60-a15f-481cfdfc073b",
   "metadata": {},
   "outputs": [
    {
     "data": {
      "text/plain": [
       "array([ 0.47298583, -0.68142588,  0.2424395 , -1.70073563,  0.75314283])"
      ]
     },
     "execution_count": 135,
     "metadata": {},
     "output_type": "execute_result"
    }
   ],
   "source": [
    "np.random.randn(5)"
   ]
  },
  {
   "cell_type": "code",
   "execution_count": 136,
   "id": "242e9801-293c-442e-9c64-2c6b315da721",
   "metadata": {},
   "outputs": [
    {
     "data": {
      "text/plain": [
       "array([-1.53472134,  0.00512708, -0.12022767, -0.80698188,  2.87181939])"
      ]
     },
     "execution_count": 136,
     "metadata": {},
     "output_type": "execute_result"
    }
   ],
   "source": [
    "np.random.randn(5)"
   ]
  },
  {
   "cell_type": "markdown",
   "id": "e4709e19-8d8b-42f9-a41a-2fbfa7a7add2",
   "metadata": {},
   "source": [
    "* **逻辑运算**"
   ]
  },
  {
   "cell_type": "code",
   "execution_count": 137,
   "id": "86d06e5f-b533-4194-a7a6-9fc8a8894789",
   "metadata": {},
   "outputs": [
    {
     "data": {
      "text/plain": [
       "array([0, 1, 2, 3, 4, 5])"
      ]
     },
     "execution_count": 137,
     "metadata": {},
     "output_type": "execute_result"
    }
   ],
   "source": [
    "a = np.arange(6)\n",
    "a"
   ]
  },
  {
   "cell_type": "code",
   "execution_count": 138,
   "id": "523416ff-1fab-4e45-8997-feb7929e0951",
   "metadata": {},
   "outputs": [
    {
     "data": {
      "text/plain": [
       "array([20, 30, 10, 40, 40, 20])"
      ]
     },
     "execution_count": 138,
     "metadata": {},
     "output_type": "execute_result"
    }
   ],
   "source": [
    "b = np.array([20,30,10,40,40,20])\n",
    "b"
   ]
  },
  {
   "cell_type": "code",
   "execution_count": 139,
   "id": "95b2d76f-9b58-4ae7-adb9-88bba14e697f",
   "metadata": {},
   "outputs": [],
   "source": [
    "c = np.array([True,False,True,True,False,False])"
   ]
  },
  {
   "cell_type": "code",
   "execution_count": 140,
   "id": "cf7baf7d-4473-4651-a937-8c16d205d093",
   "metadata": {},
   "outputs": [
    {
     "data": {
      "text/plain": [
       "array([ 0, 30,  2,  3, 40, 20])"
      ]
     },
     "execution_count": 140,
     "metadata": {},
     "output_type": "execute_result"
    }
   ],
   "source": [
    "np.where(c,a,b) # 根据c中的布尔量，真就选取a，假选取b"
   ]
  },
  {
   "cell_type": "markdown",
   "id": "522461ac-4044-48aa-baa2-6e85c29967e5",
   "metadata": {},
   "source": [
    "#### **实例**"
   ]
  },
  {
   "cell_type": "code",
   "execution_count": null,
   "id": "9b50741a-6c68-4cd2-8def-d55a0f4994a6",
   "metadata": {},
   "outputs": [],
   "source": [
    "n_ZP = 20\n",
    "p = np.zeros(n_ZP)\n",
    "T = np.zeros(n_ZP)\n",
    "# Die maxmale Temperatur eingeben\n",
    "t_list = [46.61, 46.37, 46.31, 46.49, 46.63, 47.18, 44.12, 44.39, 54.30,55.84, \n",
    "          55.74, 56.59, 62.32, 62.32, 62.81, 62.80, 63.06, 63.06,64.26, 64.31]\n",
    "T_list = []\n",
    "for i in range(n_ZP):\n",
    "    T_list.append(t_list[i] + T_0)\n",
    "T = np.array(T_list)\n",
    "# Sättigungsdruck berechnen\n",
    "p_sat = PropsSI('P', 'T', T, 'Q', 1, fluid) "
   ]
  },
  {
   "cell_type": "code",
   "execution_count": null,
   "id": "9ad79a10-d3ae-4139-af2d-bf9afd3df176",
   "metadata": {},
   "outputs": [],
   "source": [
    "# from CoolProp.CoolProp import PropsSI\n",
    "fluid = 'Water'\n",
    "T_0 = 273.15 #K\n",
    "n_ZP = 11\n",
    "d = np.zeros(n_ZP) \n",
    "cp = np.zeros(n_ZP)\n",
    "p = np.zeros(n_ZP)\n",
    "T = np.zeros(n_ZP)\n",
    "p_list = [990e2,1000e2,504e2,550e2,522e2,496e2,497e2,500e2,501e2,504e2,484e2]\n",
    "T_list = [T_0 + 40.00, T_0 + 40.08, T_0 + 50.09, T_0 + 58.19, T_0 + 57.99, T_0 + 58.12, \n",
    "          T_0 + 58.11, T_0 + 58.05, T_0 + 58.01, T_0 + 58.03, T_0 + 58.04]\n",
    "p = np.array(p_list)\n",
    "T = np.array(T_list)\n",
    "d = PropsSI('D', 'T', T, 'P', p, fluid)  \n",
    "cp = PropsSI('C', 'T', T, 'P', p, fluid)  \n",
    "# Darstellung der Zustandspunkte in einer Tabelle\n",
    "df = pd.DataFrame(\n",
    "    {\n",
    "        'p in Pa': p,\n",
    "        'p in mbar': p/100,\n",
    "        'T in K': T,\n",
    "        'T in °C': T - T_0,\n",
    "        'd in kg/m3': d,\n",
    "        'cp in kj/kg': cp/1000,\n",
    "    },\n",
    "    index = np.arange(n_ZP)\n",
    ")"
   ]
  }
 ],
 "metadata": {
  "kernelspec": {
   "display_name": "Python 3 (ipykernel)",
   "language": "python",
   "name": "python3"
  },
  "language_info": {
   "codemirror_mode": {
    "name": "ipython",
    "version": 3
   },
   "file_extension": ".py",
   "mimetype": "text/x-python",
   "name": "python",
   "nbconvert_exporter": "python",
   "pygments_lexer": "ipython3",
   "version": "3.9.7"
  }
 },
 "nbformat": 4,
 "nbformat_minor": 5
}
