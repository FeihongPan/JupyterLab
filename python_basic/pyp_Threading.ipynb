{
 "cells": [
  {
   "cell_type": "markdown",
   "id": "6f6f1ad7-6ed3-4e8e-a9b2-79276b9c3436",
   "metadata": {},
   "source": [
    "#### **多线程处理**\n",
    "##### **1.进程管理-让程序一心多用**"
   ]
  },
  {
   "cell_type": "markdown",
   "id": "b457160c-c85c-48d3-81a7-6b5c62c916e7",
   "metadata": {},
   "source": [
    "* **程序(programm)**\n",
    "    + 程序:是为了实现特定目标用语言编写的代码\n",
    "    + 特征:静态,保存在存储介质上\n",
    "* **进程(process)**\n",
    "    + 进程:是一个具有一定独立功能的程序关于某个数据集合的一次运行活动\n",
    "    + 它是操作系统动态执行的基本单元,在传统操作系统中,进程即使基本的分配单元,也是基本的执行单元\n",
    "* **程序与进程的关系**\n",
    "    + 程序:\n",
    "        + 静态,报春与存储介质\n",
    "        + 一个程序对应多个进程\n",
    "    + 进程:\n",
    "        + 动态:程序的动态执行\n",
    "        + 对应一个程序\n",
    "* **进程**\n",
    "    + thread 是进程中某个单一顺序的控制流\n",
    "    + 在单个程序中同时运行多个线程完成不同的工作,称为多线程\n",
    "    + 程序->进程->多线程\n",
    "* **进程与线程**\n",
    "    + 子进程和父线程有不同的代码和数据空间,二多个线程则共享数据空间,每个线程有自己的执行堆栈和程序计数器\n",
    "    + 多线程主要是为了节约CPU时间,发挥利用,根据具体情况而定.线程的运行中需要使用计算机的内存资源和CPU."
   ]
  },
  {
   "cell_type": "markdown",
   "id": "f5dafeee-56fc-4534-9045-1630eacd7661",
   "metadata": {},
   "source": [
    "* **进程的执行特点**\n",
    "    + 程序执行特点:\n",
    "    + 测试:\n",
    "        + time.sleep()\n",
    "        + time.strftime()\n",
    "        + time.ctime()"
   ]
  },
  {
   "cell_type": "markdown",
   "id": "2dbe60e9-3f91-44ee-af47-c4216f9f333e",
   "metadata": {},
   "source": [
    "* **windows Powershell**"
   ]
  },
  {
   "cell_type": "code",
   "execution_count": 1,
   "id": "89b3821f-6964-494e-8805-a7c4d63acc95",
   "metadata": {},
   "outputs": [],
   "source": [
    "# cd python\n",
    "# dir\n",
    "# ni one.py\n",
    "# notepad.exe one.py\n",
    "def t1(name,x):\n",
    "    for i in range(x):\n",
    "        print(i,name)\n",
    "        time.sleep(1)\n",
    "# python one.py\n",
    "# ps powershell 查询线程"
   ]
  },
  {
   "cell_type": "markdown",
   "id": "cdd0bf6e-8fd9-4391-b6ad-c6ed2012ecdf",
   "metadata": {},
   "source": [
    "* **进程实例代码**"
   ]
  },
  {
   "cell_type": "code",
   "execution_count": 2,
   "id": "97401107-2208-4f18-99f9-5166494efc1b",
   "metadata": {},
   "outputs": [
    {
     "name": "stdout",
     "output_type": "stream",
     "text": [
      "main start at :Thu Mar 31 23:52:16 2022\n",
      "first start at :Thu Mar 31 23:52:16 2022\n",
      "first end at :Thu Mar 31 23:52:17 2022\n",
      "secoud start at :Thu Mar 31 23:52:17 2022\n",
      "secoud end at :Thu Mar 31 23:52:18 2022\n",
      "main end at :Thu Mar 31 23:52:18 2022\n"
     ]
    }
   ],
   "source": [
    "import time\n",
    "def loop1(n,k):\n",
    "    print(\"%s start at :%s\" % (k,time.ctime()))\n",
    "    time.sleep(n)\n",
    "    print(\"%s end at :%s\" % (k,time.ctime()))\n",
    "if __name__ == '__main__':\n",
    "    print(\"main start at :%s\" % (time.ctime()))\n",
    "    loop1(1,'first')\n",
    "    loop1(1,'secoud')\n",
    "    print(\"main end at :%s\" % (time.ctime()))"
   ]
  },
  {
   "cell_type": "markdown",
   "id": "f8d94a14-9657-4369-a351-554c300b969c",
   "metadata": {},
   "source": [
    "##### **2.控制线程的方式-线程锁**\n",
    "* **线程特点**\n",
    "    + 线程的生命周期:开始->运行->结束\n",
    "* **线程的执行**\n",
    "    + 运行:任意时刻只能有一个线程在执行\n",
    "    + 退出:\n",
    "        + 进程执行完成\n",
    "        + 线程的退出方法\n",
    "        + python系统退出\n",
    "* **thread模块**\n",
    "    + help(thread)\n",
    "    + 模块函数\n",
    "    + start_new_thread(func,args)\n",
    "    + allocate_lock()\n",
    "    + exit()"
   ]
  },
  {
   "cell_type": "code",
   "execution_count": 3,
   "id": "14a77265-3788-4643-8d07-04e292445c55",
   "metadata": {},
   "outputs": [
    {
     "data": {
      "text/plain": [
       "\"\\n_thread.start_new_thread(t1,('huamian',3))\\n_thread.start_new_thread(t1,('shengyin',3))\\n\""
      ]
     },
     "execution_count": 3,
     "metadata": {},
     "output_type": "execute_result"
    }
   ],
   "source": [
    "# notepad.exe one.py\n",
    "import _thread\n",
    "'''\n",
    "_thread.start_new_thread(t1,('huamian',3))\n",
    "_thread.start_new_thread(t1,('shengyin',3))\n",
    "'''\n",
    "# python one.py"
   ]
  },
  {
   "cell_type": "markdown",
   "id": "ff9831bb-6283-46a6-9cb0-b52898dc5a99",
   "metadata": {},
   "source": [
    "* **LockType对象方法**\n",
    "    + acquire()\n",
    "    + locked()\n",
    "    + release()\n",
    "* **thread锁使用**\n",
    "    + thread.allocate_lock():生成锁对象\n",
    "    + lock.acquire():加锁\n",
    "    + 线程使用锁对象\n",
    "    + lock.release()线程调度释放锁\n",
    "    + 主程序判断locked()状态"
   ]
  },
  {
   "cell_type": "code",
   "execution_count": 4,
   "id": "d80ec115-b514-4b0e-be6f-26d44a12891f",
   "metadata": {},
   "outputs": [
    {
     "name": "stdout",
     "output_type": "stream",
     "text": [
      "0 huamian\n",
      "1 huamian\n",
      "2 huamian\n",
      "3 huamian\n",
      "4 huamian\n"
     ]
    }
   ],
   "source": [
    "# notepad.exe one.py\n",
    "def t1(name,x,l):\n",
    "    for i in range(x):\n",
    "        print(i,name)\n",
    "        time.sleep(1)\n",
    "    l.release()\n",
    "    \n",
    "lock = _thread.allocate_lock()        \n",
    "lock.acquire()\n",
    "\n",
    "_thread.start_new_thread(t1,('huamian',5,lock))\n",
    "# _thread.start_new_thread(t1,('shengyin',5,lock))\n",
    "\n",
    "while lock.locked():\n",
    "    pass\n",
    "# python one.py"
   ]
  },
  {
   "cell_type": "markdown",
   "id": "0b0255d6-deab-4043-944c-0d7c608f1fc5",
   "metadata": {},
   "source": [
    "##### **3.使用便捷的线程管理模块-Threading**\n",
    "* **threading 模块**\n",
    "    + 优点:\n",
    "        + 相对于thread而言,完善的同步机制\n",
    "        + 提供守护进程功能\n",
    "* **threading.Thread**\n",
    "    + 作用:创建线程实例\n",
    "    + 方法:\n",
    "        + start()\n",
    "        + run()\n",
    "        + join()\n",
    "        + getName()\n",
    "        + SetName()\n",
    "        + isAlive()\n",
    "        + isDaemon()\n",
    "        + setDeamon()"
   ]
  },
  {
   "cell_type": "code",
   "execution_count": 5,
   "id": "89f23c74-194f-4675-8df8-ca4ada6782d6",
   "metadata": {},
   "outputs": [],
   "source": [
    "import time\n",
    "import threading\n",
    "\n",
    "def t1(name,x):\n",
    "    for i in range(x):\n",
    "        print(i,name)\n",
    "        time.sleep(1)\n",
    "\n",
    "th1 = threading.Thread(target=t1, args=('shengying',1))\n",
    "th2 = threading.Thread(target=t1, args=('huamian', 1))"
   ]
  },
  {
   "cell_type": "markdown",
   "id": "7b774879-eb8c-4a02-9d44-65c32fc47ef2",
   "metadata": {},
   "source": [
    "+ **start**:直接启动之后线程是并行的\n",
    "+ **run**:等待上一个线程停止之后启动下一个线程"
   ]
  },
  {
   "cell_type": "code",
   "execution_count": 6,
   "id": "87c97f6d-04d4-4ec7-bcf6-694de45c2749",
   "metadata": {},
   "outputs": [
    {
     "name": "stdout",
     "output_type": "stream",
     "text": [
      "0 shengying0 huamian\n",
      "\n"
     ]
    }
   ],
   "source": [
    "th1.start()\n",
    "th2.start()\n",
    "# th1.join()\n",
    "# th1.run()\n",
    "# th2.run()"
   ]
  },
  {
   "cell_type": "code",
   "execution_count": 7,
   "id": "2bf3a55a-f9db-41af-bc6b-aefc3dae9a47",
   "metadata": {},
   "outputs": [
    {
     "data": {
      "text/plain": [
       "'Thread-10'"
      ]
     },
     "execution_count": 7,
     "metadata": {},
     "output_type": "execute_result"
    }
   ],
   "source": [
    "th3 = threading.Thread(target=t1, args=('shengying', 3))\n",
    "th3.getName()"
   ]
  },
  {
   "cell_type": "code",
   "execution_count": 8,
   "id": "237f42fb-cb3e-4521-9007-9f3e6679b6df",
   "metadata": {},
   "outputs": [],
   "source": [
    "th4 = threading.Thread(target=t1, args=('shengying', 3))\n",
    "# th4.isAlive()"
   ]
  },
  {
   "cell_type": "code",
   "execution_count": 9,
   "id": "2fc1c139-d23e-4ea2-8d76-3392f9fb6676",
   "metadata": {},
   "outputs": [
    {
     "data": {
      "text/plain": [
       "False"
      ]
     },
     "execution_count": 9,
     "metadata": {},
     "output_type": "execute_result"
    }
   ],
   "source": [
    "th5 = threading.Thread(target=t1, args=('shengying', 3))\n",
    "th5.isDaemon()"
   ]
  },
  {
   "cell_type": "code",
   "execution_count": 10,
   "id": "222c43dd-4ae2-43a7-8ab4-8cef7ad688e4",
   "metadata": {},
   "outputs": [
    {
     "name": "stdout",
     "output_type": "stream",
     "text": [
      "f1\n",
      "pan\n",
      "f3\n"
     ]
    }
   ],
   "source": [
    "class func_test():\n",
    "    def __init__(self, name):\n",
    "        self.name = name \n",
    "    def f1(self):\n",
    "        print('f1')\n",
    "        self.f2()\n",
    "        f3()\n",
    "    def f2(self):\n",
    "        print(self.name)\n",
    "def f3():\n",
    "    print('f3')\n",
    "func_test('pan').f1()"
   ]
  },
  {
   "cell_type": "markdown",
   "id": "c6c4b4c5-807f-40b2-ba58-94399d2390ae",
   "metadata": {},
   "source": [
    "**自己写一个Threading的子类**"
   ]
  },
  {
   "cell_type": "code",
   "execution_count": 11,
   "id": "31b3f089-db76-4641-b816-4657181c2c4a",
   "metadata": {},
   "outputs": [
    {
     "name": "stdin",
     "output_type": "stream",
     "text": [
      "thread1: 1\n",
      "thread2: 2\n"
     ]
    },
    {
     "name": "stdout",
     "output_type": "stream",
     "text": [
      "Starting xiancheng1Starting xiancheng2Exiting Main Thread\n",
      "\n",
      "\n"
     ]
    }
   ],
   "source": [
    "# notepad.exe ting.py\n",
    "class MyThread(threading.Thread): \n",
    "    def __init__(self, threadID, threadname, delay, counter): # 重写父类方法\n",
    "        self.threadID = threadID\n",
    "        self.threadname = threadname\n",
    "        self.delay = delay\n",
    "        self.counter = counter\n",
    "        threading.Thread.__init__(self) # 直接调用父类方法\n",
    "\n",
    "    def run(self):\n",
    "        print(\"Starting %s\" % self.threadname)\n",
    "        self.print_time(self.delay, self.counter)\n",
    "        print(\"Exiting %s\" % self.threadname)\n",
    "\n",
    "    def print_time(self, delay, counter):\n",
    "        while counter: # while counter == True -> 只要counter > 0\n",
    "            time.sleep(delay)\n",
    "            print(counter, \"%s:%s\" % (self.threadname, time.ctime()))\n",
    "            counter -= 1\n",
    "        \n",
    "thread1 = MyThread(1, 'xiancheng1', eval(input('thread1:')), 3)\n",
    "thread2 = MyThread(2, 'xiancheng2', eval(input('thread2:')), 3)\n",
    "thread1.start()\n",
    "thread2.start()\n",
    "print(\"Exiting Main Thread\")\n",
    "# pyhton.exe ting.py"
   ]
  },
  {
   "cell_type": "markdown",
   "id": "117462d6-72ac-4731-932b-e13f3f1ca605",
   "metadata": {},
   "source": [
    "##### **4.批量主机扫描**\n",
    "* **线程化的ping扫描**"
   ]
  },
  {
   "cell_type": "code",
   "execution_count": 12,
   "id": "0da0559f-0f49-4aa8-8f18-dfe55d67a27a",
   "metadata": {
    "tags": []
   },
   "outputs": [],
   "source": [
    "# cd python \n",
    "# ni ping5.py\n",
    "from threading import Thread\n",
    "import subprocess\n",
    "import queue"
   ]
  },
  {
   "cell_type": "code",
   "execution_count": 13,
   "id": "97ddaa1f-7229-43ce-9ee8-11dca039ca96",
   "metadata": {},
   "outputs": [
    {
     "name": "stdout",
     "output_type": "stream",
     "text": [
      "['10.0.2.11', '10.0.2.12', '10.0.2.13', '10.0.2.14', '10.0.2.15']\n"
     ]
    }
   ],
   "source": [
    "# ips = ['10.0.2.11', '10.0.2.12', '10.0.2.13', '10.0.2.14', '10.0.2.15']\n",
    "ips = []\n",
    "for i in range(5):\n",
    "    ips.append('10.0.2.1' + str(i+1))\n",
    "print(ips)"
   ]
  },
  {
   "cell_type": "code",
   "execution_count": 14,
   "id": "759b1a5d-f8e2-4560-8354-88985e8bf03e",
   "metadata": {},
   "outputs": [],
   "source": [
    "exitFlag = 0\n",
    "\n",
    "class myThread (threading.Thread):\n",
    "    def __init__(self, threadID, name, q):\n",
    "        threading.Thread.__init__(self)\n",
    "        self.threadID = threadID\n",
    "        self.name = name\n",
    "        self.q = q\n",
    "    def run(self):\n",
    "        print (\"开启线程：\" + self.name)\n",
    "        process_data(self.name, self.q)\n",
    "        print (\"退出线程：\" + self.name)\n",
    "\n",
    "def process_data(threadName, q):\n",
    "    while not exitFlag:\n",
    "        queueLock.acquire()\n",
    "        if not workQueue.empty():\n",
    "            data = q.get()\n",
    "            queueLock.release()\n",
    "            print (\"%s processing %s\" % (threadName, data))\n",
    "        else:\n",
    "            queueLock.release()\n",
    "        time.sleep(1)"
   ]
  },
  {
   "cell_type": "code",
   "execution_count": 15,
   "id": "2831527b-5150-4676-b1a4-6889f787828c",
   "metadata": {},
   "outputs": [],
   "source": [
    "threadList = [\"Thread-1\", \"Thread-2\", \"Thread-3\"]\n",
    "nameList = [\"One\", \"Two\", \"Three\", \"Four\", \"Five\"]\n",
    "queueLock = threading.Lock()\n",
    "workQueue = queue.Queue(10)\n",
    "threads = []\n",
    "threadID = 1"
   ]
  },
  {
   "cell_type": "code",
   "execution_count": 16,
   "id": "98052ee7-da1f-4e30-bb93-036c397218b3",
   "metadata": {},
   "outputs": [
    {
     "name": "stdout",
     "output_type": "stream",
     "text": [
      "开启线程：Thread-1\n",
      "开启线程：Thread-2\n",
      "开启线程：Thread-3\n",
      "3 xiancheng1:Thu Mar 31 23:52:28 2022\n",
      "3 xiancheng2:Thu Mar 31 23:52:29 2022\n",
      "2 xiancheng1:Thu Mar 31 23:52:29 2022\n",
      "1 xiancheng1:Thu Mar 31 23:52:30 2022\n",
      "Exiting xiancheng1\n",
      "2 xiancheng2:Thu Mar 31 23:52:31 2022\n",
      "1 xiancheng2:Thu Mar 31 23:52:33 2022\n",
      "Exiting xiancheng2\n"
     ]
    }
   ],
   "source": [
    "# 创建新线程\n",
    "for tName in threadList:\n",
    "    thread = myThread(threadID, tName, workQueue)\n",
    "    thread.start()\n",
    "    threads.append(thread)\n",
    "    threadID += 1"
   ]
  },
  {
   "cell_type": "code",
   "execution_count": 17,
   "id": "db5992f0-9809-44ae-ac7e-1e4804884a6b",
   "metadata": {},
   "outputs": [
    {
     "name": "stdout",
     "output_type": "stream",
     "text": [
      "Thread-2 processing OneThread-1 processing TwoThread-3 processing Three\n",
      "\n",
      "\n",
      "Thread-1 processing FourThread-3 processing Five\n",
      "\n"
     ]
    }
   ],
   "source": [
    "# 填充队列\n",
    "queueLock.acquire()\n",
    "for word in nameList:\n",
    "    workQueue.put(word)\n",
    "queueLock.release()"
   ]
  },
  {
   "cell_type": "code",
   "execution_count": 18,
   "id": "932657d6-85c4-4082-9b04-2f1811a59850",
   "metadata": {},
   "outputs": [
    {
     "name": "stdout",
     "output_type": "stream",
     "text": [
      "退出线程：Thread-1退出线程：Thread-2退出线程：Thread-3\n",
      "\n",
      "\n",
      "退出主线程\n"
     ]
    }
   ],
   "source": [
    "# 等待队列清空\n",
    "while not workQueue.empty():\n",
    "    pass\n",
    "\n",
    "# 通知线程是时候退出\n",
    "exitFlag = 1\n",
    "\n",
    "# 等待所有线程完成\n",
    "for t in threads:\n",
    "    t.join()\n",
    "print (\"退出主线程\")"
   ]
  }
 ],
 "metadata": {
  "kernelspec": {
   "display_name": "Python 3 (ipykernel)",
   "language": "python",
   "name": "python3"
  },
  "language_info": {
   "codemirror_mode": {
    "name": "ipython",
    "version": 3
   },
   "file_extension": ".py",
   "mimetype": "text/x-python",
   "name": "python",
   "nbconvert_exporter": "python",
   "pygments_lexer": "ipython3",
   "version": "3.8.8"
  }
 },
 "nbformat": 4,
 "nbformat_minor": 5
}
