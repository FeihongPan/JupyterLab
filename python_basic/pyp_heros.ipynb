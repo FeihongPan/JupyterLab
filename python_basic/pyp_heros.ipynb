{
 "cells": [
  {
   "cell_type": "markdown",
   "id": "5e30dced-ff5d-46f2-929e-550d4f9a4b28",
   "metadata": {},
   "source": [
    "#### **英雄无敌-迭代开发**\n",
    "##### **1.迭代开发_Coding**"
   ]
  },
  {
   "cell_type": "code",
   "execution_count": 1,
   "id": "aa532ca5-2216-48a2-a6ad-48362c432548",
   "metadata": {},
   "outputs": [
    {
     "name": "stdout",
     "output_type": "stream",
     "text": [
      "welcome Heros world!\n",
      "|the world is like this #####, \"a\" for left, \"d\" for right|\n"
     ]
    },
    {
     "name": "stdin",
     "output_type": "stream",
     "text": [
      "input your name: pan\n"
     ]
    },
    {
     "name": "stdout",
     "output_type": "stream",
     "text": [
      "your heros name is: player01 ,hp is  100\n",
      "and now you are here: \"*####\", |\"a\" for left, \"d\" for right|\n"
     ]
    },
    {
     "name": "stdin",
     "output_type": "stream",
     "text": [
      " d\n"
     ]
    }
   ],
   "source": [
    "print('welcome Heros world!')\n",
    "print('|the world is like this #####, \"a\" for left, \"d\" for right|') \n",
    "name = input('input your name:')\n",
    "hp = 100\n",
    "if name == True :\n",
    "    name = name \n",
    "else:\n",
    "    name = 'player01'\n",
    "\n",
    "usermsg = [name, hp]\n",
    "# print(usermsg)\n",
    "print(\"your heros name is:\", usermsg[0], ',hp is ', usermsg[1])\n",
    "print('and now you are here: \"*####\", |\"a\" for left, \"d\" for right|')\n",
    "\n",
    "\n",
    "userinput = input()\n",
    "if userinput == 'b':\n",
    "    print('your are here #*###')\n",
    "if userinput == 'a':\n",
    "    print('your are here *####')"
   ]
  },
  {
   "cell_type": "markdown",
   "id": "1a36679e-a502-461e-ab8d-1929c2d98e62",
   "metadata": {},
   "source": [
    "##### **2.构建英雄世界-优化数据结构_coding**\n",
    "* **游戏初步需求**\n",
    "    + 1.注册登录验证\n",
    "    + 2.给角色起名字,初始化英雄\n",
    "    + 3.游戏前奏\n",
    "    + 4.满血出场\n",
    "    + 5.有地图\n",
    "    + 6.发生随机事件\n",
    "* **步骤**\n",
    "    + 1.开局玩家角色起名字\n",
    "    + 2.列表初始化英雄属性:名字血值攻击力防御力[列表]\n",
    "    + 3.判断名字的是否为空,默认为玩家1(if)\n",
    "    + 4.判断英雄行动方向(if)或者{字典}\n",
    "    + 5.设计地图9宫格(元组)\n",
    "    + 6.优化数据类型"
   ]
  },
  {
   "cell_type": "code",
   "execution_count": 2,
   "id": "bc1eee86-9045-4f28-ba63-5374b3938432",
   "metadata": {},
   "outputs": [
    {
     "name": "stdout",
     "output_type": "stream",
     "text": [
      "((0, 0), (1, 0), (2, 0), (0, 1), (1, 1), (2, 1), (0, 2), (1, 2), (2, 2))\n"
     ]
    }
   ],
   "source": [
    "map = ((0,0),(1,0),(2,0),\n",
    "       (0,1),(1,1),(2,1),\n",
    "       (0,2),(1,2),(2,2))\n",
    "print(map)"
   ]
  },
  {
   "cell_type": "markdown",
   "id": "d9c4916b-833d-4d6c-bce7-db8a41f0de3d",
   "metadata": {},
   "source": [
    "* 格式化输出\n",
    "* 利用列表打印地图\n",
    "* 实现人物移动效果"
   ]
  },
  {
   "cell_type": "code",
   "execution_count": 3,
   "id": "9ce98fe7-3188-4bc8-b327-cc9abfafecce",
   "metadata": {},
   "outputs": [
    {
     "name": "stdout",
     "output_type": "stream",
     "text": [
      "welcome to Heroes world!\n"
     ]
    },
    {
     "name": "stdin",
     "output_type": "stream",
     "text": [
      "input your name: pan\n"
     ]
    },
    {
     "name": "stdout",
     "output_type": "stream",
     "text": [
      "your heros name is: pan \n",
      " hp is  100\n",
      " \n",
      "-*- the world is like this -*-\n",
      " ####### \n",
      " the '*' is you  \n",
      "contrl your hero:\n",
      "|\"a\" for left, \"d\" for right|\n",
      "you are here *######\n"
     ]
    },
    {
     "name": "stdin",
     "output_type": "stream",
     "text": [
      "go or quit:  d\n"
     ]
    },
    {
     "name": "stdout",
     "output_type": "stream",
     "text": [
      "you are here #*#####\n"
     ]
    },
    {
     "name": "stdin",
     "output_type": "stream",
     "text": [
      "go or quit:  d\n"
     ]
    },
    {
     "name": "stdout",
     "output_type": "stream",
     "text": [
      "you are here ##*####\n"
     ]
    },
    {
     "name": "stdin",
     "output_type": "stream",
     "text": [
      "go or quit:  a\n"
     ]
    },
    {
     "name": "stdout",
     "output_type": "stream",
     "text": [
      "you are here #*#####\n"
     ]
    },
    {
     "name": "stdin",
     "output_type": "stream",
     "text": [
      "go or quit:  quit\n"
     ]
    },
    {
     "name": "stdout",
     "output_type": "stream",
     "text": [
      "goodbey\n"
     ]
    }
   ],
   "source": [
    "welcome = 'welcome to Heroes world!'\n",
    "mapmsg = '#######'\n",
    "mapins = \" \\n-*- the world is like this -*-\\n %s \\n the '*' is you \" % (mapmsg,)\n",
    "map = ['#','#','#','#','#','#','#']\n",
    "instruction = '''\n",
    "contrl your hero:\n",
    "|\"a\" for left, \"d\" for right|'''\n",
    "\n",
    "print(welcome)\n",
    "\n",
    "name = input('input your name:')\n",
    "if not name:\n",
    "    name = 'player01'\n",
    "hp = 100\n",
    "usermsg = {'name':name, 'hp':hp}\n",
    "\n",
    "print(\"your heros name is:\", usermsg['name'], '\\n hp is ', usermsg['hp'])\n",
    "\n",
    "print(mapins, instruction)\n",
    "\n",
    "point = 0\n",
    "while 1:\n",
    "    map[point] = '*'\n",
    "    print('you are here', \"\".join(map))\n",
    "    userinput = input('go or quit: ')\n",
    "    \n",
    "    if userinput == 'd' and point < 6:\n",
    "        map[point] = '#'\n",
    "        point += 1 \n",
    "    elif userinput == 'a' and point > 0:\n",
    "        map[point] = '#'\n",
    "        point -= 1 \n",
    "    elif userinput =='quit':\n",
    "        print('goodbey')\n",
    "        break\n",
    "    else:\n",
    "        print(instruction)\n",
    "        \n",
    "    if point == 3:\n",
    "        usermsg['hp'] += 10\n",
    "        print('blood is %s' %(usermsg['hp']))"
   ]
  },
  {
   "cell_type": "markdown",
   "id": "419585f7-3e43-441e-9f57-fb3100f35f48",
   "metadata": {},
   "source": [
    "##### **2.1 迭代开发_软件上锁**\n",
    "* **登陆验证**\n",
    "    + open() 创建文件，读取文件内容，写入信息\n",
    "    + os 判断文件是否存在\n",
    "* **步骤**\n",
    "    + 1.开局注册\n",
    "    + 2.登录并验证\n",
    "    + 3.验证三次未通过则锁定帐号"
   ]
  },
  {
   "cell_type": "code",
   "execution_count": 4,
   "id": "7529a10b-370f-43e3-8b21-58656122c0fc",
   "metadata": {},
   "outputs": [
    {
     "name": "stdin",
     "output_type": "stream",
     "text": [
      "login:  pan\n",
      "password:  feihong\n",
      "login:  milo\n",
      "password:  123\n"
     ]
    },
    {
     "name": "stdout",
     "output_type": "stream",
     "text": [
      "welcome to Heroes world\n"
     ]
    }
   ],
   "source": [
    "import os \n",
    "welcome = 'welcome to Heroes world'\n",
    "\n",
    "i = 0\n",
    "while True:\n",
    "    if os.path.isfile('lock.log'):\n",
    "        print('locked')\n",
    "        break\n",
    "    \n",
    "    username = input('login: ')\n",
    "    password = input('password: ')\n",
    "    \n",
    "    i += 1\n",
    "    if username == 'milo' and password == '123':\n",
    "        break\n",
    "    else:\n",
    "        if i == 3:\n",
    "            open('lock.log', 'w').write(username)\n",
    "            print('locked by %s'%username)\n",
    "            break\n",
    "        continue\n",
    "\n",
    "print(welcome)      "
   ]
  },
  {
   "cell_type": "markdown",
   "id": "25879643-78fe-4181-84e9-d86591e13d26",
   "metadata": {},
   "source": [
    "##### **3.增加随机事件**\n",
    "* **苹果or陷阱, 制作宝箱, 随机出现**\n",
    "    + 自定义函数,随机数\n",
    "    + 设计需求:\n",
    "        - 定义几个加血的食物和减血的怪物\n",
    "        - 走到地图指定位置随机出现加血和怪物\n",
    "        - 最后一步碰到大Boss,大战10个回合看谁先死\n",
    "* **打包程序片段**\n",
    "    + 自定义函数(一个功能的代码集合)\n",
    "    + 函数常态:\n",
    "        - 定义函数\n",
    "        - 调用\n",
    "        - 返回值"
   ]
  },
  {
   "cell_type": "code",
   "execution_count": 5,
   "id": "4d0f732d-9a28-43df-bf1b-517c65995d26",
   "metadata": {},
   "outputs": [
    {
     "name": "stdout",
     "output_type": "stream",
     "text": [
      "2\n",
      "2\n",
      "welcome to Heroes world!\n"
     ]
    },
    {
     "name": "stdin",
     "output_type": "stream",
     "text": [
      "input your name: pan\n"
     ]
    },
    {
     "name": "stdout",
     "output_type": "stream",
     "text": [
      "your heros name is: pan \n",
      " hp is  50\n",
      " \n",
      "-*- the world is like this -*-\n",
      " ####### \n",
      " the '*' is you  \n",
      "contrl your hero:\n",
      "|\"a\" for left, \"d\" for right|\n",
      "you are here *######\n"
     ]
    },
    {
     "name": "stdin",
     "output_type": "stream",
     "text": [
      "go or quit:  d\n"
     ]
    },
    {
     "name": "stdout",
     "output_type": "stream",
     "text": [
      "40\n",
      "you are here #*#####\n"
     ]
    },
    {
     "name": "stdin",
     "output_type": "stream",
     "text": [
      "go or quit:  d\n"
     ]
    },
    {
     "name": "stdout",
     "output_type": "stream",
     "text": [
      "30\n",
      "you are here ##*####\n"
     ]
    },
    {
     "name": "stdin",
     "output_type": "stream",
     "text": [
      "go or quit:  d\n"
     ]
    },
    {
     "name": "stdout",
     "output_type": "stream",
     "text": [
      "20\n",
      "you are here ###*###\n"
     ]
    },
    {
     "name": "stdin",
     "output_type": "stream",
     "text": [
      "go or quit:  a\n"
     ]
    },
    {
     "name": "stdout",
     "output_type": "stream",
     "text": [
      "30\n",
      "you are here ##*####\n"
     ]
    },
    {
     "name": "stdin",
     "output_type": "stream",
     "text": [
      "go or quit:  a\n"
     ]
    },
    {
     "name": "stdout",
     "output_type": "stream",
     "text": [
      "40\n",
      "you are here #*#####\n"
     ]
    },
    {
     "name": "stdin",
     "output_type": "stream",
     "text": [
      "go or quit:  quit\n"
     ]
    },
    {
     "name": "stdout",
     "output_type": "stream",
     "text": [
      "goodbey\n"
     ]
    }
   ],
   "source": [
    "import random as rd\n",
    "print(rd.randint(1, 3))\n",
    "# 在一个非空序列中随机选择一个对象\n",
    "print(rd.choice([1,2,3]))\n",
    "\n",
    "def functionName(parameter1, parameter2):\n",
    "    \"\" \"注释\"\n",
    "    # statement1\n",
    "    # statement2\n",
    "    return # valueToReturn\n",
    "\n",
    "def apple(hp):\n",
    "    hp += 10\n",
    "    return hp\n",
    "\n",
    "def bomb(hp):\n",
    "    hp -= 10\n",
    "    return hp\n",
    "\n",
    "# 函数带括号对象则是整个函数,不带括号只是返回函数的返回值\n",
    "eventlist = [apple, bomb]\n",
    "\n",
    "def Boss(hp):\n",
    "    hp *= 10\n",
    "    return hp\n",
    "\n",
    "# hp = apple(hp)\n",
    "# print(hp)\n",
    "\n",
    "welcome = 'welcome to Heroes world!'\n",
    "mapmsg = '#######'\n",
    "mapins = \" \\n-*- the world is like this -*-\\n %s \\n the '*' is you \" % (mapmsg,)\n",
    "map = ['#','#','#','#','#','#','#']\n",
    "instruction = '''\n",
    "contrl your hero:\n",
    "|\"a\" for left, \"d\" for right|'''\n",
    "\n",
    "print(welcome)\n",
    "\n",
    "name = input('input your name:')\n",
    "if not name:\n",
    "    name = 'player01'\n",
    "hp = 50\n",
    "usermsg = {'name':name, 'hp':hp}\n",
    "\n",
    "print(\"your heros name is:\", usermsg['name'], '\\n hp is ', usermsg['hp'])\n",
    "\n",
    "print(mapins, instruction)\n",
    "\n",
    "point = 0\n",
    "while 1:\n",
    "    map[point] = '*'\n",
    "    print('you are here', \"\".join(map))\n",
    "    userinput = input('go or quit: ')\n",
    "    \n",
    "    if userinput == 'd' and point < 6:\n",
    "        map[point] = '#'\n",
    "        point += 1 \n",
    "        usermsg['hp'] = rd.choice(eventlist)(usermsg['hp']) # apple(usermsg['hp'])\n",
    "        print(usermsg['hp'])\n",
    "        \n",
    "    elif userinput == 'a' and point > 0:\n",
    "        map[point] = '#'\n",
    "        point -= 1 \n",
    "        usermsg['hp'] = rd.choice(eventlist)(usermsg['hp']) # boss(usermsg['hp'])\n",
    "        print(usermsg['hp'])\n",
    "        \n",
    "    elif userinput =='quit':\n",
    "        print('goodbey')\n",
    "        break\n",
    "    else:\n",
    "        print(instruction)"
   ]
  },
  {
   "cell_type": "markdown",
   "id": "648b3f02-3afa-4721-a94a-328bab67d2d9",
   "metadata": {},
   "source": [
    "##### **4.抽象化开发**"
   ]
  },
  {
   "cell_type": "code",
   "execution_count": 6,
   "id": "51ed2e46-0a80-481c-9e10-6b0fa8f5439c",
   "metadata": {},
   "outputs": [],
   "source": [
    "class Car():\n",
    "    color = 'black'\n",
    "    def run(self):\n",
    "        print('gogogo!')\n",
    "    def stop(self):\n",
    "        print('stooooop!')"
   ]
  },
  {
   "cell_type": "code",
   "execution_count": 7,
   "id": "62b20ee9-aa89-4b31-8ac3-b444f10448bb",
   "metadata": {},
   "outputs": [],
   "source": [
    "class Hero:\n",
    "    \n",
    "    def __init__(self,name,hp=100,act=10):\n",
    "        self.name = name\n",
    "        self.hp = hp\n",
    "        self.act = act\n",
    "        print('英雄 %s 诞生!!' % self.name)\n",
    "    \n",
    "    # 多个类之间的交流!\n",
    "    def hit(self,name):\n",
    "        name.hp -= self.act\n",
    "    \n",
    "    def blood(self):\n",
    "        pass\n",
    "\n",
    "class Element:\n",
    "    \n",
    "    def __init__(self,name='boss',hp=1000,act=20):\n",
    "        self.name = name\n",
    "        self.hp = hp\n",
    "        self.act = act\n",
    "        print('Boss %s 诞生!!' % self.name)"
   ]
  },
  {
   "cell_type": "code",
   "execution_count": 8,
   "id": "432700f3-4572-4383-93da-5d1b02a50c55",
   "metadata": {},
   "outputs": [
    {
     "name": "stdout",
     "output_type": "stream",
     "text": [
      "欢迎来到英雄无敌的世界!\n",
      "英雄 milo 诞生!!\n",
      "Boss boss 诞生!!\n",
      "1000\n",
      "990\n"
     ]
    }
   ],
   "source": [
    "msg = '欢迎来到英雄无敌的世界!'\n",
    "\n",
    "print(msg)\n",
    "\n",
    "milo = Hero('milo')\n",
    "boss = Element('boss')\n",
    "print(boss.hp)\n",
    "milo.hit(boss)\n",
    "print(boss.hp)"
   ]
  }
 ],
 "metadata": {
  "kernelspec": {
   "display_name": "Python 3 (ipykernel)",
   "language": "python",
   "name": "python3"
  },
  "language_info": {
   "codemirror_mode": {
    "name": "ipython",
    "version": 3
   },
   "file_extension": ".py",
   "mimetype": "text/x-python",
   "name": "python",
   "nbconvert_exporter": "python",
   "pygments_lexer": "ipython3",
   "version": "3.9.7"
  }
 },
 "nbformat": 4,
 "nbformat_minor": 5
}
