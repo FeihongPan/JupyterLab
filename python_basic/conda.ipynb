{
 "cells": [
  {
   "cell_type": "markdown",
   "id": "42a4828f-daa4-4b49-b866-1b30016b1ffb",
   "metadata": {},
   "source": [
    "#### **conda command**"
   ]
  },
  {
   "cell_type": "markdown",
   "id": "afd1dce4-6f20-42b6-987d-7504d633734d",
   "metadata": {},
   "source": [
    "#### **0.获取版本号**"
   ]
  },
  {
   "cell_type": "code",
   "execution_count": 1,
   "id": "12b9d550-8ebf-4216-82ce-9fdbb7c0bca2",
   "metadata": {},
   "outputs": [
    {
     "name": "stdout",
     "output_type": "stream",
     "text": [
      "conda 4.12.0\n",
      "\n",
      "Note: you may need to restart the kernel to use updated packages.\n"
     ]
    }
   ],
   "source": [
    "conda --version"
   ]
  },
  {
   "cell_type": "code",
   "execution_count": 2,
   "id": "3f475917-ae62-48b0-8178-f0edd26fb118",
   "metadata": {},
   "outputs": [],
   "source": [
    "# conda -V"
   ]
  },
  {
   "cell_type": "markdown",
   "id": "1e4bb9ac-c692-42a9-bac1-5c0bacfb9e21",
   "metadata": {},
   "source": [
    "#### **1.获取帮助**"
   ]
  },
  {
   "cell_type": "code",
   "execution_count": 3,
   "id": "783f02bd-94c8-4053-8edf-cee52588fb9e",
   "metadata": {},
   "outputs": [
    {
     "name": "stdout",
     "output_type": "stream",
     "text": [
      "usage: conda-script.py [-h] [-V] command ...\n",
      "Note: you may need to restart the kernel to use updated packages.\n",
      "\n",
      "conda is a tool for managing and deploying applications, environments and packages.\n",
      "\n",
      "Options:\n",
      "\n",
      "positional arguments:\n",
      "  command\n",
      "    clean        Remove unused packages and caches.\n",
      "    compare      Compare packages between conda environments.\n",
      "    config       Modify configuration values in .condarc. This is modeled\n",
      "                 after the git config command. Writes to the user .condarc\n",
      "                 file (C:\\Users\\panfe\\.condarc) by default.\n",
      "    create       Create a new conda environment from a list of specified\n",
      "                 packages.\n",
      "    help         Displays a list of available conda commands and their help\n",
      "                 strings.\n",
      "    info         Display information about current conda install.\n",
      "    init         Initialize conda for shell interaction. [Experimental]\n",
      "    install      Installs a list of packages into a specified conda\n",
      "                 environment.\n",
      "    list         List linked packages in a conda environment.\n",
      "    package      Low-level conda package utility. (EXPERIMENTAL)\n",
      "    remove       Remove a list of packages from a specified conda environment.\n",
      "    uninstall    Alias for conda remove.\n",
      "    run          Run an executable in a conda environment.\n",
      "    search       Search for packages and display associated information. The\n",
      "                 input is a MatchSpec, a query language for conda packages.\n",
      "                 See examples below.\n",
      "    update       Updates conda packages to the latest compatible version.\n",
      "    upgrade      Alias for conda update.\n",
      "\n",
      "optional arguments:\n",
      "  -h, --help     Show this help message and exit.\n",
      "  -V, --version  Show the conda version number and exit.\n",
      "\n",
      "conda commands available from other packages:\n",
      "  build\n",
      "  content-trust\n",
      "  convert\n",
      "  debug\n",
      "  develop\n",
      "  env\n",
      "  index\n",
      "  inspect\n",
      "  metapackage\n",
      "  pack\n",
      "  render\n",
      "  repo\n",
      "  server\n",
      "  skeleton\n",
      "  token\n",
      "  verify\n",
      "\n"
     ]
    }
   ],
   "source": [
    "conda --help"
   ]
  },
  {
   "cell_type": "code",
   "execution_count": 4,
   "id": "f7a8db74-a6a9-4141-997e-88876e0a7203",
   "metadata": {},
   "outputs": [],
   "source": [
    "# conda -h"
   ]
  },
  {
   "cell_type": "markdown",
   "id": "1a254468-e754-422c-aa00-14d7c0902122",
   "metadata": {},
   "source": [
    "+ **查看某一个命令的帮助**"
   ]
  },
  {
   "cell_type": "code",
   "execution_count": 5,
   "id": "a7d73a51-01dc-4a15-bd9f-6f03a7fa9fd2",
   "metadata": {},
   "outputs": [],
   "source": [
    "# conda install --help"
   ]
  },
  {
   "cell_type": "code",
   "execution_count": 6,
   "id": "e344e9e4-4727-4238-a505-4e2c9a2db8ef",
   "metadata": {},
   "outputs": [],
   "source": [
    "# conda create -h"
   ]
  },
  {
   "cell_type": "markdown",
   "id": "23a5ced8-382d-4482-a766-d3cd6ab5fa8f",
   "metadata": {},
   "source": [
    "#### **2.环境管理**"
   ]
  },
  {
   "cell_type": "code",
   "execution_count": 7,
   "id": "371bafdf-4369-4d1b-a3e9-052ac448018d",
   "metadata": {},
   "outputs": [],
   "source": [
    "# conda env -h"
   ]
  },
  {
   "cell_type": "markdown",
   "id": "ea795ae5-67f7-4904-9a95-ed054926466c",
   "metadata": {},
   "source": [
    "+ **创建环境**"
   ]
  },
  {
   "cell_type": "code",
   "execution_count": 8,
   "id": "8264b6ff-6968-4915-9356-a01e4f4a259a",
   "metadata": {},
   "outputs": [],
   "source": [
    "# conda create --name your_env_name"
   ]
  },
  {
   "cell_type": "markdown",
   "id": "4c07910c-f8ad-4687-a3bf-3917dd19573e",
   "metadata": {},
   "source": [
    "+ **创建指定python版本的环境**"
   ]
  },
  {
   "cell_type": "code",
   "execution_count": 9,
   "id": "7f2e2d78-b159-4070-a045-f2666acdaab1",
   "metadata": {},
   "outputs": [],
   "source": [
    "# conda create --name your_env_name python=3.5\n",
    "# conda create --name your_env_name python=3.9\n",
    "# conda create --name your_env_name python=3.10"
   ]
  },
  {
   "cell_type": "markdown",
   "id": "fe2c644e-8112-47af-97cb-1544b992fe68",
   "metadata": {},
   "source": [
    "+ **创建包含某些包的环境**"
   ]
  },
  {
   "cell_type": "code",
   "execution_count": 10,
   "id": "b1350497-dc51-4f69-b085-f1529f059bca",
   "metadata": {},
   "outputs": [],
   "source": [
    "# conda create --name your_env_name numpy scipy\n",
    "# conda create --name your_env_name python=3.10 numpy scipy"
   ]
  },
  {
   "cell_type": "markdown",
   "id": "99306860-309d-44aa-9d0d-8ea0bed2804d",
   "metadata": {},
   "source": [
    "+ **列举当前所有环境**"
   ]
  },
  {
   "cell_type": "code",
   "execution_count": 11,
   "id": "488907fd-929c-4dca-8ff5-4353bb843f9b",
   "metadata": {},
   "outputs": [
    {
     "name": "stdout",
     "output_type": "stream",
     "text": [
      "# conda environments:\n",
      "#\n",
      "base                  *  C:\\Users\\panfe\\anaconda3\n",
      "\n",
      "\n",
      "Note: you may need to restart the kernel to use updated packages.\n"
     ]
    }
   ],
   "source": [
    "conda env list"
   ]
  },
  {
   "cell_type": "code",
   "execution_count": 12,
   "id": "27a0cb61-4def-4569-a631-473577819199",
   "metadata": {},
   "outputs": [],
   "source": [
    "# conda info --envs"
   ]
  },
  {
   "cell_type": "markdown",
   "id": "03f57a5c-1417-4954-924b-00bb2577c227",
   "metadata": {},
   "source": [
    "+ **进入/退出某个环境**"
   ]
  },
  {
   "cell_type": "code",
   "execution_count": 13,
   "id": "581ed774-c8f9-4f71-90ed-f9ceb7430e3d",
   "metadata": {},
   "outputs": [],
   "source": [
    "# activate/deactivate your_env_name"
   ]
  },
  {
   "cell_type": "markdown",
   "id": "c73c617b-efaa-4257-8f73-82b1d704ebd6",
   "metadata": {},
   "source": [
    "+ **复制某个环境**"
   ]
  },
  {
   "cell_type": "code",
   "execution_count": 14,
   "id": "0a7ebbd4-1930-4741-85ad-c1becaab9d4a",
   "metadata": {},
   "outputs": [],
   "source": [
    "# conda create --name new_env_name --clone old_env_name"
   ]
  },
  {
   "cell_type": "markdown",
   "id": "d778f192-d4de-4364-8ef7-25afbdda2099",
   "metadata": {},
   "source": [
    "+ **删除某个环境**"
   ]
  },
  {
   "cell_type": "code",
   "execution_count": 15,
   "id": "08cf3963-5a3d-43eb-a6f3-ee40f3104611",
   "metadata": {},
   "outputs": [],
   "source": [
    "# conda remove --name your_env_name --all"
   ]
  },
  {
   "cell_type": "markdown",
   "id": "cb02ff1d-16a7-41af-8596-53a638d74862",
   "metadata": {},
   "source": [
    "#### **3.分享环境**"
   ]
  },
  {
   "cell_type": "code",
   "execution_count": 16,
   "id": "bcef8086-ba5f-447b-8464-d0b6b1dfaa0e",
   "metadata": {},
   "outputs": [],
   "source": [
    "# conda env export > environment.yml\n",
    "# conda env create -f environment.yml"
   ]
  },
  {
   "cell_type": "markdown",
   "id": "89ad2ca5-6714-4cd0-aa89-5d869126f0e1",
   "metadata": {},
   "source": [
    "#### **4.包管理**"
   ]
  },
  {
   "cell_type": "code",
   "execution_count": 17,
   "id": "fefecb24-0dba-4576-9d21-6683f7ec61f4",
   "metadata": {},
   "outputs": [],
   "source": [
    "# conda list"
   ]
  },
  {
   "cell_type": "markdown",
   "id": "9c656faa-04b1-4cde-99e7-b5f953ab7f31",
   "metadata": {},
   "source": [
    "+ **列举一个非当前活跃环境下的所有包**"
   ]
  },
  {
   "cell_type": "code",
   "execution_count": 18,
   "id": "934481e7-5a9a-4dbc-854e-8ab63f7a901e",
   "metadata": {},
   "outputs": [],
   "source": [
    "# conda list -n your_env_name"
   ]
  },
  {
   "cell_type": "markdown",
   "id": "e000e1e2-a1b9-411f-92e9-70014a910734",
   "metadata": {},
   "source": [
    "+ **为指定环境安装某个包**"
   ]
  },
  {
   "cell_type": "code",
   "execution_count": 19,
   "id": "4fe72dc1-18e3-4df6-afa2-e0f05635e931",
   "metadata": {},
   "outputs": [],
   "source": [
    "# conda install -n env_name package_name"
   ]
  }
 ],
 "metadata": {
  "kernelspec": {
   "display_name": "Python 3 (ipykernel)",
   "language": "python",
   "name": "python3"
  },
  "language_info": {
   "codemirror_mode": {
    "name": "ipython",
    "version": 3
   },
   "file_extension": ".py",
   "mimetype": "text/x-python",
   "name": "python",
   "nbconvert_exporter": "python",
   "pygments_lexer": "ipython3",
   "version": "3.9.7"
  }
 },
 "nbformat": 4,
 "nbformat_minor": 5
}
