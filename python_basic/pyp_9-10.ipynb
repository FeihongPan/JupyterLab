{
 "cells": [
  {
   "cell_type": "markdown",
   "id": "ce98b089-6ae3-444f-9256-65c0da19a455",
   "metadata": {},
   "source": [
    "#### ***9. 面向对象编程***\n",
    "##### **9.1  类与对象**\n",
    "* 面向过程 -> 面向对象\n",
    "    + 变量 -> 函数(变量) -> 类(函数和变量)\n",
    "* **面向对象编程:**\n",
    "    + 1.确定对象的属性和方法\n",
    "    + 2.抽象具有共同特征的对象为一个类\n",
    "    + 3.设立类和类之间的关系\n",
    "    + 4.实例化对象\n",
    "* **对象:**\n",
    "    + 1.python的对象\n",
    "        - 属性：对象的特征\n",
    "        - 方法：对象的操作\n",
    "    + 2.点记法访问\n",
    "* **定义类**\n",
    "* class Car:\n",
    "    + color = 'black' # 属性\n",
    "    + def run(self):  # 方法\n",
    "        - print()\n",
    "    + def stop(self):\n",
    "        - print()"
   ]
  },
  {
   "cell_type": "code",
   "execution_count": 1,
   "id": "e137caac-1bf7-4980-bf30-31ed6207b68e",
   "metadata": {},
   "outputs": [],
   "source": [
    "class Car:\n",
    "    color = ''\n",
    "    def run(self):\n",
    "        print('go go go!')"
   ]
  },
  {
   "cell_type": "markdown",
   "id": "390aa3c7-4f9e-4be3-a146-4ee8169c978b",
   "metadata": {},
   "source": [
    "* **创建一个对象实例**\n",
    "    + BMW = Car()\n",
    "    + BMW.color = 'red'\n",
    "    + BMW.run()"
   ]
  },
  {
   "cell_type": "code",
   "execution_count": 2,
   "id": "7ddb2a48-cf4b-4dee-8819-194c19e72dce",
   "metadata": {},
   "outputs": [
    {
     "name": "stdout",
     "output_type": "stream",
     "text": [
      "<__main__.Car object at 0x0000021F03A9BBB0>\n",
      "red\n",
      "go go go!\n"
     ]
    }
   ],
   "source": [
    "bmw = Car()\n",
    "print(bmw)\n",
    "bmw.color = 'red'\n",
    "print(bmw.color)\n",
    "bmw.run()"
   ]
  },
  {
   "cell_type": "markdown",
   "id": "9b6d0615-b172-4174-b705-312829a41ca6",
   "metadata": {},
   "source": [
    "##### **9.2 属性和方法**\n",
    "* **类的属性**\n",
    "    + 共有属性:名字\n",
    "    + 私有属性:__名字\n",
    "* **类的方法**\n",
    "    + 私有方法:\n",
    "        - def __funName(self):\n",
    "    + 共有方法:\n",
    "        - def funName(self):\n",
    "    + 特殊方法:\n",
    "    + **__init**(): 构造函数,生成对象是自动调用\n",
    "        - def **__init**(self, name, gender, age): # 初始化对象,自动执行\n",
    "            * self.name = name\n",
    "            * self.gender = gender\n",
    "            * self.age = age\n",
    "    + 魔法方法:\n",
    "        - **__str**() 自动执行,给对象打印"
   ]
  },
  {
   "cell_type": "markdown",
   "id": "8b87a671-4223-4793-a658-4f8765712b37",
   "metadata": {},
   "source": [
    "* **属性**\n",
    "* class Myclass():\n",
    "    + var1 = '类属性,也叫静态属性'\n",
    "    + __var2 = '类的私有属性'\n",
    "    + def _init__(self):\n",
    "        - self.var2 = 'var2是实例的属性'\n",
    "        - self.__var3 = '实例的私有属性'\n",
    "        - var4 = '简单变量,非属性,作用域只在函数体类'"
   ]
  },
  {
   "cell_type": "code",
   "execution_count": 3,
   "id": "b6345f60-ddee-49aa-90fd-4d16f69e53b5",
   "metadata": {},
   "outputs": [],
   "source": [
    "class Human():\n",
    "    \"\"\"\n",
    "        this is the Human class docstring!!!\n",
    "    \"\"\"\n",
    "    name = 'ren'    # 给共有属性一个初始值\n",
    "    gender = 'male'\n",
    "    age = '25'\n",
    "    __money = 8000\n",
    "    \n",
    "    def __init__(self, name, age):\n",
    "        print('#' * 50) # 自动执行\n",
    "        self.name = name\n",
    "        self.age = age\n",
    "    \n",
    "    def __str__(self):\n",
    "        msg = 'hi i am the object of Human'\n",
    "        return msg\n",
    "    \n",
    "    def say(self):\n",
    "        print('my name is %s, i have %d' % (self.name,self.__money))\n",
    "        self.__lie()\n",
    "    \n",
    "    def __lie(self):\n",
    "        print('i have 5000')"
   ]
  },
  {
   "cell_type": "code",
   "execution_count": 4,
   "id": "3062d5ab-534a-4e85-b5a9-21b675d6ffc9",
   "metadata": {},
   "outputs": [
    {
     "name": "stdout",
     "output_type": "stream",
     "text": [
      "ren\n",
      "25\n",
      "<class '__main__.Human'>\n",
      "\n",
      "        this is the Human class docstring!!!\n",
      "    \n"
     ]
    }
   ],
   "source": [
    "print(Human.name) # 类的属性是公开的\n",
    "print(Human.age)\n",
    "# print(Human.__money)\n",
    "print(Human) \n",
    "print(Human.__doc__) # __doc__ 内置属性"
   ]
  },
  {
   "cell_type": "code",
   "execution_count": 5,
   "id": "085705a9-282f-48fa-9682-5e94c5c43165",
   "metadata": {},
   "outputs": [
    {
     "name": "stdout",
     "output_type": "stream",
     "text": [
      "##################################################\n",
      "hi i am the object of Human\n",
      "zhangsan 30\n",
      "zhangsan2 30\n",
      "my name is zhangsan2, i have 8000\n",
      "i have 5000\n"
     ]
    }
   ],
   "source": [
    "zhangsan = Human('zhangsan', 30)\n",
    "\n",
    "print(zhangsan)\n",
    "print(zhangsan.name, zhangsan.age)\n",
    "zhangsan.name = 'zhangsan2' # 重新赋值\n",
    "print(zhangsan.name, zhangsan.age)\n",
    "\n",
    "# print(zhangsan.__money) 私有属性无法调用\n",
    "zhangsan.say()\n",
    "# zhangsan.__lie()        私有方法无法调用"
   ]
  },
  {
   "cell_type": "markdown",
   "id": "6d4d1224-2f9a-492e-968d-fa2785c9ca32",
   "metadata": {},
   "source": [
    "##### **9.3 多态和继承**\n",
    "* **多态:同一个方法,不同的作用**"
   ]
  },
  {
   "cell_type": "code",
   "execution_count": 6,
   "id": "ade1908a-f79d-486e-9af6-40729400c23c",
   "metadata": {},
   "outputs": [],
   "source": [
    "class Triangle:\n",
    "    def __init__(self, width, height):\n",
    "        self.width = width\n",
    "        self.height = height\n",
    "    \n",
    "    def getArea(self):\n",
    "        area = self.width * self.height / 2\n",
    "        return area\n",
    "\n",
    "\n",
    "class Square:\n",
    "    def __init__(self, size):\n",
    "        self.size = size\n",
    "    \n",
    "    def getArea(self):\n",
    "        area = self.size ** 2\n",
    "        return area"
   ]
  },
  {
   "cell_type": "markdown",
   "id": "0b9ad6f4-5232-4fc7-a393-e7ef07ea2c73",
   "metadata": {},
   "source": [
    "* **继承**"
   ]
  },
  {
   "cell_type": "code",
   "execution_count": 7,
   "id": "e64feec9-15e9-46e7-af1f-b12efb36d184",
   "metadata": {},
   "outputs": [
    {
     "name": "stdout",
     "output_type": "stream",
     "text": [
      "<bound method Triangle.getArea of <__main__.Triangle object at 0x0000021F03AD8130>>\n",
      "12.5\n",
      "<bound method Square.getArea of <__main__.Square object at 0x0000021F03AD82B0>>\n",
      "25\n"
     ]
    }
   ],
   "source": [
    "a = Triangle(5, 5)\n",
    "print(a.getArea) # 打印出来的是这个函数\n",
    "print(a.getArea()) \n",
    "\n",
    "b = Square(5)\n",
    "print(b.getArea)\n",
    "print(b.getArea())"
   ]
  },
  {
   "cell_type": "code",
   "execution_count": 8,
   "id": "1cf9194f-ea55-424a-af5e-329e3837072b",
   "metadata": {},
   "outputs": [],
   "source": [
    "class Father:\n",
    "    money = 1e6\n",
    "    __money = 1e8\n",
    "    \n",
    "    def drive(self):\n",
    "        print('i can drive a car!')\n",
    "        \n",
    "class Mother:\n",
    "    mm = 1e4\n",
    "\n",
    "class Son(Father,Mother):\n",
    "    pass\n",
    "    def pay(self):\n",
    "        print(self.money * 0.1)"
   ]
  },
  {
   "cell_type": "code",
   "execution_count": 9,
   "id": "eb672ebd-90a8-4196-ae8d-43f307fc82c9",
   "metadata": {},
   "outputs": [
    {
     "name": "stdout",
     "output_type": "stream",
     "text": [
      "1000000.0\n",
      "i can drive a car!\n"
     ]
    }
   ],
   "source": [
    "tom = Father()\n",
    "print(tom.money)\n",
    "tom.drive()"
   ]
  },
  {
   "cell_type": "code",
   "execution_count": 10,
   "id": "f76ebf68-2aca-4bc9-b936-35407ebfa88e",
   "metadata": {},
   "outputs": [
    {
     "name": "stdout",
     "output_type": "stream",
     "text": [
      "1000000.0\n",
      "i can drive a car!\n",
      "100000.0\n"
     ]
    }
   ],
   "source": [
    "jerry = Son()\n",
    "print(jerry.money) \n",
    "jerry.drive()\n",
    "jerry.pay()"
   ]
  },
  {
   "cell_type": "markdown",
   "id": "4e3c3f84-6ceb-4b15-b3e2-6376958a79e8",
   "metadata": {},
   "source": [
    "##### **9.4 方法重载**"
   ]
  },
  {
   "cell_type": "code",
   "execution_count": 11,
   "id": "a5408a5b-e8f2-41cf-b586-99f422508ad2",
   "metadata": {},
   "outputs": [],
   "source": [
    "class Son(Father,Mother):\n",
    "    \n",
    "    def drive(self):\n",
    "        print('i can drive a tank!')\n",
    "        Father.drive(self) # 直接调用父类方法\n",
    "        \n",
    "    def pay(self):\n",
    "        print(self.money)"
   ]
  },
  {
   "cell_type": "code",
   "execution_count": 12,
   "id": "be85e72f-0329-4b62-8bae-ddecc51cd1a7",
   "metadata": {},
   "outputs": [
    {
     "name": "stdout",
     "output_type": "stream",
     "text": [
      "1000000.0\n",
      "i can drive a car!\n"
     ]
    }
   ],
   "source": [
    "tom = Father()\n",
    "print(tom.money)\n",
    "tom.drive()"
   ]
  },
  {
   "cell_type": "code",
   "execution_count": 13,
   "id": "ad91a05b-979a-4d70-b675-173b286bd8c0",
   "metadata": {},
   "outputs": [
    {
     "name": "stdout",
     "output_type": "stream",
     "text": [
      "i can drive a tank!\n",
      "i can drive a car!\n"
     ]
    }
   ],
   "source": [
    "jerry = Son()\n",
    "jerry.drive()"
   ]
  },
  {
   "cell_type": "markdown",
   "id": "0bafc983-b85a-4b8d-b69b-3f637a79f96d",
   "metadata": {},
   "source": [
    "* **重载运算符**\n",
    "    + 自定义一个类\n",
    "    + 类的对象为一个列表\n",
    "    + 对象可以进行加减乘除,其中每个元素都可以运算"
   ]
  },
  {
   "cell_type": "code",
   "execution_count": 14,
   "id": "b41470f7-05f8-492a-9195-55f6d265a601",
   "metadata": {},
   "outputs": [],
   "source": [
    "class Mylist():\n",
    "    __mylist = []\n",
    "    \n",
    "    def __init__(self, *args): # 多参数传递\n",
    "        self.__mylist = []\n",
    "        for arg in args:\n",
    "            self.__mylist.append(arg)\n",
    "    \n",
    "    def __add__(self,x):\n",
    "        for i in range(0,len(self.__mylist)):\n",
    "            self.__mylist[i] = self.__mylist[i] + x\n",
    "        return self.__mylist\n",
    "        \n",
    "    def __sub__(self,x):\n",
    "        for i in range(0,len(self.__mylist)):\n",
    "            self.__mylist[i] = self.__mylist[i] - x\n",
    "        return self.__mylist\n",
    "        \n",
    "    def __mul__(self,x):\n",
    "        for i in range(0,len(self.__mylist)):\n",
    "            self.__mylist[i] = self.__mylist[i] * x\n",
    "        return self.__mylist\n",
    "        \n",
    "    def __div__(self,x):\n",
    "        for i in range(0,len(self.__mylist)):\n",
    "            self.__mylist[i] = self.__mylist[i] * (1/x)\n",
    "        return self.__mylist\n",
    "        \n",
    "    def __pow__(self,x):\n",
    "        for i in range(0,len(self.__mylist)):\n",
    "            self.__mylist[i] = self.__mylist[i] ** x\n",
    "        return self.__mylist\n",
    "        \n",
    "    def __mod__(self,x):\n",
    "        for i in range(0,len(self.__mylist)):\n",
    "            self.__mylist[i] = self.__mylist[i] / x\n",
    "        return self.__mylist\n",
    "        \n",
    "    def show(self):\n",
    "        print(self.__mylist)"
   ]
  },
  {
   "cell_type": "code",
   "execution_count": 15,
   "id": "cf863752-7d11-4f31-b4e1-caeff2ab8d94",
   "metadata": {},
   "outputs": [
    {
     "name": "stdout",
     "output_type": "stream",
     "text": [
      "<__main__.Mylist object at 0x0000021F03A9BB50>\n",
      "[1, 2, 3, 4, 5]\n",
      "[101, 102, 103, 104, 105]\n",
      "[10201, 10404, 10609, 10816, 11025]\n"
     ]
    }
   ],
   "source": [
    "ml = Mylist(1,2,3,4,5)\n",
    "print(ml)\n",
    "ml.show()\n",
    "x = ml + 100\n",
    "ml.show()\n",
    "ml ** 2\n",
    "ml.show()"
   ]
  },
  {
   "cell_type": "markdown",
   "id": "73a2107d-451f-48e4-b9f8-cfddbbc925bd",
   "metadata": {},
   "source": [
    "##### ***9.5 super与新式类和经典类***\n",
    "* **调用父类:**\n",
    "    + 经典类:父类.方法(self)\n",
    "    + 新式类:父类.方法(self) / super(当前类, self).方法()"
   ]
  },
  {
   "cell_type": "code",
   "execution_count": 16,
   "id": "394f144e-9e86-4151-b96b-7f0c196f7ce0",
   "metadata": {},
   "outputs": [],
   "source": [
    "# class A:\n",
    "#     def __init__(self):\n",
    "#         print('enter A')\n",
    "#         print('leave A')\n",
    "# \n",
    "# class B(A):\n",
    "#     def __init__(self):\n",
    "#         print('enter B')\n",
    "#         A.__init__()\n",
    "#         print('leave B')\n",
    "# \n",
    "# class C(A):\n",
    "#     def __init__(self):\n",
    "#         print('enter C')\n",
    "#         A.__init__()\n",
    "#         print('leave C')\n",
    "# \n",
    "# class D(B,C):\n",
    "#     def __init__(self):\n",
    "#         print('enter D')\n",
    "#         B.__init__()\n",
    "#         C.__init__()\n",
    "#         print('leave D')\n",
    "# \n",
    "# d = D()"
   ]
  },
  {
   "cell_type": "code",
   "execution_count": 17,
   "id": "c6dc2106-50c4-421c-b27d-dcfdce94ec48",
   "metadata": {},
   "outputs": [
    {
     "name": "stdout",
     "output_type": "stream",
     "text": [
      "enter D\n",
      "enter B\n",
      "enter C\n",
      "enter A\n",
      "leave A\n",
      "leave C\n",
      "leave B\n",
      "leave D\n"
     ]
    }
   ],
   "source": [
    "class A:\n",
    "    def __init__(self):\n",
    "        print('enter A')\n",
    "        print('leave A')\n",
    "\n",
    "class B(A):\n",
    "    def __init__(self):\n",
    "        print('enter B')\n",
    "        super(B,self).__init__()\n",
    "        print('leave B')\n",
    "\n",
    "class C(A):\n",
    "    def __init__(self):\n",
    "        print('enter C')\n",
    "        super(C,self).__init__()\n",
    "        print('leave C')\n",
    "\n",
    "class D(B,C):\n",
    "    def __init__(self):\n",
    "        print('enter D')\n",
    "        super(D,self).__init__()\n",
    "        print('leave D')\n",
    "\n",
    "d = D()"
   ]
  },
  {
   "cell_type": "markdown",
   "id": "ce2e2852-7170-45be-94df-e96a6c52ae7a",
   "metadata": {},
   "source": [
    "##### ***9.6 内置装饰器***\n",
    "* 将类方法转化为只读属性\n",
    "* 重新实现一个属性的setter和getter方法"
   ]
  },
  {
   "cell_type": "markdown",
   "id": "9f245747-acfe-42e4-a95f-9edc5b220ded",
   "metadata": {
    "jp-MarkdownHeadingCollapsed": true,
    "tags": []
   },
   "source": [
    "* **三个内置装饰器:**\n",
    "    + **1.staticmethod: 类静态方法**\n",
    "        - 与成员方法的区别是没有Self参数,并且可以在类不进行实例化的情况下调用\n",
    "        - 方法变成类方法\n",
    "        - 在实例对象调用方法时,会将自己传给方法\n",
    "            * 当类中的方法有self参数时,类不能直接调用,类的实例可以\n",
    "            * 当类中的方法没有self参数时,类可以直接调用,类的实例不可以\n",
    "            * 加入装饰器 **@staticmethod** 后,类与对象均可访问不带self的方法\n",
    "    + **2.classmethod: 类方法**\n",
    "        - 与成员方法的区别在于所接受的第一个参数不是self(类实例的时针), 而是cls(当前类的具体类型)\n",
    "        - @classmethod -> 有self的方法\n",
    "        - @staticmethod -> 没有self的方法\n",
    "        - 加入装饰器 @classmethod 后,类与对象均可访问带self的方法\n",
    "    + **3.property: 属性方法**\n",
    "        - 将一个类方法转变为一个类属性,只读属性\n",
    "        - 将该方法的返回值直接变成一个属性,且方法后不加()"
   ]
  },
  {
   "cell_type": "code",
   "execution_count": 18,
   "id": "73ce1212-5947-4491-8a03-4bb1b7d6135b",
   "metadata": {},
   "outputs": [],
   "source": [
    "class Human():\n",
    "    \"\"\"\n",
    "        this is the Human class docstring!!!\n",
    "    \"\"\"\n",
    "    name = 'ren'    \n",
    "    __money = 10\n",
    "    \n",
    "    def __init__(self, name, age):\n",
    "        self.name = name\n",
    "        self.age = age\n",
    "\n",
    "    @staticmethod\n",
    "    def bye():\n",
    "        print('Game over')\n",
    "        \n",
    "    @classmethod\n",
    "    def say(self):  \n",
    "        print('my name is %s, i have %d' % (self.name,self.__money))\n",
    "        \n",
    "    @property\n",
    "    def say1(self):  \n",
    "        return self.name"
   ]
  },
  {
   "cell_type": "code",
   "execution_count": 19,
   "id": "904a1ee8-eda4-4f29-8517-73db962a1593",
   "metadata": {},
   "outputs": [
    {
     "name": "stdout",
     "output_type": "stream",
     "text": [
      "Game over\n",
      "Game over\n"
     ]
    }
   ],
   "source": [
    "Human.bye() # 类可以直接访问没有self的方法\n",
    "tom = Human(name = 'pan', age = 10)\n",
    "tom.bye() # 对象在装饰器后也可以调用"
   ]
  },
  {
   "cell_type": "code",
   "execution_count": 20,
   "id": "44d11535-69c9-4b1f-a828-533840658e1f",
   "metadata": {},
   "outputs": [
    {
     "name": "stdout",
     "output_type": "stream",
     "text": [
      "my name is ren, i have 10\n"
     ]
    }
   ],
   "source": [
    "Human.say() "
   ]
  },
  {
   "cell_type": "code",
   "execution_count": 21,
   "id": "7ca50fb2-6e8a-48af-b5c3-bdee2304032b",
   "metadata": {},
   "outputs": [
    {
     "name": "stdout",
     "output_type": "stream",
     "text": [
      "pan\n"
     ]
    }
   ],
   "source": [
    "print(tom.say1)"
   ]
  },
  {
   "cell_type": "code",
   "execution_count": 22,
   "id": "22abea86-b536-403a-812c-381bce8994f3",
   "metadata": {},
   "outputs": [],
   "source": [
    "class Person():\n",
    "    \"\"\"\"\"\"\n",
    "    \n",
    "    def __init__(self, first_name, last_name):\n",
    "        \"\"\"constructor\"\"\"\n",
    "        self.first_name = first_name\n",
    "        self.last_name = last_name\n",
    "    \n",
    "    @property\n",
    "    def full_name(self):\n",
    "        \"\"\"\n",
    "        return the full name\n",
    "        \"\"\"\n",
    "        return \"%s %s\" % (self.first_name, self.last_name)"
   ]
  },
  {
   "cell_type": "code",
   "execution_count": 23,
   "id": "495a295b-2ec5-4474-9aa0-36879555f54e",
   "metadata": {},
   "outputs": [
    {
     "name": "stdout",
     "output_type": "stream",
     "text": [
      "Feihong Pan\n",
      "qixian Pan\n"
     ]
    }
   ],
   "source": [
    "fl = Person('Feihong', 'Pan')\n",
    "flname = fl.full_name\n",
    "print(flname)\n",
    "\n",
    "# fl.full_name = 'pfh' # 只读,无法修改\n",
    "fl.first_name = 'qixian'\n",
    "print(fl.full_name)"
   ]
  },
  {
   "cell_type": "markdown",
   "id": "b48734c2-68cf-4346-b76b-e61fca71254e",
   "metadata": {},
   "source": [
    "* **把Str变成10进制数字**"
   ]
  },
  {
   "cell_type": "code",
   "execution_count": 24,
   "id": "0780364f-2e27-4c5b-b9c3-a54af3f6c890",
   "metadata": {},
   "outputs": [],
   "source": [
    "from decimal import Decimal\n",
    "\n",
    "class Fees():\n",
    "    def __init__(self):\n",
    "        self.__fee = None\n",
    "    \n",
    "    def get_fee(self):\n",
    "        return self.__fee\n",
    "    \n",
    "    def set_fee(self,value):\n",
    "        if isinstance(value, str):\n",
    "            self.__fee = Decimal(value)\n",
    "        elif isinstance(value, Decimal):\n",
    "            self.__fee = value\n",
    "    \n",
    "    fee = property(get_fee,set_fee)"
   ]
  },
  {
   "cell_type": "code",
   "execution_count": 25,
   "id": "2308e302-bb7d-4ac2-80d6-bc0b0b45acc9",
   "metadata": {},
   "outputs": [
    {
     "name": "stdout",
     "output_type": "stream",
     "text": [
      "None\n",
      "10\n",
      "20\n"
     ]
    }
   ],
   "source": [
    "f = Fees()\n",
    "print(f.get_fee())\n",
    "\n",
    "f.set_fee('10')\n",
    "print(f.get_fee())\n",
    "\n",
    "f.set_fee('20')\n",
    "print(f.fee)"
   ]
  },
  {
   "cell_type": "code",
   "execution_count": 26,
   "id": "6a43414c-35c4-4228-8e7d-d6cf86af0e82",
   "metadata": {},
   "outputs": [],
   "source": [
    "from decimal import Decimal\n",
    "\n",
    "class Fees():\n",
    "    def __init__(self):\n",
    "        self.__fee = None\n",
    "    \n",
    "    @property\n",
    "    def fee(self):\n",
    "        return self.__fee\n",
    "    \n",
    "    @fee.setter # 把属性变成可赋值\n",
    "    def fee(self,value):\n",
    "        if isinstance(value, str):\n",
    "            self.__fee = Decimal(value)\n",
    "        elif isinstance(value, Decimal):\n",
    "            self.__fee = value"
   ]
  },
  {
   "cell_type": "code",
   "execution_count": 27,
   "id": "1bf572b4-d684-4db2-82b2-608566aa741a",
   "metadata": {},
   "outputs": [
    {
     "name": "stdout",
     "output_type": "stream",
     "text": [
      "10\n"
     ]
    }
   ],
   "source": [
    "f = Fees()\n",
    "f.fee = '10'\n",
    "print(f.fee)"
   ]
  },
  {
   "cell_type": "markdown",
   "id": "ff77e874-98e5-42dc-a4b1-a836714c45f2",
   "metadata": {},
   "source": [
    "#### ***10. 异常处理***\n",
    "##### **10.1 异常处理**\n",
    "* **捕获异常：**\n",
    "    + **try:**\n",
    "        - 正常指令\n",
    "    + **except 异常名字:**\n",
    "        - 异常后的指令\n",
    "    + **else:**\n",
    "        - 无异常执行的指令\n",
    "    + **finally:**\n",
    "        - 无论有无异常都要执行的指令"
   ]
  },
  {
   "cell_type": "code",
   "execution_count": 28,
   "id": "954adb26-4d8e-4249-9dc1-a67d8d2d6a0c",
   "metadata": {},
   "outputs": [
    {
     "name": "stdout",
     "output_type": "stream",
     "text": [
      "h\n",
      "no error\n",
      "whatever error\n"
     ]
    }
   ],
   "source": [
    "try:\n",
    "    s = 'hello'\n",
    "    print(s[0])\n",
    "except IndexError:\n",
    "    print('error')\n",
    "else:\n",
    "    print('no error')\n",
    "finally:\n",
    "    print('whatever error')"
   ]
  },
  {
   "cell_type": "markdown",
   "id": "1fc001a5-880b-48ff-83ee-33bd25c33d8c",
   "metadata": {},
   "source": [
    "* **抛出异常:**\n",
    "    + raise 异常名字:\n",
    "    + raise 异常名字(附加信息/字符串):\n",
    "    + assert 语句(True/False):"
   ]
  },
  {
   "cell_type": "code",
   "execution_count": 29,
   "id": "d52b6dc1-4d3b-4681-b23f-0c8bb1ae3961",
   "metadata": {},
   "outputs": [],
   "source": [
    "if 0: # == True\n",
    "    raise NameError('your name error')\n",
    "\n",
    "l = []\n",
    "assert 1"
   ]
  },
  {
   "cell_type": "code",
   "execution_count": 30,
   "id": "c9118822-5190-4829-9fe4-e8bf28980cb4",
   "metadata": {},
   "outputs": [],
   "source": [
    "# try:  \n",
    "#     f = open('zen.py','r')\n",
    "#     fr = f.read()\n",
    "#     print(fr)\n",
    "# finally:\n",
    "#     f.close()\n",
    "\n",
    "# =============================================================================\n",
    "# with as 打开文件:\n",
    "#     with open(file) as filename:\n",
    "#         filename.read()\n",
    "# =============================================================================\n",
    "\n",
    "# with open('zen.py','r') as f:\n",
    "#    fr = f.read()\n",
    "#    print(fr)"
   ]
  }
 ],
 "metadata": {
  "kernelspec": {
   "display_name": "Python 3 (ipykernel)",
   "language": "python",
   "name": "python3"
  },
  "language_info": {
   "codemirror_mode": {
    "name": "ipython",
    "version": 3
   },
   "file_extension": ".py",
   "mimetype": "text/x-python",
   "name": "python",
   "nbconvert_exporter": "python",
   "pygments_lexer": "ipython3",
   "version": "3.8.8"
  }
 },
 "nbformat": 4,
 "nbformat_minor": 5
}
