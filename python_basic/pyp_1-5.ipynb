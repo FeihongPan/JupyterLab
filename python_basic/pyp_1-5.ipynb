{
 "cells": [
  {
   "cell_type": "markdown",
   "id": "77202f51",
   "metadata": {
    "tags": []
   },
   "source": [
    "#### ***1. 交互与快捷键***\n",
    "* **Ctrl + O** 打开文件 -- **Ctrl + N**新建文件 -- **Ctrl + Tab**跳转到文件 \n",
    "* **Ctrl + 1** 插入/取消注释 -- **Ctrl + 4** 插入块注释 -- **Ctrl + 5** 取消块注释 \n",
    "* **Crtl + Z** 撤销上一步操作 -- **Ctrl + Alt + ↑/1** 复制当前行至上一行 -- **Ctrl + Alt + ↓/2** 复制当前行至下一行 -- **Ctrl + D** 删除当前行\n",
    "* F5 运行程序 -- Home 光标移至行首 -- End 光标移至行尾\n",
    "\n",
    "+ Ctrl + ← 光标移至单词前 -- Ctrl + → 标移至单词后 -- Ctrl + ↑ 光标移至代码块前 -- Ctrl + ↓ 光标移至代码块后\n",
    "+ Ctrl + Home 光标移至文档最前 -- Ctrl + end 光标移至文档最后 -- Ctrl + Backspace 删除前一个单词 -- Ctrl + Delete 删除后一个单词\n",
    "\n",
    "- Ctrl + L 跳转到行 -- Ctrl + G 跳转到定义处 -- Ctrl + F 搜索文本 -- Ctrl + R 替换文本\n",
    "- F3 搜索下一个文本 -- Shift + F3 搜索上一个文本 -- Ctrl + U 转换为小写-- Ctrl + Shift + U 转换为大写-- Ctrl + I 查看对象文档 -- F11 全屏模式-- F9 运行选择或当前行 -- Ctrl + Enter 运行当前代码段 \n",
    "- Ctrl + F5 启动调试 -- Ctrl + F12 调试继续 -- Ctrl + Shift + F12 停止调试 -- Ctrl + . 重启 Ipython 核 -- Ctrl + T 打开新的 Ipython 控制台"
   ]
  },
  {
   "cell_type": "markdown",
   "id": "86f0629b",
   "metadata": {},
   "source": [
    "#### ***2. 编程基础***\n",
    "##### **2.1  变量及内存管理**"
   ]
  },
  {
   "cell_type": "code",
   "execution_count": 1,
   "id": "4534803f",
   "metadata": {},
   "outputs": [
    {
     "name": "stdout",
     "output_type": "stream",
     "text": [
      "1\n"
     ]
    }
   ],
   "source": [
    "a = 1\n",
    "b = 1\n",
    "id(a) \n",
    "\n",
    "home = 0\n",
    "home = home + 1\n",
    "print(home)"
   ]
  },
  {
   "cell_type": "markdown",
   "id": "0550d93d-6a13-46fd-ba23-78681d97c9d8",
   "metadata": {
    "tags": []
   },
   "source": [
    "##### **2.2 数学运算**\n",
    "* 算数运算符/加法/减法/乘法/实数除法/整数除法/求余数/幂运算"
   ]
  },
  {
   "cell_type": "code",
   "execution_count": 2,
   "id": "7c0b99f7-3215-4ea6-9b74-d689d7d8e606",
   "metadata": {},
   "outputs": [
    {
     "name": "stdout",
     "output_type": "stream",
     "text": [
      "6\n",
      "2\n"
     ]
    }
   ],
   "source": [
    "home = 5\n",
    "home += 1 \n",
    "print (home)\n",
    "home %= 4 \n",
    "print (home)"
   ]
  },
  {
   "cell_type": "markdown",
   "id": "8617b65a-e2a9-4f98-a439-7772c41bb7fa",
   "metadata": {
    "jp-MarkdownHeadingCollapsed": true,
    "tags": []
   },
   "source": [
    "+ 关系运算符\n",
    "    - <   小于\n",
    "    - <=  小于等于\n",
    "    - !=  不等于\n",
    "    - ==  完全等于\n",
    "    - and 与\n",
    "    - or  或\n",
    "    - not 非"
   ]
  },
  {
   "cell_type": "code",
   "execution_count": 3,
   "id": "9ccf3842-665c-4d58-b624-9430c8fae79a",
   "metadata": {},
   "outputs": [
    {
     "name": "stdout",
     "output_type": "stream",
     "text": [
      "True\n"
     ]
    }
   ],
   "source": [
    "tom = 18\n",
    "H = 160\n",
    "r = tom>=18 or H>150\n",
    "print(r)"
   ]
  },
  {
   "cell_type": "markdown",
   "id": "3d2dfe26-6398-4c18-b3a4-f87f15c4ce6a",
   "metadata": {},
   "source": [
    "##### **2.3 编写交互式程序**\n",
    "* 输入-处理-输出"
   ]
  },
  {
   "cell_type": "code",
   "execution_count": 4,
   "id": "ee54cad9-047b-4956-a018-16a12fbde74a",
   "metadata": {},
   "outputs": [
    {
     "name": "stdin",
     "output_type": "stream",
     "text": [
      " 123\n"
     ]
    },
    {
     "name": "stdout",
     "output_type": "stream",
     "text": [
      "123\n"
     ]
    }
   ],
   "source": [
    "a = input() # '123'\n",
    "a = int(a)\n",
    "print(a)"
   ]
  },
  {
   "cell_type": "markdown",
   "id": "1733a45f-1959-4b45-aa2d-4e9cc8cb89f4",
   "metadata": {},
   "source": [
    "##### **2.4 编写程序-注释**\n",
    "* 使用\\和()续行"
   ]
  },
  {
   "cell_type": "code",
   "execution_count": 5,
   "id": "75c0738f-80e9-48e8-986b-20c9e81ca8c4",
   "metadata": {},
   "outputs": [
    {
     "name": "stdout",
     "output_type": "stream",
     "text": [
      "20\n",
      "20\n"
     ]
    }
   ],
   "source": [
    "x = 3\n",
    "y = 5\n",
    "result_1 = x * 5 \\\n",
    "        + y \n",
    "result_2 = (x * 5 \n",
    "         + y)  \n",
    "print(result_1)\n",
    "print(result_2)"
   ]
  },
  {
   "cell_type": "markdown",
   "id": "680aeff0-b7ef-4b38-b4cc-60bbb8bb232d",
   "metadata": {},
   "source": [
    "#### ***3. 数据类型***\n",
    "##### **3.1  数字**\n",
    "+ int()\n",
    "+ float()\n",
    "+ complex()"
   ]
  },
  {
   "cell_type": "code",
   "execution_count": 6,
   "id": "47fbc590-6d0f-495b-bf4f-62c5d48246e9",
   "metadata": {},
   "outputs": [],
   "source": [
    "first = 123\n",
    "type(first)\n",
    "pi = 3.1415"
   ]
  },
  {
   "cell_type": "markdown",
   "id": "ff40bde3-0913-480a-92f6-bb2fdd564653",
   "metadata": {},
   "source": [
    "+ arange(开始，结束，步长)"
   ]
  },
  {
   "cell_type": "code",
   "execution_count": 7,
   "id": "9fb494ac-4f90-4dfb-bebd-d65318b9afae",
   "metadata": {},
   "outputs": [
    {
     "data": {
      "image/png": "[encoded data removed]",
      "text/plain": [
       "<Figure size 432x288 with 1 Axes>"
      ]
     },
     "metadata": {
      "needs_background": "light"
     },
     "output_type": "display_data"
    }
   ],
   "source": [
    "import numpy as np\n",
    "import matplotlib.pyplot as plt\n",
    "\n",
    "x = np.arange(0, 4*np.pi, 0.01)\n",
    "y = np.sin(x)\n",
    "\n",
    "plt.plot(x,y)\n",
    "plt.show()"
   ]
  },
  {
   "cell_type": "markdown",
   "id": "83e10c6e-9afe-4163-bf40-a6fb7b7afe83",
   "metadata": {},
   "source": [
    "##### **3.2 字符串**\n",
    "+ \\n 换行\n",
    "+ \\t 缩进\n",
    "+ \\\\ 反普通符号\n",
    "+ \\  后面变原始符号\n",
    "+ 原始字符串 r'' 所有字符串不变"
   ]
  },
  {
   "cell_type": "code",
   "execution_count": 8,
   "id": "aed16e6d-7dbd-4cd2-84f6-164ecb24e97d",
   "metadata": {},
   "outputs": [
    {
     "name": "stdout",
     "output_type": "stream",
     "text": [
      "tom:\"let\\'s go\" \n",
      "jerry:\"ok\"\n",
      "=============\n",
      "tom:\"let's go\" \n",
      "jerry:\"ok\"\n",
      "\n"
     ]
    }
   ],
   "source": [
    "say = 'tom:\"let\\\\\\'s go\" \\njerry:\"ok\"'\n",
    "print(say)\n",
    "print('=============')\n",
    "say2 ='tom:\"let\\'s go\" \\njerry:\"ok\"\\n'\n",
    "print(say2)"
   ]
  },
  {
   "cell_type": "code",
   "execution_count": 9,
   "id": "dde388fa-b9e4-4f04-b0e5-c4842cabc422",
   "metadata": {},
   "outputs": [
    {
     "data": {
      "text/plain": [
       "'11111'"
      ]
     },
     "execution_count": 9,
     "metadata": {},
     "output_type": "execute_result"
    }
   ],
   "source": [
    "# 字符串拼接\n",
    "a = 1\n",
    "b = '1'\n",
    "# a + b \n",
    "a + int(b)\n",
    "str(a) + b \n",
    "b*5"
   ]
  },
  {
   "cell_type": "markdown",
   "id": "f8378d1a-92e6-4824-adfc-4ced261101a9",
   "metadata": {},
   "source": [
    "##### **3.3 字符串分片和索引**"
   ]
  },
  {
   "cell_type": "code",
   "execution_count": 10,
   "id": "3083f5a5-0658-4d00-8146-fc68a4fbdaf8",
   "metadata": {},
   "outputs": [
    {
     "name": "stdout",
     "output_type": "stream",
     "text": [
      "True\n",
      "okay\n"
     ]
    }
   ],
   "source": [
    "s1 = 'hello'\n",
    "s2 = 'hello world'\n",
    "\n",
    "print(s1 in s2) # 必须是字符串\n",
    "# print(w in s2) w只是一个变量\n",
    "\n",
    "'w' in s2\n",
    "'w' in s1\n",
    "\n",
    "s1 == s2\n",
    "\n",
    "if s1 == s2:\n",
    "    print('ok')\n",
    "\n",
    "if s1 != s2:\n",
    "    print('okay')\n",
    "    \n",
    "if s1 not in s2:\n",
    "    print ('ok')"
   ]
  },
  {
   "cell_type": "markdown",
   "id": "bdf0bc62-4f1d-4b08-b625-6d8931bf2e27",
   "metadata": {},
   "source": [
    "+ 字符串切割和索引\n",
    "+ **String[i:j:k]** 不包含结束值"
   ]
  },
  {
   "cell_type": "code",
   "execution_count": 11,
   "id": "248edfd9-8426-4f6f-aaaa-d4d60849a817",
   "metadata": {},
   "outputs": [
    {
     "name": "stdout",
     "output_type": "stream",
     "text": [
      "hello\n",
      "hell\n",
      "world\n",
      "hello\n",
      "world\n",
      "hello world\n",
      "hlowrd\n",
      "el \n"
     ]
    }
   ],
   "source": [
    "print(s2[0:5])\n",
    "print(s2[0:4])\n",
    "\n",
    "print(s2[6:])\n",
    "print(s2[:5])\n",
    "print(s2[-5:])\n",
    "\n",
    "print(s2[::1])\n",
    "print(s2[::2])\n",
    "print(s2[1:7:2])"
   ]
  },
  {
   "cell_type": "markdown",
   "id": "4c20ed82-d684-4152-a962-294d58ab8dbd",
   "metadata": {},
   "source": [
    "+ 格式化字符串 \n",
    "+ **含有%s/%d的字符串(a,b,c)**\n",
    "+ **%s**  字符串内用%s或者%d等占位\n",
    "+ **%d**  “对应的值” "
   ]
  },
  {
   "cell_type": "code",
   "execution_count": 12,
   "id": "d8ad891e-e404-4140-ae7d-bc332f83d192",
   "metadata": {},
   "outputs": [
    {
     "name": "stdout",
     "output_type": "stream",
     "text": [
      "there are %d monkey in the %s!\n",
      "there are 3 monkey in the tree!\n",
      "there are 3 monkey in the tree!\n",
      "there are 5 monkey in the water!\n"
     ]
    }
   ],
   "source": [
    "say3 = 'there are %d monkey in the %s!'\n",
    "print(say3)\n",
    "say3 % (3,'tree')\n",
    "print(say3 % (3,'tree'))\n",
    "\n",
    "d1 = (3, 'tree')\n",
    "d2 = (5, 'water')\n",
    "print(say3 % d1)\n",
    "print(say3 % d2)"
   ]
  },
  {
   "cell_type": "markdown",
   "id": "a69d67c6-f69a-4d4b-92c1-d05015675e57",
   "metadata": {},
   "source": [
    "##### **3.4 字符串方法**\n",
    "+ 每个类型都有具体的对象\n",
    "    + int 8 \n",
    "    + float 3.14\n",
    "    + complex 3+4j\n",
    "    + Str \"hello\"\n",
    "    + help()/help(str)"
   ]
  },
  {
   "cell_type": "code",
   "execution_count": 13,
   "id": "9f8c0311-ef08-43f1-ad5f-3d1635941466",
   "metadata": {},
   "outputs": [
    {
     "name": "stdout",
     "output_type": "stream",
     "text": [
      "There are %d monkey in the %s!\n",
      "5\n"
     ]
    }
   ],
   "source": [
    "say3 = 'there are %d monkey in the %s!'\n",
    "newsay3 = say3.capitalize()\n",
    "print(newsay3)\n",
    "print(say3.count('e')) # 数出现了几次"
   ]
  },
  {
   "cell_type": "code",
   "execution_count": 14,
   "id": "88b9edbe-3fcc-4266-8230-1acd27b644b5",
   "metadata": {},
   "outputs": [
    {
     "name": "stdout",
     "output_type": "stream",
     "text": [
      "6\n",
      "world\n"
     ]
    }
   ],
   "source": [
    "hw = 'hello world' \n",
    "print(hw.find('world')) # 找需要的词在第几位\n",
    "print(hw[6:])"
   ]
  },
  {
   "cell_type": "code",
   "execution_count": 15,
   "id": "e8faea09-8295-414a-8cb5-03736061eae8",
   "metadata": {},
   "outputs": [
    {
     "name": "stdout",
     "output_type": "stream",
     "text": [
      "['192', '168', '1', '123']\n",
      "192.168.1.123\n",
      "192----168----1----123\n"
     ]
    }
   ],
   "source": [
    "ip = '192.168.1.123'\n",
    "ip2 = '192.168.1.12'\n",
    "ip3 = '192.168.1.1'\n",
    "\n",
    "ipl = ip.split('.') # 用.切割字符串\n",
    "print(ipl) \n",
    "ipj = \".\".join(ipl) # 用.连接字符串\n",
    "print(ipj)\n",
    "ipj1 = \"----\".join(ipl) # 用----连接字符串\n",
    "print(ipj1)"
   ]
  },
  {
   "cell_type": "markdown",
   "id": "7041c99d-1210-4605-8a2b-4a80f0a8a9f6",
   "metadata": {},
   "source": [
    "#### ***4. 流程控制***\n",
    "##### **4.1 布尔值与分支结构**\n",
    "+ Bool \n",
    "+ True: 非空对象(比如:string, tuple, list, set, dict)\n",
    "+ False: 0, None, 空的对象\n",
    "+ 作用: 一个字符串是否是空的，一个运算结果是否是0，一个表达式是否是0"
   ]
  },
  {
   "cell_type": "code",
   "execution_count": 16,
   "id": "4cba44ef-8148-41b5-9bf0-236e5beda31a",
   "metadata": {},
   "outputs": [
    {
     "name": "stdin",
     "output_type": "stream",
     "text": [
      "please input your age: 18\n",
      "please input your weight: 60\n"
     ]
    },
    {
     "name": "stdout",
     "output_type": "stream",
     "text": [
      "yes\n"
     ]
    },
    {
     "name": "stdin",
     "output_type": "stream",
     "text": [
      "please input: 23\n"
     ]
    },
    {
     "name": "stdout",
     "output_type": "stream",
     "text": [
      "no\n"
     ]
    }
   ],
   "source": [
    "# =============================================================================\n",
    "# if xxx:\n",
    "#     []\n",
    "# elif xxx:\n",
    "#     []\n",
    "# else:\n",
    "#     []\n",
    "# =============================================================================\n",
    "a = int(input('please input your age:'))\n",
    "w = int(input('please input your weight:'))\n",
    "\n",
    "if a >= 18 and w >= 60:\n",
    "    print('yes')\n",
    "# elif a == '-':\n",
    "#     print('-' * 5)\n",
    "else:\n",
    "    print('no')\n",
    "\n",
    "# 多条件: and not or\n",
    "\n",
    "x = input('please input:')\n",
    "\n",
    "if not x:\n",
    "    print('yes')\n",
    "else:\n",
    "    print('no')"
   ]
  },
  {
   "cell_type": "markdown",
   "id": "650b74d8-ab37-4b93-ae9f-31e3c2f50c82",
   "metadata": {},
   "source": [
    "##### **4.2 循环**"
   ]
  },
  {
   "cell_type": "code",
   "execution_count": 17,
   "id": "ac60eb6e-e321-4f31-9b3d-aa78726d66a1",
   "metadata": {},
   "outputs": [
    {
     "name": "stdout",
     "output_type": "stream",
     "text": [
      "h\n",
      "e\n",
      "l\n",
      "l\n",
      "o\n",
      "[1, 3, 5, 7, 9]\n"
     ]
    }
   ],
   "source": [
    "# =============================================================================\n",
    "# for 迭代变量 in 序列: # range()\n",
    "#     代码块\n",
    "# =============================================================================\n",
    "for i in 'hello':\n",
    "    print(i)\n",
    "    \n",
    "# for x in range(5):\n",
    "#     print(x)\n",
    "\n",
    "# for x in range(1,10):\n",
    "#     print(x)\n",
    "num1 = []\n",
    "for x in range(1,10,2):\n",
    "    num1.append(x)\n",
    "print(num1)"
   ]
  },
  {
   "cell_type": "code",
   "execution_count": 18,
   "id": "6e152174-8246-4a47-9a63-f2d33fd32de9",
   "metadata": {},
   "outputs": [
    {
     "name": "stdin",
     "output_type": "stream",
     "text": [
      "input something: quit yes\n",
      "input something: quit\n"
     ]
    }
   ],
   "source": [
    "# =============================================================================\n",
    "# while 条件:\n",
    "#     代码块\n",
    "# =============================================================================\n",
    "a = 'x'\n",
    "while a != 'quit':\n",
    "    a = input('input something:')"
   ]
  },
  {
   "cell_type": "markdown",
   "id": "96e46e0e-30e7-45a6-89a7-6523eb597fe3",
   "metadata": {},
   "source": [
    "##### **4.3 嵌套和循环控制**"
   ]
  },
  {
   "cell_type": "code",
   "execution_count": 19,
   "id": "8d8a6969-d2db-4d1f-94a9-0e1419ab6915",
   "metadata": {},
   "outputs": [
    {
     "name": "stdout",
     "output_type": "stream",
     "text": [
      "[1, 2, 3, 40, 4, 50, 5]\n"
     ]
    }
   ],
   "source": [
    "# =============================================================================\n",
    "# for 迭代变量 in 序列:\n",
    "#     if 条件:\n",
    "#         代码块\n",
    "#     代码块\n",
    "# =============================================================================\n",
    "num2 = []\n",
    "for i in range(1,6):\n",
    "    if i > 3:\n",
    "        num2.append(i * 10)\n",
    "    num2.append(i)\n",
    "print(num2)    "
   ]
  },
  {
   "cell_type": "markdown",
   "id": "bbae1450-b68f-48ec-8e7f-355beb94bed3",
   "metadata": {},
   "source": [
    "* **循环控制**\n",
    "    + continue 跳过当前余下的代码,返回执行前面的\n",
    "    + break 立即跳出当前的循环\n",
    "    + pass "
   ]
  },
  {
   "cell_type": "code",
   "execution_count": 20,
   "id": "0341fc46-c3bf-4d03-b0d9-734bd1c05141",
   "metadata": {},
   "outputs": [
    {
     "name": "stdout",
     "output_type": "stream",
     "text": [
      "[1, 2, 30, 4, 5]\n"
     ]
    }
   ],
   "source": [
    "num3 = []\n",
    "for i in range(1,6):\n",
    "    if i == 3:\n",
    "        num3.append(i * 10)\n",
    "        continue # break/pass\n",
    "        print(i * 2)\n",
    "    num3.append(i) \n",
    "print(num3)"
   ]
  },
  {
   "cell_type": "code",
   "execution_count": 21,
   "id": "4db1ce33-f940-467e-ada8-61862ae0bc98",
   "metadata": {},
   "outputs": [
    {
     "name": "stdout",
     "output_type": "stream",
     "text": [
      "[1, 2, 3, 4, 50, 6]\n"
     ]
    }
   ],
   "source": [
    "num = []\n",
    "for i in range(1,10):\n",
    "    if i == 5:\n",
    "        num.append(i*10)\n",
    "        continue\n",
    "    if i == 7:\n",
    "        break\n",
    "    if i == 2:\n",
    "        pass\n",
    "    num.append(i)\n",
    "print(num)    "
   ]
  },
  {
   "cell_type": "code",
   "execution_count": 22,
   "id": "5fa48589-c1c1-4a31-a7df-b5217c30d1a4",
   "metadata": {},
   "outputs": [
    {
     "name": "stdin",
     "output_type": "stream",
     "text": [
      "something: yes\n",
      "something: no\n"
     ]
    }
   ],
   "source": [
    "while 1:\n",
    "    a = input('something:')\n",
    "    if a == 'no':\n",
    "        break"
   ]
  },
  {
   "cell_type": "markdown",
   "id": "1c09bc70-66b7-4139-96b0-5f472a4ac006",
   "metadata": {
    "tags": []
   },
   "source": [
    "#### ***5. 结构化数据类型***\n",
    "##### **5.1  列表创建基本操作**\n",
    "+ 列表 []\n",
    "+ 元组 ()\n",
    "+ 字典 {}"
   ]
  },
  {
   "cell_type": "code",
   "execution_count": 23,
   "id": "c78e62c4-ab46-4f5b-b79c-2ba430a65174",
   "metadata": {},
   "outputs": [
    {
     "name": "stdout",
     "output_type": "stream",
     "text": [
      "100\n",
      "['milo', 100]\n",
      "['milo', 100, 50, 100, 60, 0]\n",
      "[100, 60, 0, 100, 60, 0, 100, 60, 0]\n",
      "100\n",
      "60\n",
      "0\n"
     ]
    }
   ],
   "source": [
    "# 列表中可以是函数和类\n",
    "player1 = ['milo', 100, 50]\n",
    "milo = [100, 60, 0]\n",
    "\n",
    "# 序列\n",
    "print(milo[0])\n",
    "print(player1[:2])\n",
    "print(player1 + milo)\n",
    "print(milo * 3)\n",
    "\n",
    "# 遍历列表\n",
    "for i in milo:\n",
    "    print(i)"
   ]
  },
  {
   "cell_type": "markdown",
   "id": "a2971900-8018-4897-930b-758a39104eb3",
   "metadata": {},
   "source": [
    "##### **5.2 列表常用方法**\n",
    "+ 列表: 可变性"
   ]
  },
  {
   "cell_type": "code",
   "execution_count": 24,
   "id": "fdd9e347-9154-4ba0-a5a5-1d308badcf84",
   "metadata": {},
   "outputs": [],
   "source": [
    "player1 = ['milo', 100, 50]"
   ]
  },
  {
   "cell_type": "markdown",
   "id": "65f170cd-3e8d-479e-b969-383d5b4f9c21",
   "metadata": {},
   "source": [
    "* **列表方法: 增删改查**\n",
    "    + list.append(self, object) 增加元素在最后\n",
    "    + list.insert(self, index, object) 在index前插入元素\n",
    "    + list.extend(self, iterable) 扩展元素(列表中的元素依次增加)\n",
    "    + list.pop(self, index)   删除列表某个下标\n",
    "    + list.remove(self, object) 删除一个值\n",
    "    + list.sort(self, key, reverse=False) 排序同种数据类型"
   ]
  },
  {
   "cell_type": "code",
   "execution_count": 25,
   "id": "e298509e-542e-4818-a626-9f53b07e2ab7",
   "metadata": {},
   "outputs": [
    {
     "name": "stdout",
     "output_type": "stream",
     "text": [
      "['milo', 100, 50, 10]\n"
     ]
    }
   ],
   "source": [
    "player1.append(10)\n",
    "print(player1)"
   ]
  },
  {
   "cell_type": "code",
   "execution_count": 26,
   "id": "0fa31328-83fc-47a4-be5e-4efd1fa6af64",
   "metadata": {},
   "outputs": [
    {
     "name": "stdout",
     "output_type": "stream",
     "text": [
      "['milo', 'male', 100, 50, 10]\n"
     ]
    }
   ],
   "source": [
    "player1.insert(1, 'male')\n",
    "print(player1)"
   ]
  },
  {
   "cell_type": "code",
   "execution_count": 27,
   "id": "6423df0a-994e-4e5d-a881-174406558e18",
   "metadata": {},
   "outputs": [
    {
     "name": "stdout",
     "output_type": "stream",
     "text": [
      "['milo', 'male', 100, 50, 10, 'a', 'b', 'c']\n",
      "['milo', 'male', 100, 50, 10, 'a', 'b', 'c', ['a', 'b', 'c']]\n"
     ]
    }
   ],
   "source": [
    "box = ['a', 'b', 'c']\n",
    "player1.extend(box)\n",
    "print(player1)\n",
    "player1.append(box)\n",
    "print(player1)"
   ]
  },
  {
   "cell_type": "code",
   "execution_count": 28,
   "id": "a658360f-4c66-4125-af9a-0b7dc16fc272",
   "metadata": {},
   "outputs": [
    {
     "name": "stdout",
     "output_type": "stream",
     "text": [
      "['milo', 'male', 100, 50, 10, 'c', ['a', 'b', 'c']]\n"
     ]
    }
   ],
   "source": [
    "player1.remove('a')\n",
    "player1.remove('b')\n",
    "print(player1)"
   ]
  },
  {
   "cell_type": "code",
   "execution_count": 29,
   "id": "779fc77b-3166-44cc-9fb2-a407d2d7a2bc",
   "metadata": {},
   "outputs": [
    {
     "name": "stdout",
     "output_type": "stream",
     "text": [
      "['milo', 'male', 100, 50, 10, ['a', 'b', 'c']]\n",
      "10\n",
      "['milo', 'male', 100, 50, ['a', 'b', 'c']]\n"
     ]
    }
   ],
   "source": [
    "player1.pop(-2)\n",
    "print(player1)\n",
    "x = player1.pop(-2)\n",
    "print(x)\n",
    "print(player1)"
   ]
  },
  {
   "cell_type": "code",
   "execution_count": 30,
   "id": "7b0d7ebc-91f4-47f0-8c0e-5efde458524e",
   "metadata": {},
   "outputs": [
    {
     "name": "stdout",
     "output_type": "stream",
     "text": [
      "a\n"
     ]
    }
   ],
   "source": [
    "# 二元列表\n",
    "print(player1[-1][0])"
   ]
  },
  {
   "cell_type": "code",
   "execution_count": 31,
   "id": "f8286b8f-68f5-46f9-9e21-c680cd1be40e",
   "metadata": {},
   "outputs": [
    {
     "name": "stdout",
     "output_type": "stream",
     "text": [
      "[1, 2, 3, 4, 5, 6]\n",
      "[6, 5, 4, 3, 2, 1]\n"
     ]
    }
   ],
   "source": [
    "box = [1,3,4,6,5,2]\n",
    "box.sort(reverse=False)\n",
    "print(box)\n",
    "box.sort(reverse=True)\n",
    "print(box)"
   ]
  },
  {
   "cell_type": "markdown",
   "id": "7f5abeae-25f1-446d-a8e7-081afba9575e",
   "metadata": {
    "jp-MarkdownHeadingCollapsed": true,
    "tags": []
   },
   "source": [
    "* **相关方法**\n",
    "    + range()\n",
    "    + sorted()\n",
    "    + str.split()\n",
    "    + str.join(self, iterable)"
   ]
  },
  {
   "cell_type": "code",
   "execution_count": 32,
   "id": "e4d0c151-d9e2-4fc9-bd9e-98dc192a2231",
   "metadata": {},
   "outputs": [
    {
     "name": "stdout",
     "output_type": "stream",
     "text": [
      "[1, 2, 3, 4, 5, 6]\n"
     ]
    }
   ],
   "source": [
    "box = [1,3,4,6,5,2]\n",
    "x = sorted(box)\n",
    "print(x)"
   ]
  },
  {
   "cell_type": "markdown",
   "id": "6424937f-01dc-4ac2-ae7b-d41e775517df",
   "metadata": {},
   "source": [
    "##### **5.3 不可变的元组和灵活的列表**\n",
    "+ 列表: 可变性\n",
    "+ 元组-()\n",
    "    + 创建(元素,元素,元素)\n",
    "    + 拆分 x,y = (Value1,value2)"
   ]
  },
  {
   "cell_type": "code",
   "execution_count": 33,
   "id": "7cb5f4f2-cc0a-44ff-a73b-27f76ab770e2",
   "metadata": {},
   "outputs": [
    {
     "name": "stdout",
     "output_type": "stream",
     "text": [
      "x y z\n",
      "z x\n"
     ]
    }
   ],
   "source": [
    "t = ('x', 'y', 'z')\n",
    "a,b,c = t\n",
    "print(a,b,c)\n",
    "print(t[-1], t[0])"
   ]
  },
  {
   "cell_type": "markdown",
   "id": "65e8f468-fa8e-4d53-868b-42e7a48da60c",
   "metadata": {},
   "source": [
    "元组不可改变但是列表可以"
   ]
  },
  {
   "cell_type": "code",
   "execution_count": 34,
   "id": "2cbb96cb-f4ea-4d8d-8e5b-d8bee3c95aca",
   "metadata": {},
   "outputs": [],
   "source": [
    "player1 = ['milo', 'male', 90, 50]\n",
    "player1[1] = 'feamle'"
   ]
  },
  {
   "cell_type": "markdown",
   "id": "1ee96c2f-cfb6-4955-b4e5-492eb2ff3322",
   "metadata": {},
   "source": [
    "##### **5.4 列表解析和生成表达式**\n",
    "+ 通过操作和处理一个序列(range等)来创建一个新的列表使用列表解析和生成表达式\n",
    "+ 1000以内能被3和5整除的数的和"
   ]
  },
  {
   "cell_type": "code",
   "execution_count": 35,
   "id": "6efd9ae3-f5db-4532-ab0c-d1f8c06f75a4",
   "metadata": {},
   "outputs": [
    {
     "name": "stdout",
     "output_type": "stream",
     "text": [
      "45\n",
      "[3, 5, 6, 9, 10, 12, 15, 18, 20, 21, 24, 25, 27, 30, 33, 35, 36, 39, 40, 42, 45, 48]\n",
      "543\n"
     ]
    }
   ],
   "source": [
    "print(sum(range(1,10)))\n",
    "\n",
    "nums = []\n",
    "for i in range(1,50):\n",
    "    if i%3 == 0 or i%5 ==0:\n",
    "        nums.append(i)\n",
    "print(nums)\n",
    "print(sum(nums))"
   ]
  },
  {
   "cell_type": "markdown",
   "id": "93896b0d-7779-4db4-b557-886f034de0ad",
   "metadata": {},
   "source": [
    "* 列表解析的语法结构\n",
    "* 在需要改变列表而不是创建列表时用列表解析\n",
    "* 表达式:\n",
    "    + [for iter_var in iterable]\n",
    "    + [for iter_var in iterable if]"
   ]
  },
  {
   "cell_type": "code",
   "execution_count": 36,
   "id": "e2400d72-1134-4aad-9c6c-80a1214be2a4",
   "metadata": {},
   "outputs": [
    {
     "name": "stdout",
     "output_type": "stream",
     "text": [
      "233168\n"
     ]
    }
   ],
   "source": [
    "# x = [i*10 for i in range(10)]\n",
    "y = [i for i in range(1,1000) if i%3==0 or i%5==0]\n",
    "print(sum(y))"
   ]
  },
  {
   "cell_type": "code",
   "execution_count": 37,
   "id": "31796e5b-7e9f-4fbc-b1e3-775b22313fff",
   "metadata": {},
   "outputs": [
    {
     "name": "stdout",
     "output_type": "stream",
     "text": [
      "3\n",
      "5\n",
      "6\n",
      "9\n"
     ]
    }
   ],
   "source": [
    "# 生成器表达式\n",
    "g = (i for i in range(1,10) if i%3==0 or i%5==0)\n",
    "for i in g:\n",
    "    print(i)\n",
    "    \n",
    "# 复制列表\n",
    "L1 = list(y)"
   ]
  },
  {
   "cell_type": "markdown",
   "id": "8b27fd23-dacc-4874-b157-38977a42fb7f",
   "metadata": {},
   "source": [
    "##### **5.5 字典创建基础操作**\n",
    "+ dictionary 是除了列表以外python之中灵活的内置数据结构类型\n",
    "+ 区别:字典中的元素是通过key来取得,无顺序"
   ]
  },
  {
   "cell_type": "code",
   "execution_count": 38,
   "id": "d1bd5356-6679-4aa2-916e-5f4d6efbaf66",
   "metadata": {},
   "outputs": [
    {
     "data": {
      "text/plain": [
       "100"
      ]
     },
     "execution_count": 38,
     "metadata": {},
     "output_type": "execute_result"
    }
   ],
   "source": [
    "player1 = ['milo', 100]\n",
    "player1[0]\n",
    "player1[1]"
   ]
  },
  {
   "cell_type": "markdown",
   "id": "03a11ee3-32a8-4e12-85f9-a529e5e76e77",
   "metadata": {},
   "source": [
    "+ 字典创建:dict2 = {'key':'value', 'key':'value'} 键值一一对应"
   ]
  },
  {
   "cell_type": "code",
   "execution_count": 39,
   "id": "2fb9d947-a659-4322-982e-e0dfee3b598c",
   "metadata": {},
   "outputs": [
    {
     "name": "stdout",
     "output_type": "stream",
     "text": [
      "{'name': 'milo', 'hp': 100}\n",
      "100 milo\n",
      "a b\n"
     ]
    }
   ],
   "source": [
    "player1d = {'name':'milo', 'hp':100}\n",
    "print(player1d)\n",
    "print(player1d['hp'], player1d['name'])\n",
    "\n",
    "d = {1:'a', 2:'b'}\n",
    "print(d[1], d[2]) # 这里有数字是因为key是数字"
   ]
  },
  {
   "cell_type": "markdown",
   "id": "725c1421-8e0e-4de5-9c80-b16c79637441",
   "metadata": {},
   "source": [
    "* 属性:通过键来读取,任意对象的引用的集合,可变异构任意嵌套"
   ]
  },
  {
   "cell_type": "code",
   "execution_count": 40,
   "id": "91342ad9-f615-4ab4-9262-eb7e53b61255",
   "metadata": {},
   "outputs": [
    {
     "name": "stdout",
     "output_type": "stream",
     "text": [
      "{1: 'a', 2: 'b', 3: 'c', 6: 'c', 5: 'c'}\n"
     ]
    }
   ],
   "source": [
    "d[3] = 'c'\n",
    "d[6] = 'c'\n",
    "d[5] = 'c'\n",
    "print(d)"
   ]
  },
  {
   "cell_type": "markdown",
   "id": "23e6a5a1-8cb3-4717-a81b-a6b6dbb25729",
   "metadata": {},
   "source": [
    "* 字典访问:\n",
    "    + 通过key访问Value\n",
    "    + dict['key']\n",
    "    + 遍历 for key in dict:\n",
    "        - print 'key=%s, value=%s' % (key,dict[key])\n",
    "    + 方法 'key' in dict 或 dict.has_key('key')"
   ]
  },
  {
   "cell_type": "code",
   "execution_count": 41,
   "id": "1bdac7ce-869e-4089-8a46-0030d8527b50",
   "metadata": {},
   "outputs": [
    {
     "name": "stdout",
     "output_type": "stream",
     "text": [
      "key=1, value=a\n",
      "key=2, value=b\n",
      "key=3, value=c\n",
      "key=6, value=c\n",
      "key=5, value=c\n",
      "True\n"
     ]
    }
   ],
   "source": [
    "for k in d:\n",
    "    print ('key=%s, value=%s' % (k,d[k]))\n",
    "ok = 'name' in player1d\n",
    "print(ok) \n",
    "# dir(dict) # 查看方法"
   ]
  },
  {
   "cell_type": "markdown",
   "id": "1fd1128f-0346-44aa-ad82-7e0e1c8e64de",
   "metadata": {},
   "source": [
    "* 字典更新:\n",
    "    + 覆盖更新:\n",
    "        + dict['key'] = 'earth'\n",
    "        + 更新dict['key'] = 'abc'"
   ]
  },
  {
   "cell_type": "code",
   "execution_count": 42,
   "id": "63d99f11-4d3b-4797-a75a-5518ef18f0f3",
   "metadata": {},
   "outputs": [
    {
     "name": "stdout",
     "output_type": "stream",
     "text": [
      "{1: 'a', 2: 'b', 3: 'c', 6: 'b', 5: 'd'}\n"
     ]
    }
   ],
   "source": [
    "d[5] = 'd'    \n",
    "d[6] = 'b'    \n",
    "print(d)    "
   ]
  },
  {
   "cell_type": "markdown",
   "id": "1f6dca89-ef1b-4aff-b2d0-57ab95df2d62",
   "metadata": {},
   "source": [
    "* 删除字典和字典元素:\n",
    "    + del dict2['name'] 删除键为name的条目\n",
    "    + dict2.clear() 删除dict2中所有的条目\n",
    "    + del dict2 删除整个dict2字典\n",
    "    + dict2.pop('name') 删除并返回键为'name'的条目"
   ]
  },
  {
   "cell_type": "code",
   "execution_count": 43,
   "id": "4d78c210-a2ca-4583-b7ca-1e3707bd825d",
   "metadata": {},
   "outputs": [
    {
     "name": "stdout",
     "output_type": "stream",
     "text": [
      "dict_items([(1, 'a'), (2, 'b'), (3, 'c'), (6, 'b'), (5, 'd')])\n",
      "1 ------> a\n",
      "2 ------> b\n",
      "3 ------> c\n",
      "6 ------> b\n",
      "5 ------> d\n"
     ]
    }
   ],
   "source": [
    "di = d.items()\n",
    "print(di)\n",
    "\n",
    "for k,v in di:\n",
    "    print(k,'------>', v)"
   ]
  },
  {
   "cell_type": "markdown",
   "id": "c2f815a3-9c97-4803-b711-3f183dac6e95",
   "metadata": {},
   "source": [
    "##### **5.6 字典妙用switch**\n",
    "+ dictionary 是除了列表以外python之中灵活的内置数据结构类型\n",
    "+ 区别:字典中的元素是通过key来取得,无顺序"
   ]
  },
  {
   "cell_type": "code",
   "execution_count": 44,
   "id": "f720678f-e03c-45c3-8e89-38d957815256",
   "metadata": {},
   "outputs": [
    {
     "name": "stdin",
     "output_type": "stream",
     "text": [
      "first: 2\n",
      "operator: +\n",
      "second: 5\n"
     ]
    },
    {
     "name": "stdout",
     "output_type": "stream",
     "text": [
      "7\n"
     ]
    }
   ],
   "source": [
    "x = int(input('first:'))\n",
    "o = input('operator:')\n",
    "y = int(input('second:'))\n",
    "\n",
    "operator = {\n",
    "            '+':x+y, \n",
    "            '-':x-y, \n",
    "            '*':x*y, \n",
    "            '/':x/y\n",
    "            }\n",
    "\n",
    "# result = operator[o]\n",
    "result = operator.get(o, 'please input +|-|*|/')\n",
    "print(result)"
   ]
  },
  {
   "cell_type": "markdown",
   "id": "5bc1ffdc-361e-41d7-87d8-2f1b24a3010a",
   "metadata": {},
   "source": [
    "##### **5.7 集合**\n",
    "* 创建集合\n",
    "    + 可变集合:set(iterable)\n",
    "        - 特点: 无序排列且不重复，是可变的\n",
    "        - 功能: 关系测试消除重复元素\n",
    "    + 不可变集合:fronzenset(iterable)\n",
    "        - 不可变\n",
    "\n",
    "* x = set('hello')\n",
    "* y = set('world')\n",
    "* x & y = 交集\n",
    "* x | y = 合集\n",
    "* x - y = 补集"
   ]
  }
 ],
 "metadata": {
  "kernelspec": {
   "display_name": "Python 3 (ipykernel)",
   "language": "python",
   "name": "python3"
  },
  "language_info": {
   "codemirror_mode": {
    "name": "ipython",
    "version": 3
   },
   "file_extension": ".py",
   "mimetype": "text/x-python",
   "name": "python",
   "nbconvert_exporter": "python",
   "pygments_lexer": "ipython3",
   "version": "3.8.8"
  }
 },
 "nbformat": 4,
 "nbformat_minor": 5
}
