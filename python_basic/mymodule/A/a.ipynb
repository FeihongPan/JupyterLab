{
 "cells": [
  {
   "cell_type": "code",
   "execution_count": 1,
   "id": "92561120-37e5-4347-8c67-57fce03824b0",
   "metadata": {},
   "outputs": [
    {
     "name": "stdout",
     "output_type": "stream",
     "text": [
      "i am aaa\n",
      "hello  this is aaaaaaa!!\n"
     ]
    }
   ],
   "source": [
    "name = \"this is the module named mymodule!\"\n",
    "\n",
    "def show():\n",
    "    print('hello  this is aaaaaaa!!')\n",
    "\n",
    "if __name__ == '__main__':\n",
    "    print('i am aaa')\n",
    "    show()"
   ]
  }
 ],
 "metadata": {
  "kernelspec": {
   "display_name": "Python 3 (ipykernel)",
   "language": "python",
   "name": "python3"
  },
  "language_info": {
   "codemirror_mode": {
    "name": "ipython",
    "version": 3
   },
   "file_extension": ".py",
   "mimetype": "text/x-python",
   "name": "python",
   "nbconvert_exporter": "python",
   "pygments_lexer": "ipython3",
   "version": "3.8.8"
  }
 },
 "nbformat": 4,
 "nbformat_minor": 5
}
