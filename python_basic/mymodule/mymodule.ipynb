{
 "cells": [
  {
   "cell_type": "code",
   "execution_count": 2,
   "id": "01449bda-6b41-45f4-94d8-98813a3edee1",
   "metadata": {},
   "outputs": [
    {
     "name": "stdout",
     "output_type": "stream",
     "text": [
      "i am mmmmm\n",
      "hello  this is myModule!!\n"
     ]
    }
   ],
   "source": [
    "name = \"this is the module named mymodule!\"\n",
    "\n",
    "def show():\n",
    "    print('hello  this is myModule!!')\n",
    "\n",
    "if __name__ == '__main__':\n",
    "    print('i am mmmmm')\n",
    "    show()"
   ]
  }
 ],
 "metadata": {
  "kernelspec": {
   "display_name": "Python 3 (ipykernel)",
   "language": "python",
   "name": "python3"
  },
  "language_info": {
   "codemirror_mode": {
    "name": "ipython",
    "version": 3
   },
   "file_extension": ".py",
   "mimetype": "text/x-python",
   "name": "python",
   "nbconvert_exporter": "python",
   "pygments_lexer": "ipython3",
   "version": "3.8.8"
  }
 },
 "nbformat": 4,
 "nbformat_minor": 5
}
