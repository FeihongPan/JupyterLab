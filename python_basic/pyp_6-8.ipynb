{
 "cells": [
  {
   "cell_type": "markdown",
   "id": "1a65b2e4-77a6-41bc-8e9f-55767417438c",
   "metadata": {},
   "source": [
    "#### ***6. 文件***\n",
    "##### **6.1  文件读写**\n",
    "* 生成文件对象\n",
    "    + fileobject = open(filename,mode) (2,3)\n",
    "* Windows Powershell\n",
    "    + cd 进入文件\n",
    "    + ls 查看文件\n",
    "* 在Ipython中打开(spyder中是文件和控制台)"
   ]
  },
  {
   "cell_type": "code",
   "execution_count": 1,
   "id": "c2210cd2-0818-48b9-845a-649cd790102b",
   "metadata": {},
   "outputs": [
    {
     "name": "stdout",
     "output_type": "stream",
     "text": [
      "aaaaaa\n",
      "bbbbbbbbbbb\n",
      "cccccccccccccc\n",
      "ddddd\n",
      "eeeeeee\n",
      "fffffff\n",
      "gggggg\n"
     ]
    }
   ],
   "source": [
    "f = open('zen.txt','r') # filename 写上文件完整路径 mode是打开后的操作\n",
    "print(f.read())\n",
    "f.close()"
   ]
  },
  {
   "cell_type": "markdown",
   "id": "83a69295-bdb2-46a8-a058-4dc49d13631a",
   "metadata": {},
   "source": [
    "* **mode不同的方法**\n",
    "    + r 只读\n",
    "    + w 写入,重建文件\n",
    "    + a 写入,在文件末尾追加新的内容,文件不存在,创建\n",
    "    + (+) 更新\n",
    "    + b 打开二进制的文件,可以与rwa+结合使用\n",
    "    + U 支持所有换行符号 '\\r'  \n",
    "* **文件对象方法**\n",
    "    + String = fileobject.readline([size])\n",
    "    + List = fileobject.readline([size])\n",
    "    + String = fileobject.readline([size])\n",
    "    + fileobject.next()\n",
    "    + fileobject.write(string)\n",
    "    + fileobject.writelines(list)\n",
    "    + fileobject.seek(偏移量,选项)\n",
    "    + fileobject.flush()  更新\n",
    "    + fileobject.close()\n",
    "* **readline:**\n",
    "    + 用法:\n",
    "        - String = fileobject.readline([size])\n",
    "    + 说明:\n",
    "        - 每次读取文件的一行\n",
    "        - size:是指每行每次读取size个字节,直到行末尾"
   ]
  },
  {
   "cell_type": "code",
   "execution_count": 2,
   "id": "52670d47-1fce-478a-a1b6-46f66c695a9f",
   "metadata": {},
   "outputs": [
    {
     "name": "stdout",
     "output_type": "stream",
     "text": [
      "aa\n",
      "aaa\n",
      "a\n",
      "\n",
      "bbbbb\n"
     ]
    }
   ],
   "source": [
    "f = open('zen.txt','r')\n",
    "print(f.readline(2))\n",
    "print(f.readline(3))\n",
    "print(f.readline(4))\n",
    "print(f.readline(5))\n",
    "f.close()"
   ]
  },
  {
   "cell_type": "markdown",
   "id": "f3ee2797-799d-480c-bcc1-a50f43a39bc1",
   "metadata": {},
   "source": [
    "* **readlines:**\n",
    "     + 用法:\n",
    "         - List = fileobject.readlines([size])\n",
    "     + 说明:\n",
    "         - 多行读,返回一个列表\n",
    "         - size:每次读入size个字符,然后连续按size读,而不是每次读入行的size个字符"
   ]
  },
  {
   "cell_type": "code",
   "execution_count": 3,
   "id": "42804eec-6382-4731-b12a-cdc5b2a354c6",
   "metadata": {},
   "outputs": [
    {
     "name": "stdout",
     "output_type": "stream",
     "text": [
      "['aaaaaa\\n', 'bbbbbbbbbbb\\n', 'cccccccccccccc\\n', 'ddddd\\n', 'eeeeeee\\n', 'fffffff\\n', 'gggggg']\n"
     ]
    }
   ],
   "source": [
    "f = open('zen.txt','r')\n",
    "print(f.readlines())\n",
    "f.close()"
   ]
  },
  {
   "cell_type": "markdown",
   "id": "96422b25-8961-4a21-b332-fd16c148f316",
   "metadata": {},
   "source": [
    "* **read:**\n",
    "    + 用法:\n",
    "        - List = fileobject.read([size])\n",
    "    + 说明:\n",
    "        - 读出文件的所用内容,并赋值给一个字符串\n",
    "        - size:读入文件的前size个字符,并输出字符串,指针在size处"
   ]
  },
  {
   "cell_type": "code",
   "execution_count": 4,
   "id": "90d15c6a-b47c-4838-8ebf-d92e9c094b74",
   "metadata": {},
   "outputs": [
    {
     "name": "stdout",
     "output_type": "stream",
     "text": [
      "aaa\n"
     ]
    }
   ],
   "source": [
    "f = open('zen.txt','r')\n",
    "print(f.read(3))\n",
    "f.close()"
   ]
  },
  {
   "cell_type": "code",
   "execution_count": 5,
   "id": "ca5c8feb-21e2-41d8-9858-936896354bbd",
   "metadata": {},
   "outputs": [
    {
     "data": {
      "text/plain": [
       "'aaaaaa\\nbbbbbbbbbbb\\ncccccccccccccc\\nddddd\\neeeeeee\\nfffffff\\ngggggg'"
      ]
     },
     "execution_count": 5,
     "metadata": {},
     "output_type": "execute_result"
    }
   ],
   "source": [
    "f = open('zen.txt','r')\n",
    "s = f.read()\n",
    "f.close()\n",
    "s"
   ]
  },
  {
   "cell_type": "markdown",
   "id": "42960752-a068-4bef-b39a-44595a89f9ab",
   "metadata": {},
   "source": [
    "* **write:**\n",
    "    + 格式:\n",
    "        - fileobject.write(string)\n",
    "    + 说明:\n",
    "        - write 和 writelines在写入前会是否清楚文件原来所有的数据,再重新写入新的内容,取决于打开文件的模式"
   ]
  },
  {
   "cell_type": "code",
   "execution_count": 6,
   "id": "9170b5bb-9fae-42ef-a56c-25f08dd4bb3c",
   "metadata": {},
   "outputs": [
    {
     "name": "stdout",
     "output_type": "stream",
     "text": [
      "<_io.TextIOWrapper name='abc' mode='w' encoding='cp1252'>\n"
     ]
    }
   ],
   "source": [
    "# w 写入,重建文件\n",
    "f = open('abc', 'w')\n",
    "print(f)\n",
    "f.write('abcabc')\n",
    "f.close()"
   ]
  },
  {
   "cell_type": "code",
   "execution_count": 7,
   "id": "96b1f7c9-c979-4a59-ad74-67e3ccb1d63e",
   "metadata": {},
   "outputs": [
    {
     "name": "stdout",
     "output_type": "stream",
     "text": [
      "abcabc\n"
     ]
    }
   ],
   "source": [
    "# r 只读\n",
    "f = open('abc', 'r')\n",
    "print(f.read())\n",
    "f.close()"
   ]
  },
  {
   "cell_type": "code",
   "execution_count": 8,
   "id": "ef6e9771-2e18-4959-8902-fdf0973d30ea",
   "metadata": {},
   "outputs": [
    {
     "name": "stdout",
     "output_type": "stream",
     "text": [
      "xyz\n"
     ]
    }
   ],
   "source": [
    "f = open('abc', 'w')\n",
    "f.write('xyz')\n",
    "f.close()\n",
    "f = open('abc', 'r')\n",
    "print(f.read())\n",
    "f.close()"
   ]
  },
  {
   "cell_type": "code",
   "execution_count": 9,
   "id": "e3a45b30-f47d-4381-b923-956e29c7990a",
   "metadata": {},
   "outputs": [
    {
     "name": "stdout",
     "output_type": "stream",
     "text": [
      "xyz1\n"
     ]
    }
   ],
   "source": [
    "# + 更新\n",
    "f = open('abc', 'w+')\n",
    "f.write('xyz1')\n",
    "f.close()\n",
    "f = open('abc', 'r')\n",
    "print(f.read())\n",
    "f.close()"
   ]
  },
  {
   "cell_type": "code",
   "execution_count": 10,
   "id": "559bd7ef-51d9-4ffe-bfd0-86aaa0a723eb",
   "metadata": {},
   "outputs": [
    {
     "name": "stdout",
     "output_type": "stream",
     "text": [
      "xyz1abc1\n"
     ]
    }
   ],
   "source": [
    "# a 写入,在文件末尾追加新的内容,文件不存在,创建\n",
    "f = open('abc', 'a')\n",
    "f.write('abc1')\n",
    "f.close()\n",
    "\n",
    "f = open('abc', 'r')\n",
    "print(f.read())\n",
    "f.close()"
   ]
  },
  {
   "cell_type": "code",
   "execution_count": 11,
   "id": "1b7c0ed0-82a4-4ec3-9fdb-9539e18bfbba",
   "metadata": {},
   "outputs": [
    {
     "name": "stdout",
     "output_type": "stream",
     "text": [
      "hellobc1abc2\n"
     ]
    }
   ],
   "source": [
    "f = open('abc', 'a+')\n",
    "f.write('abc2')\n",
    "f.close()\n",
    "\n",
    "f = open('abc', 'r+')\n",
    "f.write('hello')\n",
    "f.close()\n",
    "\n",
    "f = open('abc', 'r')\n",
    "print(f.read())\n",
    "f.close()\n",
    "# b 打开二进制的文件,可以与rwa+结合使用 打开图片"
   ]
  },
  {
   "cell_type": "markdown",
   "id": "8fbcc238-e435-4469-b11f-cae234305d21",
   "metadata": {},
   "source": [
    "* **writelines:**\n",
    "    + 格式:\n",
    "        - fileobject.writelines(list)\n",
    "    + 说明:\n",
    "        - 多行写\n",
    "        - 效率比write高,速度更快,少量写入可以使用write\n",
    "* **next:**\n",
    "    + 用法:\n",
    "        - fileobject.next()\n",
    "    + 说明:\n",
    "        - 返回当前行,并将文件指针到下一行"
   ]
  },
  {
   "cell_type": "code",
   "execution_count": 12,
   "id": "f4523c25-3212-4493-bb3c-f1124d027a97",
   "metadata": {},
   "outputs": [
    {
     "name": "stdout",
     "output_type": "stream",
     "text": [
      "lobc1abc2\n"
     ]
    }
   ],
   "source": [
    "# fileobject.flush() 提交更新\n",
    "f = open('abc', 'r+')\n",
    "f.write('abc')\n",
    "f.flush()\n",
    "print(f.read())\n",
    "f.close()"
   ]
  },
  {
   "cell_type": "markdown",
   "id": "64a354a7-2077-4c39-8491-1d3b9ac603e1",
   "metadata": {},
   "source": [
    "* **fileobject.seek(偏移量,选项)**\n",
    "    + 选项 = 0 时, 便是将文件指针指向文件头部到偏移量字节处\n",
    "    + 选项 = 1 时, 便是将文件指针指向从当前位置, 向后移动偏移量字节 \n",
    "    + 选项 = 2 时, 便是将文件指针指向文件尾部, 向前移动偏移量字节"
   ]
  },
  {
   "cell_type": "code",
   "execution_count": 13,
   "id": "9220ca39-007c-4d4a-9e95-647257e53250",
   "metadata": {},
   "outputs": [
    {
     "name": "stdout",
     "output_type": "stream",
     "text": [
      "b'c2'\n"
     ]
    }
   ],
   "source": [
    "f = open('abc', 'rb')\n",
    "f.seek(-2,2)\n",
    "print(f.read())"
   ]
  },
  {
   "cell_type": "markdown",
   "id": "1bfa3fdf-2f82-4682-b030-e741e2cf4891",
   "metadata": {},
   "source": [
    "##### **6.2 处理Excel表格**\n",
    "* CSV 提供读写接口:\n",
    "    + 应用:\n",
    "        - 用Excel管理主机信息"
   ]
  },
  {
   "cell_type": "code",
   "execution_count": 14,
   "id": "ab4e831e-624d-4a1e-9099-1fbb1b697e37",
   "metadata": {},
   "outputs": [],
   "source": [
    "# import csv\n",
    "# fobj = open('test.csv','rU')\n",
    "# print(fobj.read()) \n",
    "\n",
    "# csvobj = csv.reader(fobj)\n",
    "# for i in csvobj:\n",
    "#    print(i)"
   ]
  },
  {
   "cell_type": "markdown",
   "id": "2c9ee141-c490-4b38-a477-1ba83cef9250",
   "metadata": {},
   "source": [
    "#### ***7. 函数式编程***\n",
    "##### **7.1 函数-声明-变量作用域-多参数冗杂处理**"
   ]
  },
  {
   "cell_type": "markdown",
   "id": "02b24ae4-05ba-454c-b62e-e875f4b77d59",
   "metadata": {},
   "source": [
    "* python函数:\n",
    "    + 执行单独的操作\n",
    "    + 采用单个或多个参数作为输出\n",
    "    + 返回值(单或多个对象)作为输出"
   ]
  },
  {
   "cell_type": "code",
   "execution_count": 15,
   "id": "3dfbc269-46f1-4882-8c49-79320db62e83",
   "metadata": {},
   "outputs": [
    {
     "name": "stdout",
     "output_type": "stream",
     "text": [
      "100\n"
     ]
    }
   ],
   "source": [
    "def f2(x):\n",
    "    return x ** 2\n",
    "print(f2(10))"
   ]
  },
  {
   "cell_type": "markdown",
   "id": "cdf63c1d-e0fb-4a82-a9f7-1f90535cb624",
   "metadata": {
    "tags": []
   },
   "source": [
    "* **函数定义:**\n",
    "    + 函数是完成特定功能的语句组,语句并且作为一个单位并命名\n",
    "    + def functionName(parameter1, parameter2):\n",
    "        - \"\" \"注释\"\n",
    "        - statement1\n",
    "        - statement2\n",
    "    + return # valueToReturn"
   ]
  },
  {
   "cell_type": "markdown",
   "id": "da9c2577-cefa-432e-a95d-2979cb85d8d5",
   "metadata": {},
   "source": [
    "* 调用:\n",
    "    + 可以调用函数名在程序的不同地方多次执行(函数调用)\n",
    "    + 自定义函数\n",
    "    + 预定义函数\n",
    "    + 降低编程的难度\n",
    "    + 代码重用\n",
    "* functionName(x, y)"
   ]
  },
  {
   "cell_type": "code",
   "execution_count": 16,
   "id": "d4a2aaea-8852-4688-92b5-08935891f858",
   "metadata": {},
   "outputs": [
    {
     "name": "stdout",
     "output_type": "stream",
     "text": [
      "2\n"
     ]
    }
   ],
   "source": [
    "# 返回数字的绝对值\n",
    "def fabs(x):\n",
    "    if x >= 0:\n",
    "        h = x\n",
    "    if x < 0:\n",
    "        h = abs(x)\n",
    "    return h\n",
    "print(fabs(-2))"
   ]
  },
  {
   "cell_type": "markdown",
   "id": "af49ec4f-d29c-41ab-b592-4e1c1cbfc237",
   "metadata": {},
   "source": [
    "* **函数返回值**\n",
    "    + 函数被调用后返回一个指定的值\n",
    "    + 函数被调用后默认返回None\n",
    "    + return 返回值可以是任意类型\n",
    "    + return执行后函数终止\n",
    "    + 区分返回值和输出"
   ]
  },
  {
   "cell_type": "markdown",
   "id": "2fe8244f-ab26-42d2-8df8-380cc4d7acd9",
   "metadata": {},
   "source": [
    "* **变量作用域**\n",
    "    + 全局变量和局部变量\n",
    "    + global    "
   ]
  },
  {
   "cell_type": "code",
   "execution_count": 17,
   "id": "ab76bdd5-602b-449d-b17e-11fbe453518d",
   "metadata": {},
   "outputs": [
    {
     "name": "stdout",
     "output_type": "stream",
     "text": [
      "10\n"
     ]
    }
   ],
   "source": [
    "a = 99\n",
    "def f():\n",
    "    global a \n",
    "    a = 10\n",
    "    return a \n",
    "print(f())"
   ]
  },
  {
   "cell_type": "markdown",
   "id": "8aaa07a3-0ec2-4078-a1c5-68f82d0f88fa",
   "metadata": {},
   "source": [
    "* **参数:实参,形参,默认参数**\n",
    "    + def func(形参)\n",
    "    + func(实参)\n",
    "    + def func(x=0) x是默认参数"
   ]
  },
  {
   "cell_type": "code",
   "execution_count": 18,
   "id": "e8d6a038-8457-4db7-9946-46f8d51177a4",
   "metadata": {},
   "outputs": [
    {
     "name": "stdout",
     "output_type": "stream",
     "text": [
      "0\n",
      "制作一个 2 元的 狗屎 的冰淇淋\n",
      "制作一个 5 元的 巧克力 的冰淇淋\n",
      "制作一个 3 元的 鸡巴 的冰淇淋\n"
     ]
    }
   ],
   "source": [
    "def f2(x=0):\n",
    "    return x * 2\n",
    "print(f2())\n",
    "\n",
    "def machine(x,y='狗屎'):\n",
    "    print('制作一个 %d 元的 %s 的冰淇淋'%(x,y))\n",
    "machine(2)\n",
    "\n",
    "# 用 * + list 可以传递列表值\n",
    "list1 = [5, '巧克力']\n",
    "machine(*list1)\n",
    "\n",
    "# 用 ** + dict 可以传递字典值\n",
    "dict1 = {'x':3, 'y':'鸡巴'}\n",
    "machine(**dict1)"
   ]
  },
  {
   "cell_type": "markdown",
   "id": "9143f685-aa09-496c-a62c-a91f49752386",
   "metadata": {},
   "source": [
    "+ 多参数冗杂处理: 用*arg返回元组, **kv返回字典 "
   ]
  },
  {
   "cell_type": "code",
   "execution_count": 19,
   "id": "d5c08ea8-8b7f-4df4-89ae-1849638d90b9",
   "metadata": {},
   "outputs": [
    {
     "name": "stdout",
     "output_type": "stream",
     "text": [
      "制作一个 2 元的 3 的冰淇淋\n",
      "arg ()\n",
      "制作一个 2 元的 3 的冰淇淋\n",
      "arg (7,)\n",
      "制作一个 2 元的 3 的冰淇淋\n",
      "arg ()\n",
      "kv {'z': 7}\n"
     ]
    }
   ],
   "source": [
    "def machine1(x,y='狗屎', *arg):\n",
    "    print('制作一个 %d 元的 %s 的冰淇淋'%(x,y))\n",
    "    print('arg', arg)\n",
    "machine1(2,3)\n",
    "machine1(2,3,7)\n",
    "\n",
    "def machine2(x,y='狗屎', *arg, **kv):\n",
    "    print('制作一个 %d 元的 %s 的冰淇淋'%(x,y))\n",
    "    print('arg', arg)\n",
    "    print('kv', kv)\n",
    "\n",
    "machine2(2,3, z=7)"
   ]
  },
  {
   "cell_type": "markdown",
   "id": "ebb8f436-0d22-4c76-b7a9-614e4dcff09c",
   "metadata": {
    "tags": []
   },
   "source": [
    "##### **7.2 内建函数**\n",
    "* len() 获取序列长度"
   ]
  },
  {
   "cell_type": "code",
   "execution_count": 20,
   "id": "c7ba148c-b5f7-4f79-a0da-ebac855b9856",
   "metadata": {},
   "outputs": [
    {
     "name": "stdout",
     "output_type": "stream",
     "text": [
      "Help on built-in function len in module builtins:\n",
      "\n",
      "len(obj, /)\n",
      "    Return the number of items in a container.\n",
      "\n",
      "3\n",
      "Help on built-in function divmod in module builtins:\n",
      "\n",
      "divmod(x, y, /)\n",
      "    Return the tuple (x//y, x%y).  Invariant: div*y + mod == x.\n",
      "\n"
     ]
    }
   ],
   "source": [
    "help(len)\n",
    "l = [1,3,2]\n",
    "print(len(l))\n",
    "\n",
    "help(divmod) \n",
    "# help(pow) \n",
    "# help(round)\n",
    "# help(abs) \n",
    "# help(max) \n",
    "# help(min) \n",
    "# help(isinstance)\n",
    "# help(callable) \n",
    "# help(range) "
   ]
  },
  {
   "cell_type": "markdown",
   "id": "7f4242c5-dfd2-4b77-a0e0-12e64e252334",
   "metadata": {},
   "source": [
    "* **类型转化函数**\n",
    "    + type()\n",
    "    + int()\n",
    "    + float()\n",
    "    + complex()\n",
    "    + str()\n",
    "    + list()\n",
    "    + tuple()"
   ]
  },
  {
   "cell_type": "code",
   "execution_count": 21,
   "id": "8c672693-a865-4460-aab2-08408f0320b3",
   "metadata": {},
   "outputs": [
    {
     "name": "stdout",
     "output_type": "stream",
     "text": [
      "Help on built-in function hex in module builtins:\n",
      "\n",
      "hex(number, /)\n",
      "    Return the hexadecimal representation of an integer.\n",
      "    \n",
      "    >>> hex(12648430)\n",
      "    '0xc0ffee'\n",
      "\n"
     ]
    }
   ],
   "source": [
    "help(hex) # 返回整数的十六进制表示\n",
    "# help(oct) # 返回整数的八进制表示\n",
    "# help(chr) # 返回带有序号 i 的一个字符的 Unicode 字符串\n",
    "# help(ord) # 返回单字符字符串的 Unicode 代码点"
   ]
  },
  {
   "cell_type": "markdown",
   "id": "923e9df7-d5e3-4da9-8c12-df7955a99812",
   "metadata": {},
   "source": [
    "* **String内建方法和模块**\n",
    "    + str.capitalize() \n",
    "    + str.replace(self, old, new) 替换\n",
    "    + str.split() 切割\n",
    "    + str.strip() \n",
    "    + str.join(self, iterable) 拼接\n",
    "    + help(str)\n",
    "* **List内建方法**\n",
    "    + list.append(self, object) \n",
    "    + list.insert(self, index, object) 增加\n",
    "    + list.remove(self, object)\n",
    "    + list.pop() 删除\n",
    "    + list.index(self, object) 查\n",
    "    + list.sort() 排序\n",
    "* **Dict内建方法**\n",
    "    + 字典key值:dict.keys()\n",
    "    + 字典值:dict.values()\n",
    "    + 字典所有项:dict.items()\n",
    "    + 返回字典值:dict.get(self, k)"
   ]
  },
  {
   "cell_type": "markdown",
   "id": "86ef0fbb-7ea3-4b1e-8e2d-bb59c57f3663",
   "metadata": {},
   "source": [
    "##### **7.3 匿名函数lambda**\n",
    "* lambda函数是一种快速定义单行的最小函数\n",
    "    + 特点:\n",
    "        - 代码精简, 不用命名, 更好理解\n",
    "    + reduce(myadd, (1,2,3,4,5)) 1+2->3+3->6+4->10+5"
   ]
  },
  {
   "cell_type": "code",
   "execution_count": 22,
   "id": "97f85133-f1bb-4c74-a687-3111d8b226c6",
   "metadata": {},
   "outputs": [
    {
     "name": "stdout",
     "output_type": "stream",
     "text": [
      "15\n"
     ]
    }
   ],
   "source": [
    "from functools import reduce\n",
    "def f(x,y):\n",
    "    return x+y\n",
    "print(reduce(f, [1,2,3,4,5]))"
   ]
  },
  {
   "cell_type": "code",
   "execution_count": 23,
   "id": "f7caa36d-f6e1-4384-b1f3-fe59a5cca4a6",
   "metadata": {},
   "outputs": [
    {
     "name": "stdout",
     "output_type": "stream",
     "text": [
      "5\n",
      "15\n"
     ]
    }
   ],
   "source": [
    "ff = lambda x,y:x+y\n",
    "print(ff(2, 3))\n",
    "print(reduce(ff, [1,2,3,4,5]))"
   ]
  },
  {
   "cell_type": "code",
   "execution_count": 24,
   "id": "036cf0b5-3c54-4c5b-8046-07ef06a19839",
   "metadata": {},
   "outputs": [
    {
     "name": "stdout",
     "output_type": "stream",
     "text": [
      "<filter object at 0x0000021534205100>\n",
      "<map object at 0x0000021534205220>\n"
     ]
    }
   ],
   "source": [
    "foo = [2,18,9,22,17,24,8,12,27]\n",
    "\n",
    "print(filter(lambda x:x%3 ==0, foo)) # 用一个函数处理一个序列\n",
    "print(map(lambda x:x*2+10, foo)) # 对列表每一个元素取值进行函数操作"
   ]
  },
  {
   "cell_type": "markdown",
   "id": "64d97942-d358-43ef-adcf-dc96c80894e3",
   "metadata": {},
   "source": [
    "##### **7.4 生成器函数-yield**\n",
    "* **用yield代替return**"
   ]
  },
  {
   "cell_type": "code",
   "execution_count": 25,
   "id": "b35e8da7-1304-4ddd-a131-feb3ca4d2623",
   "metadata": {},
   "outputs": [
    {
     "name": "stdout",
     "output_type": "stream",
     "text": [
      "[1, 1, 2, 3, 5, 8, 13, 21, 34, 55, 89]\n"
     ]
    }
   ],
   "source": [
    "# 斐波那契数列递归数列,任意一个数由前两个数相加得到\n",
    "def fab(max):\n",
    "    n,a,b = 0,0,1\n",
    "    num1 = []\n",
    "    while n <= max:\n",
    "        num1.append(b)\n",
    "        a,b = b, a+b\n",
    "        n += 1\n",
    "    print(num1)\n",
    "fab(10)"
   ]
  },
  {
   "cell_type": "code",
   "execution_count": 26,
   "id": "3d190569-5129-4862-9013-91499f256898",
   "metadata": {},
   "outputs": [
    {
     "name": "stdout",
     "output_type": "stream",
     "text": [
      "1\n"
     ]
    }
   ],
   "source": [
    "def f():\n",
    "    return 1\n",
    "    return 2\n",
    "    return 3\n",
    "\n",
    "r1 = f()\n",
    "print(r1)"
   ]
  },
  {
   "cell_type": "code",
   "execution_count": 27,
   "id": "a5c257ea-d624-446e-a8c9-ec31deeb673b",
   "metadata": {},
   "outputs": [
    {
     "name": "stdout",
     "output_type": "stream",
     "text": [
      "one\n",
      "1\n",
      "two\n",
      "2\n",
      "three\n",
      "3\n"
     ]
    }
   ],
   "source": [
    "def f():\n",
    "    print('one')\n",
    "    yield 1\n",
    "    print('two')\n",
    "    yield 2\n",
    "    print('three')\n",
    "    yield 3\n",
    "\n",
    "g = f()\n",
    "print(g.__next__())\n",
    "print(g.__next__())\n",
    "print(g.__next__())"
   ]
  },
  {
   "cell_type": "markdown",
   "id": "eb1567d3-d6d3-4913-9bd6-2f72a5319dd3",
   "metadata": {
    "jp-MarkdownHeadingCollapsed": true,
    "tags": []
   },
   "source": [
    "* **yield + return 混用**\n",
    "* def func():\n",
    "    + if 1:\n",
    "        - yield x\n",
    "    + else:\n",
    "        - return y"
   ]
  },
  {
   "cell_type": "code",
   "execution_count": 28,
   "id": "1164c0fc-9531-4aaf-8a96-5260041f6ce4",
   "metadata": {},
   "outputs": [
    {
     "name": "stdout",
     "output_type": "stream",
     "text": [
      "[1]\n",
      "[1, 1]\n",
      "[1, 1, 2]\n",
      "[1, 1, 2, 3]\n",
      "[1, 1, 2, 3, 5]\n",
      "[1, 1, 2, 3, 5, 8]\n",
      "[1, 1, 2, 3, 5, 8, 13]\n",
      "[1, 1, 2, 3, 5, 8, 13, 21]\n",
      "[1, 1, 2, 3, 5, 8, 13, 21, 34]\n",
      "[1, 1, 2, 3, 5, 8, 13, 21, 34, 55]\n"
     ]
    }
   ],
   "source": [
    "def func(max):\n",
    "    n,a,b = 0,0,1\n",
    "    num2 = []\n",
    "    while n < max:\n",
    "        num2.append(b)\n",
    "        yield num2\n",
    "        a,b = b,a+b\n",
    "        n += 1\n",
    "        \n",
    "m = func(10)\n",
    "for i in range(10):\n",
    "    print(m.__next__())"
   ]
  },
  {
   "cell_type": "markdown",
   "id": "42b84235-4918-44d7-af3d-ed231de5a295",
   "metadata": {},
   "source": [
    "##### **7.5 模块化开发-自定义模块**\n",
    "* **模块**\n",
    "    + 包含函数,类或者其他语句的python脚本\n",
    "    + 复杂程序功能分类细化,不同功能放在不同脚本\n",
    "    + 便于维护和重用\n",
    "    + 导入模块\n",
    "    + import 模块名字\n",
    "    + import 模块名字 as 别名\n",
    "    + from (文件名.)模块名 import 函数/类名/模块名/* as 别名"
   ]
  },
  {
   "cell_type": "code",
   "execution_count": 29,
   "id": "5a8bb308-f4e5-48e1-a94d-dceff5fce9ba",
   "metadata": {},
   "outputs": [
    {
     "name": "stdout",
     "output_type": "stream",
     "text": [
      "i am mmmmm\n",
      "hello  this is myModule!!\n"
     ]
    }
   ],
   "source": [
    "class mymodule:\n",
    "    name = \"this is the module named mymodule!\"\n",
    "\n",
    "def show():\n",
    "    print('hello  this is myModule!!')\n",
    "\n",
    "if __name__ == '__main__':\n",
    "    print('i am mmmmm')\n",
    "    show()"
   ]
  },
  {
   "cell_type": "code",
   "execution_count": 30,
   "id": "44e2b986-3ecc-4250-ab1a-8db70b34b230",
   "metadata": {},
   "outputs": [
    {
     "name": "stdout",
     "output_type": "stream",
     "text": [
      "i am aaa\n",
      "hello  this is aaaaaaa!!\n"
     ]
    }
   ],
   "source": [
    "class a:\n",
    "    name = \"this is the module named mymodule!\"\n",
    "\n",
    "    def show():\n",
    "        print('hello  this is aaaaaaa!!')\n",
    "\n",
    "    if __name__ == '__main__':\n",
    "        print('i am aaa')\n",
    "        show()"
   ]
  },
  {
   "cell_type": "code",
   "execution_count": 31,
   "id": "b022dc1f-7ee9-4edb-a3b1-f68399e9bd88",
   "metadata": {},
   "outputs": [],
   "source": [
    "# from mymodule import mymodule as mm\n",
    "# from mymodule import * 导入所有方法\n",
    "\n",
    "# print(mm.name)\n",
    "# mm.show()"
   ]
  },
  {
   "cell_type": "markdown",
   "id": "4320f1fc-cf4c-41e3-ad95-bd236368c98e",
   "metadata": {},
   "source": [
    "* 查看模块方法"
   ]
  },
  {
   "cell_type": "code",
   "execution_count": 32,
   "id": "ddef8263-3bf3-4b10-9e77-8ac3b2ba5d3c",
   "metadata": {},
   "outputs": [],
   "source": [
    "# print(dir(mm))\n",
    "# print(help(mm))\n",
    "\n",
    "# def show():\n",
    "#    print('*' * 20)\n",
    "\n",
    "# print(show())"
   ]
  },
  {
   "cell_type": "markdown",
   "id": "dcf0ceb3-87ad-4045-b3a7-52cb6ecacc63",
   "metadata": {},
   "source": [
    "* **重载模块**\n",
    "    + import imp\n",
    "    + imp.reload(模块)"
   ]
  },
  {
   "cell_type": "code",
   "execution_count": 33,
   "id": "5015ba0f-b70f-4cda-bfab-99e5f0ddf97d",
   "metadata": {},
   "outputs": [],
   "source": [
    "# 模块优化\n",
    "# *pyc:\n",
    "#     命令:python -m py_compile mymodule.py\n",
    "#     脚本:\n",
    "#         import py_compile\n",
    "#         py_compile.compile('module.py', 'module.pyc')\n",
    "# *pyo or opt\n",
    "#     命令: python -O -m py_compile mymodule.py"
   ]
  },
  {
   "cell_type": "markdown",
   "id": "c18ef16b-cac3-4061-b62f-018926241b05",
   "metadata": {},
   "source": [
    "##### **7.6 模块化开发-包**\n",
    "* **模块位置**\n",
    "    + import sys\n",
    "    + sys.path\n",
    "    + modulepath = os.getcwd() + '\\\\module'\n",
    "    + sys.path.append(modulepath)"
   ]
  },
  {
   "cell_type": "code",
   "execution_count": 34,
   "id": "68b6b934-e6ee-4a27-82ae-3fe179de3171",
   "metadata": {},
   "outputs": [
    {
     "name": "stdout",
     "output_type": "stream",
     "text": [
      "['C:\\\\Users\\\\ASUS\\\\python', 'E:\\\\Anaconda\\\\Anaconda3\\\\envs\\\\py38\\\\python38.zip', 'E:\\\\Anaconda\\\\Anaconda3\\\\envs\\\\py38\\\\DLLs', 'E:\\\\Anaconda\\\\Anaconda3\\\\envs\\\\py38\\\\lib', 'E:\\\\Anaconda\\\\Anaconda3\\\\envs\\\\py38', '', 'E:\\\\Anaconda\\\\Anaconda3\\\\envs\\\\py38\\\\lib\\\\site-packages', 'E:\\\\Anaconda\\\\Anaconda3\\\\envs\\\\py38\\\\lib\\\\site-packages\\\\win32', 'E:\\\\Anaconda\\\\Anaconda3\\\\envs\\\\py38\\\\lib\\\\site-packages\\\\win32\\\\lib', 'E:\\\\Anaconda\\\\Anaconda3\\\\envs\\\\py38\\\\lib\\\\site-packages\\\\Pythonwin', 'E:\\\\Anaconda\\\\Anaconda3\\\\envs\\\\py38\\\\lib\\\\site-packages\\\\IPython\\\\extensions', 'C:\\\\Users\\\\ASUS\\\\.ipython']\n",
      "C:\\Users\\ASUS\\python\n",
      "C:\\Users\\ASUS\\python\\mymodule\\mymodule\n"
     ]
    }
   ],
   "source": [
    "import sys \n",
    "import os \n",
    "\n",
    "print(sys.path)\n",
    "print(os.getcwd())\n",
    "\n",
    "f = os.getcwd() + '\\\\mymodule\\\\mymodule'\n",
    "print(f)\n",
    "\n",
    "# sys.path.append(f)"
   ]
  },
  {
   "cell_type": "markdown",
   "id": "f58d46f9-7cf6-440f-be6a-92e747ad7f48",
   "metadata": {},
   "source": [
    "* **直接运行模块**\n",
    "    + __name__属性的值是否为__main__判断"
   ]
  },
  {
   "cell_type": "code",
   "execution_count": 35,
   "id": "e0a76644-002f-4654-9de9-e99713885320",
   "metadata": {},
   "outputs": [
    {
     "name": "stdout",
     "output_type": "stream",
     "text": [
      "i am mmmmm\n"
     ]
    }
   ],
   "source": [
    "if __name__ == '__main__':\n",
    "    print('i am mmmmm')"
   ]
  },
  {
   "cell_type": "markdown",
   "id": "b136ef17-4d57-4791-8159-df49ebb18c51",
   "metadata": {},
   "source": [
    "* **模块打包**\n",
    "    + 变成包:文件夹下(必须)有__init__.py"
   ]
  },
  {
   "cell_type": "code",
   "execution_count": 36,
   "id": "5c40009a-dcf5-4ae3-9dd4-53732968d5d5",
   "metadata": {},
   "outputs": [],
   "source": [
    "# from mymodule.A import a\n",
    "# a.show()"
   ]
  },
  {
   "cell_type": "markdown",
   "id": "d47c4978-83ea-48c7-bb08-37f1675d5def",
   "metadata": {},
   "source": [
    "##### **7.7 装饰器deco**\n",
    "* 装饰器:代码重用\n",
    "* 装饰器语法糖:\n",
    "    + 使用 @ 语法糖精简装饰器的代码"
   ]
  },
  {
   "cell_type": "code",
   "execution_count": 37,
   "id": "ced83dd4-06ab-4e89-9986-4fe604e079f0",
   "metadata": {},
   "outputs": [
    {
     "name": "stdout",
     "output_type": "stream",
     "text": [
      "myfunc is  wrapper\n",
      "##################################################\n",
      "myfunc is  wrapper\n",
      "myfunc start\n",
      "myfunc end\n",
      "its 1705.496311 ms\n"
     ]
    }
   ],
   "source": [
    "import time \n",
    "\n",
    "# 传递一个函数,并且执行其他代码\n",
    "def deco(func):\n",
    "    def wrapper():\n",
    "        startT = time.time()\n",
    "        func()\n",
    "        endT = time.time()\n",
    "        msecs = (endT - startT) * 1000\n",
    "        print('its %f ms'% msecs)\n",
    "    return wrapper\n",
    "\n",
    "@deco        # 等同于 myfunc = deco(myfunc)\n",
    "def myfunc():\n",
    "    print('myfunc start')\n",
    "    time.sleep(1.7)\n",
    "    print('myfunc end')\n",
    "\n",
    "# deco 函数是myfunc的装饰器函数,但是再次执行时myfunc没被装饰\n",
    "print('myfunc is ',myfunc.__name__)\n",
    "# myfunc = deco(myfunc)\n",
    "print(('#' * 50))\n",
    "print('myfunc is ',myfunc.__name__)\n",
    "myfunc()"
   ]
  },
  {
   "cell_type": "markdown",
   "id": "476a599b-3f7e-4356-890b-340a9bf76bc4",
   "metadata": {},
   "source": [
    "##### **7.8 闭包**\n",
    "* 创建闭包\n",
    "    + 闭包函数必须有内嵌函数\n",
    "    + 内嵌函数必须引用该嵌套函数上一级变量\n",
    "    + 闭包函数必须返回内嵌函数"
   ]
  },
  {
   "cell_type": "code",
   "execution_count": 38,
   "id": "110727e3-69e9-4c3b-8d90-55fa5255b555",
   "metadata": {},
   "outputs": [],
   "source": [
    "# hello_conf 是闭包函数\n",
    "# hello 是内嵌函数\n",
    "def hello_conf(prefix):\n",
    "    def hello(name):\n",
    "        print(prefix,name)\n",
    "    return hello"
   ]
  },
  {
   "cell_type": "code",
   "execution_count": 39,
   "id": "44821e4f-6aa4-4b3a-8b8f-80eb99100829",
   "metadata": {},
   "outputs": [
    {
     "name": "stdout",
     "output_type": "stream",
     "text": [
      "hello\n",
      "2290092213584\n",
      "hello\n",
      "2290092214592\n"
     ]
    }
   ],
   "source": [
    "# a现在是带有前缀的闭包函数函数\n",
    "a = hello_conf('Good Morning!')\n",
    "print(a.__name__)\n",
    "print(id(a))\n",
    "# a('milo')\n",
    "# a('pfh')\n",
    "\n",
    "b = hello_conf('Good Afternoon')\n",
    "# b('milo')\n",
    "# b('pan')\n",
    "print(b.__name__)\n",
    "print(id(b))"
   ]
  },
  {
   "cell_type": "markdown",
   "id": "b8715c3d-157b-4fca-a86b-d492c422bb73",
   "metadata": {},
   "source": [
    "* **apacheLog**"
   ]
  },
  {
   "cell_type": "code",
   "execution_count": 40,
   "id": "d968f640-574c-40bf-adcb-84c89666ea8b",
   "metadata": {},
   "outputs": [],
   "source": [
    "# =============================================================================\n",
    "# Usage: apacheLog + Logfile\n",
    "# =============================================================================\n",
    "\n",
    "import sys\n",
    "\n",
    "def split_log(line):\n",
    "    split_line = line.split()\n",
    "    return {'remote_host': split_line[0],\n",
    "            'status': split_line[8],\n",
    "            'byets_sent': split_line[9]            \n",
    "            }\n",
    "\n",
    "\n",
    "def generate_repot(logfileobj):\n",
    "    report_dict = {}\n",
    "    for line in logfileobj:\n",
    "        line_dict = split_log(line)\n",
    "        print (line_dict)\n",
    "        try:\n",
    "            bytes_sent = int(line_dict['bytes_sent'])\n",
    "        except ValueError:\n",
    "            continue\n",
    "        report_dict.setdefault(line_dict['remote_host'], []).append(bytes_sent)\n",
    "    return report_dict\n",
    "\n",
    "\n",
    "def main():\n",
    "    if not len(sys.argv) > 1:\n",
    "        print(__doc__)\n",
    "        sys.exit(1)\n",
    "    infile_path = sys.argv[1]\n",
    "    try:\n",
    "        infile = open(infile_path, 'r')\n",
    "    except IOError:\n",
    "        print('file path is not exsits')\n",
    "        print(__doc__)\n",
    "        sys.exit(1)\n",
    "    log_report = generate_repot(infile)\n",
    "    print(log_report)\n",
    "    infile.close()\n",
    "\n",
    "if __name__ == 'main':\n",
    "    main()"
   ]
  },
  {
   "cell_type": "markdown",
   "id": "ee089f0d-cde7-4ebb-827d-96ad4890fdaa",
   "metadata": {},
   "source": [
    "#### ***8.正则表达式应用***\n",
    "##### **8.1 正则表达式**"
   ]
  },
  {
   "cell_type": "markdown",
   "id": "4d7d5903-8b92-481a-8bf4-9353c90c6fb4",
   "metadata": {},
   "source": [
    "* 正则表达式(RE)是一个小型的,高度专业化的编程语言,他内嵌在python中,并通过re模块实现\n",
    "    + 可以为想要匹配的相应字符串集指定规则\n",
    "    + 该字符串集可能包含英文语句,Email地址,命令或者任何你想要协定的东西\n",
    "    + 可以问诸如\"这个字符串匹配该模式吗\"\n",
    "    + \"在这个字符串中是否有部分匹配该模式呢\"\n",
    "    + 你也可以使用RE以各种方式来修改过分割字符串\n",
    "* 正则表达式:\n",
    "    + 正则表达式模式被编译成一系列的字节码,然后由用C编写的匹配引擎执行\n",
    "    + 正则表达式语言相对小型和受限(功能有限)\n",
    "        - 并非所有字符串处理都能用正则表达式表示\n",
    "    + 字符匹配:\n",
    "        - 普通字符:\n",
    "            * 大多数字母和字符一般都会和自身匹配\n",
    "            * 如正则表达式test和字符串'test'完全匹配"
   ]
  },
  {
   "cell_type": "code",
   "execution_count": 41,
   "id": "a9b5ff45-19b1-492e-9626-05d27bdcb785",
   "metadata": {},
   "outputs": [
    {
     "name": "stdout",
     "output_type": "stream",
     "text": [
      "['hello', 'hello', 'hello']\n",
      "['tap', 'top', 'tdp', 'tbp', 'tcp', 'txp', 't p']\n",
      "['tdp', 'tbp', 'tcp']\n",
      "['tap', 'top', 'txp', 't p']\n",
      "['tap']\n",
      "[]\n",
      "['p ', 'p ', 'p ', 'p ', 'p ', 'p ']\n",
      "['p']\n",
      "['a', 'a', 'a', 'a', 'a']\n",
      "['ab', 'ab', 'ab', 'ab']\n",
      "['ab', 'abb', 'abbb', 'abbbbbbbb']\n",
      "['a', 'ab', 'abb', 'abbb', 'abbbbbbbb']\n",
      "['a', 'ab', 'ab', 'ab', 'ab']\n",
      "['a', 'ab', 'ab', 'ab', 'ab']\n",
      "['a', 'ab', 'abb', 'abbb', 'abbbbbbbb']\n",
      "['ab', 'abb', 'abbb', 'abbbbbbbb']\n",
      "['com', 'cn']\n",
      "['pythoner']\n",
      "['csvt.org']\n",
      "[]\n",
      "['pythoner']\n",
      "['csvt']\n",
      "[]\n",
      "[]\n"
     ]
    }
   ],
   "source": [
    "import re\n",
    "\n",
    "reg1 = 'hello'\n",
    "reg1 = r'hello'\n",
    "s = 'hello'\n",
    "\n",
    "# =============================================================================\n",
    "# 查看匹配的字符串\n",
    "# =============================================================================\n",
    "re.findall(reg1, s)\n",
    "s = 'hello hello aaaahello'\n",
    "print(re.findall(reg1, s))\n",
    "\n",
    "t = 'tap top tdp tbp tcp txp ttt ppp'\n",
    "reg_t = r't.p' #.代表任意字符\n",
    "print(re.findall(reg_t, t))\n",
    "\n",
    "reg_t = r't[bcd]p' #[abc]abc中任意一个\n",
    "print(re.findall(reg_t, t))\n",
    "\n",
    "reg_t = r't[^bcd]p' #[^abc]除了abc中的代表任意字符\n",
    "print(re.findall(reg_t, t))\n",
    "\n",
    "reg_t = r'^tap' #'^abc'表示是否以abc开头\n",
    "print(re.findall(reg_t, t))\n",
    "\n",
    "reg_t = r'^top' #'^abc'表示是否以abc开头\n",
    "print(re.findall(reg_t, t))\n",
    "\n",
    "reg_t = r'p ' #\n",
    "print(re.findall(reg_t, t))\n",
    "\n",
    "reg_t = r'p$' #以p结尾的\n",
    "print(re.findall(reg_t, t))\n",
    "\n",
    "a = 'a ab abb abbb abbbbbbbb'\n",
    "reg_a = r'a'\n",
    "print(re.findall(reg_a, a))\n",
    "\n",
    "reg_a = r'ab'\n",
    "print(re.findall(reg_a, a))\n",
    "\n",
    "reg_a = r'ab+' # +表示一个以上\n",
    "print(re.findall(reg_a, a))\n",
    "\n",
    "reg_a = r'ab*' # *表示0个以上\n",
    "print(re.findall(reg_a, a))\n",
    "\n",
    "reg_a = r'ab?' # ?表示0次或一次以上\n",
    "print(re.findall(reg_a, a))\n",
    "\n",
    "reg_a = r'ab{0,1}' # 同?\n",
    "print(re.findall(reg_a, a))\n",
    "\n",
    "reg_a = r'ab{0,}' # 同*\n",
    "print(re.findall(reg_a, a))\n",
    "\n",
    "reg_a = r'ab{1,}' # 同+\n",
    "print(re.findall(reg_a, a))\n",
    "\n",
    "c = 'com cn org'\n",
    "reg_c = r'com|cn'\n",
    "print(re.findall(reg_c, c))\n",
    "\n",
    "w1 = 'pythoner.org'\n",
    "w2 = 'csvt.org'\n",
    "w3 = 'other.org'\n",
    "\n",
    "reg_w = r'pythoner|csvt\\.org' # \\转译\n",
    "print(re.findall(reg_w, w1))\n",
    "print(re.findall(reg_w, w2))\n",
    "print(re.findall(reg_w, w3))\n",
    "\n",
    "reg_w = r'(pythoner|csvt)\\.org'\n",
    "print(re.findall(reg_w, w1))\n",
    "print(re.findall(reg_w, w2))\n",
    "print(re.findall(reg_w, w3))\n",
    "\n",
    "w4 = 'csvt.net'\n",
    "print(re.findall(reg_w, w4))\n",
    "\n",
    "reg_w = r'(pythoner|csvt)\\.org'"
   ]
  },
  {
   "cell_type": "markdown",
   "id": "0bb52b1d-9c1f-42c2-b3e4-8c331dbb3c2e",
   "metadata": {},
   "source": [
    "##### **8.2 应用一个小爬虫**"
   ]
  },
  {
   "cell_type": "markdown",
   "id": "835fa52c-56d8-42d2-ada2-cb7e5055426d",
   "metadata": {},
   "source": [
    "* **Re**\n",
    "    + Re模块提供了一个正则表达式的接口，可以将REstring编译成对象并用它们来进行匹配\n",
    "    + 编译正则表达式\n",
    "    + import re\n",
    "    + p = re.compile('ab*')\n",
    "    + print(p)"
   ]
  },
  {
   "cell_type": "code",
   "execution_count": 42,
   "id": "dfc24ed0-df62-44af-bdbe-27f575cbbc94",
   "metadata": {},
   "outputs": [
    {
     "name": "stdout",
     "output_type": "stream",
     "text": [
      "['top', 'tcp', 'tdp']\n",
      "['top', 'tcp', 'tdp', 'TOP', 'ToP', 'toP']\n"
     ]
    }
   ],
   "source": [
    "import re \n",
    "\n",
    "t = 'top tcp tdp'\n",
    "reg_t = re.compile(r't.p')\n",
    "print(reg_t.findall(t))\n",
    "\n",
    "t = 'top tcp tdp TOP ToP toP'\n",
    "reg_t = re.compile(r't.p', re.I)\n",
    "print(reg_t.findall(t))"
   ]
  },
  {
   "cell_type": "markdown",
   "id": "e822d1c2-d3a2-482e-90c2-03dc2d5777f2",
   "metadata": {},
   "source": [
    "* **RE执行匹配**\n",
    "    + match():决定RE是否在字符串刚开始的位置匹配\n",
    "    + search():扫描字符串，找到这个RE匹配的位置\n",
    "    + findall():找到RE匹配的所有字串，并把它们作为一个列表返回\n",
    "    + finditer():找到RE匹配的所有字串，并把它们作为一个迭代器返回"
   ]
  },
  {
   "cell_type": "code",
   "execution_count": 43,
   "id": "3eaaef4c-35fd-4d75-9e84-eae20700cf5d",
   "metadata": {},
   "outputs": [
    {
     "name": "stdout",
     "output_type": "stream",
     "text": [
      "top\n"
     ]
    }
   ],
   "source": [
    "t = 'top tcp tdp TOP ToP toP'\n",
    "reg_t = re.compile(r't.p')\n",
    "m = reg_t.match(t)\n",
    "print(m.group(0))"
   ]
  }
 ],
 "metadata": {
  "kernelspec": {
   "display_name": "Python 3 (ipykernel)",
   "language": "python",
   "name": "python3"
  },
  "language_info": {
   "codemirror_mode": {
    "name": "ipython",
    "version": 3
   },
   "file_extension": ".py",
   "mimetype": "text/x-python",
   "name": "python",
   "nbconvert_exporter": "python",
   "pygments_lexer": "ipython3",
   "version": "3.9.7"
  }
 },
 "nbformat": 4,
 "nbformat_minor": 5
}
