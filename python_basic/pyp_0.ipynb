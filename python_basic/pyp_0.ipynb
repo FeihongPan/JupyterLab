{
 "cells": [
  {
   "cell_type": "markdown",
   "metadata": {},
   "source": [
    "# Einführung in die Programmiersprache Python und wissenschaftlich-technische Anwendungsbeispiele - Teil II\n",
    "## Inhalt\n",
    "* Coolprop\n",
    "* Einführung in die objektorientierte Modellierung (OOM)"
   ]
  },
  {
   "cell_type": "markdown",
   "metadata": {},
   "source": [
    "## Coolprop\n",
    "### Schnittstelle\n",
    "+ High-level interface (CoolProp.CoolProp)\n",
    "  - einfache Anwendung (für die meisten Fälle ausreichend)\n",
    "  - leicht verständlich\n",
    "+ Low-level interface (CoolProp)\n",
    "  - fortgeschrittene Anwendung\n",
    "  - schneller"
   ]
  },
  {
   "cell_type": "markdown",
   "metadata": {},
   "source": [
    "### Häufig verwendete Funktionen in der High-level interface (CoolProp.CoolProp)\n",
    "+ **PropsSI()**: Berechnung der Stoffeigenschaft eines Fluid (anhand zwei gegebener Zustandsgrößen)\n",
    "+ **PhaseSI()**: Ermittlung der Phase des Fluids für den gegebenen Zustandspunkt\n",
    "+ **get_fluid_param_string()**: Abrufen der Informationen eines Fluidstrings, z.B. chemische Formel des Fluids\n",
    "+ **set_reference_state()**: Änderung der Referenzpunkt für die Berechnung der Enthalpie / Entropie"
   ]
  },
  {
   "cell_type": "code",
   "execution_count": 7,
   "metadata": {},
   "outputs": [
    {
     "ename": "ModuleNotFoundError",
     "evalue": "No module named 'CoolProp'",
     "output_type": "error",
     "traceback": [
      "\u001b[1;31m---------------------------------------------------------------------------\u001b[0m",
      "\u001b[1;31mModuleNotFoundError\u001b[0m                       Traceback (most recent call last)",
      "\u001b[1;32m~\\AppData\\Local\\Temp/ipykernel_24844/599097438.py\u001b[0m in \u001b[0;36m<module>\u001b[1;34m\u001b[0m\n\u001b[0;32m      1\u001b[0m \u001b[1;31m# Importieren von Paketen und Funktionen\u001b[0m\u001b[1;33m\u001b[0m\u001b[1;33m\u001b[0m\u001b[0m\n\u001b[1;32m----> 2\u001b[1;33m \u001b[1;32mimport\u001b[0m \u001b[0mCoolProp\u001b[0m\u001b[1;33m.\u001b[0m\u001b[0mCoolProp\u001b[0m \u001b[1;32mas\u001b[0m \u001b[0mCP\u001b[0m\u001b[1;33m\u001b[0m\u001b[1;33m\u001b[0m\u001b[0m\n\u001b[0m\u001b[0;32m      3\u001b[0m \u001b[1;32mfrom\u001b[0m \u001b[0mCoolProp\u001b[0m\u001b[1;33m.\u001b[0m\u001b[0mCoolProp\u001b[0m \u001b[1;32mimport\u001b[0m \u001b[0mPropsSI\u001b[0m\u001b[1;33m\u001b[0m\u001b[1;33m\u001b[0m\u001b[0m\n\u001b[0;32m      4\u001b[0m \u001b[1;32mimport\u001b[0m \u001b[0mscipy\u001b[0m\u001b[1;33m.\u001b[0m\u001b[0moptimize\u001b[0m \u001b[1;32mas\u001b[0m \u001b[0mopt\u001b[0m\u001b[1;33m\u001b[0m\u001b[1;33m\u001b[0m\u001b[0m\n\u001b[0;32m      5\u001b[0m \u001b[1;32mimport\u001b[0m \u001b[0mnumpy\u001b[0m \u001b[1;32mas\u001b[0m \u001b[0mnp\u001b[0m\u001b[1;33m\u001b[0m\u001b[1;33m\u001b[0m\u001b[0m\n",
      "\u001b[1;31mModuleNotFoundError\u001b[0m: No module named 'CoolProp'"
     ]
    }
   ],
   "source": [
    "# Importieren von Paketen und Funktionen\n",
    "import CoolProp.CoolProp as CP\n",
    "from CoolProp.CoolProp import PropsSI\n",
    "import scipy.optimize as opt\n",
    "import numpy as np"
   ]
  },
  {
   "cell_type": "markdown",
   "metadata": {},
   "source": [
    "+ Berechnung des Sättigungsdampfdrucks (auf Siedelinie)"
   ]
  },
  {
   "cell_type": "code",
   "execution_count": 2,
   "metadata": {},
   "outputs": [
    {
     "name": "stdout",
     "output_type": "stream",
     "text": [
      "6434244.250641562 Pa\n"
     ]
    }
   ],
   "source": [
    "p_s = PropsSI('P', 'T', 25+273.15, 'Q', 0, \"CO2\")\n",
    "print(p_s, \"Pa\")"
   ]
  },
  {
   "cell_type": "markdown",
   "metadata": {},
   "source": [
    "+ Berechnung der Enthalpie"
   ]
  },
  {
   "cell_type": "code",
   "execution_count": 3,
   "metadata": {},
   "outputs": [
    {
     "name": "stdout",
     "output_type": "stream",
     "text": [
      "419408.0704572205 J/kg\n"
     ]
    }
   ],
   "source": [
    "h = PropsSI('H', 'P', 1e5, 'T', 20+273.15, \"air\")\n",
    "print(h, \"J/kg\")"
   ]
  },
  {
   "cell_type": "markdown",
   "metadata": {},
   "source": [
    "#### Hinweise:\n",
    "+ Die Parameter z.B. P, T hier müssen in Großschreibung angegeben werden\n",
    "+ eine Liste der Parameter siehe http://www.coolprop.org/coolprop/HighLevelAPI.html#fluid-information\n",
    "+ Mehr Beispiele in der Übung"
   ]
  },
  {
   "cell_type": "markdown",
   "metadata": {},
   "source": [
    "## Einführung in die objektorientierte Modellierung (OOM) in Python\n",
    "### Objekte und Klassen\n",
    "+ Ein Objekt enhält\n",
    "  - Eigenschaften/Attribute (Variable)\n",
    "  - Methoden/Funktionalitäten (Funktionen)\n",
    "+ Klasse\n",
    "  - Muster / Vorlage zum Erstellen von ähnlichen Objekten mit gleichen Attributen und Methoden\n",
    "  \n",
    "### Merkmale und wesentliche Vorteile\n",
    "+ Datenkapselung: Verbergen von Daten oder Informationen vor dem Zugriff von außen.\n",
    "+ Vererbung: Erstellung der Klassen, die auf vorhandenen Klassen aufbauen.\n",
    "+ Polymorphie (Vielgestaltigkeit): Methode mit identischen Signaturen kann in verschiedenen Klassen unterschiedlich implementiert werden.\n",
    "+ strukturiert, übersichtlich, flexibel\n",
    "\n",
    "### Deklaration und Nutzung von Klassen in Python\n",
    "+ **class** Schlüsselwort für Klassedeklaration\n",
    "+ Abgrenzung von Blöcken mit Einrückung\n",
    "+ **def** Schlüsselwort für Deklaration der Klassenmethoden (Funktionen)\n",
    "  - __init__() Methode für Vorgabewerten / Initialisierung, kein Rückgabewert\n",
    "  - Methoden können Parameter / Argumente in () enthalten. self ist das erste Argument einer Methode. Dann folgen die sonstigen Parameter.\n",
    "+ **self.** Instanz der Klasse\n",
    "  - self.Name_des_Attributes für Aufruf eines Attributes innerhalb der Klasse\n",
    "  - self.Name_der_Methode() für Aufruf einer Methode innerhalb der Klasse\n",
    "+ Objektname.Attribute / Objektname.Methode() für Aufruf der Attribute und Methoden einer Objekt"
   ]
  },
  {
   "cell_type": "code",
   "execution_count": 4,
   "metadata": {},
   "outputs": [],
   "source": [
    "class Ventilator: \n",
    "    # enthält 3 Attribute: n, n_max, Name (als optionale Eingabe)\n",
    "    # und 2 Methode: start(), stop()\n",
    "    def __init__(self, max_Drehzahl, Name = None): # Vorgabewerte\n",
    "        self.n_max = max_Drehzahl # Attribute 1\n",
    "        self.n = 0 # Attribute 2\n",
    "        self.Name = Name # Attribute 3\n",
    "        \n",
    "    def start(self): # Methode 1\n",
    "        print('Ventilator {} wird eingeschaltet'.format(self.Name))\n",
    "        self.n = self.n_max\n",
    "    def stop(self): # Methode 2\n",
    "        print('Ventilator {} wird ausgeschaltet'.format(self.Name))\n",
    "        self.n = 0\n",
    "    # ... ggf. noch weitere Methoden"
   ]
  },
  {
   "cell_type": "code",
   "execution_count": 5,
   "metadata": {},
   "outputs": [
    {
     "name": "stdout",
     "output_type": "stream",
     "text": [
      "Ventilator A wird eingeschaltet\n",
      "1000 rpm\n",
      "Ventilator A wird ausgeschaltet\n",
      "0 rpm\n"
     ]
    }
   ],
   "source": [
    "Vent1 = Ventilator(1000, Name = 'A')\n",
    "Vent1.start()\n",
    "print(Vent1.n, 'rpm')\n",
    "Vent1.stop()\n",
    "print(Vent1.n, 'rpm')"
   ]
  },
  {
   "cell_type": "markdown",
   "metadata": {},
   "source": [
    "### Vererbung\n",
    "+ Abgeleitete Klasse (Unterklasse, erbende Klasse), die die Attribute und Methoden von der Basisklasse (Oberklasse, vererbende Klasse) enthält\n",
    "+ Deklaration einer abgeleiteten Klasse: class Name_der_abgleiteten_Klasse(Name_der_Basisklasse):\n",
    "+ Überschreiben von Methoden möglich\n"
   ]
  },
  {
   "cell_type": "code",
   "execution_count": 6,
   "metadata": {},
   "outputs": [],
   "source": [
    "class Besserer_Ventilator(Ventilator):\n",
    "    # die Klasse vererbt die Attribute `n`, `n_max`, `Name` \n",
    "    # und Methoden `start()`, `stop()` von der Basisklasse \"Ventilator\"\n",
    "    \n",
    "    # Deklaration und Definition weiterer Methoden\n",
    "    def Drehzahl_einstellen(self, n):\n",
    "        if self.n == 0: # wenn der Ventilator nicht eingescahltet ist\n",
    "            print('Ventilator {} wird eingeschaltet'.format(self.Name))\n",
    "        self.n = min(n, self.n_max)\n",
    "    # ... ggf. noch weitere Methoden "
   ]
  },
  {
   "cell_type": "code",
   "execution_count": 7,
   "metadata": {},
   "outputs": [
    {
     "name": "stdout",
     "output_type": "stream",
     "text": [
      "Ventilator B wird eingeschaltet\n",
      "600 rpm\n",
      "Ventilator B wird ausgeschaltet\n",
      "0 rpm\n"
     ]
    }
   ],
   "source": [
    "Vent2 = Besserer_Ventilator(1000, Name = 'B')\n",
    "Vent2.Drehzahl_einstellen(600)\n",
    "print(Vent2.n, 'rpm')\n",
    "Vent2.stop()\n",
    "print(Vent2.n, 'rpm')"
   ]
  },
  {
   "cell_type": "markdown",
   "metadata": {},
   "source": [
    "## Anwendungsbeispiele\n",
    "### Ein einfaches Verdichter-Modell\n",
    "##### **Bekannte Größe**:\n",
    "V_Hub, η_is, η_el, n_norm, λ\n",
    "##### **Betriebsparameter**:\n",
    "T_1, p_1, p_2, n\n",
    "##### **Die Gleichungen zur Berechnung des Fördermassenstroms und der Leistungen**:\n",
    "h_2 = h_1 + (h_2_is − h_1)/ η_is\n",
    "\n",
    "m = λ ⋅ V_Hub / v_1 ⋅ n / n_norm\n",
    "\n",
    "P_i = m ⋅ (h_2 − h_1)\n",
    "\n",
    "P_el = P_i / η_el"
   ]
  },
  {
   "cell_type": "markdown",
   "metadata": {},
   "source": [
    "#### Modellierung als Funktion"
   ]
  },
  {
   "cell_type": "code",
   "execution_count": 8,
   "metadata": {},
   "outputs": [],
   "source": [
    "def fun_Verdichter(fluid = None, \n",
    "                 Fördervolumen = 0, # m3/h\n",
    "                 isentroper_Guetegrad = 1,\n",
    "                 elektrischer_Wirkungsgrad = 1,\n",
    "                 Liefergrad = 1,\n",
    "                 Betriebsparameter = {}, # z.B. Eingabe p_1, T_1, p_2, n\n",
    "              ): \n",
    "    h_1 = PropsSI('H', 'P', Betriebsparameter['p_1'], 'T', Betriebsparameter['T_1'], fluid)\n",
    "    s_1 = PropsSI('S', 'P', Betriebsparameter['p_1'], 'T', Betriebsparameter['T_1'], fluid)\n",
    "    v_1 = 1/PropsSI('D', 'P', Betriebsparameter['p_1'], 'T', Betriebsparameter['T_1'], fluid)\n",
    "    h_2_is = PropsSI('H', 'S', s_1, 'P', Betriebsparameter['p_2'], fluid)\n",
    "    h_2 = h_1 + (h_2_is - h_1) / isentroper_Guetegrad\n",
    "    T_2 = PropsSI('T', 'P', Betriebsparameter['p_2'], 'H', h_2, fluid)\n",
    "    m_dot = Liefergrad * Fördervolumen / 50* Betriebsparameter['n'] /3600 / v_1 # Fördermassenstrom in kg3/h\n",
    "    P_i = m_dot * (h_2 - h_1) #innere Leistung\n",
    "    P_el = P_i / elektrischer_Wirkungsgrad #elektrische Leistung\n",
    "    return m_dot, P_i, P_el"
   ]
  },
  {
   "cell_type": "code",
   "execution_count": 9,
   "metadata": {},
   "outputs": [
    {
     "name": "stdout",
     "output_type": "stream",
     "text": [
      "(0.38961248651570357, 16087.820158068509, 16934.547534808957)\n"
     ]
    }
   ],
   "source": [
    "BP1 = {\n",
    "            'p_1' : 45e5,\n",
    "            'T_1' : 20+273.15,\n",
    "            'p_2' : 90e5,\n",
    "            'n' : 50\n",
    "      }\n",
    "\n",
    "print(fun_Verdichter(fluid = 'CO2', Fördervolumen = 15, isentroper_Guetegrad = 0.7, elektrischer_Wirkungsgrad = 0.95,\n",
    "                Liefergrad = 0.8,                 \n",
    "                Betriebsparameter = BP1))"
   ]
  },
  {
   "cell_type": "markdown",
   "metadata": {},
   "source": [
    "#### Modellierung als Klasse (OOM)"
   ]
  },
  {
   "cell_type": "code",
   "execution_count": 10,
   "metadata": {},
   "outputs": [],
   "source": [
    "class Verdichter():\n",
    "    def __init__(self, fluid = None, \n",
    "                 Fördervolumen = 0, # m3/h\n",
    "                 isentroper_Guetegrad = 1,\n",
    "                 elektrischer_Wirkungsgrad = 1,\n",
    "                 Liefergrad = 1,\n",
    "                 Betriebsparameter = {}, # z.B. Eingabe p_1, T_1, p_2, n\n",
    "                 ):\n",
    "        self.fluid = fluid\n",
    "        self.eta_is = isentroper_Guetegrad\n",
    "        self.eta_el = elektrischer_Wirkungsgrad\n",
    "        self.lbd = Liefergrad\n",
    "        self.V_dot_th_norm = Fördervolumen\n",
    "        self.P_i = 0. # innere Leistung\n",
    "        self.m_dot = 0. # Massenstrom\n",
    "        self.BP = self.__BP_norm()\n",
    "        self.update_BP(Betriebsparameter) \n",
    "    \n",
    "    def update_BP(self, BP): # neue Betriebsparameter eingeben\n",
    "        self.BP.update(BP)\n",
    "        \n",
    "    def __BP_norm(self): \n",
    "        BP = {\n",
    "            'p_1' : 0, # Eintrittsdruck\n",
    "            'T_1' : 0, # Eintrittstemperatur\n",
    "            'p_2' : 0, # Austrittsdruck\n",
    "            'n' : 50, # in Hz Drehzahl\n",
    "        }\n",
    "        return BP "
   ]
  },
  {
   "cell_type": "code",
   "execution_count": 11,
   "metadata": {},
   "outputs": [],
   "source": [
    "class Verdichter(Verdichter): \n",
    "    # Fortsetzung der vorherigen Zelle, \n",
    "    #nur zu Darstellungszwecken, nicht für normale Arbeiten nutzen\n",
    "    \n",
    "    @property # automatisch aktualiesiert\n",
    "    def V_dot_th(self): #theoretische Volumenstrom in m3/h\n",
    "        return self.V_dot_th_norm * self.BP['n'] / self.__BP_norm()['n']\n",
    "    \n",
    "    def berechnen(self):\n",
    "        # berechnung self.h_o, self.P und self.V_th \n",
    "        self.h_1 = PropsSI('H', 'P', self.BP['p_1'], 'T', self.BP['T_1'], self.fluid)\n",
    "        s_1 = PropsSI('S', 'P', self.BP['p_1'], 'T', self.BP['T_1'], self.fluid)\n",
    "        v_1 = 1/PropsSI('D', 'P', self.BP['p_1'], 'T', self.BP['T_1'], self.fluid)\n",
    "        h_2_is = PropsSI('H', 'S', s_1, 'P', self.BP['p_2'], self.fluid)\n",
    "        self.h_2 = self.h_1 + (h_2_is - self.h_1) / self.eta_is\n",
    "        self.T_2 = PropsSI('T', 'P', self.BP['p_2'], 'H', self.h_2, self.fluid)\n",
    "        self.m_dot = self.lbd * self.V_dot_th /3600 / v_1 \n",
    "        self.P_i = self.m_dot * (self.h_2 - self.h_1) #innere Leistung\n",
    "        self.P_el = self.P_i / self.eta_el #elektrische Leistung"
   ]
  },
  {
   "cell_type": "code",
   "execution_count": 12,
   "metadata": {},
   "outputs": [],
   "source": [
    "V1 = Verdichter(fluid = 'CO2', Fördervolumen = 15, isentroper_Guetegrad = 0.7, elektrischer_Wirkungsgrad = 0.95,\n",
    "                Liefergrad = 0.8,                 \n",
    "                Betriebsparameter = BP1)"
   ]
  },
  {
   "cell_type": "code",
   "execution_count": 13,
   "metadata": {},
   "outputs": [
    {
     "name": "stdout",
     "output_type": "stream",
     "text": [
      "Betriebsparameter: {'p_1': 4500000.0, 'T_1': 293.15, 'p_2': 9000000.0, 'n': 50}\n",
      "P_i: 16087.820158068509\n"
     ]
    }
   ],
   "source": [
    "V1.berechnen()\n",
    "print('Betriebsparameter:', V1.BP)\n",
    "print('P_i:', V1.P_i)"
   ]
  },
  {
   "cell_type": "code",
   "execution_count": 14,
   "metadata": {},
   "outputs": [
    {
     "name": "stdout",
     "output_type": "stream",
     "text": [
      "Betriebsparameter: {'p_1': 4500000.0, 'T_1': 293.15, 'p_2': 9000000.0, 'n': 30}\n",
      "P_i: 9652.692094841106\n",
      "m_dot: 0.23376749190942214\n"
     ]
    }
   ],
   "source": [
    "V1.update_BP({'n': 30})\n",
    "V1.berechnen()\n",
    "print('Betriebsparameter:', V1.BP)\n",
    "print('P_i:', V1.P_i)\n",
    "print('m_dot:', V1.m_dot)"
   ]
  },
  {
   "cell_type": "markdown",
   "metadata": {},
   "source": [
    "### Zwei Verdichter in Boosterschaltung"
   ]
  },
  {
   "cell_type": "markdown",
   "metadata": {},
   "source": [
    "#### Annahmen:\n",
    "+ Kältemittel R744\n",
    "+ Saugdruckzustand des Verdichters 1: 20 bar, -10°C\n",
    "+ Verdichtungsenddruck des Verdichters 2: 90 bar\n",
    "+ Zwischenkühlung auf 30°C\n",
    "\n",
    "#### Fragen\n",
    "+ Wie groß ist der Mitteldruck? Der Massenstrom?"
   ]
  },
  {
   "cell_type": "code",
   "execution_count": 15,
   "metadata": {},
   "outputs": [],
   "source": [
    "p1 = 20e5\n",
    "T1 = -10 + 273.15\n",
    "p3 = 90e5\n",
    "V1 = Verdichter(fluid = 'CO2', Fördervolumen = 15, isentroper_Guetegrad = 0.7, elektrischer_Wirkungsgrad = 0.95,\n",
    "                Liefergrad = 0.8)\n",
    "V2 = Verdichter(fluid = 'CO2', Fördervolumen = 5, isentroper_Guetegrad = 0.7, elektrischer_Wirkungsgrad = 0.95,\n",
    "                Liefergrad = 0.8)"
   ]
  },
  {
   "cell_type": "code",
   "execution_count": 16,
   "metadata": {},
   "outputs": [],
   "source": [
    "def Massenbilanz(p2, T2, n_V1, n_V2):\n",
    "    V1.update_BP({\n",
    "            'p_1' : p1, # Eintrittsdruck\n",
    "            'T_1' : T1, # Eintrittstemperatur\n",
    "            'p_2' : np.asscalar(p2), # Austrittsdruck\n",
    "            'n' : n_V1, # Drehzahl\n",
    "        })\n",
    "    V2.update_BP({\n",
    "            'p_1' : np.asscalar(p2), # Eintrittsdruck\n",
    "            'T_1' : T2, # Eintrittstemperatur\n",
    "            'p_2' : p3, # Austrittsdruck\n",
    "            'n' : n_V2, # Drehzahl\n",
    "        })\n",
    "    V1.berechnen()\n",
    "    V2.berechnen()\n",
    "    return V1.m_dot - V2.m_dot"
   ]
  },
  {
   "cell_type": "code",
   "execution_count": 17,
   "metadata": {},
   "outputs": [
    {
     "name": "stdout",
     "output_type": "stream",
     "text": [
      "    fjac: array([[-1.]])\n",
      "     fun: 1.1074474670635936e-14\n",
      " message: 'The solution converged.'\n",
      "    nfev: 7\n",
      "     qtf: array([1.47402124e-09])\n",
      "       r: array([4.71778134e-08])\n",
      "  status: 1\n",
      " success: True\n",
      "       x: array([4503580.80660254])\n"
     ]
    },
    {
     "name": "stderr",
     "output_type": "stream",
     "text": [
      "C:\\Users\\ASUS\\AppData\\Local\\Temp/ipykernel_11132/234195462.py:5: DeprecationWarning: np.asscalar(a) is deprecated since NumPy v1.16, use a.item() instead\n",
      "  'p_2' : np.asscalar(p2), # Austrittsdruck\n",
      "C:\\Users\\ASUS\\AppData\\Local\\Temp/ipykernel_11132/234195462.py:9: DeprecationWarning: np.asscalar(a) is deprecated since NumPy v1.16, use a.item() instead\n",
      "  'p_1' : np.asscalar(p2), # Eintrittsdruck\n"
     ]
    }
   ],
   "source": [
    "res = opt.root(fun = Massenbilanz,\n",
    "            x0 = 40e5, # Startwert für p2\n",
    "            args=(\n",
    "                20+273.15, # T nach Zwischenkühler\n",
    "                40, # Drehzahl Verdichter 1\n",
    "                50, # Drehzahl Verdichter 2\n",
    "            ),\n",
    "            method='hybr'\n",
    "        )\n",
    "print(res)"
   ]
  },
  {
   "cell_type": "markdown",
   "metadata": {},
   "source": [
    "#### Überprüfen der Ergebnisse"
   ]
  },
  {
   "cell_type": "code",
   "execution_count": 18,
   "metadata": {},
   "outputs": [
    {
     "name": "stdout",
     "output_type": "stream",
     "text": [
      "{'p_1': 2000000.0, 'T_1': 263.15, 'p_2': 4503580.806602544, 'n': 40} {'p_1': 4503580.806602544, 'T_1': 293.15, 'p_2': 9000000.0, 'n': 50}\n",
      "0.13003964437898646 0.1300396443789754\n"
     ]
    }
   ],
   "source": [
    "print(V1.BP, V2.BP)\n",
    "print(V1.m_dot, V2.m_dot)"
   ]
  }
 ],
 "metadata": {
  "kernelspec": {
   "display_name": "Python 3 (ipykernel)",
   "language": "python",
   "name": "python3"
  },
  "language_info": {
   "codemirror_mode": {
    "name": "ipython",
    "version": 3
   },
   "file_extension": ".py",
   "mimetype": "text/x-python",
   "name": "python",
   "nbconvert_exporter": "python",
   "pygments_lexer": "ipython3",
   "version": "3.9.7"
  }
 },
 "nbformat": 4,
 "nbformat_minor": 4
}
