{
 "cells": [
  {
   "cell_type": "markdown",
   "id": "48fc52d5-42f1-4498-b1c3-ce3d432c418a",
   "metadata": {
    "tags": []
   },
   "source": [
    "#### **玩转数据库**\n",
    "##### **1.轻量级内置数据库SQLite3**\n",
    "* **嵌入式关系数据库**"
   ]
  },
  {
   "cell_type": "code",
   "execution_count": 1,
   "id": "1d54517b-3b76-447f-b6f5-78025727051f",
   "metadata": {},
   "outputs": [],
   "source": [
    "import sqlite3\n",
    "# 要使用这个模块，必须先创建一个 Connection 对象，它代表数据库。下面例子中，数据将存储在 example.db 文件中：\n",
    "conn = sqlite3.connect('test.db')"
   ]
  },
  {
   "cell_type": "code",
   "execution_count": 2,
   "id": "2f003d45-8a7c-4e38-bb2b-972769f4be4a",
   "metadata": {},
   "outputs": [],
   "source": [
    "# 当有了 Connection 对象后，你可以创建一个 Cursor 游标对象，然后调用它的 execute() 方法来执行 SQL 语句：\n",
    "cur = conn.cursor()"
   ]
  },
  {
   "cell_type": "markdown",
   "id": "a78ccd7d-824c-42c7-8009-f77964f7d719",
   "metadata": {},
   "source": [
    "+ **创建表格 craete table**"
   ]
  },
  {
   "cell_type": "code",
   "execution_count": 3,
   "id": "9a409442-4ca6-4ab8-975b-e4f97325703f",
   "metadata": {},
   "outputs": [],
   "source": [
    "#cur.execute('''CREATE TABLE stocks(data text, trans text, symbol text, qty real, price real)''')"
   ]
  },
  {
   "cell_type": "markdown",
   "id": "8a66a57c-9c6e-41d7-8058-de03e72a4c95",
   "metadata": {},
   "source": [
    "* **插入一个数据**"
   ]
  },
  {
   "cell_type": "code",
   "execution_count": 4,
   "id": "e15727f3-9420-4e5a-8dd1-081befeba3e5",
   "metadata": {},
   "outputs": [
    {
     "data": {
      "text/plain": [
       "<sqlite3.Cursor at 0x255c56315e0>"
      ]
     },
     "execution_count": 4,
     "metadata": {},
     "output_type": "execute_result"
    }
   ],
   "source": [
    "# Insert a row of data\n",
    "cur.execute(\"INSERT INTO stocks VALUES ('2006-01-05','BUY','RHAT',100,35.14)\")"
   ]
  },
  {
   "cell_type": "markdown",
   "id": "cbb29234-515d-40ad-bc0a-089280236ebb",
   "metadata": {},
   "source": [
    "* **提交(Save the change)**"
   ]
  },
  {
   "cell_type": "code",
   "execution_count": 5,
   "id": "ac79edb8-d664-4193-bb69-67ead20413e5",
   "metadata": {},
   "outputs": [],
   "source": [
    "conn.commit()\n",
    "# We can also close the connection if we are done with it.\n",
    "# Just be sure any changes have been committed or they will be lost.\n",
    "conn.close()"
   ]
  },
  {
   "cell_type": "markdown",
   "id": "02f84fda-7798-46cd-8e6a-fd6b3546445e",
   "metadata": {},
   "source": [
    "##### **2.Python连接操作其他数据库-MySQL**"
   ]
  },
  {
   "cell_type": "code",
   "execution_count": 6,
   "id": "364b31ee-3f83-426a-b359-a09a3a7fb623",
   "metadata": {},
   "outputs": [],
   "source": [
    "import MySQLdb\n",
    "import pymysql"
   ]
  },
  {
   "cell_type": "markdown",
   "id": "d798ad94-1173-41b4-960a-fe46dd5a7b22",
   "metadata": {},
   "source": [
    "* **MySQLdb**\n",
    "    + conn = MySQLdb.connect() # 连接数据库,创建连接对象\n",
    "    + conn.select_db(dbname) # 选择数据库\n",
    "    + cousor = conn.cursor() # 创建游标对象"
   ]
  },
  {
   "cell_type": "code",
   "execution_count": 10,
   "id": "a92373fd-f3e0-44de-a19a-f51c9eece66d",
   "metadata": {},
   "outputs": [
    {
     "ename": "OperationalError",
     "evalue": "(2003, \"Can't connect to MySQL server on 'localhost' (10061)\")",
     "output_type": "error",
     "traceback": [
      "\u001b[1;31m---------------------------------------------------------------------------\u001b[0m",
      "\u001b[1;31mOperationalError\u001b[0m                          Traceback (most recent call last)",
      "\u001b[1;32m~\\AppData\\Local\\Temp/ipykernel_4940/1144823460.py\u001b[0m in \u001b[0;36m<module>\u001b[1;34m\u001b[0m\n\u001b[0;32m      1\u001b[0m \u001b[1;31m# conn1 = pymysql.connect(host='localhost')\u001b[0m\u001b[1;33m\u001b[0m\u001b[1;33m\u001b[0m\u001b[1;33m\u001b[0m\u001b[0m\n\u001b[1;32m----> 2\u001b[1;33m \u001b[0mconn\u001b[0m \u001b[1;33m=\u001b[0m \u001b[0mMySQLdb\u001b[0m\u001b[1;33m.\u001b[0m\u001b[0mconnect\u001b[0m\u001b[1;33m(\u001b[0m\u001b[1;33m)\u001b[0m\u001b[1;33m\u001b[0m\u001b[1;33m\u001b[0m\u001b[0m\n\u001b[0m",
      "\u001b[1;32mE:\\Anaconda\\Anaconda3\\envs\\py38\\lib\\site-packages\\MySQLdb\\__init__.py\u001b[0m in \u001b[0;36mConnect\u001b[1;34m(*args, **kwargs)\u001b[0m\n\u001b[0;32m     82\u001b[0m     \u001b[1;34m\"\"\"Factory function for connections.Connection.\"\"\"\u001b[0m\u001b[1;33m\u001b[0m\u001b[1;33m\u001b[0m\u001b[0m\n\u001b[0;32m     83\u001b[0m     \u001b[1;32mfrom\u001b[0m \u001b[0mMySQLdb\u001b[0m\u001b[1;33m.\u001b[0m\u001b[0mconnections\u001b[0m \u001b[1;32mimport\u001b[0m \u001b[0mConnection\u001b[0m\u001b[1;33m\u001b[0m\u001b[1;33m\u001b[0m\u001b[0m\n\u001b[1;32m---> 84\u001b[1;33m     \u001b[1;32mreturn\u001b[0m \u001b[0mConnection\u001b[0m\u001b[1;33m(\u001b[0m\u001b[1;33m*\u001b[0m\u001b[0margs\u001b[0m\u001b[1;33m,\u001b[0m \u001b[1;33m**\u001b[0m\u001b[0mkwargs\u001b[0m\u001b[1;33m)\u001b[0m\u001b[1;33m\u001b[0m\u001b[1;33m\u001b[0m\u001b[0m\n\u001b[0m\u001b[0;32m     85\u001b[0m \u001b[1;33m\u001b[0m\u001b[0m\n\u001b[0;32m     86\u001b[0m \u001b[0mconnect\u001b[0m \u001b[1;33m=\u001b[0m \u001b[0mConnection\u001b[0m \u001b[1;33m=\u001b[0m \u001b[0mConnect\u001b[0m\u001b[1;33m\u001b[0m\u001b[1;33m\u001b[0m\u001b[0m\n",
      "\u001b[1;32mE:\\Anaconda\\Anaconda3\\envs\\py38\\lib\\site-packages\\MySQLdb\\connections.py\u001b[0m in \u001b[0;36m__init__\u001b[1;34m(self, *args, **kwargs)\u001b[0m\n\u001b[0;32m    177\u001b[0m         \u001b[0mautocommit\u001b[0m \u001b[1;33m=\u001b[0m \u001b[0mkwargs2\u001b[0m\u001b[1;33m.\u001b[0m\u001b[0mpop\u001b[0m\u001b[1;33m(\u001b[0m\u001b[1;34m'autocommit'\u001b[0m\u001b[1;33m,\u001b[0m \u001b[1;32mFalse\u001b[0m\u001b[1;33m)\u001b[0m\u001b[1;33m\u001b[0m\u001b[1;33m\u001b[0m\u001b[0m\n\u001b[0;32m    178\u001b[0m \u001b[1;33m\u001b[0m\u001b[0m\n\u001b[1;32m--> 179\u001b[1;33m         \u001b[0msuper\u001b[0m\u001b[1;33m(\u001b[0m\u001b[0mConnection\u001b[0m\u001b[1;33m,\u001b[0m \u001b[0mself\u001b[0m\u001b[1;33m)\u001b[0m\u001b[1;33m.\u001b[0m\u001b[0m__init__\u001b[0m\u001b[1;33m(\u001b[0m\u001b[1;33m*\u001b[0m\u001b[0margs\u001b[0m\u001b[1;33m,\u001b[0m \u001b[1;33m**\u001b[0m\u001b[0mkwargs2\u001b[0m\u001b[1;33m)\u001b[0m\u001b[1;33m\u001b[0m\u001b[1;33m\u001b[0m\u001b[0m\n\u001b[0m\u001b[0;32m    180\u001b[0m         \u001b[0mself\u001b[0m\u001b[1;33m.\u001b[0m\u001b[0mcursorclass\u001b[0m \u001b[1;33m=\u001b[0m \u001b[0mcursorclass\u001b[0m\u001b[1;33m\u001b[0m\u001b[1;33m\u001b[0m\u001b[0m\n\u001b[0;32m    181\u001b[0m         self.encoders = dict([ (k, v) for k, v in conv.items()\n",
      "\u001b[1;31mOperationalError\u001b[0m: (2003, \"Can't connect to MySQL server on 'localhost' (10061)\")"
     ]
    }
   ],
   "source": [
    "# conn1 = pymysql.connect(host='localhost')\n",
    "conn = MySQLdb.connect()"
   ]
  },
  {
   "cell_type": "code",
   "execution_count": null,
   "id": "24bd4fcd-e67c-4c44-a089-90f820c4427e",
   "metadata": {},
   "outputs": [],
   "source": [
    "conn1.select_db('test')"
   ]
  },
  {
   "cell_type": "code",
   "execution_count": null,
   "id": "22886fe5-51fa-473e-815c-5bb4e407fa52",
   "metadata": {},
   "outputs": [],
   "source": []
  }
 ],
 "metadata": {
  "kernelspec": {
   "display_name": "Python 3 (ipykernel)",
   "language": "python",
   "name": "python3"
  },
  "language_info": {
   "codemirror_mode": {
    "name": "ipython",
    "version": 3
   },
   "file_extension": ".py",
   "mimetype": "text/x-python",
   "name": "python",
   "nbconvert_exporter": "python",
   "pygments_lexer": "ipython3",
   "version": "3.8.8"
  }
 },
 "nbformat": 4,
 "nbformat_minor": 5
}
