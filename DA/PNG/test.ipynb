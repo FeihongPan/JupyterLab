{
 "cells": [
  {
   "cell_type": "code",
   "execution_count": 1,
   "id": "e70a622a-8abd-46f9-ba90-6dac4872dc5a",
   "metadata": {},
   "outputs": [],
   "source": [
    "import numpy as np\n",
    "import sys\n",
    "sys.path.append('../Modell/')\n",
    "from Modell.modell import *"
   ]
  },
  {
   "cell_type": "code",
   "execution_count": 2,
   "id": "26461737-4f94-4a50-b9d9-7ff2dcf88804",
   "metadata": {},
   "outputs": [
    {
     "data": {
      "text/plain": [
       "{0.01: 0.2528150956376761,\n",
       " 0.12: 1.0381971923209656,\n",
       " 0.23: 0.869108739221623,\n",
       " 0.34: 0.719090356223589,\n",
       " 0.45: 0.6185475895604393,\n",
       " 0.56: 0.5499507534153137,\n",
       " 0.67: 0.5006076556563925,\n",
       " 0.78: 0.4633018884747494,\n",
       " 0.89: 0.4339143283400384,\n",
       " 1.0: 0.40998518529445016}"
      ]
     },
     "execution_count": 2,
     "metadata": {},
     "output_type": "execute_result"
    }
   ],
   "source": [
    "np_f = np.linspace(start=0.01, stop=1, num=10)\n",
    "m_1 = Kugel(r=1e-5, D=1e-11, f=np_f, K=1)\n",
    "m_2 = Platte(L=1e-5, D=1e-11, f=np_f, K=1)\n",
    "m_hier = m_hierarchisch(f=np_f, list_delta_c=[m_1.func_chara_3c(), m_2.func_chara_1c()],\n",
    "                        list_delta_s=[m_1.func_chara_3s(), m_2.func_chara_1s()], list_K=[1, 1], t_R=2.5,\n",
    "                        K_omega=0.4)\n",
    "chara_s = m_hier.func_chara_hierar_s()\n",
    "dict_1 = dict(zip(np_f, chara_s))\n",
    "dict_1"
   ]
  }
 ],
 "metadata": {
  "kernelspec": {
   "display_name": "Python 3 (ipykernel)",
   "language": "python",
   "name": "python3"
  },
  "language_info": {
   "codemirror_mode": {
    "name": "ipython",
    "version": 3
   },
   "file_extension": ".py",
   "mimetype": "text/x-python",
   "name": "python",
   "nbconvert_exporter": "python",
   "pygments_lexer": "ipython3",
   "version": "3.9.7"
  }
 },
 "nbformat": 4,
 "nbformat_minor": 5
}
